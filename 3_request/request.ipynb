{
 "cells": [
  {
   "cell_type": "code",
   "execution_count": 1,
   "metadata": {},
   "outputs": [
    {
     "name": "stdout",
     "output_type": "stream",
     "text": [
      "Requirement already satisfied: python-dotenv in /usr/local/lib/python3.10/site-packages (0.21.1)\n",
      "Note: you may need to restart the kernel to use updated packages.\n"
     ]
    }
   ],
   "source": [
    "%pip install python-dotenv"
   ]
  },
  {
   "cell_type": "code",
   "execution_count": 2,
   "metadata": {},
   "outputs": [],
   "source": [
    "import os\n",
    "from dotenv import load_dotenv\n",
    "load_dotenv()\n",
    "API_KEY = os.environ['API_KEY'] "
   ]
  },
  {
   "cell_type": "code",
   "execution_count": 3,
   "metadata": {},
   "outputs": [
    {
     "name": "stdout",
     "output_type": "stream",
     "text": [
      "Q: ブロックチェーンの未来に関して、4つの要点にまとめてください。\n",
      "A:\n",
      "1.ブロックチェーンは、ビジネスプロセスの効率化を促進する可能性を秘めています。非常に高いサイバーセキュリティを提供することで、デジタル取引を安全かつ信頼性の高いものにします。\n",
      "\n",
      "2.ブロックチェーン技術は、企業間取引の資金移動を迅速化し、業務効率化を促進する可能性があります。\n",
      "\n",
      "3.ブロックチェーン技術は、コンテンツの生産性を向上させる可能性があります。例えば、消費者がデジタルコンテンツの購入を容易に行うことができるようなプラットフォームを構築することができます。\n",
      "\n",
      "4.ブロックチェーンは、価格変動を軽減し、デジタル取引をさらに安心で安全にする可能性があります。これにより、企業がさらに安心してビジネスを展開することが可能となります。\n"
     ]
    }
   ],
   "source": [
    "import requests\n",
    "import json\n",
    "\n",
    "def send_prompt(prompt=''):\n",
    "  \n",
    "  if not prompt:\n",
    "    return\n",
    "\n",
    "  headers = {\n",
    "    'Content-Type': 'application/json',\n",
    "    'Authorization': 'Bearer ' + API_KEY\n",
    "  }\n",
    "\n",
    "  data = {\n",
    "    'model': 'text-davinci-003',\n",
    "    'prompt': prompt,\n",
    "    \"max_tokens\": 2000, # 出力される文章量の最大値（トークン数） max:4096\n",
    "    \"temperature\": 0.9, # 単語のランダム性 min:0.1 max:1.0\n",
    "    \"top_p\": 1, # 単語のランダム性 min:-2.0 max:2.0\n",
    "    \"frequency_penalty\": 0.0, # 2.0に近いと同じ単語は繰り返し使わなくなります。使った回数に応じてペナルティを加えます。\n",
    "    \"presence_penalty\": 0.6, # 使った回数に応じてペナルティを加え、1度でも使ったかどうか、ということにペナルティを加えます。\n",
    "    \"stop\": [\" Human:\", \" AI:\"] # 途中で生成を停止する単語\n",
    "  }\n",
    "\n",
    "  response = requests.post('https://api.openai.com/v1/completions', \n",
    "                           headers=headers, \n",
    "                           data=json.dumps(data))\n",
    "\n",
    "  response_data = response.json()\n",
    "  print(response_data['choices'][0]['text'].strip())\n",
    "\n",
    "\n",
    "prompt = 'ブロックチェーンの未来に関して、4つの要点にまとめてください。'\n",
    "print(\"Q: \" + prompt )\n",
    "print(\"A:\")\n",
    "\n",
    "send_prompt(prompt)\n",
    "\n"
   ]
  },
  {
   "cell_type": "code",
   "execution_count": 4,
   "metadata": {},
   "outputs": [
    {
     "name": "stdout",
     "output_type": "stream",
     "text": [
      "Q: ブロックチェーンの未来に関して、4つの要点にまとめてください。スマートコントラクトの部分をより詳しくお願い致します。\n",
      "A:\n",
      "1. ポータビリティ：ブロックチェーン技術の発展に伴い、情報を安全な方法で簡単に移動させる機能が大きく向上します。\n",
      "\n",
      "2. スケーラビリティ：ブロックチェーンは技術的な革新により可用性とスケーラビリティを改善し、トランザクション処理能力を高めます。\n",
      "\n",
      "3. セキュリティ：ブロックチェーン技術の分散型台帳技術を用いて、データを保護し、改ざんを防止します。\n",
      "\n",
      "4. スマートコントラクト：スマートコントラクトは、コンピュータプログラムを使用して、ネットワーク上で契約を実行するための下地です。コントラクトは自動的に条件に従って処理され、支払いが行われたり、イベントが発生したりすることができます。\n"
     ]
    }
   ],
   "source": [
    "prompt = prompt + \"スマートコントラクトの部分をより詳しくお願い致します。\"\n",
    "print(\"Q: \" + prompt )\n",
    "print(\"A:\")\n",
    "\n",
    "send_prompt(prompt)"
   ]
  }
 ],
 "metadata": {
  "kernelspec": {
   "display_name": "Python 3",
   "language": "python",
   "name": "python3"
  },
  "language_info": {
   "codemirror_mode": {
    "name": "ipython",
    "version": 3
   },
   "file_extension": ".py",
   "mimetype": "text/x-python",
   "name": "python",
   "nbconvert_exporter": "python",
   "pygments_lexer": "ipython3",
   "version": "3.10.6"
  },
  "orig_nbformat": 4,
  "vscode": {
   "interpreter": {
    "hash": "949777d72b0d2535278d3dc13498b2535136f6dfe0678499012e853ee9abcab1"
   }
  }
 },
 "nbformat": 4,
 "nbformat_minor": 2
}
