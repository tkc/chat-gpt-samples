{
 "cells": [
  {
   "cell_type": "code",
   "execution_count": 1,
   "metadata": {},
   "outputs": [
    {
     "name": "stdout",
     "output_type": "stream",
     "text": [
      "Requirement already satisfied: pip in /usr/local/lib/python3.10/site-packages (23.0.1)\n",
      "Note: you may need to restart the kernel to use updated packages.\n"
     ]
    }
   ],
   "source": [
    "%pip install --upgrade pip"
   ]
  },
  {
   "cell_type": "code",
   "execution_count": 2,
   "metadata": {},
   "outputs": [
    {
     "name": "stdout",
     "output_type": "stream",
     "text": [
      "Requirement already satisfied: openai in /usr/local/lib/python3.10/site-packages (0.26.4)\n",
      "Requirement already satisfied: aiohttp in /usr/local/lib/python3.10/site-packages (from openai) (3.8.3)\n",
      "Requirement already satisfied: tqdm in /usr/local/lib/python3.10/site-packages (from openai) (4.64.1)\n",
      "Requirement already satisfied: requests>=2.20 in /usr/local/lib/python3.10/site-packages (from openai) (2.28.2)\n",
      "Requirement already satisfied: charset-normalizer<4,>=2 in /usr/local/lib/python3.10/site-packages (from requests>=2.20->openai) (2.1.1)\n",
      "Requirement already satisfied: certifi>=2017.4.17 in /usr/local/lib/python3.10/site-packages (from requests>=2.20->openai) (2022.12.7)\n",
      "Requirement already satisfied: idna<4,>=2.5 in /usr/local/lib/python3.10/site-packages (from requests>=2.20->openai) (3.4)\n",
      "Requirement already satisfied: urllib3<1.27,>=1.21.1 in /usr/local/lib/python3.10/site-packages (from requests>=2.20->openai) (1.26.12)\n",
      "Requirement already satisfied: attrs>=17.3.0 in /usr/local/lib/python3.10/site-packages (from aiohttp->openai) (22.2.0)\n",
      "Requirement already satisfied: aiosignal>=1.1.2 in /usr/local/lib/python3.10/site-packages (from aiohttp->openai) (1.3.1)\n",
      "Requirement already satisfied: async-timeout<5.0,>=4.0.0a3 in /usr/local/lib/python3.10/site-packages (from aiohttp->openai) (4.0.2)\n",
      "Requirement already satisfied: yarl<2.0,>=1.0 in /usr/local/lib/python3.10/site-packages (from aiohttp->openai) (1.8.2)\n",
      "Requirement already satisfied: multidict<7.0,>=4.5 in /usr/local/lib/python3.10/site-packages (from aiohttp->openai) (6.0.4)\n",
      "Requirement already satisfied: frozenlist>=1.1.1 in /usr/local/lib/python3.10/site-packages (from aiohttp->openai) (1.3.3)\n",
      "Note: you may need to restart the kernel to use updated packages.\n",
      "Requirement already satisfied: llama-index in /usr/local/lib/python3.10/site-packages (0.4.9)\n",
      "Requirement already satisfied: langchain in /usr/local/lib/python3.10/site-packages (from llama-index) (0.0.77)\n",
      "Requirement already satisfied: transformers in /usr/local/lib/python3.10/site-packages (from llama-index) (4.27.0.dev0)\n",
      "Requirement already satisfied: openai>=0.26.4 in /usr/local/lib/python3.10/site-packages (from llama-index) (0.26.4)\n",
      "Requirement already satisfied: numpy in /usr/local/lib/python3.10/site-packages (from llama-index) (1.23.5)\n",
      "Requirement already satisfied: tiktoken in /usr/local/lib/python3.10/site-packages (from llama-index) (0.2.0)\n",
      "Requirement already satisfied: pandas in /usr/local/lib/python3.10/site-packages (from llama-index) (1.5.3)\n",
      "Requirement already satisfied: tenacity<8.2.0 in /usr/local/lib/python3.10/site-packages (from llama-index) (8.1.0)\n",
      "Requirement already satisfied: nltk in /usr/local/lib/python3.10/site-packages (from llama-index) (3.8.1)\n",
      "Requirement already satisfied: dataclasses-json in /usr/local/lib/python3.10/site-packages (from llama-index) (0.5.7)\n",
      "Requirement already satisfied: requests>=2.20 in /usr/local/lib/python3.10/site-packages (from openai>=0.26.4->llama-index) (2.28.2)\n",
      "Requirement already satisfied: aiohttp in /usr/local/lib/python3.10/site-packages (from openai>=0.26.4->llama-index) (3.8.3)\n",
      "Requirement already satisfied: tqdm in /usr/local/lib/python3.10/site-packages (from openai>=0.26.4->llama-index) (4.64.1)\n",
      "Requirement already satisfied: typing-inspect>=0.4.0 in /usr/local/lib/python3.10/site-packages (from dataclasses-json->llama-index) (0.8.0)\n",
      "Requirement already satisfied: marshmallow-enum<2.0.0,>=1.5.1 in /usr/local/lib/python3.10/site-packages (from dataclasses-json->llama-index) (1.5.1)\n",
      "Requirement already satisfied: marshmallow<4.0.0,>=3.3.0 in /usr/local/lib/python3.10/site-packages (from dataclasses-json->llama-index) (3.19.0)\n",
      "Requirement already satisfied: SQLAlchemy<2,>=1 in /usr/local/lib/python3.10/site-packages (from langchain->llama-index) (1.4.46)\n",
      "Requirement already satisfied: pydantic<2,>=1 in /usr/local/lib/python3.10/site-packages (from langchain->llama-index) (1.10.4)\n",
      "Requirement already satisfied: PyYAML<7,>=6 in /usr/local/lib/python3.10/site-packages (from langchain->llama-index) (6.0)\n",
      "Requirement already satisfied: regex>=2021.8.3 in /usr/local/lib/python3.10/site-packages (from nltk->llama-index) (2022.10.31)\n",
      "Requirement already satisfied: click in /usr/local/lib/python3.10/site-packages (from nltk->llama-index) (8.1.3)\n",
      "Requirement already satisfied: joblib in /usr/local/lib/python3.10/site-packages (from nltk->llama-index) (1.2.0)\n",
      "Requirement already satisfied: python-dateutil>=2.8.1 in /usr/local/lib/python3.10/site-packages (from pandas->llama-index) (2.8.2)\n",
      "Requirement already satisfied: pytz>=2020.1 in /usr/local/lib/python3.10/site-packages (from pandas->llama-index) (2022.7.1)\n",
      "Requirement already satisfied: blobfile>=2 in /usr/local/lib/python3.10/site-packages (from tiktoken->llama-index) (2.0.1)\n",
      "Requirement already satisfied: huggingface-hub<1.0,>=0.11.0 in /usr/local/lib/python3.10/site-packages (from transformers->llama-index) (0.12.0)\n",
      "Requirement already satisfied: packaging>=20.0 in /usr/local/lib/python3.10/site-packages (from transformers->llama-index) (21.3)\n",
      "Requirement already satisfied: tokenizers!=0.11.3,<0.14,>=0.11.1 in /usr/local/lib/python3.10/site-packages (from transformers->llama-index) (0.13.2)\n",
      "Requirement already satisfied: filelock in /usr/local/lib/python3.10/site-packages (from transformers->llama-index) (3.9.0)\n",
      "Requirement already satisfied: pycryptodomex~=3.8 in /usr/local/lib/python3.10/site-packages (from blobfile>=2->tiktoken->llama-index) (3.17)\n",
      "Requirement already satisfied: urllib3<3,>=1.25.3 in /usr/local/lib/python3.10/site-packages (from blobfile>=2->tiktoken->llama-index) (1.26.12)\n",
      "Requirement already satisfied: lxml~=4.9 in /usr/local/lib/python3.10/site-packages (from blobfile>=2->tiktoken->llama-index) (4.9.2)\n",
      "Requirement already satisfied: typing-extensions>=3.7.4.3 in /usr/local/lib/python3.10/site-packages (from huggingface-hub<1.0,>=0.11.0->transformers->llama-index) (4.4.0)\n",
      "Requirement already satisfied: pyparsing!=3.0.5,>=2.0.2 in /usr/local/lib/python3.10/site-packages (from packaging>=20.0->transformers->llama-index) (3.0.9)\n",
      "Requirement already satisfied: six>=1.5 in /usr/local/lib/python3.10/site-packages (from python-dateutil>=2.8.1->pandas->llama-index) (1.16.0)\n",
      "Requirement already satisfied: idna<4,>=2.5 in /usr/local/lib/python3.10/site-packages (from requests>=2.20->openai>=0.26.4->llama-index) (3.4)\n",
      "Requirement already satisfied: charset-normalizer<4,>=2 in /usr/local/lib/python3.10/site-packages (from requests>=2.20->openai>=0.26.4->llama-index) (2.1.1)\n",
      "Requirement already satisfied: certifi>=2017.4.17 in /usr/local/lib/python3.10/site-packages (from requests>=2.20->openai>=0.26.4->llama-index) (2022.12.7)\n",
      "Requirement already satisfied: greenlet!=0.4.17 in /usr/local/lib/python3.10/site-packages (from SQLAlchemy<2,>=1->langchain->llama-index) (2.0.2)\n",
      "Requirement already satisfied: mypy-extensions>=0.3.0 in /usr/local/lib/python3.10/site-packages (from typing-inspect>=0.4.0->dataclasses-json->llama-index) (1.0.0)\n",
      "Requirement already satisfied: yarl<2.0,>=1.0 in /usr/local/lib/python3.10/site-packages (from aiohttp->openai>=0.26.4->llama-index) (1.8.2)\n",
      "Requirement already satisfied: aiosignal>=1.1.2 in /usr/local/lib/python3.10/site-packages (from aiohttp->openai>=0.26.4->llama-index) (1.3.1)\n",
      "Requirement already satisfied: async-timeout<5.0,>=4.0.0a3 in /usr/local/lib/python3.10/site-packages (from aiohttp->openai>=0.26.4->llama-index) (4.0.2)\n",
      "Requirement already satisfied: multidict<7.0,>=4.5 in /usr/local/lib/python3.10/site-packages (from aiohttp->openai>=0.26.4->llama-index) (6.0.4)\n",
      "Requirement already satisfied: attrs>=17.3.0 in /usr/local/lib/python3.10/site-packages (from aiohttp->openai>=0.26.4->llama-index) (22.2.0)\n",
      "Requirement already satisfied: frozenlist>=1.1.1 in /usr/local/lib/python3.10/site-packages (from aiohttp->openai>=0.26.4->llama-index) (1.3.3)\n",
      "Note: you may need to restart the kernel to use updated packages.\n",
      "Requirement already satisfied: wikipedia in /usr/local/lib/python3.10/site-packages (1.4.0)\n",
      "Requirement already satisfied: beautifulsoup4 in /usr/local/lib/python3.10/site-packages (from wikipedia) (4.11.1)\n",
      "Requirement already satisfied: requests<3.0.0,>=2.0.0 in /usr/local/lib/python3.10/site-packages (from wikipedia) (2.28.2)\n",
      "Requirement already satisfied: idna<4,>=2.5 in /usr/local/lib/python3.10/site-packages (from requests<3.0.0,>=2.0.0->wikipedia) (3.4)\n",
      "Requirement already satisfied: charset-normalizer<4,>=2 in /usr/local/lib/python3.10/site-packages (from requests<3.0.0,>=2.0.0->wikipedia) (2.1.1)\n",
      "Requirement already satisfied: certifi>=2017.4.17 in /usr/local/lib/python3.10/site-packages (from requests<3.0.0,>=2.0.0->wikipedia) (2022.12.7)\n",
      "Requirement already satisfied: urllib3<1.27,>=1.21.1 in /usr/local/lib/python3.10/site-packages (from requests<3.0.0,>=2.0.0->wikipedia) (1.26.12)\n",
      "Requirement already satisfied: soupsieve>1.2 in /usr/local/lib/python3.10/site-packages (from beautifulsoup4->wikipedia) (2.3.2.post1)\n",
      "Note: you may need to restart the kernel to use updated packages.\n"
     ]
    }
   ],
   "source": [
    "%pip install openai\n",
    "%pip install llama-index\n",
    "%pip install wikipedia"
   ]
  },
  {
   "cell_type": "code",
   "execution_count": 3,
   "metadata": {},
   "outputs": [],
   "source": [
    "import wikipedia\n",
    "wikipedia.set_lang(\"ja\")"
   ]
  },
  {
   "cell_type": "code",
   "execution_count": 4,
   "metadata": {},
   "outputs": [],
   "source": [
    "wp = wikipedia.page(\"仮説検定\")"
   ]
  },
  {
   "cell_type": "code",
   "execution_count": 5,
   "metadata": {},
   "outputs": [
    {
     "data": {
      "text/plain": [
       "'仮説検定（かせつけんてい、英: hypothesis testing）あるいは統計的仮説検定 (statistical hypothesis testing) とは、母集団分布の母数に関する仮説を標本から検証する統計学的方法の一つ。日本産業規格では、仮説 (statistical hypothesis) を「母数又は確率分布についての宣言。帰無仮説と対立仮説がある。」と定義している。検定 (statistical test) を「帰無仮説を棄却し対立仮説を支持するか、又は帰無仮説を棄却しないかを観測値に基づいて決めるための統計的手続き。その手続きは、帰無仮説が成立しているにもかかわらず棄却する確率が α 以下になるように決められる。この α を有意水準という。」と定義している。\\n統計的仮説検定の方法論は、ネイマン=ピアソン流の頻度主義統計学に基づくものと、ベイズ主義統計学に基づくものとの二つに大きく分けられる。ただし「仮説検定」という場合、前者だけを指すことがある。本項では前者および日本産業規格での定義を説明する。\\n\\n\\n== 統計的仮説検定の手順 ==\\n統計的仮説検定においては、仮説が正しいと仮定した上で、それに従う母集団から、実際に観察された標本が抽出される確率を求め、その値により判断を行う。その確率が十分に（予め決めておいた値より）小さければ、その仮説を棄却する（すなわち仮説は成り立ちそうもないと判断する）。\\n統計的仮説検定は次のような手順で実施する。\\n\\n\\n=== 仮説の設定 ===\\n仮説が正しいと仮定した場合にその標本が観察される確率を算出できるように、仮説を統計学的に表現する。検定は下記の二者択一となり、帰無仮説を棄却できるかどうかを調べる。\\n\\n帰無仮説\\n価値がない、何の関係もない、差異はみられない、仮説などそもそもなかった、などを意味するもの。普通 H0 と書く。\\n対立仮説\\n帰無仮説に対立するので、対立仮説と呼ばれる。帰無仮説が棄却された際に採択される。普通仮説を意味する [hypothesis] の頭文字を用いて H1 と書く。帰無仮説の正しさを求めるように検定を進めるが、成り立つか知りたいのはこちらの方である。\\n\\n\\n==== 仮説の設定例 ====\\n例として、プラセボに対する薬の試験（「薬の効果を有意的に主張できるか」を調べる）を例にとれば、\\n\\n帰無仮説は、「薬の効果を主張できない」に当たり、下記のように仮説を立てる。\\n「薬に対する反応の平均がプラセボに対するそれと等しい。」\\n対立仮説は、「薬の効果を主張できる」に当たり、下記の仮説に相当する。\\n「薬に対する反応の平均がプラセボに対するそれとは異なる。」\\n\\n\\n=== 統計量の算出 ===\\n標本データから、仮説に関係した情報を要約する検定統計量を計算する。下記のように十分性を持つ統計量（十分統計量）が存在すればそれを計算する。単純二仮説の場合は、尤度比が仮説検定の十分統計量となる。\\n母数に対応する十分統計量は、母集団の確率分布が指数型分布族である場合にのみ存在する。例で言えば、指数型分布族で、2つの標本平均の差 m1 − m2 は十分統計量である。\\n\\n\\n=== 統計量の確率分布 ===\\n帰無仮説に基づき、検定統計量の確率分布を明らかにする。\\n例では、標本平均の差は正規分布に従い、その標準偏差は母標準偏差に \\n  \\n    \\n      \\n        \\n          \\n            \\n              \\n                1\\n                \\n                  n\\n                  \\n                    1\\n                  \\n                \\n              \\n            \\n            +\\n            \\n              \\n                1\\n                \\n                  n\\n                  \\n                    2\\n                  \\n                \\n              \\n            \\n          \\n        \\n      \\n    \\n    {\\\\displaystyle {\\\\sqrt {{\\\\frac {1}{n_{1}}}+{\\\\frac {1}{n_{2}}}}}}\\n   をかけたもの（ここで n1 と n2 は各標本のサイズ）である。\\n\\n\\n=== 危険域の設定 ===\\n可能な全ての値の集合の中で、帰無仮説に反する極端な範囲（分布関数をグラフ表示した場合には、裾に当たる部分）を選ぶ。これは検定統計量の危険域と呼ばれる。帰無仮説が正しい場合に検定統計量が危険域内に入る確率を検定の危険率（有意水準あるいは検定のサイズともいい、ふつうαと表す）と呼ぶ。危険率としては、対象分野によって異なるが、α = 0.05 (5%) か α = 0.01 (1%) を用いることがある。検定の種類によっては両側検定または片側検定のみということもある。\\n\\n\\n==== 棄却域 ====\\n日本産業規格では、critical region を棄却域と訳し、「帰無仮説が棄却される検定統計量の値の集合」と定義している。また、備考には「棄却域の限界値を棄却限界値 (critical value) という」と説明している。\\n\\n\\n==== 両側検定 ====\\n帰無仮説が例のように「平均が等しい」と主張するタイプであれば、分布関数の裾として左右両側を用いる（両側検定）。日本産業規格では、「検定統計量が1次元であり、棄却域がある有限区間の両側となる検定」と定義している。\\n\\n\\n==== 片側検定 ====\\n「……の方が平均が大きい（小さい）ということはない」と主張するタイプであれば、片側の裾だけを用いる（片側検定）。日本産業規格では、「検定統計量が1次元であり、棄却域がある棄却限界値より小さい領域（又は大きい領域）となる検定」と定義している。\\n\\n\\n=== 判定 ===\\nデータから算出した検定統計量が危険域内にあるかどうかを判定する。\\n通常は統計量が仮定した分布の中で、算出した検定統計量と同じかそれよりも極端な（仮説に反する）値となる確率（これをp値という）を数表などにより求め、これと α とを比較し、p < α ならば危険域の内部にあると判断する。\\n検定統計量が危険域内にあれば、結論は\\n\\n帰無仮説は正しくない。したがって棄却する（これから危険域のことを棄却域 (Rejection region) ともいい、それ以外の範囲は採択域 (Acceptance region) という。）か、さもなくば\\n\\nα 以下の確率しかない事象が起こったのいずれかになる。\\nこの場合を α水準で統計学的に有意であるという。例では「薬に対して観察された反応は α水準で統計学的に有意である」といえる。分かりやすくいえば、「帰無仮説の下でこのようなことは偶然に起こりそうもないが、ごく小さい確率 α で起こり得る」ということである。\\n一方、検定統計量が危険域の外側にあれば、\\n\\n帰無仮説を棄却するに足る証拠はないというのがただ一つの結論となる。統計学の目的は（当然であるが）科学的な真理を明らかにすることではなく、数学的な誤謬をできるだけ減らすことにある。\\n\\n\\n== 検出力 ==\\n\\n日本産業規格では、検出力 (英: statistical power) を「帰無仮説が正しくないとき，帰無仮説を棄却する確率。すなわち，第2種の誤りをおかさない確率であり，通常 1 − β で表される。」と定義している。\\nより高い検出力を、より小さいサンプルサイズで実現することが好ましい。\\n\\n\\n=== 第1種の誤り ===\\n帰無仮説が正しいときに、これを棄却してしまう誤りを第1種の誤り (Type I error) という。第1種の誤りを犯す確率を α で表す。α を危険率とも呼び、有意水準に等しい。有意水準を 5% とした時、5% 以下の発生確率しかない事象が起きると、帰無仮説が間違っていたと考えられる。これは、仮説が正しいのに誤って否定してしまう確率が 5% 存在することになる。日本産業規格では、「帰無仮説が正しいとき，帰無仮説を棄却する誤り。あわてものの誤りともいう。」と定義している。なお、ISO では error of the first kind と表記している。\\n\\n\\n=== 第2種の誤り ===\\n誤った帰無仮説を棄却しない誤りのことを第2種の誤り (Type II error) という。第2種の誤りを犯す確率を β で表す。1 − β を検定力または検出力 (power) と呼び、誤った帰無仮説を正しく棄却できる確率を表す。βは真の母数に依存し、自分で決めることが出来ない。日本産業規格では、「帰無仮説が正しくないとき，帰無仮説を棄却しない誤り。ぼんやりものの誤りともいう。」と定義している。なお、ISO では error of the second kind と表記している。\\n\\n\\n=== 第1種の誤りと第2種の誤りの関係 ===\\n第1種の誤りを減らそうとすれば第2種の誤りが増える（またはその逆）という傾向がある。なお第1種の誤り (α) 対 検出力 (1 − β) のグラフを、受信者操作特性（ROCカーブ）と呼ぶ。\\n仮説検定では一般に、あらかじめ指定した十分小さい α に対し、β をなるべく小さく（検出力をなるべく大きく）するように棄却域を選ぶ方針をとる（ネイマン・ピアソンの基準）。\\n\\n\\n=== 検出力関数 ===\\n日本産業規格では、検出力関数を「仮説があるパラメータで表現されているとき，パラメータの値によって検出力を与える関数。」と定義している。\\n\\n\\n== 種類 ==\\n例のように、母集団の分布として正規分布を、あるいは比較する2群間の等分散（標準偏差が等しい）を仮定する（母数＝パラメータを仮定する）検定法をパラメトリック（Parametric）、それらを仮定せず一般の分布に適用できる検定法をノンパラメトリック（Non-parametric）な検定と呼ぶ。具体的な方法の例を挙げる。\\n\\n\\n=== パラメトリックな検定手法 ===\\nt検定\\nF検定\\n回帰分析\\n分散分析\\n\\n\\n=== ノンパラメトリックな検定手法 ===\\nサイン検定（符号検定）\\nWilcoxon検定（順位付符号和検定）\\nMann-WhitneyのU検定\\nカイ二乗検定\\nフィッシャーの直接確率検定検定の目的からは、母数の有意性の検定、適合度検定（特定の母集団から抽出されたものか）、均一性検定（2標本が同一母集団によるものか：上の例）、独立性検定（2標本が独立か）などに分けられる。\\n\\n\\n== 逐次的仮説検定 ==\\n逐次的仮説検定（英: sequential hypothesis testing）とは、逐次的に行う仮説検定を指す。すなわちサンプルサイズが固定数とは限らず、停止則を導入し、それが満たされるまでは実際には仮説検定の実施を遅らせ、サンプルの追加を行う。停止則が満たされた段階では、決定則（すなわち仮説検定）を実施する。逐次的確率比検定（逐次的尤度比検定）も参照。\\nより小さいサンプルサイズで、より高い検出力を実現することが好ましく、統計学的に最適な停止則および決定則を最適停止則および最適決定則と呼ぶ。\\nオンライン的な仮説検定として利用可能である。その場合、サンプルサイズはレイテンシとして位置づけられる。\\n\\n\\n== 脚注 ==\\n\\n\\n=== 補足 ===\\n\\n\\n=== 出典 ===\\n\\n\\n== 参考文献 ==\\n蓑谷千凰彦 『推定と検定のはなし』東京図書、1988年。 \\n村尾 博 (2014), 仮説検定, http://www.nebuta.ac.jp/murao/courses/stat/hypo_testing.pdf \\n脇本和昌「第5章\\t統計的仮説検定の考え方と方法」（PDF） 『身近なデータによる統計解析入門』森北出版、1973年。ISBN 4627090307。http://ebsa.ism.ac.jp/ebooks/sites/default/files/ebook/1321/pdf/ch05.pdf。 \\n西岡康夫 『数学チュートリアル やさしく語る 確率統計』オーム社、2013年。ISBN 9784274214073。 \\n伏見康治 『確率論及統計論』河出書房、1942年。ISBN 9784874720127。http://ebsa.ism.ac.jp/ebooks/ebook/204。 \\n日本数学会 『数学辞典』岩波書店、2007年。ISBN 9784000803090。 \\n日本規格協会, JIS Z 8101-1:1999 統計 − 用語と記号 − 第1部:確率及び一般統計用語, http://kikakurui.com/z8/Z8101-1-1999-01.html \\n片谷教孝「環境統計学入門―環境データの見方・まとめ方」『松藤 敏彦』オーム社、2019年\\n上田拓治「44の例題で学ぶ統計的検定と推定の解き方」オーム社、2009年\\n統計学が最強の学問である 日本経済新聞 2013年4月9日\\n統計学のきほん 毎日新聞 2020年10月2日閲覧\\nISO, ISO 3534-1:2006, Statistics−Vocabulary and symbols−Part1 : Probability and general statistical terms, http://www.iso.org/iso/catalogue_detail.htm%3Fcsnumber=40145 \\n\\n\\n== 関連項目 ==\\n統計学\\n推測統計学\\nイェジ・ネイマン\\nエゴン・ピアソン\\nトーマス・ベイズ\\nロナルド・フィッシャー'"
      ]
     },
     "execution_count": 5,
     "metadata": {},
     "output_type": "execute_result"
    }
   ],
   "source": [
    "wp.content"
   ]
  },
  {
   "cell_type": "code",
   "execution_count": 6,
   "metadata": {},
   "outputs": [],
   "source": [
    "with open('./data/hypothesis.txt', 'w', encoding='utf-8') as f:\n",
    "   f.write(wp.content)"
   ]
  },
  {
   "cell_type": "code",
   "execution_count": 7,
   "metadata": {},
   "outputs": [],
   "source": [
    "import openai\n",
    "import os\n",
    "from dotenv import load_dotenv\n",
    "\n",
    "load_dotenv()\n",
    "openai.api_key = os.environ['API_KEY']\n",
    "os.environ['OPENAI_API_KEY'] = os.environ['API_KEY']"
   ]
  },
  {
   "cell_type": "code",
   "execution_count": 8,
   "metadata": {},
   "outputs": [
    {
     "name": "stderr",
     "output_type": "stream",
     "text": [
      "INFO:root:> [build_index_from_documents] Total LLM token usage: 0 tokens\n",
      "INFO:root:> [build_index_from_documents] Total embedding token usage: 7825 tokens\n"
     ]
    }
   ],
   "source": [
    "from llama_index import GPTSimpleVectorIndex, SimpleDirectoryReader\n",
    "\n",
    "documents = SimpleDirectoryReader('data').load_data()\n",
    "index = GPTSimpleVectorIndex(documents)"
   ]
  },
  {
   "cell_type": "code",
   "execution_count": 9,
   "metadata": {},
   "outputs": [],
   "source": [
    "def ask(prompt):\n",
    "    completions = openai.Completion.create(\n",
    "        engine=\"text-davinci-003\",\n",
    "        prompt=prompt,\n",
    "        temperature=0,\n",
    "        max_tokens=3500,\n",
    "        top_p=1,\n",
    "        frequency_penalty=1,\n",
    "        presence_penalty=1\n",
    "    )\n",
    "\n",
    "    message = completions.choices[0].text\n",
    "    print(message)\n"
   ]
  },
  {
   "cell_type": "code",
   "execution_count": 28,
   "metadata": {},
   "outputs": [],
   "source": [
    "prompt = '''\n",
    "あなたは経済の専門家です。\n",
    "\n",
    "日本経済が停滞した理由を5個あげてください。\n",
    "またそれぞれをhypothesisという配列に入れて表示してください。\n",
    "\n",
    "その後、hypothesisの0から4をランダムに組み合わせて仮説検定した結果を3個表示してください。\n",
    "また理由も付け加えてください。\n",
    "'''\n"
   ]
  },
  {
   "cell_type": "code",
   "execution_count": 29,
   "metadata": {},
   "outputs": [
    {
     "name": "stderr",
     "output_type": "stream",
     "text": [
      "INFO:root:> [query] Total LLM token usage: 5006 tokens\n",
      "INFO:root:> [query] Total embedding token usage: 188 tokens\n"
     ]
    }
   ],
   "source": [
    "response = index.query(prompt)\n"
   ]
  },
  {
   "cell_type": "code",
   "execution_count": 31,
   "metadata": {},
   "outputs": [
    {
     "data": {
      "text/plain": [
       "'\\n\\n1. 消費者の購買意欲が低下した: 帰無仮説: 消費者の購買意欲は低下していない。 対立仮説: 消費者の購買意欲は低下している。 判定: データから算出した検定統計量が危険域内にあるかどうかを判定する。通常は統計量が仮定した分布の中で、算出した検定統計量と同じかそれよりも極端な（仮説に反する）値となる確'"
      ]
     },
     "execution_count": 31,
     "metadata": {},
     "output_type": "execute_result"
    }
   ],
   "source": [
    "response.response\n"
   ]
  }
 ],
 "metadata": {
  "kernelspec": {
   "display_name": "Python 3",
   "language": "python",
   "name": "python3"
  },
  "language_info": {
   "codemirror_mode": {
    "name": "ipython",
    "version": 3
   },
   "file_extension": ".py",
   "mimetype": "text/x-python",
   "name": "python",
   "nbconvert_exporter": "python",
   "pygments_lexer": "ipython3",
   "version": "3.10.6"
  },
  "orig_nbformat": 4,
  "vscode": {
   "interpreter": {
    "hash": "949777d72b0d2535278d3dc13498b2535136f6dfe0678499012e853ee9abcab1"
   }
  }
 },
 "nbformat": 4,
 "nbformat_minor": 2
}
