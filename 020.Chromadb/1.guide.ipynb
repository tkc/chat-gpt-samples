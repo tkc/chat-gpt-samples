{
    "cells": [
        {
            "attachments": {},
            "cell_type": "markdown",
            "id": "d5f777c3",
            "metadata": {},
            "source": [
                "## Chromadb"
            ]
        },
        {
            "cell_type": "code",
            "execution_count": 18,
            "id": "ab65b9ae",
            "metadata": {},
            "outputs": [
                {
                    "name": "stdout",
                    "output_type": "stream",
                    "text": [
                        "huggingface/tokenizers: The current process just got forked, after parallelism has already been used. Disabling parallelism to avoid deadlocks...\n",
                        "To disable this warning, you can either:\n",
                        "\t- Avoid using `tokenizers` before the fork if possible\n",
                        "\t- Explicitly set the environment variable TOKENIZERS_PARALLELISM=(true | false)\n",
                        "Requirement already satisfied: chromadb in /Users/takeshiiijima/opt/anaconda3/lib/python3.9/site-packages (from -r requirements.txt (line 1)) (0.3.21)\n",
                        "Requirement already satisfied: pandas>=1.3 in /Users/takeshiiijima/opt/anaconda3/lib/python3.9/site-packages (from chromadb->-r requirements.txt (line 1)) (1.3.4)\n",
                        "Requirement already satisfied: requests>=2.28 in /Users/takeshiiijima/opt/anaconda3/lib/python3.9/site-packages (from chromadb->-r requirements.txt (line 1)) (2.30.0)\n",
                        "Requirement already satisfied: pydantic>=1.9 in /Users/takeshiiijima/opt/anaconda3/lib/python3.9/site-packages (from chromadb->-r requirements.txt (line 1)) (1.10.6)\n",
                        "Requirement already satisfied: hnswlib>=0.7 in /Users/takeshiiijima/opt/anaconda3/lib/python3.9/site-packages (from chromadb->-r requirements.txt (line 1)) (0.7.0)\n",
                        "Requirement already satisfied: clickhouse-connect>=0.5.7 in /Users/takeshiiijima/opt/anaconda3/lib/python3.9/site-packages (from chromadb->-r requirements.txt (line 1)) (0.5.23)\n",
                        "Requirement already satisfied: sentence-transformers>=2.2.2 in /Users/takeshiiijima/opt/anaconda3/lib/python3.9/site-packages (from chromadb->-r requirements.txt (line 1)) (2.2.2)\n",
                        "Requirement already satisfied: duckdb>=0.7.1 in /Users/takeshiiijima/opt/anaconda3/lib/python3.9/site-packages (from chromadb->-r requirements.txt (line 1)) (0.7.1)\n",
                        "Requirement already satisfied: fastapi>=0.85.1 in /Users/takeshiiijima/opt/anaconda3/lib/python3.9/site-packages (from chromadb->-r requirements.txt (line 1)) (0.95.1)\n",
                        "Requirement already satisfied: uvicorn[standard]>=0.18.3 in /Users/takeshiiijima/opt/anaconda3/lib/python3.9/site-packages (from chromadb->-r requirements.txt (line 1)) (0.22.0)\n",
                        "Requirement already satisfied: numpy>=1.21.6 in /Users/takeshiiijima/opt/anaconda3/lib/python3.9/site-packages (from chromadb->-r requirements.txt (line 1)) (1.22.4)\n",
                        "Requirement already satisfied: posthog>=2.4.0 in /Users/takeshiiijima/opt/anaconda3/lib/python3.9/site-packages (from chromadb->-r requirements.txt (line 1)) (3.0.1)\n",
                        "Requirement already satisfied: certifi in /Users/takeshiiijima/opt/anaconda3/lib/python3.9/site-packages (from clickhouse-connect>=0.5.7->chromadb->-r requirements.txt (line 1)) (2022.12.7)\n",
                        "Requirement already satisfied: urllib3>=1.26 in /Users/takeshiiijima/opt/anaconda3/lib/python3.9/site-packages (from clickhouse-connect>=0.5.7->chromadb->-r requirements.txt (line 1)) (1.26.7)\n",
                        "Requirement already satisfied: pytz in /Users/takeshiiijima/opt/anaconda3/lib/python3.9/site-packages (from clickhouse-connect>=0.5.7->chromadb->-r requirements.txt (line 1)) (2021.3)\n",
                        "Requirement already satisfied: zstandard in /Users/takeshiiijima/opt/anaconda3/lib/python3.9/site-packages (from clickhouse-connect>=0.5.7->chromadb->-r requirements.txt (line 1)) (0.21.0)\n",
                        "Requirement already satisfied: lz4 in /Users/takeshiiijima/opt/anaconda3/lib/python3.9/site-packages (from clickhouse-connect>=0.5.7->chromadb->-r requirements.txt (line 1)) (4.3.2)\n",
                        "Requirement already satisfied: starlette<0.27.0,>=0.26.1 in /Users/takeshiiijima/opt/anaconda3/lib/python3.9/site-packages (from fastapi>=0.85.1->chromadb->-r requirements.txt (line 1)) (0.26.1)\n",
                        "Requirement already satisfied: python-dateutil>=2.7.3 in /Users/takeshiiijima/opt/anaconda3/lib/python3.9/site-packages (from pandas>=1.3->chromadb->-r requirements.txt (line 1)) (2.8.2)\n",
                        "Requirement already satisfied: six>=1.5 in /Users/takeshiiijima/opt/anaconda3/lib/python3.9/site-packages (from posthog>=2.4.0->chromadb->-r requirements.txt (line 1)) (1.16.0)\n",
                        "Requirement already satisfied: monotonic>=1.5 in /Users/takeshiiijima/opt/anaconda3/lib/python3.9/site-packages (from posthog>=2.4.0->chromadb->-r requirements.txt (line 1)) (1.6)\n",
                        "Requirement already satisfied: backoff>=1.10.0 in /Users/takeshiiijima/opt/anaconda3/lib/python3.9/site-packages (from posthog>=2.4.0->chromadb->-r requirements.txt (line 1)) (2.2.1)\n",
                        "Requirement already satisfied: typing-extensions>=4.2.0 in /Users/takeshiiijima/opt/anaconda3/lib/python3.9/site-packages (from pydantic>=1.9->chromadb->-r requirements.txt (line 1)) (4.5.0)\n",
                        "Requirement already satisfied: charset-normalizer<4,>=2 in /Users/takeshiiijima/opt/anaconda3/lib/python3.9/site-packages (from requests>=2.28->chromadb->-r requirements.txt (line 1)) (2.0.4)\n",
                        "Requirement already satisfied: idna<4,>=2.5 in /Users/takeshiiijima/opt/anaconda3/lib/python3.9/site-packages (from requests>=2.28->chromadb->-r requirements.txt (line 1)) (3.2)\n",
                        "Requirement already satisfied: transformers<5.0.0,>=4.6.0 in /Users/takeshiiijima/opt/anaconda3/lib/python3.9/site-packages (from sentence-transformers>=2.2.2->chromadb->-r requirements.txt (line 1)) (4.28.1)\n",
                        "Requirement already satisfied: tqdm in /Users/takeshiiijima/opt/anaconda3/lib/python3.9/site-packages (from sentence-transformers>=2.2.2->chromadb->-r requirements.txt (line 1)) (4.62.3)\n",
                        "Requirement already satisfied: torch>=1.6.0 in /Users/takeshiiijima/opt/anaconda3/lib/python3.9/site-packages (from sentence-transformers>=2.2.2->chromadb->-r requirements.txt (line 1)) (2.0.0)\n",
                        "Requirement already satisfied: torchvision in /Users/takeshiiijima/opt/anaconda3/lib/python3.9/site-packages (from sentence-transformers>=2.2.2->chromadb->-r requirements.txt (line 1)) (0.15.1)\n",
                        "Requirement already satisfied: scikit-learn in /Users/takeshiiijima/opt/anaconda3/lib/python3.9/site-packages (from sentence-transformers>=2.2.2->chromadb->-r requirements.txt (line 1)) (0.24.2)\n",
                        "Requirement already satisfied: scipy in /Users/takeshiiijima/opt/anaconda3/lib/python3.9/site-packages (from sentence-transformers>=2.2.2->chromadb->-r requirements.txt (line 1)) (1.7.1)\n",
                        "Requirement already satisfied: nltk in /Users/takeshiiijima/opt/anaconda3/lib/python3.9/site-packages (from sentence-transformers>=2.2.2->chromadb->-r requirements.txt (line 1)) (3.6.5)\n",
                        "Requirement already satisfied: sentencepiece in /Users/takeshiiijima/opt/anaconda3/lib/python3.9/site-packages (from sentence-transformers>=2.2.2->chromadb->-r requirements.txt (line 1)) (0.1.99)\n",
                        "Requirement already satisfied: huggingface-hub>=0.4.0 in /Users/takeshiiijima/opt/anaconda3/lib/python3.9/site-packages (from sentence-transformers>=2.2.2->chromadb->-r requirements.txt (line 1)) (0.13.4)\n",
                        "Requirement already satisfied: click>=7.0 in /Users/takeshiiijima/opt/anaconda3/lib/python3.9/site-packages (from uvicorn[standard]>=0.18.3->chromadb->-r requirements.txt (line 1)) (8.0.3)\n",
                        "Requirement already satisfied: h11>=0.8 in /Users/takeshiiijima/opt/anaconda3/lib/python3.9/site-packages (from uvicorn[standard]>=0.18.3->chromadb->-r requirements.txt (line 1)) (0.14.0)\n",
                        "Requirement already satisfied: httptools>=0.5.0 in /Users/takeshiiijima/opt/anaconda3/lib/python3.9/site-packages (from uvicorn[standard]>=0.18.3->chromadb->-r requirements.txt (line 1)) (0.5.0)\n",
                        "Requirement already satisfied: python-dotenv>=0.13 in /Users/takeshiiijima/opt/anaconda3/lib/python3.9/site-packages (from uvicorn[standard]>=0.18.3->chromadb->-r requirements.txt (line 1)) (1.0.0)\n",
                        "Requirement already satisfied: pyyaml>=5.1 in /Users/takeshiiijima/opt/anaconda3/lib/python3.9/site-packages (from uvicorn[standard]>=0.18.3->chromadb->-r requirements.txt (line 1)) (6.0)\n",
                        "Requirement already satisfied: uvloop!=0.15.0,!=0.15.1,>=0.14.0 in /Users/takeshiiijima/opt/anaconda3/lib/python3.9/site-packages (from uvicorn[standard]>=0.18.3->chromadb->-r requirements.txt (line 1)) (0.17.0)\n",
                        "Requirement already satisfied: watchfiles>=0.13 in /Users/takeshiiijima/opt/anaconda3/lib/python3.9/site-packages (from uvicorn[standard]>=0.18.3->chromadb->-r requirements.txt (line 1)) (0.19.0)\n",
                        "Requirement already satisfied: websockets>=10.4 in /Users/takeshiiijima/opt/anaconda3/lib/python3.9/site-packages (from uvicorn[standard]>=0.18.3->chromadb->-r requirements.txt (line 1)) (10.4)\n",
                        "Requirement already satisfied: filelock in /Users/takeshiiijima/opt/anaconda3/lib/python3.9/site-packages (from huggingface-hub>=0.4.0->sentence-transformers>=2.2.2->chromadb->-r requirements.txt (line 1)) (3.3.1)\n",
                        "Requirement already satisfied: packaging>=20.9 in /Users/takeshiiijima/opt/anaconda3/lib/python3.9/site-packages (from huggingface-hub>=0.4.0->sentence-transformers>=2.2.2->chromadb->-r requirements.txt (line 1)) (21.0)\n",
                        "Requirement already satisfied: anyio<5,>=3.4.0 in /Users/takeshiiijima/opt/anaconda3/lib/python3.9/site-packages (from starlette<0.27.0,>=0.26.1->fastapi>=0.85.1->chromadb->-r requirements.txt (line 1)) (3.6.2)\n",
                        "Requirement already satisfied: sympy in /Users/takeshiiijima/opt/anaconda3/lib/python3.9/site-packages (from torch>=1.6.0->sentence-transformers>=2.2.2->chromadb->-r requirements.txt (line 1)) (1.9)\n",
                        "Requirement already satisfied: networkx in /Users/takeshiiijima/opt/anaconda3/lib/python3.9/site-packages (from torch>=1.6.0->sentence-transformers>=2.2.2->chromadb->-r requirements.txt (line 1)) (2.6.3)\n",
                        "Requirement already satisfied: jinja2 in /Users/takeshiiijima/opt/anaconda3/lib/python3.9/site-packages (from torch>=1.6.0->sentence-transformers>=2.2.2->chromadb->-r requirements.txt (line 1)) (2.11.3)\n",
                        "Requirement already satisfied: regex!=2019.12.17 in /Users/takeshiiijima/opt/anaconda3/lib/python3.9/site-packages (from transformers<5.0.0,>=4.6.0->sentence-transformers>=2.2.2->chromadb->-r requirements.txt (line 1)) (2022.10.31)\n",
                        "Requirement already satisfied: tokenizers!=0.11.3,<0.14,>=0.11.1 in /Users/takeshiiijima/opt/anaconda3/lib/python3.9/site-packages (from transformers<5.0.0,>=4.6.0->sentence-transformers>=2.2.2->chromadb->-r requirements.txt (line 1)) (0.13.3)\n",
                        "Requirement already satisfied: joblib in /Users/takeshiiijima/opt/anaconda3/lib/python3.9/site-packages (from nltk->sentence-transformers>=2.2.2->chromadb->-r requirements.txt (line 1)) (1.1.0)\n",
                        "Requirement already satisfied: threadpoolctl>=2.0.0 in /Users/takeshiiijima/opt/anaconda3/lib/python3.9/site-packages (from scikit-learn->sentence-transformers>=2.2.2->chromadb->-r requirements.txt (line 1)) (2.2.0)\n",
                        "Requirement already satisfied: pillow!=8.3.*,>=5.3.0 in /Users/takeshiiijima/opt/anaconda3/lib/python3.9/site-packages (from torchvision->sentence-transformers>=2.2.2->chromadb->-r requirements.txt (line 1)) (8.4.0)\n",
                        "Requirement already satisfied: sniffio>=1.1 in /Users/takeshiiijima/opt/anaconda3/lib/python3.9/site-packages (from anyio<5,>=3.4.0->starlette<0.27.0,>=0.26.1->fastapi>=0.85.1->chromadb->-r requirements.txt (line 1)) (1.2.0)\n",
                        "Requirement already satisfied: pyparsing>=2.0.2 in /Users/takeshiiijima/opt/anaconda3/lib/python3.9/site-packages (from packaging>=20.9->huggingface-hub>=0.4.0->sentence-transformers>=2.2.2->chromadb->-r requirements.txt (line 1)) (3.0.4)\n",
                        "Requirement already satisfied: MarkupSafe>=0.23 in /Users/takeshiiijima/opt/anaconda3/lib/python3.9/site-packages (from jinja2->torch>=1.6.0->sentence-transformers>=2.2.2->chromadb->-r requirements.txt (line 1)) (1.1.1)\n",
                        "Requirement already satisfied: mpmath>=0.19 in /Users/takeshiiijima/opt/anaconda3/lib/python3.9/site-packages (from sympy->torch>=1.6.0->sentence-transformers>=2.2.2->chromadb->-r requirements.txt (line 1)) (1.2.1)\n",
                        "Note: you may need to restart the kernel to use updated packages.\n"
                    ]
                }
            ],
            "source": [
                "%pip install -r requirements.txt"
            ]
        },
        {
            "cell_type": "code",
            "execution_count": 19,
            "id": "853669ad",
            "metadata": {},
            "outputs": [
                {
                    "name": "stderr",
                    "output_type": "stream",
                    "text": [
                        "Using embedded DuckDB without persistence: data will be transient\n",
                        "No embedding_function provided, using default embedding function: SentenceTransformerEmbeddingFunction\n"
                    ]
                }
            ],
            "source": [
                "import chromadb\n",
                "\n",
                "client = chromadb.Client()\n",
                "\n",
                "collection = client.create_collection(\"test\")"
            ]
        },
        {
            "cell_type": "code",
            "execution_count": 20,
            "id": "0f8d2b9a",
            "metadata": {},
            "outputs": [
                {
                    "data": {
                        "text/plain": [
                            "{'ids': [['id1', 'id5'], ['id2', 'id4']],\n",
                            " 'embeddings': None,\n",
                            " 'documents': [['doc1', 'doc5'], ['doc2', 'doc4']],\n",
                            " 'metadatas': [[{'uri': 'img1.png', 'style': 'style1'},\n",
                            "   {'uri': 'img5.png', 'style': 'style1'}],\n",
                            "  [{'uri': 'img2.png', 'style': 'style2'},\n",
                            "   {'uri': 'img4.png', 'style': 'style1'}]],\n",
                            " 'distances': [[0.0, 0.0], [11.959999084472656, 11.959999084472656]]}"
                        ]
                    },
                    "execution_count": 20,
                    "metadata": {},
                    "output_type": "execute_result"
                }
            ],
            "source": [
                "collection.add(\n",
                "    embeddings=[\n",
                "        [1.1, 2.3, 3.2],\n",
                "        [4.5, 6.9, 4.4],\n",
                "        [1.1, 2.3, 3.2],\n",
                "        [4.5, 6.9, 4.4],\n",
                "        [1.1, 2.3, 3.2],\n",
                "        [4.5, 6.9, 4.4],\n",
                "        [1.1, 2.3, 3.2],\n",
                "        [4.5, 6.9, 4.4],\n",
                "    ],\n",
                "    metadatas=[\n",
                "        {\"uri\": \"img1.png\", \"style\": \"style1\"},\n",
                "        {\"uri\": \"img2.png\", \"style\": \"style2\"},\n",
                "        {\"uri\": \"img3.png\", \"style\": \"style1\"},\n",
                "        {\"uri\": \"img4.png\", \"style\": \"style1\"},\n",
                "        {\"uri\": \"img5.png\", \"style\": \"style1\"},\n",
                "        {\"uri\": \"img6.png\", \"style\": \"style1\"},\n",
                "        {\"uri\": \"img7.png\", \"style\": \"style1\"},\n",
                "        {\"uri\": \"img8.png\", \"style\": \"style1\"},\n",
                "    ],\n",
                "    documents=[\"doc1\", \"doc2\", \"doc3\", \"doc4\", \"doc5\", \"doc6\", \"doc7\", \"doc8\"],\n",
                "    ids=[\"id1\", \"id2\", \"id3\", \"id4\", \"id5\", \"id6\", \"id7\", \"id8\"],\n",
                ")\n",
                "\n",
                "query_result = collection.query(\n",
                "        query_embeddings=[[1.1, 2.3, 3.2], [5.1, 4.3, 2.2]],\n",
                "        n_results=2,\n",
                "    )\n",
                "\n",
                "query_result\n"
            ]
        },
        {
            "cell_type": "code",
            "execution_count": 21,
            "id": "9cc0e936",
            "metadata": {},
            "outputs": [
                {
                    "name": "stderr",
                    "output_type": "stream",
                    "text": [
                        "Using embedded DuckDB without persistence: data will be transient\n"
                    ]
                }
            ],
            "source": [
                "import chromadb\n",
                "chroma_client = chromadb.Client()"
            ]
        },
        {
            "cell_type": "code",
            "execution_count": 22,
            "id": "d1531838",
            "metadata": {},
            "outputs": [
                {
                    "name": "stderr",
                    "output_type": "stream",
                    "text": [
                        "No embedding_function provided, using default embedding function: SentenceTransformerEmbeddingFunction\n"
                    ]
                }
            ],
            "source": [
                "collection = chroma_client.create_collection(name=\"my_collection\")"
            ]
        },
        {
            "cell_type": "code",
            "execution_count": 23,
            "id": "60896441",
            "metadata": {},
            "outputs": [],
            "source": [
                "collection.add(\n",
                "    documents=[\"This is a document\", \"This is another document\"],\n",
                "    metadatas=[{\"source\": \"my_source\"}, {\"source\": \"my_source\"}],\n",
                "    ids=[\"id1\", \"id2\"]\n",
                ")\n",
                "\n",
                "collection.add(\n",
                "    documents=[\"This is a document\", \"This is another document\"],\n",
                "    metadatas=[{\"source\": \"my_source\"}, {\"source\": \"my_source\"}],\n",
                "    ids=[\"id1\", \"id2\"]\n",
                ")"
            ]
        },
        {
            "cell_type": "code",
            "execution_count": 24,
            "id": "fa4b36c7",
            "metadata": {},
            "outputs": [
                {
                    "data": {
                        "text/plain": [
                            "{'ids': [['id1']],\n",
                            " 'embeddings': None,\n",
                            " 'documents': [['This is a document']],\n",
                            " 'metadatas': [[{'source': 'my_source'}]],\n",
                            " 'distances': [[0.7111217379570007]]}"
                        ]
                    },
                    "execution_count": 24,
                    "metadata": {},
                    "output_type": "execute_result"
                }
            ],
            "source": [
                "results = collection.query(\n",
                "    query_texts=[\"This is a query document\"],\n",
                "    n_results=1\n",
                ")\n",
                "results"
            ]
        },
        {
            "cell_type": "code",
            "execution_count": 25,
            "id": "119e6010",
            "metadata": {},
            "outputs": [
                {
                    "name": "stderr",
                    "output_type": "stream",
                    "text": [
                        "Using embedded DuckDB with persistence: data will be stored in: .chromadb\n"
                    ]
                }
            ],
            "source": [
                "import chromadb\n",
                "\n",
                "from chromadb.config import Settings\n",
                "client = chromadb.Client(Settings(\n",
                "    chroma_db_impl=\"duckdb+parquet\",\n",
                "    persist_directory=\".chromadb\" # Optional, defaults to .chromadb/ in the current directory\n",
                "))\n"
            ]
        },
        {
            "cell_type": "code",
            "execution_count": 26,
            "id": "f16e6785",
            "metadata": {},
            "outputs": [
                {
                    "data": {
                        "text/plain": [
                            "True"
                        ]
                    },
                    "execution_count": 26,
                    "metadata": {},
                    "output_type": "execute_result"
                }
            ],
            "source": [
                "client.heartbeat() # returns a nanosecond heartbeat. Useful for making sure the client remains connected.\n",
                "client.reset() # Empties and completely resets the database. ⚠️ This is destructive and not reversible."
            ]
        },
        {
            "cell_type": "code",
            "execution_count": 27,
            "id": "e7fbdf5e",
            "metadata": {},
            "outputs": [
                {
                    "name": "stderr",
                    "output_type": "stream",
                    "text": [
                        "No embedding_function provided, using default embedding function: SentenceTransformerEmbeddingFunction\n"
                    ]
                }
            ],
            "source": [
                "collection = client.create_collection(name=\"my_collection\")"
            ]
        },
        {
            "cell_type": "code",
            "execution_count": 28,
            "id": "a1268894",
            "metadata": {},
            "outputs": [],
            "source": [
                "collection.add(\n",
                "    documents=[\"lorem ipsum...\", \"doc2\", \"doc3\"],\n",
                "    metadatas=[\n",
                "        {\"chapter\": \"3\", \"verse\": \"16\"},\n",
                "        {\"chapter\": \"3\", \"verse\": \"5\"}, \n",
                "        {\"chapter\": \"29\", \"verse\": \"11\"}],\n",
                "    ids=[\"id1\", \"id2\", \"id3\"]\n",
                ")\n",
                "\n"
            ]
        },
        {
            "cell_type": "code",
            "execution_count": 29,
            "id": "d7410c43",
            "metadata": {},
            "outputs": [
                {
                    "data": {
                        "text/plain": [
                            "{'ids': [['id3']],\n",
                            " 'embeddings': None,\n",
                            " 'documents': [['doc3']],\n",
                            " 'metadatas': [[{'chapter': '29', 'verse': '11'}]],\n",
                            " 'distances': [[1.2974470853805542]]}"
                        ]
                    },
                    "execution_count": 29,
                    "metadata": {},
                    "output_type": "execute_result"
                }
            ],
            "source": [
                "collection.query(\n",
                "    query_texts=[\"This is a query document\"],\n",
                "    n_results=1\n",
                ")\n"
            ]
        },
        {
            "cell_type": "code",
            "execution_count": 30,
            "id": "d6b1e9dc",
            "metadata": {},
            "outputs": [
                {
                    "name": "stderr",
                    "output_type": "stream",
                    "text": [
                        "Using embedded DuckDB with persistence: data will be stored in: .chromadb\n",
                        "No embedding_function provided, using default embedding function: SentenceTransformerEmbeddingFunction\n"
                    ]
                },
                {
                    "data": {
                        "text/plain": [
                            "{'ids': [['id3']],\n",
                            " 'embeddings': None,\n",
                            " 'documents': [['doc3']],\n",
                            " 'metadatas': [[{'chapter': '29', 'verse': '11'}]],\n",
                            " 'distances': [[1.2974470853805542]]}"
                        ]
                    },
                    "execution_count": 30,
                    "metadata": {},
                    "output_type": "execute_result"
                }
            ],
            "source": [
                "import chromadb\n",
                "\n",
                "from chromadb.config import Settings\n",
                "\n",
                "client = chromadb.Client(Settings(\n",
                "    chroma_db_impl=\"duckdb+parquet\",\n",
                "    persist_directory=\".chromadb\" # Optional, defaults to .chromadb/ in the current directory\n",
                "))\n",
                "\n",
                "ollection = client.create_collection(name=\"my_collection\")\n",
                "\n",
                "collection.query(\n",
                "    query_texts=[\"This is a query document\"],\n",
                "    n_results=1\n",
                ")\n"
            ]
        },
        {
            "cell_type": "code",
            "execution_count": 38,
            "id": "f9659f34",
            "metadata": {},
            "outputs": [],
            "source": [
                "import chromadb\n",
                "from chromadb.config import Settings\n",
                "\n",
                "client = chromadb.Client(Settings(chroma_api_impl=\"rest\",\n",
                "                                  chroma_server_host=\"localhost\",\n",
                "                                  chroma_server_http_port=\"8000\"))\n",
                "\n"
            ]
        },
        {
            "cell_type": "code",
            "execution_count": 40,
            "id": "5c2cdd39",
            "metadata": {},
            "outputs": [],
            "source": [
                "collection.add(\n",
                "    documents=[\"This is a document\", \"This is another document\"],\n",
                "    metadatas=[{\"source\": \"my_source\"}, {\"source\": \"my_source\"}],\n",
                "    ids=[\"id1\", \"id2\"]\n",
                ")\n"
            ]
        },
        {
            "cell_type": "code",
            "execution_count": 41,
            "id": "d5e4c9b6",
            "metadata": {},
            "outputs": [
                {
                    "name": "stderr",
                    "output_type": "stream",
                    "text": [
                        "No embedding_function provided, using default embedding function: SentenceTransformerEmbeddingFunction\n"
                    ]
                }
            ],
            "source": [
                "collection = client.get_collection(name=\"my_collection\")"
            ]
        },
        {
            "cell_type": "code",
            "execution_count": 42,
            "id": "3320c31f",
            "metadata": {},
            "outputs": [
                {
                    "data": {
                        "text/plain": [
                            "2"
                        ]
                    },
                    "execution_count": 42,
                    "metadata": {},
                    "output_type": "execute_result"
                }
            ],
            "source": [
                "collection.count()"
            ]
        },
        {
            "cell_type": "code",
            "execution_count": 47,
            "id": "9382a1e2",
            "metadata": {},
            "outputs": [
                {
                    "data": {
                        "text/plain": [
                            "{'ids': ['id1', 'id2'],\n",
                            " 'embeddings': None,\n",
                            " 'documents': ['This is a document', 'This is another document'],\n",
                            " 'metadatas': None}"
                        ]
                    },
                    "execution_count": 47,
                    "metadata": {},
                    "output_type": "execute_result"
                }
            ],
            "source": [
                "collection.get(\n",
                "    include=[\"documents\"]\n",
                ")\n"
            ]
        }
    ],
    "metadata": {
        "kernelspec": {
            "display_name": "Python 3 (ipykernel)",
            "language": "python",
            "name": "python3"
        },
        "language_info": {
            "codemirror_mode": {
                "name": "ipython",
                "version": 3
            },
            "file_extension": ".py",
            "mimetype": "text/x-python",
            "name": "python",
            "nbconvert_exporter": "python",
            "pygments_lexer": "ipython3",
            "version": "3.9.7"
        }
    },
    "nbformat": 4,
    "nbformat_minor": 5
}
