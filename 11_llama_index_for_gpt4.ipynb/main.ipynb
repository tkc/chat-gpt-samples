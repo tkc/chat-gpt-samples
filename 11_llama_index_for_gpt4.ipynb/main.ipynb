{
 "cells": [
  {
   "cell_type": "code",
   "execution_count": 8,
   "metadata": {},
   "outputs": [
    {
     "name": "stdout",
     "output_type": "stream",
     "text": [
      "Collecting openai\n",
      "  Downloading openai-0.27.2-py3-none-any.whl (70 kB)\n",
      "\u001b[K     |████████████████████████████████| 70 kB 3.6 MB/s eta 0:00:011\n",
      "\u001b[?25hCollecting aiohttp\n",
      "  Downloading aiohttp-3.8.4-cp39-cp39-macosx_10_9_x86_64.whl (360 kB)\n",
      "\u001b[K     |████████████████████████████████| 360 kB 3.9 MB/s eta 0:00:01\n",
      "\u001b[?25hRequirement already satisfied: requests>=2.20 in /Users/takeshiiijima/opt/anaconda3/lib/python3.9/site-packages (from openai) (2.26.0)\n",
      "Requirement already satisfied: tqdm in /Users/takeshiiijima/opt/anaconda3/lib/python3.9/site-packages (from openai) (4.62.3)\n",
      "Requirement already satisfied: idna<4,>=2.5 in /Users/takeshiiijima/opt/anaconda3/lib/python3.9/site-packages (from requests>=2.20->openai) (3.2)\n",
      "Requirement already satisfied: certifi>=2017.4.17 in /Users/takeshiiijima/opt/anaconda3/lib/python3.9/site-packages (from requests>=2.20->openai) (2021.10.8)\n",
      "Requirement already satisfied: urllib3<1.27,>=1.21.1 in /Users/takeshiiijima/opt/anaconda3/lib/python3.9/site-packages (from requests>=2.20->openai) (1.26.7)\n",
      "Requirement already satisfied: charset-normalizer~=2.0.0 in /Users/takeshiiijima/opt/anaconda3/lib/python3.9/site-packages (from requests>=2.20->openai) (2.0.4)\n",
      "Requirement already satisfied: attrs>=17.3.0 in /Users/takeshiiijima/opt/anaconda3/lib/python3.9/site-packages (from aiohttp->openai) (21.2.0)\n",
      "Collecting frozenlist>=1.1.1\n",
      "  Downloading frozenlist-1.3.3-cp39-cp39-macosx_10_9_x86_64.whl (36 kB)\n",
      "Collecting aiosignal>=1.1.2\n",
      "  Using cached aiosignal-1.3.1-py3-none-any.whl (7.6 kB)\n",
      "Collecting multidict<7.0,>=4.5\n",
      "  Downloading multidict-6.0.4-cp39-cp39-macosx_10_9_x86_64.whl (29 kB)\n",
      "Collecting async-timeout<5.0,>=4.0.0a3\n",
      "  Using cached async_timeout-4.0.2-py3-none-any.whl (5.8 kB)\n",
      "Collecting yarl<2.0,>=1.0\n",
      "  Downloading yarl-1.8.2-cp39-cp39-macosx_10_9_x86_64.whl (61 kB)\n",
      "\u001b[K     |████████████████████████████████| 61 kB 7.1 MB/s eta 0:00:01\n",
      "\u001b[?25hInstalling collected packages: multidict, frozenlist, yarl, async-timeout, aiosignal, aiohttp, openai\n",
      "Successfully installed aiohttp-3.8.4 aiosignal-1.3.1 async-timeout-4.0.2 frozenlist-1.3.3 multidict-6.0.4 openai-0.27.2 yarl-1.8.2\n",
      "Note: you may need to restart the kernel to use updated packages.\n",
      "Collecting llama-index\n",
      "  Downloading llama_index-0.4.29.tar.gz (140 kB)\n",
      "\u001b[K     |████████████████████████████████| 140 kB 3.2 MB/s eta 0:00:01\n",
      "\u001b[?25hCollecting dataclasses_json\n",
      "  Using cached dataclasses_json-0.5.7-py3-none-any.whl (25 kB)\n",
      "Collecting langchain\n",
      "  Downloading langchain-0.0.115-py3-none-any.whl (404 kB)\n",
      "\u001b[K     |████████████████████████████████| 404 kB 6.6 MB/s eta 0:00:01\n",
      "\u001b[?25hRequirement already satisfied: numpy in /Users/takeshiiijima/opt/anaconda3/lib/python3.9/site-packages (from llama-index) (1.20.3)\n",
      "Collecting tenacity<9.0.0,>=8.2.0\n",
      "  Downloading tenacity-8.2.2-py3-none-any.whl (24 kB)\n",
      "Requirement already satisfied: openai>=0.26.4 in /Users/takeshiiijima/opt/anaconda3/lib/python3.9/site-packages (from llama-index) (0.27.2)\n",
      "Requirement already satisfied: pandas in /Users/takeshiiijima/opt/anaconda3/lib/python3.9/site-packages (from llama-index) (1.3.4)\n",
      "Collecting tiktoken\n",
      "  Downloading tiktoken-0.3.2-cp39-cp39-macosx_10_9_x86_64.whl (735 kB)\n",
      "\u001b[K     |████████████████████████████████| 735 kB 4.7 MB/s eta 0:00:01\n",
      "\u001b[?25hRequirement already satisfied: tqdm in /Users/takeshiiijima/opt/anaconda3/lib/python3.9/site-packages (from openai>=0.26.4->llama-index) (4.62.3)\n",
      "Requirement already satisfied: aiohttp in /Users/takeshiiijima/opt/anaconda3/lib/python3.9/site-packages (from openai>=0.26.4->llama-index) (3.8.4)\n",
      "Requirement already satisfied: requests>=2.20 in /Users/takeshiiijima/opt/anaconda3/lib/python3.9/site-packages (from openai>=0.26.4->llama-index) (2.26.0)\n",
      "Requirement already satisfied: urllib3<1.27,>=1.21.1 in /Users/takeshiiijima/opt/anaconda3/lib/python3.9/site-packages (from requests>=2.20->openai>=0.26.4->llama-index) (1.26.7)\n",
      "Requirement already satisfied: charset-normalizer~=2.0.0 in /Users/takeshiiijima/opt/anaconda3/lib/python3.9/site-packages (from requests>=2.20->openai>=0.26.4->llama-index) (2.0.4)\n",
      "Requirement already satisfied: idna<4,>=2.5 in /Users/takeshiiijima/opt/anaconda3/lib/python3.9/site-packages (from requests>=2.20->openai>=0.26.4->llama-index) (3.2)\n",
      "Requirement already satisfied: certifi>=2017.4.17 in /Users/takeshiiijima/opt/anaconda3/lib/python3.9/site-packages (from requests>=2.20->openai>=0.26.4->llama-index) (2021.10.8)\n",
      "Requirement already satisfied: attrs>=17.3.0 in /Users/takeshiiijima/opt/anaconda3/lib/python3.9/site-packages (from aiohttp->openai>=0.26.4->llama-index) (21.2.0)\n",
      "Requirement already satisfied: frozenlist>=1.1.1 in /Users/takeshiiijima/opt/anaconda3/lib/python3.9/site-packages (from aiohttp->openai>=0.26.4->llama-index) (1.3.3)\n",
      "Requirement already satisfied: aiosignal>=1.1.2 in /Users/takeshiiijima/opt/anaconda3/lib/python3.9/site-packages (from aiohttp->openai>=0.26.4->llama-index) (1.3.1)\n",
      "Requirement already satisfied: yarl<2.0,>=1.0 in /Users/takeshiiijima/opt/anaconda3/lib/python3.9/site-packages (from aiohttp->openai>=0.26.4->llama-index) (1.8.2)\n",
      "Requirement already satisfied: async-timeout<5.0,>=4.0.0a3 in /Users/takeshiiijima/opt/anaconda3/lib/python3.9/site-packages (from aiohttp->openai>=0.26.4->llama-index) (4.0.2)\n",
      "Requirement already satisfied: multidict<7.0,>=4.5 in /Users/takeshiiijima/opt/anaconda3/lib/python3.9/site-packages (from aiohttp->openai>=0.26.4->llama-index) (6.0.4)\n",
      "Collecting typing-inspect>=0.4.0\n",
      "  Using cached typing_inspect-0.8.0-py3-none-any.whl (8.7 kB)\n",
      "Collecting marshmallow-enum<2.0.0,>=1.5.1\n",
      "  Using cached marshmallow_enum-1.5.1-py2.py3-none-any.whl (4.2 kB)\n",
      "Collecting marshmallow<4.0.0,>=3.3.0\n",
      "  Using cached marshmallow-3.19.0-py3-none-any.whl (49 kB)\n",
      "Requirement already satisfied: packaging>=17.0 in /Users/takeshiiijima/opt/anaconda3/lib/python3.9/site-packages (from marshmallow<4.0.0,>=3.3.0->dataclasses_json->llama-index) (21.0)\n",
      "Requirement already satisfied: pyparsing>=2.0.2 in /Users/takeshiiijima/opt/anaconda3/lib/python3.9/site-packages (from packaging>=17.0->marshmallow<4.0.0,>=3.3.0->dataclasses_json->llama-index) (3.0.4)\n",
      "Requirement already satisfied: mypy-extensions>=0.3.0 in /Users/takeshiiijima/opt/anaconda3/lib/python3.9/site-packages (from typing-inspect>=0.4.0->dataclasses_json->llama-index) (0.4.3)\n",
      "Requirement already satisfied: typing-extensions>=3.7.4 in /Users/takeshiiijima/opt/anaconda3/lib/python3.9/site-packages (from typing-inspect>=0.4.0->dataclasses_json->llama-index) (3.10.0.2)\n",
      "Collecting pydantic<2,>=1\n",
      "  Downloading pydantic-1.10.6-cp39-cp39-macosx_10_9_x86_64.whl (2.9 MB)\n",
      "\u001b[K     |████████████████████████████████| 2.9 MB 9.3 MB/s eta 0:00:01\n",
      "\u001b[?25hRequirement already satisfied: SQLAlchemy<2,>=1 in /Users/takeshiiijima/opt/anaconda3/lib/python3.9/site-packages (from langchain->llama-index) (1.4.22)\n",
      "Requirement already satisfied: PyYAML>=5.4.1 in /Users/takeshiiijima/opt/anaconda3/lib/python3.9/site-packages (from langchain->llama-index) (6.0)\n",
      "Collecting typing-extensions>=3.7.4\n",
      "  Downloading typing_extensions-4.5.0-py3-none-any.whl (27 kB)\n",
      "Requirement already satisfied: greenlet!=0.4.17 in /Users/takeshiiijima/opt/anaconda3/lib/python3.9/site-packages (from SQLAlchemy<2,>=1->langchain->llama-index) (1.1.1)\n",
      "Requirement already satisfied: python-dateutil>=2.7.3 in /Users/takeshiiijima/opt/anaconda3/lib/python3.9/site-packages (from pandas->llama-index) (2.8.2)\n",
      "Requirement already satisfied: pytz>=2017.3 in /Users/takeshiiijima/opt/anaconda3/lib/python3.9/site-packages (from pandas->llama-index) (2021.3)\n",
      "Requirement already satisfied: six>=1.5 in /Users/takeshiiijima/opt/anaconda3/lib/python3.9/site-packages (from python-dateutil>=2.7.3->pandas->llama-index) (1.16.0)\n",
      "Collecting regex>=2022.1.18\n",
      "  Downloading regex-2022.10.31-cp39-cp39-macosx_10_9_x86_64.whl (293 kB)\n",
      "\u001b[K     |████████████████████████████████| 293 kB 5.4 MB/s eta 0:00:01\n",
      "\u001b[?25hBuilding wheels for collected packages: llama-index\n",
      "  Building wheel for llama-index (setup.py) ... \u001b[?25ldone\n",
      "\u001b[?25h  Created wheel for llama-index: filename=llama_index-0.4.29-py3-none-any.whl size=207577 sha256=fcc2e7a737899e6f5940c52e6b5da07eb8040b0297b55768e5b0c1fe022a4a33\n",
      "  Stored in directory: /Users/takeshiiijima/Library/Caches/pip/wheels/7e/3a/11/04d7ff1568bcf200ddf1c7124589ac943a4061c7de040448d4\n",
      "Successfully built llama-index\n",
      "Installing collected packages: typing-extensions, marshmallow, typing-inspect, marshmallow-enum, tenacity, regex, pydantic, dataclasses-json, tiktoken, langchain, llama-index\n",
      "  Attempting uninstall: typing-extensions\n",
      "    Found existing installation: typing-extensions 3.10.0.2\n",
      "    Uninstalling typing-extensions-3.10.0.2:\n",
      "      Successfully uninstalled typing-extensions-3.10.0.2\n",
      "  Attempting uninstall: regex\n",
      "    Found existing installation: regex 2021.8.3\n",
      "    Uninstalling regex-2021.8.3:\n",
      "      Successfully uninstalled regex-2021.8.3\n",
      "Successfully installed dataclasses-json-0.5.7 langchain-0.0.115 llama-index-0.4.29 marshmallow-3.19.0 marshmallow-enum-1.5.1 pydantic-1.10.6 regex-2022.10.31 tenacity-8.2.2 tiktoken-0.3.2 typing-extensions-4.5.0 typing-inspect-0.8.0\n",
      "Note: you may need to restart the kernel to use updated packages.\n",
      "Collecting wikipedia\n",
      "  Using cached wikipedia-1.4.0.tar.gz (27 kB)\n",
      "Requirement already satisfied: beautifulsoup4 in /Users/takeshiiijima/opt/anaconda3/lib/python3.9/site-packages (from wikipedia) (4.10.0)\n",
      "Requirement already satisfied: requests<3.0.0,>=2.0.0 in /Users/takeshiiijima/opt/anaconda3/lib/python3.9/site-packages (from wikipedia) (2.26.0)\n",
      "Requirement already satisfied: certifi>=2017.4.17 in /Users/takeshiiijima/opt/anaconda3/lib/python3.9/site-packages (from requests<3.0.0,>=2.0.0->wikipedia) (2021.10.8)\n",
      "Requirement already satisfied: charset-normalizer~=2.0.0 in /Users/takeshiiijima/opt/anaconda3/lib/python3.9/site-packages (from requests<3.0.0,>=2.0.0->wikipedia) (2.0.4)\n",
      "Requirement already satisfied: urllib3<1.27,>=1.21.1 in /Users/takeshiiijima/opt/anaconda3/lib/python3.9/site-packages (from requests<3.0.0,>=2.0.0->wikipedia) (1.26.7)\n",
      "Requirement already satisfied: idna<4,>=2.5 in /Users/takeshiiijima/opt/anaconda3/lib/python3.9/site-packages (from requests<3.0.0,>=2.0.0->wikipedia) (3.2)\n",
      "Requirement already satisfied: soupsieve>1.2 in /Users/takeshiiijima/opt/anaconda3/lib/python3.9/site-packages (from beautifulsoup4->wikipedia) (2.2.1)\n",
      "Building wheels for collected packages: wikipedia\n",
      "  Building wheel for wikipedia (setup.py) ... \u001b[?25ldone\n",
      "\u001b[?25h  Created wheel for wikipedia: filename=wikipedia-1.4.0-py3-none-any.whl size=11696 sha256=d05ae970eba2b7f81f6357040314199e9481402b914417d4a66824041ae46c84\n",
      "  Stored in directory: /Users/takeshiiijima/Library/Caches/pip/wheels/c2/46/f4/caa1bee71096d7b0cdca2f2a2af45cacf35c5760bee8f00948\n",
      "Successfully built wikipedia\n",
      "Installing collected packages: wikipedia\n",
      "Successfully installed wikipedia-1.4.0\n",
      "Note: you may need to restart the kernel to use updated packages.\n"
     ]
    }
   ],
   "source": [
    "%pip install openai\n",
    "%pip install llama-index"
   ]
  },
  {
   "cell_type": "code",
   "execution_count": 1,
   "metadata": {},
   "outputs": [],
   "source": [
    "import logging, sys\n",
    "\n",
    "logging.disable(sys.maxsize)"
   ]
  },
  {
   "cell_type": "code",
   "execution_count": 2,
   "metadata": {},
   "outputs": [],
   "source": [
    "# fetch \"New York City\" page from Wikipedia\n",
    "from pathlib import Path\n",
    "\n",
    "import requests\n",
    "response = requests.get(\n",
    "    'https://en.wikipedia.org/w/api.php',\n",
    "    params={\n",
    "        'action': 'query',\n",
    "        'format': 'json',\n",
    "        'titles': 'New York City',\n",
    "        'prop': 'extracts',\n",
    "        'explaintext': True,\n",
    "    }\n",
    ").json()\n",
    "\n",
    "page = next(iter(response['query']['pages'].values()))\n",
    "nyc_text = page['extract']\n",
    "\n",
    "data_path = Path('data')\n",
    "if not data_path.exists():\n",
    "    Path.mkdir(data_path)\n",
    "\n",
    "with open('data/nyc_text.txt', 'w') as fp:\n",
    "    fp.write(nyc_text)"
   ]
  },
  {
   "cell_type": "code",
   "execution_count": 4,
   "metadata": {},
   "outputs": [],
   "source": [
    "import os\n",
    "os.environ['OPENAI_API_KEY'] =  os.environ['API_KEY'] \n"
   ]
  },
  {
   "cell_type": "code",
   "execution_count": 9,
   "metadata": {},
   "outputs": [],
   "source": [
    "from llama_index import GPTTreeIndex, SimpleDirectoryReader, LLMPredictor\n",
    "# from llama_index.logger import LlamaLogger\n",
    "from langchain.chat_models import ChatOpenAI\n",
    "from langchain.llms import OpenAI\n"
   ]
  },
  {
   "cell_type": "code",
   "execution_count": 10,
   "metadata": {},
   "outputs": [],
   "source": [
    "# gpt-4\n",
    "llm_predictor_gpt4 = LLMPredictor(llm=ChatOpenAI(temperature=0, model_name=\"gpt-4\"))"
   ]
  },
  {
   "cell_type": "code",
   "execution_count": 11,
   "metadata": {},
   "outputs": [],
   "source": [
    "documents = SimpleDirectoryReader('data').load_data()\n"
   ]
  },
  {
   "cell_type": "code",
   "execution_count": 12,
   "metadata": {},
   "outputs": [],
   "source": [
    "index = GPTTreeIndex(documents, llm_predictor=llm_predictor_gpt4)\n",
    "\n"
   ]
  },
  {
   "cell_type": "code",
   "execution_count": 13,
   "metadata": {},
   "outputs": [],
   "source": [
    "index.save_to_disk('index_gpt4.json')\n"
   ]
  },
  {
   "cell_type": "code",
   "execution_count": 14,
   "metadata": {},
   "outputs": [],
   "source": [
    "new_index = GPTTreeIndex.load_from_disk('index_gpt4.json')\n"
   ]
  },
  {
   "cell_type": "code",
   "execution_count": 15,
   "metadata": {},
   "outputs": [
    {
     "name": "stdout",
     "output_type": "stream",
     "text": [
      "> Starting query: What battles took place in New York City in the American Revolution?\n",
      ">[Level 0] Current response: ANSWER: 2\n",
      "\n",
      "I selected summary 2 because it discusses New York City's history, including its role during the American Revolution. Although it does not specifically mention battles, it is the most relevant choice to the question as it provides context about the city's involvement in the war.\n",
      ">[Level 0] Selected node: [2]/[2]\n",
      ">[Level 0] Node [2] Summary text: New York City has a rich history, from its beginnings as a Dutch trading post to its growth into a global economic and cultural center. Slavery played a significant role in the city's early economy, and the African Burying Ground was discovered during construction in the 1990s. The American Revolution saw New York become a haven for Loyalist refugees and escaped slaves, and the city served as the national capital under the Articles of Confederation and the first capital under the U.S. Constitution.\n",
      "\n",
      "Throughout the 19th and 20th centuries, New York City experienced significant population growth, driven by immigration and industrial development. The city became a center for the abolitionist movement, and later, the Harlem Renaissance. The Great Depression and World War II solidified New York's position as a global leader, and the city continued to grow and evolve throughout the 20th century.\n",
      "\n",
      "In the 21st century, New York City faced challenges such as the September 11, 2001, attacks and Hurricane Sandy in 2012. The city also became the epicenter of the COVID-19 pandemic in 2020. Despite these challenges, New York City remains a vibrant and influential global city.\n",
      ">[Level 1] Current response: ANSWER: 1\n",
      "\n",
      "This summary was selected because it mentions the Battle of Long Island, which was the largest battle of the American Revolutionary War and took place in New York City.\n",
      ">[Level 1] Selected node: [1]/[1]\n",
      ">[Level 1] Node [1] Summary text: South Carolina. Most cases were that of domestic slavery, as a New York household then commonly enslaved few or several people. Others were hired out to work at labor. Slavery became integrally tied to New York's economy through the labor of slaves throughout the port, and the banking and shipping industries trading with the American South. During construction in Foley Square in the 1990s, the African Burying Ground was discovered; the cemetery included 10,000 to 20,000 of graves of colonial-era Africans, some enslaved and some free.The 1735 trial and acquittal in Manhattan of John Peter Zenger, who had been accused of seditious libel after criticizing colonial governor William Cosby, helped to establish the freedom of the press in North America. In 1754, Columbia University was founded under charter by King George II as King's College in Lower Manhattan.\n",
      "\n",
      "\n",
      "=== American Revolution ===\n",
      "\n",
      "The Stamp Act Congress met in New York in October 1765, as the Sons of Liberty organization emerged in the city and skirmished over the next ten years with British troops stationed there. The Battle of Long Island, the largest battle of the American Revolutionary War, was fought in August 1776 within the modern-day borough of Brooklyn. After the battle, in which the Americans were defeated, the British made the city their military and political base of operations in North America. The city was a haven for Loyalist refugees and escaped slaves who joined the British lines for freedom\n",
      "\u001b[36;1m\u001b[1;3m>[Level 1] Got node text: South Carolina. Most cases were that of domestic slavery, as a New York household then commonly enslaved few or several people. Others were hired out to work at labor. Slavery became integrally tie...\n",
      "\u001b[0m"
     ]
    }
   ],
   "source": [
    "response_gpt4 = new_index.query(\n",
    "    \"What battles took place in New York City in the American Revolution?\",\n",
    "    llm_predictor=llm_predictor_gpt4,\n",
    "    verbose=True\n",
    ")"
   ]
  },
  {
   "cell_type": "code",
   "execution_count": 16,
   "metadata": {},
   "outputs": [
    {
     "data": {
      "text/plain": [
       "'The context information mentions the Battle of Long Island as a battle that took place in New York City during the American Revolution.'"
      ]
     },
     "execution_count": 16,
     "metadata": {},
     "output_type": "execute_result"
    }
   ],
   "source": [
    "str(response_gpt4)\n",
    "\n"
   ]
  }
 ],
 "metadata": {
  "kernelspec": {
   "display_name": "Python 3",
   "language": "python",
   "name": "python3"
  },
  "language_info": {
   "codemirror_mode": {
    "name": "ipython",
    "version": 3
   },
   "file_extension": ".py",
   "mimetype": "text/x-python",
   "name": "python",
   "nbconvert_exporter": "python",
   "pygments_lexer": "ipython3",
   "version": "3.9.7"
  },
  "orig_nbformat": 4,
  "vscode": {
   "interpreter": {
    "hash": "949777d72b0d2535278d3dc13498b2535136f6dfe0678499012e853ee9abcab1"
   }
  }
 },
 "nbformat": 4,
 "nbformat_minor": 2
}
