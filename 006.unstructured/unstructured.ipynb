{
 "cells": [
  {
   "cell_type": "code",
   "execution_count": 5,
   "metadata": {},
   "outputs": [
    {
     "name": "stdout",
     "output_type": "stream",
     "text": [
      "Requirement already satisfied: python-dotenv in /usr/local/lib/python3.10/site-packages (0.21.1)\n",
      "Note: you may need to restart the kernel to use updated packages.\n",
      "Requirement already satisfied: unstructured in /usr/local/lib/python3.10/site-packages (0.4.8)\n",
      "Requirement already satisfied: python-magic in /usr/local/lib/python3.10/site-packages (from unstructured) (0.4.27)\n",
      "Requirement already satisfied: argilla in /usr/local/lib/python3.10/site-packages (from unstructured) (1.3.0)\n",
      "Requirement already satisfied: python-docx in /usr/local/lib/python3.10/site-packages (from unstructured) (0.8.11)\n",
      "Requirement already satisfied: lxml in /usr/local/lib/python3.10/site-packages (from unstructured) (4.9.2)\n",
      "Requirement already satisfied: python-pptx in /usr/local/lib/python3.10/site-packages (from unstructured) (0.6.21)\n",
      "Requirement already satisfied: openpyxl in /usr/local/lib/python3.10/site-packages (from unstructured) (3.1.1)\n",
      "Requirement already satisfied: pillow in /usr/local/lib/python3.10/site-packages (from unstructured) (9.4.0)\n",
      "Requirement already satisfied: requests in /usr/local/lib/python3.10/site-packages (from unstructured) (2.28.2)\n",
      "Requirement already satisfied: certifi>=2022.12.07 in /usr/local/lib/python3.10/site-packages (from unstructured) (2022.12.7)\n",
      "Requirement already satisfied: pandas in /usr/local/lib/python3.10/site-packages (from unstructured) (1.5.3)\n",
      "Requirement already satisfied: nltk in /usr/local/lib/python3.10/site-packages (from unstructured) (3.8.1)\n",
      "Requirement already satisfied: deprecated~=1.2.0 in /usr/local/lib/python3.10/site-packages (from argilla->unstructured) (1.2.13)\n",
      "Requirement already satisfied: pydantic>=1.7.1 in /usr/local/lib/python3.10/site-packages (from argilla->unstructured) (1.10.4)\n",
      "Requirement already satisfied: numpy<1.24.0 in /usr/local/lib/python3.10/site-packages (from argilla->unstructured) (1.23.5)\n",
      "Requirement already satisfied: backoff in /usr/local/lib/python3.10/site-packages (from argilla->unstructured) (2.2.1)\n",
      "Requirement already satisfied: httpx<0.24,>=0.15 in /usr/local/lib/python3.10/site-packages (from argilla->unstructured) (0.23.3)\n",
      "Requirement already satisfied: tqdm>=4.27.0 in /usr/local/lib/python3.10/site-packages (from argilla->unstructured) (4.64.1)\n",
      "Requirement already satisfied: packaging>=20.0 in /usr/local/lib/python3.10/site-packages (from argilla->unstructured) (21.3)\n",
      "Requirement already satisfied: monotonic in /usr/local/lib/python3.10/site-packages (from argilla->unstructured) (1.6)\n",
      "Requirement already satisfied: wrapt<1.15,>=1.13 in /usr/local/lib/python3.10/site-packages (from argilla->unstructured) (1.14.1)\n",
      "Requirement already satisfied: pytz>=2020.1 in /usr/local/lib/python3.10/site-packages (from pandas->unstructured) (2022.7.1)\n",
      "Requirement already satisfied: python-dateutil>=2.8.1 in /usr/local/lib/python3.10/site-packages (from pandas->unstructured) (2.8.2)\n",
      "Requirement already satisfied: regex>=2021.8.3 in /usr/local/lib/python3.10/site-packages (from nltk->unstructured) (2022.10.31)\n",
      "Requirement already satisfied: click in /usr/local/lib/python3.10/site-packages (from nltk->unstructured) (8.1.3)\n",
      "Requirement already satisfied: joblib in /usr/local/lib/python3.10/site-packages (from nltk->unstructured) (1.2.0)\n",
      "Requirement already satisfied: et-xmlfile in /usr/local/lib/python3.10/site-packages (from openpyxl->unstructured) (1.1.0)\n",
      "Requirement already satisfied: XlsxWriter>=0.5.7 in /usr/local/lib/python3.10/site-packages (from python-pptx->unstructured) (3.0.8)\n",
      "Requirement already satisfied: urllib3<1.27,>=1.21.1 in /usr/local/lib/python3.10/site-packages (from requests->unstructured) (1.26.12)\n",
      "Requirement already satisfied: idna<4,>=2.5 in /usr/local/lib/python3.10/site-packages (from requests->unstructured) (3.4)\n",
      "Requirement already satisfied: charset-normalizer<4,>=2 in /usr/local/lib/python3.10/site-packages (from requests->unstructured) (2.1.1)\n",
      "Requirement already satisfied: rfc3986[idna2008]<2,>=1.3 in /usr/local/lib/python3.10/site-packages (from httpx<0.24,>=0.15->argilla->unstructured) (1.5.0)\n",
      "Requirement already satisfied: sniffio in /usr/local/lib/python3.10/site-packages (from httpx<0.24,>=0.15->argilla->unstructured) (1.3.0)\n",
      "Requirement already satisfied: httpcore<0.17.0,>=0.15.0 in /usr/local/lib/python3.10/site-packages (from httpx<0.24,>=0.15->argilla->unstructured) (0.16.3)\n",
      "Requirement already satisfied: pyparsing!=3.0.5,>=2.0.2 in /usr/local/lib/python3.10/site-packages (from packaging>=20.0->argilla->unstructured) (3.0.9)\n",
      "Requirement already satisfied: typing-extensions>=4.2.0 in /usr/local/lib/python3.10/site-packages (from pydantic>=1.7.1->argilla->unstructured) (4.4.0)\n",
      "Requirement already satisfied: six>=1.5 in /usr/local/lib/python3.10/site-packages (from python-dateutil>=2.8.1->pandas->unstructured) (1.16.0)\n",
      "Requirement already satisfied: h11<0.15,>=0.13 in /usr/local/lib/python3.10/site-packages (from httpcore<0.17.0,>=0.15.0->httpx<0.24,>=0.15->argilla->unstructured) (0.14.0)\n",
      "Requirement already satisfied: anyio<5.0,>=3.0 in /usr/local/lib/python3.10/site-packages (from httpcore<0.17.0,>=0.15.0->httpx<0.24,>=0.15->argilla->unstructured) (3.6.2)\n",
      "Note: you may need to restart the kernel to use updated packages.\n"
     ]
    }
   ],
   "source": [
    "%pip install python-dotenv\n",
    "%pip install unstructured\n"
   ]
  },
  {
   "cell_type": "code",
   "execution_count": 6,
   "metadata": {},
   "outputs": [
    {
     "name": "stdout",
     "output_type": "stream",
     "text": [
      "Running `brew update --auto-update`...\n",
      "\u001b[34m==>\u001b[0m \u001b[1mAuto-updated Homebrew!\u001b[0m\n",
      "Updated 4 taps (hashicorp/tap, dbt-labs/dbt, homebrew/core and homebrew/cask).\n",
      "\u001b[34m==>\u001b[0m \u001b[1mNew Formulae\u001b[0m\n",
      "astgen                     kuttl                      stackql\n",
      "bwidget                    libaribcaption             symlinks\n",
      "cargo-make                 libsolv                    tetra\n",
      "cargo-release              libzim                     tl-expected\n",
      "conman                     micromamba                 touca\n",
      "crfsuite                   opencl-clhpp-headers       utftex\n",
      "geometry                   papilo                     uvg266\n",
      "gradle@7                   qdmr                       youplot\n",
      "guile-gnutls               rtx                        zsh-autocomplete\n",
      "hashicorp/tap/hc-install   soplex\n",
      "juicefs                    spek\n",
      "\u001b[34m==>\u001b[0m \u001b[1mNew Casks\u001b[0m\n",
      "capslocknodelay            gpgfrontend                nanosaur2\n",
      "coherence-x                html-mangareader           pokemon-tcg-live\n",
      "egnyte                     mochi-diffusion            spotify4bigsur\n",
      "\n",
      "You have \u001b[1m58\u001b[0m outdated formulae installed.\n",
      "You can upgrade them with \u001b[1mbrew upgrade\u001b[0m\n",
      "or list them with \u001b[1mbrew outdated\u001b[0m.\n",
      "\n",
      "\u001b[32m==>\u001b[0m \u001b[1mFetching \u001b[32mlibmagic\u001b[39m\u001b[0m\n",
      "\u001b[34m==>\u001b[0m \u001b[1mDownloading https://ghcr.io/v2/homebrew/core/libmagic/manifests/5.44-1\u001b[0m\n",
      "######################################################################## 100.0%\n",
      "\u001b[34m==>\u001b[0m \u001b[1mDownloading https://ghcr.io/v2/homebrew/core/libmagic/blobs/sha256:96bdcf33b\u001b[0m\n",
      "\u001b[34m==>\u001b[0m \u001b[1mDownloading from https://pkg-containers.githubusercontent.com/ghcr1/blobs/sh\u001b[0m\n",
      "######################################################################## 100.0%\n",
      "\u001b[34m==>\u001b[0m \u001b[1mPouring libmagic--5.44.big_sur.bottle.1.tar.gz\u001b[0m\n",
      "🍺  /usr/local/Cellar/libmagic/5.44: 354 files, 9.8MB\n",
      "\u001b[34m==>\u001b[0m \u001b[1mRunning `brew cleanup libmagic`...\u001b[0m\n",
      "Disable this behaviour by setting HOMEBREW_NO_INSTALL_CLEANUP.\n",
      "Hide these hints with HOMEBREW_NO_ENV_HINTS (see `man brew`).\n"
     ]
    }
   ],
   "source": [
    "!brew install libmagic"
   ]
  },
  {
   "cell_type": "code",
   "execution_count": 8,
   "metadata": {},
   "outputs": [
    {
     "name": "stdout",
     "output_type": "stream",
     "text": [
      "NLTK Downloader\n",
      "---------------------------------------------------------------------------\n",
      "    d) Download   l) List    u) Update   c) Config   h) Help   q) Quit\n",
      "---------------------------------------------------------------------------\n",
      "Downloader> ^C\n",
      "Traceback (most recent call last):\n",
      "  File \"<string>\", line 1, in <module>\n",
      "  File \"/usr/local/lib/python3.10/site-packages/nltk/downloader.py\", line 763, in download\n",
      "    self._interactive_download()\n",
      "  File \"/usr/local/lib/python3.10/site-packages/nltk/downloader.py\", line 1117, in _interactive_download\n",
      "    DownloaderShell(self).run()\n",
      "  File \"/usr/local/lib/python3.10/site-packages/nltk/downloader.py\", line 1141, in run\n",
      "    user_input = input(\"Downloader> \").strip()\n",
      "KeyboardInterrupt\n"
     ]
    }
   ],
   "source": [
    "!python -c \"import nltk; nltk.download()\""
   ]
  },
  {
   "cell_type": "code",
   "execution_count": 13,
   "metadata": {},
   "outputs": [
    {
     "name": "stdout",
     "output_type": "stream",
     "text": [
      "メインページ\n",
      "メインページ\n",
      "ノート\n",
      "日本語\n",
      "閲覧\n"
     ]
    }
   ],
   "source": [
    "from unstructured.partition.auto import partition\n",
    "\n",
    "elements = partition(\"wiki.html\")\n",
    "print(\"\\n\".join([str(el) for el in elements[:5]]))"
   ]
  },
  {
   "cell_type": "code",
   "execution_count": 16,
   "metadata": {},
   "outputs": [
    {
     "name": "stdout",
     "output_type": "stream",
     "text": [
      "総務省の各部局について説明します\n",
      "行政\n",
      "管理局\n",
      "・各省が行政活動を行うに当たって守るべき共通ルールを所管し、行政活動の適正化を図るのみならず、ペーパーレス化やフリーアドレス制の導入など、国家公務員の働き方改革にも取り組んでいます。\n",
      "・社会的な問題や行政相談等によって得た国民の意見をきっかけとして、職員自ら調査を行い、各省庁の行政活動における課題を把握、分析し、その改善方策を示すことで、国民本位のより良い行政の実現を図っています。\n",
      "・国勢調査や経済センサス等、各省や地方公共団体の政策、民間\n",
      "企業の経営戦略の土台となる、統計の作成・提供を行うとともに、\n",
      "統計調査の重複排除等、品質向上に取り組んでいます。\n",
      "→国家行政の中枢である霞が関において、「縦割り行政」ではなく\n",
      "省庁横断的に仕事ができる職場です！\n",
      "行政\n",
      "評価局\n",
      "統計局\n",
      "政策統括官\n",
      "(統計基準担当)\n",
      "自治\n",
      "行政局\n",
      "・地方の人口減少が著しい中、地方分権改革がより求められる現在、定住自立圏構想や地域おこし協力隊、ふるさとワーキングホリデーなどの新たな政策を企画・立案しています。\n",
      "・すべての地方公共団体が、福祉、学校教育、消防、道路や河川等の整備をはじめとした国民生活に密接な行政サービスを確実に提供できるよう、地方財政計画や地方交付税、地方債などにより地方公共団体に財源保障をしています。 \n",
      "・地方公共団体の重要な財源である地方税の充実・確保を図ることで地方分権改革を進めるとともに、ふるさと納税やエコカー減税など時代の変化に対応した地方税制改正の企画・立案を行っています。\n"
     ]
    }
   ],
   "source": [
    "elements = partition(\"sample.pptx\")\n",
    "print(\"\\n\".join([str(el) for el in elements[:20]]))"
   ]
  }
 ],
 "metadata": {
  "kernelspec": {
   "display_name": "Python 3",
   "language": "python",
   "name": "python3"
  },
  "language_info": {
   "codemirror_mode": {
    "name": "ipython",
    "version": 3
   },
   "file_extension": ".py",
   "mimetype": "text/x-python",
   "name": "python",
   "nbconvert_exporter": "python",
   "pygments_lexer": "ipython3",
   "version": "3.10.6"
  },
  "orig_nbformat": 4,
  "vscode": {
   "interpreter": {
    "hash": "949777d72b0d2535278d3dc13498b2535136f6dfe0678499012e853ee9abcab1"
   }
  }
 },
 "nbformat": 4,
 "nbformat_minor": 2
}
