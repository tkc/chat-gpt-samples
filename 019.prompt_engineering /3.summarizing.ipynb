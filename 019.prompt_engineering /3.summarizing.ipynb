{
    "cells": [
        {
            "attachments": {},
            "cell_type": "markdown",
            "id": "d5f777c3",
            "metadata": {},
            "source": [
                "## summarizing"
            ]
        },
        {
            "cell_type": "code",
            "execution_count": 1,
            "id": "ab65b9ae",
            "metadata": {},
            "outputs": [
                {
                    "name": "stdout",
                    "output_type": "stream",
                    "text": [
                        "Requirement already satisfied: openapi==1.1.0 in /usr/local/lib/python3.10/site-packages (from -r requirements.txt (line 1)) (1.1.0)\n",
                        "Requirement already satisfied: inflection>=0.3.1 in /usr/local/lib/python3.10/site-packages (from openapi==1.1.0->-r requirements.txt (line 1)) (0.5.1)\n",
                        "Requirement already satisfied: jsonschema>=2.6.0 in /usr/local/lib/python3.10/site-packages (from openapi==1.1.0->-r requirements.txt (line 1)) (4.17.3)\n",
                        "Requirement already satisfied: attrs>=17.4.0 in /usr/local/lib/python3.10/site-packages (from jsonschema>=2.6.0->openapi==1.1.0->-r requirements.txt (line 1)) (22.2.0)\n",
                        "Requirement already satisfied: pyrsistent!=0.17.0,!=0.17.1,!=0.17.2,>=0.14.0 in /usr/local/lib/python3.10/site-packages (from jsonschema>=2.6.0->openapi==1.1.0->-r requirements.txt (line 1)) (0.19.3)\n",
                        "Note: you may need to restart the kernel to use updated packages.\n"
                    ]
                }
            ],
            "source": [
                "%pip install -r requirements.txt"
            ]
        },
        {
            "cell_type": "code",
            "execution_count": 2,
            "id": "853669ad",
            "metadata": {},
            "outputs": [],
            "source": [
                "import openai\n",
                "import os\n",
                "\n",
                "from dotenv import load_dotenv, find_dotenv\n",
                "_ = load_dotenv(find_dotenv())\n",
                "\n",
                "openai.api_key  = os.getenv('API_KEY')"
            ]
        },
        {
            "cell_type": "code",
            "execution_count": 5,
            "id": "b418fc20",
            "metadata": {},
            "outputs": [],
            "source": [
                "def get_completion(prompt, model=\"gpt-3.5-turbo\"): # Andrew mentioned that the prompt/ completion paradigm is preferable for this class\n",
                "    messages = [{\"role\": \"user\", \"content\": prompt}]\n",
                "    response = openai.ChatCompletion.create(\n",
                "        model=model,\n",
                "        messages=messages,\n",
                "        temperature=0, # this is the degree of randomness of the model's output\n",
                "    )\n",
                "    return response.choices[0].message[\"content\"]\n"
            ]
        },
        {
            "attachments": {},
            "cell_type": "markdown",
            "id": "c68d8ea0",
            "metadata": {},
            "source": [
                "## Text to summarize"
            ]
        },
        {
            "cell_type": "code",
            "execution_count": 3,
            "id": "16a03b75",
            "metadata": {},
            "outputs": [],
            "source": [
                "prod_review = \"\"\"\n",
                "Got this panda plush toy for my daughter's birthday, \\\n",
                "who loves it and takes it everywhere. It's soft and \\ \n",
                "super cute, and its face has a friendly look. It's \\ \n",
                "a bit small for what I paid though. I think there \\ \n",
                "might be other options that are bigger for the \\ \n",
                "same price. It arrived a day earlier than expected, \\ \n",
                "so I got to play with it myself before I gave it \\ \n",
                "to her.\n",
                "\"\"\""
            ]
        },
        {
            "attachments": {},
            "cell_type": "markdown",
            "id": "907e8a76",
            "metadata": {},
            "source": [
                "## Summarize with a word/sentence/character limit"
            ]
        },
        {
            "cell_type": "code",
            "execution_count": 6,
            "id": "89ea010f",
            "metadata": {},
            "outputs": [
                {
                    "name": "stdout",
                    "output_type": "stream",
                    "text": [
                        "////////////\n",
                        "200\n",
                        "Soft and cute panda plush toy loved by daughter, but a bit small for the price. Arrived early.\n"
                    ]
                }
            ],
            "source": [
                "prompt = f\"\"\"\n",
                "Your task is to generate a short summary of a product \\\n",
                "review from an ecommerce site. \n",
                "\n",
                "Summarize the review below, delimited by triple \n",
                "backticks, in at most 30 words. \n",
                "\n",
                "Review: ```{prod_review}```\n",
                "\"\"\"\n",
                "\n",
                "response = get_completion(prompt)\n",
                "print(response)\n"
            ]
        },
        {
            "attachments": {},
            "cell_type": "markdown",
            "id": "8c1cf177",
            "metadata": {},
            "source": [
                "## Summarize with a word/sentence/character limit"
            ]
        },
        {
            "cell_type": "code",
            "execution_count": 7,
            "id": "a960a5f4",
            "metadata": {},
            "outputs": [
                {
                    "name": "stdout",
                    "output_type": "stream",
                    "text": [
                        "////////////\n",
                        "200\n",
                        "Soft and cute panda plush toy loved by daughter, but a bit small for the price. Arrived early.\n"
                    ]
                }
            ],
            "source": [
                "prompt = f\"\"\"\n",
                "Your task is to generate a short summary of a product \\\n",
                "review from an ecommerce site. \n",
                "\n",
                "Summarize the review below, delimited by triple \n",
                "backticks, in at most 30 words. \n",
                "\n",
                "Review: ```{prod_review}```\n",
                "\"\"\"\n",
                "\n",
                "response = get_completion(prompt)\n",
                "print(response)\n"
            ]
        },
        {
            "attachments": {},
            "cell_type": "markdown",
            "id": "1eb0a049",
            "metadata": {},
            "source": [
                "## Summarize with a focus on shipping and delivery"
            ]
        },
        {
            "cell_type": "code",
            "execution_count": 8,
            "id": "a681b7c2",
            "metadata": {},
            "outputs": [
                {
                    "name": "stdout",
                    "output_type": "stream",
                    "text": [
                        "////////////\n",
                        "200\n",
                        "The panda plush toy arrived a day earlier than expected, but the customer felt it was a bit small for the price paid.\n"
                    ]
                }
            ],
            "source": [
                "prompt = f\"\"\"\n",
                "Your task is to generate a short summary of a product \\\n",
                "review from an ecommerce site to give feedback to the \\\n",
                "Shipping deparmtment. \n",
                "\n",
                "Summarize the review below, delimited by triple \n",
                "backticks, in at most 30 words, and focusing on any aspects \\\n",
                "that mention shipping and delivery of the product. \n",
                "\n",
                "Review: ```{prod_review}```\n",
                "\"\"\"\n",
                "\n",
                "response = get_completion(prompt)\n",
                "print(response)\n"
            ]
        },
        {
            "attachments": {},
            "cell_type": "markdown",
            "id": "62d88a3c",
            "metadata": {},
            "source": [
                "## Summarize with a focus on price and value"
            ]
        },
        {
            "cell_type": "code",
            "execution_count": 9,
            "id": "4e3737b5",
            "metadata": {},
            "outputs": [
                {
                    "name": "stdout",
                    "output_type": "stream",
                    "text": [
                        "////////////\n",
                        "200\n",
                        "The panda plush toy is soft, cute, and loved by the recipient, but the price may be too high for its size.\n"
                    ]
                }
            ],
            "source": [
                "prompt = f\"\"\"\n",
                "Your task is to generate a short summary of a product \\\n",
                "review from an ecommerce site to give feedback to the \\\n",
                "pricing deparmtment, responsible for determining the \\\n",
                "price of the product.  \n",
                "\n",
                "Summarize the review below, delimited by triple \n",
                "backticks, in at most 30 words, and focusing on any aspects \\\n",
                "that are relevant to the price and perceived value. \n",
                "\n",
                "Review: ```{prod_review}```\n",
                "\"\"\"\n",
                "\n",
                "response = get_completion(prompt)\n",
                "print(response)\n"
            ]
        },
        {
            "attachments": {},
            "cell_type": "markdown",
            "id": "af003d72",
            "metadata": {},
            "source": [
                "#### Comment\n",
                "- Summaries include topics that are not related to the topic of focus."
            ]
        },
        {
            "attachments": {},
            "cell_type": "markdown",
            "id": "454c1b92",
            "metadata": {},
            "source": [
                "## Try \"extract\" instead of \"summarize\""
            ]
        },
        {
            "cell_type": "code",
            "execution_count": 10,
            "id": "0f741a8d",
            "metadata": {},
            "outputs": [
                {
                    "name": "stdout",
                    "output_type": "stream",
                    "text": [
                        "////////////\n",
                        "200\n",
                        "The product arrived a day earlier than expected.\n"
                    ]
                }
            ],
            "source": [
                "prompt = f\"\"\"\n",
                "Your task is to extract relevant information from \\ \n",
                "a product review from an ecommerce site to give \\\n",
                "feedback to the Shipping department. \n",
                "\n",
                "From the review below, delimited by triple quotes \\\n",
                "extract the information relevant to shipping and \\ \n",
                "delivery. Limit to 30 words. \n",
                "\n",
                "Review: ```{prod_review}```\n",
                "\"\"\"\n",
                "\n",
                "response = get_completion(prompt)\n",
                "print(response)"
            ]
        },
        {
            "attachments": {},
            "cell_type": "markdown",
            "id": "d6a29370",
            "metadata": {},
            "source": [
                "## Summarize multiple product reviews"
            ]
        },
        {
            "cell_type": "code",
            "execution_count": 11,
            "id": "f601f097",
            "metadata": {},
            "outputs": [],
            "source": [
                "\n",
                "review_1 = prod_review \n",
                "\n",
                "# review for a standing lamp\n",
                "review_2 = \"\"\"\n",
                "Needed a nice lamp for my bedroom, and this one \\\n",
                "had additional storage and not too high of a price \\\n",
                "point. Got it fast - arrived in 2 days. The string \\\n",
                "to the lamp broke during the transit and the company \\\n",
                "happily sent over a new one. Came within a few days \\\n",
                "as well. It was easy to put together. Then I had a \\\n",
                "missing part, so I contacted their support and they \\\n",
                "very quickly got me the missing piece! Seems to me \\\n",
                "to be a great company that cares about their customers \\\n",
                "and products. \n",
                "\"\"\"\n",
                "\n",
                "# review for an electric toothbrush\n",
                "review_3 = \"\"\"\n",
                "My dental hygienist recommended an electric toothbrush, \\\n",
                "which is why I got this. The battery life seems to be \\\n",
                "pretty impressive so far. After initial charging and \\\n",
                "leaving the charger plugged in for the first week to \\\n",
                "condition the battery, I've unplugged the charger and \\\n",
                "been using it for twice daily brushing for the last \\\n",
                "3 weeks all on the same charge. But the toothbrush head \\\n",
                "is too small. I’ve seen baby toothbrushes bigger than \\\n",
                "this one. I wish the head was bigger with different \\\n",
                "length bristles to get between teeth better because \\\n",
                "this one doesn’t.  Overall if you can get this one \\\n",
                "around the $50 mark, it's a good deal. The manufactuer's \\\n",
                "replacements heads are pretty expensive, but you can \\\n",
                "get generic ones that're more reasonably priced. This \\\n",
                "toothbrush makes me feel like I've been to the dentist \\\n",
                "every day. My teeth feel sparkly clean! \n",
                "\"\"\"\n",
                "\n",
                "# review for a blender\n",
                "review_4 = \"\"\"\n",
                "So, they still had the 17 piece system on seasonal \\\n",
                "sale for around $49 in the month of November, about \\\n",
                "half off, but for some reason (call it price gouging) \\\n",
                "around the second week of December the prices all went \\\n",
                "up to about anywhere from between $70-$89 for the same \\\n",
                "system. And the 11 piece system went up around $10 or \\\n",
                "so in price also from the earlier sale price of $29. \\\n",
                "So it looks okay, but if you look at the base, the part \\\n",
                "where the blade locks into place doesn’t look as good \\\n",
                "as in previous editions from a few years ago, but I \\\n",
                "plan to be very gentle with it (example, I crush \\\n",
                "very hard items like beans, ice, rice, etc. in the \\ \n",
                "blender first then pulverize them in the serving size \\\n",
                "I want in the blender then switch to the whipping \\\n",
                "blade for a finer flour, and use the cross cutting blade \\\n",
                "first when making smoothies, then use the flat blade \\\n",
                "if I need them finer/less pulpy). Special tip when making \\\n",
                "smoothies, finely cut and freeze the fruits and \\\n",
                "vegetables (if using spinach-lightly stew soften the \\ \n",
                "spinach then freeze until ready for use-and if making \\\n",
                "sorbet, use a small to medium sized food processor) \\ \n",
                "that you plan to use that way you can avoid adding so \\\n",
                "much ice if at all-when making your smoothie. \\\n",
                "After about a year, the motor was making a funny noise. \\\n",
                "I called customer service but the warranty expired \\\n",
                "already, so I had to buy another one. FYI: The overall \\\n",
                "quality has gone done in these types of products, so \\\n",
                "they are kind of counting on brand recognition and \\\n",
                "consumer loyalty to maintain sales. Got it in about \\\n",
                "two days.\n",
                "\"\"\"\n",
                "\n",
                "reviews = [review_1, review_2, review_3, review_4]\n",
                "\n"
            ]
        },
        {
            "cell_type": "code",
            "execution_count": 12,
            "id": "ec7a4871",
            "metadata": {},
            "outputs": [
                {
                    "name": "stdout",
                    "output_type": "stream",
                    "text": [
                        "////////////\n",
                        "200\n",
                        "0 Soft and cute panda plush toy loved by daughter, but a bit small for the price. Arrived early. \n",
                        "\n",
                        "////////////\n",
                        "200\n",
                        "1 Affordable lamp with storage, fast shipping, and excellent customer service. Easy to assemble and missing parts were quickly replaced. \n",
                        "\n",
                        "////////////\n",
                        "200\n",
                        "2 Good battery life, small toothbrush head, but effective cleaning. Good deal if bought around $50. \n",
                        "\n",
                        "////////////\n",
                        "200\n",
                        "3 The product was on sale for $49 in November, but the price increased to $70-$89 in December. The base doesn't look as good as previous editions, but the reviewer plans to be gentle with it. A special tip for making smoothies is to freeze the fruits and vegetables beforehand. The motor made a funny noise after a year, and the warranty had expired. Overall quality has decreased. \n",
                        "\n"
                    ]
                }
            ],
            "source": [
                "for i in range(len(reviews)):\n",
                "    prompt = f\"\"\"\n",
                "    Your task is to generate a short summary of a product \\ \n",
                "    review from an ecommerce site. \n",
                "\n",
                "    Summarize the review below, delimited by triple \\\n",
                "    backticks in at most 20 words. \n",
                "\n",
                "    Review: ```{reviews[i]}```\n",
                "    \"\"\"\n",
                "\n",
                "    response = get_completion(prompt)\n",
                "    print(i, response, \"\\n\")\n"
            ]
        }
    ],
    "metadata": {
        "kernelspec": {
            "display_name": "Python 3 (ipykernel)",
            "language": "python",
            "name": "python3"
        },
        "language_info": {
            "codemirror_mode": {
                "name": "ipython",
                "version": 3
            },
            "file_extension": ".py",
            "mimetype": "text/x-python",
            "name": "python",
            "nbconvert_exporter": "python",
            "pygments_lexer": "ipython3",
            "version": "3.10.6"
        }
    },
    "nbformat": 4,
    "nbformat_minor": 5
}
