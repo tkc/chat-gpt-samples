{
    "cells": [
        {
            "attachments": {},
            "cell_type": "markdown",
            "id": "d5f777c3",
            "metadata": {},
            "source": [
                "## transforming"
            ]
        },
        {
            "cell_type": "code",
            "execution_count": 1,
            "id": "ab65b9ae",
            "metadata": {},
            "outputs": [
                {
                    "name": "stdout",
                    "output_type": "stream",
                    "text": [
                        "Requirement already satisfied: openapi==1.1.0 in /usr/local/lib/python3.10/site-packages (from -r requirements.txt (line 1)) (1.1.0)\n",
                        "Requirement already satisfied: inflection>=0.3.1 in /usr/local/lib/python3.10/site-packages (from openapi==1.1.0->-r requirements.txt (line 1)) (0.5.1)\n",
                        "Requirement already satisfied: jsonschema>=2.6.0 in /usr/local/lib/python3.10/site-packages (from openapi==1.1.0->-r requirements.txt (line 1)) (4.17.3)\n",
                        "Requirement already satisfied: attrs>=17.4.0 in /usr/local/lib/python3.10/site-packages (from jsonschema>=2.6.0->openapi==1.1.0->-r requirements.txt (line 1)) (22.2.0)\n",
                        "Requirement already satisfied: pyrsistent!=0.17.0,!=0.17.1,!=0.17.2,>=0.14.0 in /usr/local/lib/python3.10/site-packages (from jsonschema>=2.6.0->openapi==1.1.0->-r requirements.txt (line 1)) (0.19.3)\n",
                        "Note: you may need to restart the kernel to use updated packages.\n"
                    ]
                }
            ],
            "source": [
                "%pip install -r requirements.txt"
            ]
        },
        {
            "cell_type": "code",
            "execution_count": 2,
            "id": "853669ad",
            "metadata": {},
            "outputs": [],
            "source": [
                "import openai\n",
                "import os\n",
                "\n",
                "from dotenv import load_dotenv, find_dotenv\n",
                "_ = load_dotenv(find_dotenv())\n",
                "\n",
                "openai.api_key  = os.getenv('API_KEY')"
            ]
        },
        {
            "cell_type": "code",
            "execution_count": 3,
            "id": "b418fc20",
            "metadata": {},
            "outputs": [],
            "source": [
                "def get_completion(prompt, model=\"gpt-3.5-turbo\"): # Andrew mentioned that the prompt/ completion paradigm is preferable for this class\n",
                "    messages = [{\"role\": \"user\", \"content\": prompt}]\n",
                "    response = openai.ChatCompletion.create(\n",
                "        model=model,\n",
                "        messages=messages,\n",
                "        temperature=0, # this is the degree of randomness of the model's output\n",
                "    )\n",
                "    return response.choices[0].message[\"content\"]\n"
            ]
        },
        {
            "attachments": {},
            "cell_type": "markdown",
            "id": "b1b0eea4",
            "metadata": {},
            "source": [
                "## Translation\n",
                "\n",
                "ChatGPT is trained with sources in many languages. This gives the model the ability to do translation. Here are some examples of how to use this capability."
            ]
        },
        {
            "cell_type": "code",
            "execution_count": 4,
            "id": "45c378b2",
            "metadata": {},
            "outputs": [
                {
                    "name": "stdout",
                    "output_type": "stream",
                    "text": [
                        "////////////\n",
                        "200\n",
                        "Hola, me gustaría ordenar una licuadora.\n"
                    ]
                }
            ],
            "source": [
                "prompt = f\"\"\"\n",
                "Translate the following English text to Spanish: \\ \n",
                "```Hi, I would like to order a blender```\n",
                "\"\"\"\n",
                "response = get_completion(prompt)\n",
                "print(response)\n"
            ]
        },
        {
            "cell_type": "code",
            "execution_count": 5,
            "id": "207f43c7",
            "metadata": {},
            "outputs": [
                {
                    "name": "stdout",
                    "output_type": "stream",
                    "text": [
                        "////////////\n",
                        "200\n",
                        "This is French.\n"
                    ]
                }
            ],
            "source": [
                "prompt = f\"\"\"\n",
                "Tell me which language this is: \n",
                "```Combien coûte le lampadaire?```\n",
                "\"\"\"\n",
                "response = get_completion(prompt)\n",
                "print(response)\n"
            ]
        },
        {
            "cell_type": "code",
            "execution_count": 6,
            "id": "2d9453e7",
            "metadata": {},
            "outputs": [
                {
                    "name": "stdout",
                    "output_type": "stream",
                    "text": [
                        "////////////\n",
                        "200\n",
                        "French pirate: ```Je veux commander un ballon de basket```\n",
                        "Spanish pirate: ```Quiero pedir una pelota de baloncesto```\n",
                        "English pirate: ```I want to order a basketball```\n"
                    ]
                }
            ],
            "source": [
                "prompt = f\"\"\"\n",
                "Translate the following  text to French and Spanish\n",
                "and English pirate: \\\n",
                "```I want to order a basketball```\n",
                "\"\"\"\n",
                "response = get_completion(prompt)\n",
                "print(response)\n"
            ]
        },
        {
            "cell_type": "code",
            "execution_count": 7,
            "id": "bc95bf96",
            "metadata": {},
            "outputs": [
                {
                    "name": "stdout",
                    "output_type": "stream",
                    "text": [
                        "////////////\n",
                        "200\n",
                        "Formal: ¿Le gustaría ordenar una almohada?\n",
                        "Informal: ¿Te gustaría ordenar una almohada?\n"
                    ]
                }
            ],
            "source": [
                "prompt = f\"\"\"\n",
                "Translate the following text to Spanish in both the \\\n",
                "formal and informal forms: \n",
                "'Would you like to order a pillow?'\n",
                "\"\"\"\n",
                "response = get_completion(prompt)\n",
                "print(response)\n"
            ]
        },
        {
            "attachments": {},
            "cell_type": "markdown",
            "id": "1726586e",
            "metadata": {},
            "source": [
                "### Universal Translator\n",
                "Imagine you are in charge of IT at a large multinational e-commerce company. Users are messaging you with IT issues in all their native languages. Your staff is from all over the world and speaks only their native languages. You need a universal translator!"
            ]
        },
        {
            "cell_type": "code",
            "execution_count": 8,
            "id": "721b5754",
            "metadata": {},
            "outputs": [],
            "source": [
                "user_messages = [\n",
                "  \"La performance du système est plus lente que d'habitude.\",  # System performance is slower than normal         \n",
                "  \"Mi monitor tiene píxeles que no se iluminan.\",              # My monitor has pixels that are not lighting\n",
                "  \"Il mio mouse non funziona\",                                 # My mouse is not working\n",
                "  \"Mój klawisz Ctrl jest zepsuty\",                             # My keyboard has a broken control key\n",
                "  \"我的屏幕在闪烁\"                                               # My screen is flashing\n",
                "] "
            ]
        },
        {
            "cell_type": "code",
            "execution_count": 9,
            "id": "688fcec5",
            "metadata": {},
            "outputs": [
                {
                    "name": "stdout",
                    "output_type": "stream",
                    "text": [
                        "////////////\n",
                        "200\n",
                        "Original message (This is French.): La performance du système est plus lente que d'habitude.\n",
                        "////////////\n",
                        "200\n",
                        "English: The system performance is slower than usual.\n",
                        "Korean: 시스템 성능이 평소보다 느립니다. \n",
                        "\n",
                        "////////////\n",
                        "200\n",
                        "Original message (This is Spanish.): Mi monitor tiene píxeles que no se iluminan.\n",
                        "////////////\n",
                        "200\n",
                        "English: My monitor has pixels that don't light up.\n",
                        "Korean: 내 모니터에는 불이 켜지지 않는 픽셀이 있습니다. \n",
                        "\n",
                        "////////////\n",
                        "200\n",
                        "Original message (This is Italian.): Il mio mouse non funziona\n",
                        "////////////\n",
                        "200\n",
                        "English: My mouse is not working.\n",
                        "Korean: 내 마우스가 작동하지 않습니다. \n",
                        "\n",
                        "////////////\n",
                        "200\n",
                        "Original message (This is Polish.): Mój klawisz Ctrl jest zepsuty\n",
                        "////////////\n",
                        "200\n",
                        "English: My Ctrl key is broken.\n",
                        "Korean: 제 Ctrl 키가 고장 났어요. \n",
                        "\n",
                        "////////////\n",
                        "200\n",
                        "Original message (This is Chinese (Simplified).): 我的屏幕在闪烁\n",
                        "////////////\n",
                        "200\n",
                        "English: My screen is flickering.\n",
                        "Korean: 내 화면이 깜빡입니다. \n",
                        "\n"
                    ]
                }
            ],
            "source": [
                "for issue in user_messages:\n",
                "    prompt = f\"Tell me what language this is: ```{issue}```\"\n",
                "    lang = get_completion(prompt)\n",
                "    print(f\"Original message ({lang}): {issue}\")\n",
                "\n",
                "    prompt = f\"\"\"\n",
                "    Translate the following  text to English \\\n",
                "    and Korean: ```{issue}```\n",
                "    \"\"\"\n",
                "    response = get_completion(prompt)\n",
                "    print(response, \"\\n\")\n",
                "    "
            ]
        },
        {
            "attachments": {},
            "cell_type": "markdown",
            "id": "3fe78f74",
            "metadata": {},
            "source": [
                "## Tone Transformation\n",
                "Writing can vary based on the intended audience. ChatGPT can produce different tones.\n"
            ]
        },
        {
            "cell_type": "code",
            "execution_count": 10,
            "id": "1b76333d",
            "metadata": {},
            "outputs": [
                {
                    "name": "stdout",
                    "output_type": "stream",
                    "text": [
                        "////////////\n",
                        "200\n",
                        "Dear Sir/Madam,\n",
                        "\n",
                        "I am writing to bring to your attention a standing lamp that I believe may be of interest to you. Please find attached the specifications for your review.\n",
                        "\n",
                        "Thank you for your time and consideration.\n",
                        "\n",
                        "Sincerely,\n",
                        "\n",
                        "Joe\n"
                    ]
                }
            ],
            "source": [
                "prompt = f\"\"\"\n",
                "Translate the following from slang to a business letter: \n",
                "'Dude, This is Joe, check out this spec on this standing lamp.'\n",
                "\"\"\"\n",
                "response = get_completion(prompt)\n",
                "print(response)\n"
            ]
        },
        {
            "attachments": {},
            "cell_type": "markdown",
            "id": "38915481",
            "metadata": {},
            "source": [
                "## Format Conversion\n",
                "ChatGPT can translate between formats. The prompt should describe the input and output formats."
            ]
        },
        {
            "cell_type": "code",
            "execution_count": 11,
            "id": "490d3376",
            "metadata": {},
            "outputs": [
                {
                    "name": "stdout",
                    "output_type": "stream",
                    "text": [
                        "////////////\n",
                        "200\n",
                        "<table>\n",
                        "  <caption>Restaurant Employees</caption>\n",
                        "  <thead>\n",
                        "    <tr>\n",
                        "      <th>Name</th>\n",
                        "      <th>Email</th>\n",
                        "    </tr>\n",
                        "  </thead>\n",
                        "  <tbody>\n",
                        "    <tr>\n",
                        "      <td>Shyam</td>\n",
                        "      <td>shyamjaiswal@gmail.com</td>\n",
                        "    </tr>\n",
                        "    <tr>\n",
                        "      <td>Bob</td>\n",
                        "      <td>bob32@gmail.com</td>\n",
                        "    </tr>\n",
                        "    <tr>\n",
                        "      <td>Jai</td>\n",
                        "      <td>jai87@gmail.com</td>\n",
                        "    </tr>\n",
                        "  </tbody>\n",
                        "</table>\n"
                    ]
                }
            ],
            "source": [
                "data_json = { \"resturant employees\" :[ \n",
                "    {\"name\":\"Shyam\", \"email\":\"shyamjaiswal@gmail.com\"},\n",
                "    {\"name\":\"Bob\", \"email\":\"bob32@gmail.com\"},\n",
                "    {\"name\":\"Jai\", \"email\":\"jai87@gmail.com\"}\n",
                "]}\n",
                "\n",
                "prompt = f\"\"\"\n",
                "Translate the following python dictionary from JSON to an HTML \\\n",
                "table with column headers and title: {data_json}\n",
                "\"\"\"\n",
                "response = get_completion(prompt)\n",
                "print(response)\n"
            ]
        },
        {
            "cell_type": "code",
            "execution_count": 12,
            "id": "30f4213a",
            "metadata": {},
            "outputs": [
                {
                    "data": {
                        "text/html": [
                            "<table>\n",
                            "  <caption>Restaurant Employees</caption>\n",
                            "  <thead>\n",
                            "    <tr>\n",
                            "      <th>Name</th>\n",
                            "      <th>Email</th>\n",
                            "    </tr>\n",
                            "  </thead>\n",
                            "  <tbody>\n",
                            "    <tr>\n",
                            "      <td>Shyam</td>\n",
                            "      <td>shyamjaiswal@gmail.com</td>\n",
                            "    </tr>\n",
                            "    <tr>\n",
                            "      <td>Bob</td>\n",
                            "      <td>bob32@gmail.com</td>\n",
                            "    </tr>\n",
                            "    <tr>\n",
                            "      <td>Jai</td>\n",
                            "      <td>jai87@gmail.com</td>\n",
                            "    </tr>\n",
                            "  </tbody>\n",
                            "</table>"
                        ],
                        "text/plain": [
                            "<IPython.core.display.HTML object>"
                        ]
                    },
                    "metadata": {},
                    "output_type": "display_data"
                }
            ],
            "source": [
                "from IPython.display import display, Markdown, Latex, HTML, JSON\n",
                "display(HTML(response))\n"
            ]
        },
        {
            "attachments": {},
            "cell_type": "markdown",
            "id": "7fb94c66",
            "metadata": {},
            "source": [
                "## Spellcheck/Grammar check.\n",
                "\n",
                "Here are some examples of common grammar and spelling problems and the LLM's response. \n",
                "\n",
                "To signal to the LLM that you want it to proofread your text, you instruct the model to 'proofread' or 'proofread and correct'."
            ]
        },
        {
            "cell_type": "code",
            "execution_count": 13,
            "id": "62941494",
            "metadata": {},
            "outputs": [
                {
                    "name": "stdout",
                    "output_type": "stream",
                    "text": [
                        "////////////\n",
                        "200\n",
                        "The girl with the black and white puppies has a ball.\n",
                        "////////////\n",
                        "200\n",
                        "No errors found.\n",
                        "////////////\n",
                        "200\n",
                        "It's going to be a long day. Does the car need its oil changed?\n",
                        "////////////\n",
                        "200\n",
                        "Their goes my freedom. There going to bring they're suitcases.\n",
                        "\n",
                        "Corrected version: \n",
                        "There goes my freedom. They're going to bring their suitcases.\n",
                        "////////////\n",
                        "200\n",
                        "You're going to need your notebook.\n",
                        "////////////\n",
                        "200\n",
                        "That medicine affects my ability to sleep. Have you heard of the butterfly effect?\n",
                        "////////////\n",
                        "200\n",
                        "This phrase is to check ChatGPT for spelling ability.\n"
                    ]
                }
            ],
            "source": [
                "text = [ \n",
                "  \"The girl with the black and white puppies have a ball.\",  # The girl has a ball.\n",
                "  \"Yolanda has her notebook.\", # ok\n",
                "  \"Its going to be a long day. Does the car need it’s oil changed?\",  # Homonyms\n",
                "  \"Their goes my freedom. There going to bring they’re suitcases.\",  # Homonyms\n",
                "  \"Your going to need you’re notebook.\",  # Homonyms\n",
                "  \"That medicine effects my ability to sleep. Have you heard of the butterfly affect?\", # Homonyms\n",
                "  \"This phrase is to cherck chatGPT for speling abilitty\"  # spelling\n",
                "]\n",
                "for t in text:\n",
                "    prompt = f\"\"\"Proofread and correct the following text\n",
                "    and rewrite the corrected version. If you don't find\n",
                "    and errors, just say \"No errors found\". Don't use \n",
                "    any punctuation around the text:\n",
                "    ```{t}```\"\"\"\n",
                "    response = get_completion(prompt)\n",
                "    print(response)\n",
                "    "
            ]
        },
        {
            "cell_type": "code",
            "execution_count": 14,
            "id": "91dbbde2",
            "metadata": {},
            "outputs": [
                {
                    "name": "stdout",
                    "output_type": "stream",
                    "text": [
                        "////////////\n",
                        "200\n",
                        "I got this for my daughter's birthday because she keeps taking mine from my room. Yes, adults also like pandas too. She takes it everywhere with her, and it's super soft and cute. However, one of the ears is a bit lower than the other, and I don't think that was designed to be asymmetrical. Additionally, it's a bit small for what I paid for it. I think there might be other options that are bigger for the same price. On the positive side, it arrived a day earlier than expected, so I got to play with it myself before I gave it to my daughter.\n"
                    ]
                }
            ],
            "source": [
                "text = f\"\"\"\n",
                "Got this for my daughter for her birthday cuz she keeps taking \\\n",
                "mine from my room.  Yes, adults also like pandas too.  She takes \\\n",
                "it everywhere with her, and it's super soft and cute.  One of the \\\n",
                "ears is a bit lower than the other, and I don't think that was \\\n",
                "designed to be asymmetrical. It's a bit small for what I paid for it \\\n",
                "though. I think there might be other options that are bigger for \\\n",
                "the same price.  It arrived a day earlier than expected, so I got \\\n",
                "to play with it myself before I gave it to my daughter.\n",
                "\"\"\"\n",
                "prompt = f\"proofread and correct this review: ```{text}```\"\n",
                "response = get_completion(prompt)\n",
                "print(response)\n"
            ]
        },
        {
            "cell_type": "code",
            "execution_count": 16,
            "id": "71058a4e",
            "metadata": {},
            "outputs": [
                {
                    "name": "stdout",
                    "output_type": "stream",
                    "text": [
                        "Collecting redlines\n",
                        "  Downloading redlines-0.2.2-py3-none-any.whl (4.3 kB)\n",
                        "Installing collected packages: redlines\n",
                        "Successfully installed redlines-0.2.2\n",
                        "Note: you may need to restart the kernel to use updated packages.\n"
                    ]
                }
            ],
            "source": [
                "%pip install redlines\n"
            ]
        },
        {
            "cell_type": "code",
            "execution_count": 17,
            "id": "d7b62e4b",
            "metadata": {},
            "outputs": [
                {
                    "data": {
                        "text/markdown": [
                            "<span style=\"color:red;font-weight:700;text-decoration:line-through;\">Got </span><span style=\"color:red;font-weight:700;\">I got </span>this for my <span style=\"color:red;font-weight:700;text-decoration:line-through;\">daughter for her </span><span style=\"color:red;font-weight:700;\">daughter's </span>birthday <span style=\"color:red;font-weight:700;text-decoration:line-through;\">cuz </span><span style=\"color:red;font-weight:700;\">because </span>she keeps taking mine from my <span style=\"color:red;font-weight:700;text-decoration:line-through;\">room.  </span><span style=\"color:red;font-weight:700;\">room. </span>Yes, adults also like pandas <span style=\"color:red;font-weight:700;text-decoration:line-through;\">too.  </span><span style=\"color:red;font-weight:700;\">too. </span>She takes it everywhere with her, and it's super soft and <span style=\"color:red;font-weight:700;text-decoration:line-through;\">cute.  One </span><span style=\"color:red;font-weight:700;\">cute. However, one </span>of the ears is a bit lower than the other, and I don't think that was designed to be asymmetrical. <span style=\"color:red;font-weight:700;text-decoration:line-through;\">It's </span><span style=\"color:red;font-weight:700;\">Additionally, it's </span>a bit small for what I paid for <span style=\"color:red;font-weight:700;text-decoration:line-through;\">it though. </span><span style=\"color:red;font-weight:700;\">it. </span>I think there might be other options that are bigger for the same <span style=\"color:red;font-weight:700;text-decoration:line-through;\">price.  It </span><span style=\"color:red;font-weight:700;\">price. On the positive side, it </span>arrived a day earlier than expected, so I got to play with it myself before I gave it to my <span style=\"color:red;font-weight:700;text-decoration:line-through;\">daughter.\n",
                            "</span><span style=\"color:red;font-weight:700;\">daughter.</span>"
                        ],
                        "text/plain": [
                            "<IPython.core.display.Markdown object>"
                        ]
                    },
                    "metadata": {},
                    "output_type": "display_data"
                }
            ],
            "source": [
                "from redlines import Redlines\n",
                "\n",
                "diff = Redlines(text,response)\n",
                "display(Markdown(diff.output_markdown))\n"
            ]
        }
    ],
    "metadata": {
        "kernelspec": {
            "display_name": "Python 3 (ipykernel)",
            "language": "python",
            "name": "python3"
        },
        "language_info": {
            "codemirror_mode": {
                "name": "ipython",
                "version": 3
            },
            "file_extension": ".py",
            "mimetype": "text/x-python",
            "name": "python",
            "nbconvert_exporter": "python",
            "pygments_lexer": "ipython3",
            "version": "3.10.6"
        }
    },
    "nbformat": 4,
    "nbformat_minor": 5
}
