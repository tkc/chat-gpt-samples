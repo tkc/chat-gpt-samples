{
    "cells": [
        {
            "attachments": {},
            "cell_type": "markdown",
            "id": "d5f777c3",
            "metadata": {},
            "source": [
                "## iterative"
            ]
        },
        {
            "cell_type": "code",
            "execution_count": 1,
            "id": "ab65b9ae",
            "metadata": {},
            "outputs": [
                {
                    "name": "stdout",
                    "output_type": "stream",
                    "text": [
                        "Requirement already satisfied: openapi==1.1.0 in /usr/local/lib/python3.10/site-packages (from -r requirements.txt (line 1)) (1.1.0)\n",
                        "Requirement already satisfied: inflection>=0.3.1 in /usr/local/lib/python3.10/site-packages (from openapi==1.1.0->-r requirements.txt (line 1)) (0.5.1)\n",
                        "Requirement already satisfied: jsonschema>=2.6.0 in /usr/local/lib/python3.10/site-packages (from openapi==1.1.0->-r requirements.txt (line 1)) (4.17.3)\n",
                        "Requirement already satisfied: attrs>=17.4.0 in /usr/local/lib/python3.10/site-packages (from jsonschema>=2.6.0->openapi==1.1.0->-r requirements.txt (line 1)) (22.2.0)\n",
                        "Requirement already satisfied: pyrsistent!=0.17.0,!=0.17.1,!=0.17.2,>=0.14.0 in /usr/local/lib/python3.10/site-packages (from jsonschema>=2.6.0->openapi==1.1.0->-r requirements.txt (line 1)) (0.19.3)\n",
                        "Note: you may need to restart the kernel to use updated packages.\n"
                    ]
                }
            ],
            "source": [
                "%pip install -r requirements.txt"
            ]
        },
        {
            "cell_type": "code",
            "execution_count": 8,
            "id": "853669ad",
            "metadata": {},
            "outputs": [],
            "source": [
                "import openai\n",
                "import os\n",
                "\n",
                "from dotenv import load_dotenv, find_dotenv\n",
                "_ = load_dotenv(find_dotenv())\n",
                "\n",
                "openai.api_key  = os.getenv('API_KEY')"
            ]
        },
        {
            "cell_type": "code",
            "execution_count": 6,
            "id": "0f8d2b9a",
            "metadata": {},
            "outputs": [],
            "source": [
                "def get_completion(prompt, model=\"gpt-3.5-turbo\"):\n",
                "    messages = [{\"role\": \"user\", \"content\": prompt}]\n",
                "    response = openai.ChatCompletion.create(\n",
                "        model=model,\n",
                "        messages=messages,\n",
                "        temperature=0, # this is the degree of randomness of the model's output\n",
                "    )\n",
                "    return response.choices[0].message[\"content\"]"
            ]
        },
        {
            "attachments": {},
            "cell_type": "markdown",
            "id": "c68d8ea0",
            "metadata": {},
            "source": [
                "## Generate a marketing product description from a product fact sheet"
            ]
        },
        {
            "cell_type": "code",
            "execution_count": 2,
            "id": "3716697d",
            "metadata": {},
            "outputs": [],
            "source": [
                "fact_sheet_chair = \"\"\"\n",
                "OVERVIEW\n",
                "- Part of a beautiful family of mid-century inspired office furniture, \n",
                "including filing cabinets, desks, bookcases, meeting tables, and more.\n",
                "- Several options of shell color and base finishes.\n",
                "- Available with plastic back and front upholstery (SWC-100) \n",
                "or full upholstery (SWC-110) in 10 fabric and 6 leather options.\n",
                "- Base finish options are: stainless steel, matte black, \n",
                "gloss white, or chrome.\n",
                "- Chair is available with or without armrests.\n",
                "- Suitable for home or business settings.\n",
                "- Qualified for contract use.\n",
                "\n",
                "CONSTRUCTION\n",
                "- 5-wheel plastic coated aluminum base.\n",
                "- Pneumatic chair adjust for easy raise/lower action.\n",
                "\n",
                "DIMENSIONS\n",
                "- WIDTH 53 CM | 20.87”\n",
                "- DEPTH 51 CM | 20.08”\n",
                "- HEIGHT 80 CM | 31.50”\n",
                "- SEAT HEIGHT 44 CM | 17.32”\n",
                "- SEAT DEPTH 41 CM | 16.14”\n",
                "\n",
                "OPTIONS\n",
                "- Soft or hard-floor caster options.\n",
                "- Two choices of seat foam densities: \n",
                " medium (1.8 lb/ft3) or high (2.8 lb/ft3)\n",
                "- Armless or 8 position PU armrests \n",
                "\n",
                "MATERIALS\n",
                "SHELL BASE GLIDER\n",
                "- Cast Aluminum with modified nylon PA6/PA66 coating.\n",
                "- Shell thickness: 10 mm.\n",
                "SEAT\n",
                "- HD36 foam\n",
                "\n",
                "COUNTRY OF ORIGIN\n",
                "- Italy\n",
                "\"\"\""
            ]
        },
        {
            "cell_type": "code",
            "execution_count": 9,
            "id": "1a41dd05",
            "metadata": {},
            "outputs": [
                {
                    "name": "stdout",
                    "output_type": "stream",
                    "text": [
                        "////////////\n",
                        "200\n",
                        "Introducing our stunning mid-century inspired office chair, the perfect addition to any home or business setting. Part of a beautiful family of office furniture, including filing cabinets, desks, bookcases, meeting tables, and more, this chair is available in several options of shell color and base finishes to suit your style. Choose from plastic back and front upholstery (SWC-100) or full upholstery (SWC-110) in 10 fabric and 6 leather options.\n",
                        "\n",
                        "The chair is constructed with a 5-wheel plastic coated aluminum base and features a pneumatic chair adjust for easy raise/lower action. It is available with or without armrests and is qualified for contract use. The base finish options are stainless steel, matte black, gloss white, or chrome.\n",
                        "\n",
                        "Measuring at a width of 53 cm, depth of 51 cm, and height of 80 cm, with a seat height of 44 cm and seat depth of 41 cm, this chair is designed for ultimate comfort. You can also choose between soft or hard-floor caster options and two choices of seat foam densities: medium (1.8 lb/ft3) or high (2.8 lb/ft3). The armrests are available in either an armless or 8 position PU option.\n",
                        "\n",
                        "The materials used in the construction of this chair are of the highest quality. The shell base glider is made of cast aluminum with modified nylon PA6/PA66 coating and has a shell thickness of 10 mm. The seat is made of HD36 foam, ensuring maximum comfort and durability.\n",
                        "\n",
                        "This chair is made in Italy and is the perfect combination of style and functionality. Upgrade your workspace with our mid-century inspired office chair today!\n"
                    ]
                }
            ],
            "source": [
                "prompt = f\"\"\"\n",
                "Your task is to help a marketing team create a \n",
                "description for a retail website of a product based \n",
                "on a technical fact sheet.\n",
                "\n",
                "Write a product description based on the information \n",
                "provided in the technical specifications delimited by \n",
                "triple backticks.\n",
                "\n",
                "Technical specifications: ```{fact_sheet_chair}```\n",
                "\"\"\"\n",
                "response = get_completion(prompt)\n",
                "print(response)\n"
            ]
        },
        {
            "cell_type": "code",
            "execution_count": 10,
            "id": "5968aedc",
            "metadata": {},
            "outputs": [],
            "source": [
                "fact_sheet_chair_ja = \"\"\"\n",
                "概要\n",
                "- ミッドセンチュリーをモチーフにした美しいオフィス家具ファミリーの一員です、 \n",
                "ファイリングキャビネット、デスク、ブックケース、ミーティングテーブルなどを含む。\n",
                "- シェルの色とベースの仕上げは数種類から選べます。\n",
                "- プラスチック製の背板と前板があります（SWC-100) \n",
                "または総革張り（SWC-110）、10種類のファブリックと6種類のレザーから選択できます。\n",
                "- ベースの仕上げは、ステンレススチール、マットブラックから選択できます、 \n",
                "グロスホワイト、クロームの3色からお選びいただけます。\n",
                "- チェアはアームレスト付きとアームレストなしが選べます。\n",
                "- 家庭やビジネスシーンに適しています。\n",
                "- コントラクトユースも可能です。\n",
                "\n",
                "構造\n",
                "- 5輪のプラスチックコーティングアルミニウムベース。\n",
                "- 空気圧式チェアアジャスターで簡単に昇降ができます。\n",
                "\n",
                "外形寸法\n",
                "- 幅53cm｜20.87インチ\n",
                "- 奥行き51cm｜20.08インチ\n",
                "- 高さ80cm｜31.50インチ\n",
                "- シート高44cm｜17.32インチ\n",
                "- シート奥行き41cm｜16.14インチ\n",
                "\n",
                "オプション\n",
                "- キャスターはソフトフロア用とハードフロア用の2種類から選べます。\n",
                "- シートフォームの密度は2種類から選べます： \n",
                " ミディアム（1.8ポンド/フィート3）またはハイ（2.8ポンド/フィート3）。\n",
                "- アームレスまたは8ポジションPUアームレスト \n",
                "\n",
                "マテリアルズ\n",
                "シェルベースグライダー\n",
                "- アルミニウム鋳造に変性ナイロンPA6/PA66コーティング。\n",
                "- シェル厚：10mm\n",
                "シート\n",
                "- HD36フォーム\n",
                "\n",
                "国系\n",
                "- イタリア\n",
                "\n",
                "www.DeepL.com/Translator（無料版）で翻訳しました。\n",
                "\"\"\""
            ]
        },
        {
            "cell_type": "code",
            "execution_count": 13,
            "id": "7ad2f813",
            "metadata": {},
            "outputs": [
                {
                    "name": "stdout",
                    "output_type": "stream",
                    "text": [
                        "////////////\n",
                        "200\n",
                        "Introducing our stunning mid-century inspired office chair, the perfect addition to any home or business setting. Part of a beautiful family of office furniture, including filing cabinets, desks, bookcases, meeting tables, and more, this chair is available in several options of shell color and base finishes to suit your style. Choose from plastic back and front upholstery (SWC-100) or full upholstery (SWC-110) in 10 fabric and 6 leather options.\n",
                        "\n",
                        "The chair is constructed with a 5-wheel plastic coated aluminum base and features a pneumatic chair adjust for easy raise/lower action. It is available with or without armrests and is qualified for contract use. The base finish options are stainless steel, matte black, gloss white, or chrome.\n",
                        "\n",
                        "Measuring at a width of 53 cm, depth of 51 cm, and height of 80 cm, with a seat height of 44 cm and seat depth of 41 cm, this chair is designed for ultimate comfort. You can also choose between soft or hard-floor caster options and two choices of seat foam densities: medium (1.8 lb/ft3) or high (2.8 lb/ft3). The armrests are available in either an armless or 8 position PU option.\n",
                        "\n",
                        "The materials used in the construction of this chair are of the highest quality. The shell base glider is made of cast aluminum with modified nylon PA6/PA66 coating and has a shell thickness of 10 mm. The seat is made of HD36 foam, ensuring maximum comfort and durability.\n",
                        "\n",
                        "This chair is made in Italy and is the perfect combination of style and functionality. Upgrade your workspace with our mid-century inspired office chair today!\n"
                    ]
                }
            ],
            "source": [
                "prompt_ja = f\"\"\"\n",
                "あなたのタスクは、技術的な仕様書に基づいた商品の小売ウェブサイトの説明を、マーケティングチームが作成するのを支援することです。\n",
                "トリプルバッククォートで区切られた技術仕様書に記載されている情報に基づいて、商品の説明文を作成してください。\n",
                "\n",
                "日本語で回答してください。 ```{fact_sheet_chair}```\n",
                "\"\"\"\n",
                "\n",
                "response = get_completion(prompt)\n",
                "print(response)\n"
            ]
        },
        {
            "attachments": {},
            "cell_type": "markdown",
            "id": "4cb91dcf",
            "metadata": {},
            "source": [
                "## Issue 1: The text is too long \n",
                "- Limit the number of words/sentences/characters."
            ]
        },
        {
            "cell_type": "code",
            "execution_count": 14,
            "id": "98365c7c",
            "metadata": {},
            "outputs": [
                {
                    "name": "stdout",
                    "output_type": "stream",
                    "text": [
                        "////////////\n",
                        "200\n",
                        "Introducing our mid-century inspired office chair, perfect for home or business settings. Available in a range of shell colors and base finishes, with or without armrests. Choose from 10 fabric and 6 leather options for full or plastic upholstery. With a 5-wheel base and pneumatic chair adjust, it's both stylish and functional. Made in Italy.\n"
                    ]
                }
            ],
            "source": [
                "prompt = f\"\"\"\n",
                "Your task is to help a marketing team create a \n",
                "description for a retail website of a product based \n",
                "on a technical fact sheet.\n",
                "\n",
                "Write a product description based on the information \n",
                "provided in the technical specifications delimited by \n",
                "triple backticks.\n",
                "\n",
                "Use at most 50 words.\n",
                "\n",
                "Technical specifications: ```{fact_sheet_chair}```\n",
                "\"\"\"\n",
                "response = get_completion(prompt)\n",
                "print(response)\n"
            ]
        },
        {
            "cell_type": "code",
            "execution_count": 15,
            "id": "39436bf7",
            "metadata": {},
            "outputs": [
                {
                    "data": {
                        "text/plain": [
                            "344"
                        ]
                    },
                    "execution_count": 15,
                    "metadata": {},
                    "output_type": "execute_result"
                }
            ],
            "source": [
                "len(response)"
            ]
        },
        {
            "attachments": {},
            "cell_type": "markdown",
            "id": "51067223",
            "metadata": {},
            "source": [
                "## Issue 2. Text focuses on the wrong details\n",
                "- Ask it to focus on the aspects that are relevant to the intended audience."
            ]
        },
        {
            "cell_type": "code",
            "execution_count": 16,
            "id": "146a33b1",
            "metadata": {},
            "outputs": [
                {
                    "name": "stdout",
                    "output_type": "stream",
                    "text": [
                        "////////////\n",
                        "200\n",
                        "Introducing our mid-century inspired office chair, perfect for both home and business settings. With a range of shell colors and base finishes, including stainless steel and matte black, this chair is available with or without armrests. The 5-wheel plastic coated aluminum base and pneumatic chair adjust make it easy to move and adjust to your desired height. Made with high-quality materials, including a cast aluminum shell and HD36 foam seat, this chair is built to last.\n"
                    ]
                }
            ],
            "source": [
                "prompt = f\"\"\"\n",
                "Your task is to help a marketing team create a \n",
                "description for a retail website of a product based \n",
                "on a technical fact sheet.\n",
                "\n",
                "Write a product description based on the information \n",
                "provided in the technical specifications delimited by \n",
                "triple backticks.\n",
                "\n",
                "The description is intended for furniture retailers, \n",
                "so should be technical in nature and focus on the \n",
                "materials the product is constructed from.\n",
                "\n",
                "Use at most 50 words.\n",
                "\n",
                "Technical specifications: ```{fact_sheet_chair}```\n",
                "\"\"\"\n",
                "response = get_completion(prompt)\n",
                "print(response)"
            ]
        },
        {
            "cell_type": "code",
            "execution_count": 17,
            "id": "acbefc60",
            "metadata": {},
            "outputs": [
                {
                    "name": "stdout",
                    "output_type": "stream",
                    "text": [
                        "////////////\n",
                        "200\n",
                        "Introducing our mid-century inspired office chair, perfect for home or business settings. With a range of shell colors and base finishes, and the option of plastic or full upholstery, this chair is both stylish and comfortable. Constructed with a 5-wheel plastic coated aluminum base and pneumatic chair adjust, it's also practical. Available with or without armrests and suitable for contract use. Product ID: SWC-100, SWC-110.\n"
                    ]
                }
            ],
            "source": [
                "prompt = f\"\"\"\n",
                "Your task is to help a marketing team create a \n",
                "description for a retail website of a product based \n",
                "on a technical fact sheet.\n",
                "\n",
                "Write a product description based on the information \n",
                "provided in the technical specifications delimited by \n",
                "triple backticks.\n",
                "\n",
                "The description is intended for furniture retailers, \n",
                "so should be technical in nature and focus on the \n",
                "materials the product is constructed from.\n",
                "\n",
                "At the end of the description, include every 7-character \n",
                "Product ID in the technical specification.\n",
                "\n",
                "Use at most 50 words.\n",
                "\n",
                "Technical specifications: ```{fact_sheet_chair}```\n",
                "\"\"\"\n",
                "response = get_completion(prompt)\n",
                "print(response)"
            ]
        },
        {
            "attachments": {},
            "cell_type": "markdown",
            "id": "2c3c2990",
            "metadata": {},
            "source": [
                "## Issue 3. Description needs a table of dimensions\n",
                "- Ask it to extract information and organize it in a table."
            ]
        },
        {
            "cell_type": "code",
            "execution_count": 18,
            "id": "1fafd2a0",
            "metadata": {},
            "outputs": [
                {
                    "name": "stdout",
                    "output_type": "stream",
                    "text": [
                        "////////////\n",
                        "200\n",
                        "<div>\n",
                        "<h2>Mid-Century Inspired Office Chair</h2>\n",
                        "<p>Introducing our mid-century inspired office chair, part of a beautiful family of office furniture that includes filing cabinets, desks, bookcases, meeting tables, and more. This chair is available in several options of shell color and base finishes, allowing you to customize it to your liking. You can choose between plastic back and front upholstery or full upholstery in 10 fabric and 6 leather options. The base finish options are stainless steel, matte black, gloss white, or chrome. The chair is also available with or without armrests, making it suitable for both home and business settings. Plus, it's qualified for contract use, ensuring its durability and longevity.</p>\n",
                        "<p>The chair's construction features a 5-wheel plastic coated aluminum base and a pneumatic chair adjust for easy raise/lower action. You can also choose between soft or hard-floor caster options and two choices of seat foam densities: medium (1.8 lb/ft3) or high (2.8 lb/ft3). The armrests are also customizable, with the option of armless or 8 position PU armrests.</p>\n",
                        "<p>The chair's shell base glider is made of cast aluminum with modified nylon PA6/PA66 coating, with a shell thickness of 10 mm. The seat is made of HD36 foam, ensuring comfort and support during long work hours. This chair is made in Italy, ensuring its quality and craftsmanship.</p>\n",
                        "<h3>Product ID(s): SWC-100, SWC-110</h3>\n",
                        "<table>\n",
                        "  <caption>Product Dimensions</caption>\n",
                        "  <tr>\n",
                        "    <th>Dimension</th>\n",
                        "    <th>Measurement (inches)</th>\n",
                        "  </tr>\n",
                        "  <tr>\n",
                        "    <td>Width</td>\n",
                        "    <td>20.87\"</td>\n",
                        "  </tr>\n",
                        "  <tr>\n",
                        "    <td>Depth</td>\n",
                        "    <td>20.08\"</td>\n",
                        "  </tr>\n",
                        "  <tr>\n",
                        "    <td>Height</td>\n",
                        "    <td>31.50\"</td>\n",
                        "  </tr>\n",
                        "  <tr>\n",
                        "    <td>Seat Height</td>\n",
                        "    <td>17.32\"</td>\n",
                        "  </tr>\n",
                        "  <tr>\n",
                        "    <td>Seat Depth</td>\n",
                        "    <td>16.14\"</td>\n",
                        "  </tr>\n",
                        "</table>\n",
                        "</div>\n"
                    ]
                }
            ],
            "source": [
                "prompt = f\"\"\"\n",
                "Your task is to help a marketing team create a \n",
                "description for a retail website of a product based \n",
                "on a technical fact sheet.\n",
                "\n",
                "Write a product description based on the information \n",
                "provided in the technical specifications delimited by \n",
                "triple backticks.\n",
                "\n",
                "The description is intended for furniture retailers, \n",
                "so should be technical in nature and focus on the \n",
                "materials the product is constructed from.\n",
                "\n",
                "At the end of the description, include every 7-character \n",
                "Product ID in the technical specification.\n",
                "\n",
                "After the description, include a table that gives the \n",
                "product's dimensions. The table should have two columns.\n",
                "In the first column include the name of the dimension. \n",
                "In the second column include the measurements in inches only.\n",
                "\n",
                "Give the table the title 'Product Dimensions'.\n",
                "\n",
                "Format everything as HTML that can be used in a website. \n",
                "Place the description in a <div> element.\n",
                "\n",
                "Technical specifications: ```{fact_sheet_chair}```\n",
                "\"\"\"\n",
                "\n",
                "response = get_completion(prompt)\n",
                "print(response)"
            ]
        },
        {
            "attachments": {},
            "cell_type": "markdown",
            "id": "68a7c193",
            "metadata": {},
            "source": [
                "## Load Python libraries to view HTML"
            ]
        },
        {
            "cell_type": "code",
            "execution_count": 20,
            "id": "4ccd6ea7",
            "metadata": {},
            "outputs": [
                {
                    "data": {
                        "text/html": [
                            "<div>\n",
                            "<h2>Mid-Century Inspired Office Chair</h2>\n",
                            "<p>Introducing our mid-century inspired office chair, part of a beautiful family of office furniture that includes filing cabinets, desks, bookcases, meeting tables, and more. This chair is available in several options of shell color and base finishes, allowing you to customize it to your liking. You can choose between plastic back and front upholstery or full upholstery in 10 fabric and 6 leather options. The base finish options are stainless steel, matte black, gloss white, or chrome. The chair is also available with or without armrests, making it suitable for both home and business settings. Plus, it's qualified for contract use, ensuring its durability and longevity.</p>\n",
                            "<p>The chair's construction features a 5-wheel plastic coated aluminum base and a pneumatic chair adjust for easy raise/lower action. You can also choose between soft or hard-floor caster options and two choices of seat foam densities: medium (1.8 lb/ft3) or high (2.8 lb/ft3). The armrests are also customizable, with the option of armless or 8 position PU armrests.</p>\n",
                            "<p>The chair's shell base glider is made of cast aluminum with modified nylon PA6/PA66 coating, with a shell thickness of 10 mm. The seat is made of HD36 foam, ensuring comfort and support during long work hours. This chair is made in Italy, ensuring its quality and craftsmanship.</p>\n",
                            "<h3>Product ID(s): SWC-100, SWC-110</h3>\n",
                            "<table>\n",
                            "  <caption>Product Dimensions</caption>\n",
                            "  <tr>\n",
                            "    <th>Dimension</th>\n",
                            "    <th>Measurement (inches)</th>\n",
                            "  </tr>\n",
                            "  <tr>\n",
                            "    <td>Width</td>\n",
                            "    <td>20.87\"</td>\n",
                            "  </tr>\n",
                            "  <tr>\n",
                            "    <td>Depth</td>\n",
                            "    <td>20.08\"</td>\n",
                            "  </tr>\n",
                            "  <tr>\n",
                            "    <td>Height</td>\n",
                            "    <td>31.50\"</td>\n",
                            "  </tr>\n",
                            "  <tr>\n",
                            "    <td>Seat Height</td>\n",
                            "    <td>17.32\"</td>\n",
                            "  </tr>\n",
                            "  <tr>\n",
                            "    <td>Seat Depth</td>\n",
                            "    <td>16.14\"</td>\n",
                            "  </tr>\n",
                            "</table>\n",
                            "</div>"
                        ],
                        "text/plain": [
                            "<IPython.core.display.HTML object>"
                        ]
                    },
                    "metadata": {},
                    "output_type": "display_data"
                }
            ],
            "source": [
                "from IPython.display import display, HTML\n",
                "display(HTML(response))"
            ]
        }
    ],
    "metadata": {
        "kernelspec": {
            "display_name": "Python 3 (ipykernel)",
            "language": "python",
            "name": "python3"
        },
        "language_info": {
            "codemirror_mode": {
                "name": "ipython",
                "version": 3
            },
            "file_extension": ".py",
            "mimetype": "text/x-python",
            "name": "python",
            "nbconvert_exporter": "python",
            "pygments_lexer": "ipython3",
            "version": "3.10.6"
        }
    },
    "nbformat": 4,
    "nbformat_minor": 5
}
