{
  "cells": [
    {
      "cell_type": "code",
      "execution_count": 37,
      "metadata": {
        "colab": {
          "base_uri": "https://localhost:8080/",
          "height": 74
        },
        "id": "OqrgIY5Ub2gV",
        "outputId": "37d0b405-e08b-4052-d17c-c0d94eb39548"
      },
      "outputs": [
        {
          "name": "stdout",
          "output_type": "stream",
          "text": [
            "Requirement already satisfied: langchain in /usr/local/lib/python3.10/site-packages (0.0.77)\n",
            "Requirement already satisfied: SQLAlchemy<2,>=1 in /usr/local/lib/python3.10/site-packages (from langchain) (1.4.46)\n",
            "Requirement already satisfied: PyYAML<7,>=6 in /usr/local/lib/python3.10/site-packages (from langchain) (6.0)\n",
            "Requirement already satisfied: dataclasses-json<0.6.0,>=0.5.7 in /usr/local/lib/python3.10/site-packages (from langchain) (0.5.7)\n",
            "Requirement already satisfied: pydantic<2,>=1 in /usr/local/lib/python3.10/site-packages (from langchain) (1.10.4)\n",
            "Requirement already satisfied: requests<3,>=2 in /usr/local/lib/python3.10/site-packages (from langchain) (2.28.2)\n",
            "Requirement already satisfied: numpy<2,>=1 in /usr/local/lib/python3.10/site-packages (from langchain) (1.24.2)\n",
            "Requirement already satisfied: tenacity<9.0.0,>=8.1.0 in /usr/local/lib/python3.10/site-packages (from langchain) (8.1.0)\n",
            "Requirement already satisfied: marshmallow-enum<2.0.0,>=1.5.1 in /usr/local/lib/python3.10/site-packages (from dataclasses-json<0.6.0,>=0.5.7->langchain) (1.5.1)\n",
            "Requirement already satisfied: typing-inspect>=0.4.0 in /usr/local/lib/python3.10/site-packages (from dataclasses-json<0.6.0,>=0.5.7->langchain) (0.8.0)\n",
            "Requirement already satisfied: marshmallow<4.0.0,>=3.3.0 in /usr/local/lib/python3.10/site-packages (from dataclasses-json<0.6.0,>=0.5.7->langchain) (3.19.0)\n",
            "Requirement already satisfied: typing-extensions>=4.2.0 in /usr/local/lib/python3.10/site-packages (from pydantic<2,>=1->langchain) (4.4.0)\n",
            "Requirement already satisfied: idna<4,>=2.5 in /usr/local/lib/python3.10/site-packages (from requests<3,>=2->langchain) (3.4)\n",
            "Requirement already satisfied: certifi>=2017.4.17 in /usr/local/lib/python3.10/site-packages (from requests<3,>=2->langchain) (2022.12.7)\n",
            "Requirement already satisfied: charset-normalizer<4,>=2 in /usr/local/lib/python3.10/site-packages (from requests<3,>=2->langchain) (2.1.1)\n",
            "Requirement already satisfied: urllib3<1.27,>=1.21.1 in /usr/local/lib/python3.10/site-packages (from requests<3,>=2->langchain) (1.26.12)\n",
            "Requirement already satisfied: greenlet!=0.4.17 in /usr/local/lib/python3.10/site-packages (from SQLAlchemy<2,>=1->langchain) (2.0.2)\n",
            "Requirement already satisfied: packaging>=17.0 in /usr/local/lib/python3.10/site-packages (from marshmallow<4.0.0,>=3.3.0->dataclasses-json<0.6.0,>=0.5.7->langchain) (21.3)\n",
            "Requirement already satisfied: mypy-extensions>=0.3.0 in /usr/local/lib/python3.10/site-packages (from typing-inspect>=0.4.0->dataclasses-json<0.6.0,>=0.5.7->langchain) (1.0.0)\n",
            "Requirement already satisfied: pyparsing!=3.0.5,>=2.0.2 in /usr/local/lib/python3.10/site-packages (from packaging>=17.0->marshmallow<4.0.0,>=3.3.0->dataclasses-json<0.6.0,>=0.5.7->langchain) (3.0.9)\n",
            "Note: you may need to restart the kernel to use updated packages.\n",
            "Requirement already satisfied: openai in /usr/local/lib/python3.10/site-packages (0.26.4)\n",
            "Requirement already satisfied: tqdm in /usr/local/lib/python3.10/site-packages (from openai) (4.64.1)\n",
            "Requirement already satisfied: aiohttp in /usr/local/lib/python3.10/site-packages (from openai) (3.8.3)\n",
            "Requirement already satisfied: requests>=2.20 in /usr/local/lib/python3.10/site-packages (from openai) (2.28.2)\n",
            "Requirement already satisfied: idna<4,>=2.5 in /usr/local/lib/python3.10/site-packages (from requests>=2.20->openai) (3.4)\n",
            "Requirement already satisfied: urllib3<1.27,>=1.21.1 in /usr/local/lib/python3.10/site-packages (from requests>=2.20->openai) (1.26.12)\n",
            "Requirement already satisfied: charset-normalizer<4,>=2 in /usr/local/lib/python3.10/site-packages (from requests>=2.20->openai) (2.1.1)\n",
            "Requirement already satisfied: certifi>=2017.4.17 in /usr/local/lib/python3.10/site-packages (from requests>=2.20->openai) (2022.12.7)\n",
            "Requirement already satisfied: aiosignal>=1.1.2 in /usr/local/lib/python3.10/site-packages (from aiohttp->openai) (1.3.1)\n",
            "Requirement already satisfied: frozenlist>=1.1.1 in /usr/local/lib/python3.10/site-packages (from aiohttp->openai) (1.3.3)\n",
            "Requirement already satisfied: attrs>=17.3.0 in /usr/local/lib/python3.10/site-packages (from aiohttp->openai) (22.2.0)\n",
            "Requirement already satisfied: multidict<7.0,>=4.5 in /usr/local/lib/python3.10/site-packages (from aiohttp->openai) (6.0.4)\n",
            "Requirement already satisfied: async-timeout<5.0,>=4.0.0a3 in /usr/local/lib/python3.10/site-packages (from aiohttp->openai) (4.0.2)\n",
            "Requirement already satisfied: yarl<2.0,>=1.0 in /usr/local/lib/python3.10/site-packages (from aiohttp->openai) (1.8.2)\n",
            "Note: you may need to restart the kernel to use updated packages.\n"
          ]
        }
      ],
      "source": [
        "%pip install langchain\n",
        "%pip install openai"
      ]
    },
    {
      "cell_type": "code",
      "execution_count": 38,
      "metadata": {},
      "outputs": [],
      "source": [
        "import os\n",
        "import openai\n",
        "from langchain.llms import OpenAI\n",
        "from langchain.chains import LLMChain\n",
        "from langchain.prompts import PromptTemplate\n",
        "from langchain.chains import SimpleSequentialChain\n",
        "from langchain import OpenAI, ConversationChain\n",
        "from langchain.chains import SequentialChain"
      ]
    },
    {
      "cell_type": "code",
      "execution_count": 39,
      "metadata": {},
      "outputs": [],
      "source": [
        "from dotenv import load_dotenv\n",
        "\n",
        "openai.api_key = os.environ['API_KEY']\n",
        "os.environ[\"OPENAI_API_KEY\"] = os.environ['API_KEY']"
      ]
    },
    {
      "cell_type": "code",
      "execution_count": 40,
      "metadata": {},
      "outputs": [],
      "source": [
        "mytalk = \"\"\"Aさん：今度の新年会はいつにしますか。\n",
        "Bさん：私は１月下旬がちょうどいいです。\n",
        "Cさん：私は1月だと1/20か、1/30がちょうどいいです。\n",
        "Dさん：私は1月だと参加は難しそうです。\n",
        "Aさん：じゃあいったん1/30にしましょうか。\n",
        "Bさん：わかりました。時間は何時にします？\n",
        "Aさん：そうですね、じゃあ18:00にしましょうか。\n",
        "Cさん：ちょっと早くないですか？19:00はどうでしょう。\n",
        "Aさん：了解です。じゃあ19時で！場所はいつもの黒木屋にしましょうか。\n",
        "Cさん：了解です。楽しみにしてます。\n",
        "Dさん：楽しんできてください。いけそうだったらまた連絡します。\n",
        "\"\"\""
      ]
    },
    {
      "cell_type": "code",
      "execution_count": 41,
      "metadata": {},
      "outputs": [],
      "source": [
        "event_prompt = PromptTemplate(\n",
        "      input_variables=[\"talk\"],\n",
        "      template=\"\"\"次の文章の中から開催されるイベント名を\"イベント名：？？？\"の形で返してください。不明な場合は\"イベント名：未定\"を返してください。\n",
        "      {talk}\n",
        "      \"\"\")\n",
        "\n",
        "event_chain = LLMChain(\n",
        "      llm=llm, \n",
        "      prompt=event_prompt,\n",
        "      output_key='event')\n",
        "  \n",
        "\n",
        "date_prompt = PromptTemplate(\n",
        "      input_variables=[\"talk\"],\n",
        "      template=\"\"\"次の文章の中から開催されるイベントの開催日を\"開催日：？？？\"の形で返してください。不明な場合は\"開催日：未定\"を返してください。\n",
        "      {talk}\n",
        "      \"\"\")\n",
        "  \n",
        "date_chain = LLMChain(\n",
        "      llm=llm, \n",
        "      prompt=date_prompt,\n",
        "      output_key='date')\n",
        "\n",
        "\n",
        "time_prompt = PromptTemplate(\n",
        "      input_variables=[\"talk\"],\n",
        "      template=\"\"\"次の文章の中から開催されるイベントの開始時間を\"開始時間：？？？\"の形で返してください。不明な場合は\"開催時間：未定\"を返してください。\n",
        "      {talk}\n",
        "      \"\"\")\n",
        "\n",
        "time_chain = LLMChain(\n",
        "      llm=llm, \n",
        "      prompt=time_prompt,\n",
        "      output_key='time')\n",
        "\n",
        "\n",
        "place_prompt = PromptTemplate(\n",
        "      input_variables=[\"talk\"],\n",
        "      template=\"\"\"次の文章の中から開催されるイベントの開催場所を\"開催場所：？？？\"の形で返してください。不明な場合は\"開催場所：未定\"を返してください。\n",
        "      {talk}\n",
        "      \"\"\")\n",
        "\n",
        "\n",
        "place_chain = LLMChain(\n",
        "      llm=llm, \n",
        "      prompt=place_prompt,\n",
        "      output_key='place')\n",
        "\n",
        "\n",
        "sanka_prompt = PromptTemplate(\n",
        "      input_variables=[\"talk\"],\n",
        "      template=\"\"\"次の文章の中から開催されるイベントの参加予定者を\"参加予定者：？？？\"の形で返してください。不明な場合は\"参加予定者：未定\"を返してください。\n",
        "      {talk}\n",
        "      \"\"\")\n",
        "\n",
        "sanka_chain = LLMChain(\n",
        "      llm=llm, \n",
        "      prompt=sanka_prompt,\n",
        "      output_key='sanka')\n"
      ]
    },
    {
      "cell_type": "code",
      "execution_count": 42,
      "metadata": {},
      "outputs": [],
      "source": [
        "overall_chain = SequentialChain(\n",
        "    chains = [event_chain, date_chain, time_chain, place_chain, sanka_chain],\n",
        "    input_variables = [\"talk\"],\n",
        "    output_variables = [\"event\", \"date\", \"time\", \"place\", \"sanka\"],\n",
        "    verbose = True\n",
        ")"
      ]
    },
    {
      "cell_type": "code",
      "execution_count": 43,
      "metadata": {},
      "outputs": [
        {
          "name": "stdout",
          "output_type": "stream",
          "text": [
            "\n",
            "\n",
            "\u001b[1m> Entering new SequentialChain chain...\u001b[0m\n",
            "\n",
            "\u001b[1m> Finished chain.\u001b[0m\n"
          ]
        }
      ],
      "source": [
        "event_info = overall_chain({\n",
        "    'talk':mytalk\n",
        "})"
      ]
    },
    {
      "cell_type": "code",
      "execution_count": 44,
      "metadata": {},
      "outputs": [
        {
          "data": {
            "text/plain": [
              "{'talk': 'Aさん：今度の新年会はいつにしますか。\\nBさん：私は１月下旬がちょうどいいです。\\nCさん：私は1月だと1/20か、1/30がちょうどいいです。\\nDさん：私は1月だと参加は難しそうです。\\nAさん：じゃあいったん1/30にしましょうか。\\nBさん：わかりました。時間は何時にします？\\nAさん：そうですね、じゃあ18:00にしましょうか。\\nCさん：ちょっと早くないですか？19:00はどうでしょう。\\nAさん：了解です。じゃあ19時で！場所はいつもの黒木屋にしましょうか。\\nCさん：了解です。楽しみにしてます。\\nDさん：楽しんできてください。いけそうだったらまた連絡します。\\n',\n",
              " 'event': ' イベント名：新年会',\n",
              " 'date': ' 開催日：1/30',\n",
              " 'time': ' 開始時間：19:00',\n",
              " 'place': ' 開催場所：黒木屋',\n",
              " 'sanka': ' 参加予定者：Aさん、Bさん、Cさん'}"
            ]
          },
          "execution_count": 44,
          "metadata": {},
          "output_type": "execute_result"
        }
      ],
      "source": [
        "event_info"
      ]
    },
    {
      "cell_type": "code",
      "execution_count": 45,
      "metadata": {},
      "outputs": [],
      "source": [
        "eventlist = event_info['event']+event_info['date']+event_info['time']+event_info['place']+event_info['sanka']"
      ]
    },
    {
      "cell_type": "code",
      "execution_count": 46,
      "metadata": {},
      "outputs": [],
      "source": [
        "eventsummary_prompt = PromptTemplate(\n",
        "    input_variables=[\"talk\"],\n",
        "    template=\"\"\"次のリスト情報をもとに開催されるイベントの概要を返してください。\n",
        "    \n",
        "    {talk}\n",
        "    \"\"\"\n",
        ")\n",
        "\n",
        "eventsummary_chain = LLMChain(\n",
        "    llm=llm, \n",
        "    prompt=eventsummary_prompt)\n",
        "    \n",
        "\n",
        "summary_ans = eventsummary_chain.run({\n",
        "    'talk':eventlist\n",
        "})"
      ]
    },
    {
      "cell_type": "code",
      "execution_count": 47,
      "metadata": {},
      "outputs": [
        {
          "name": "stdout",
          "output_type": "stream",
          "text": [
            "\n",
            "\n",
            "1月30日（水）19:00より、黒木屋にて新年会を開催いたします。Aさん、Bさん、Cさんの参加予定です。ご参加をお待ちしております。\n"
          ]
        }
      ],
      "source": [
        "print(summary_ans)"
      ]
    }
  ],
  "metadata": {
    "colab": {
      "provenance": []
    },
    "kernelspec": {
      "display_name": "Python 3",
      "language": "python",
      "name": "python3"
    },
    "language_info": {
      "codemirror_mode": {
        "name": "ipython",
        "version": 3
      },
      "file_extension": ".py",
      "mimetype": "text/x-python",
      "name": "python",
      "nbconvert_exporter": "python",
      "pygments_lexer": "ipython3",
      "version": "3.10.6"
    },
    "vscode": {
      "interpreter": {
        "hash": "949777d72b0d2535278d3dc13498b2535136f6dfe0678499012e853ee9abcab1"
      }
    }
  },
  "nbformat": 4,
  "nbformat_minor": 0
}
