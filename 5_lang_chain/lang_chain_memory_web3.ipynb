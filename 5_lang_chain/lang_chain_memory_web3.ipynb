{
  "cells": [
    {
      "cell_type": "code",
      "execution_count": 54,
      "metadata": {
        "colab": {
          "base_uri": "https://localhost:8080/",
          "height": 74
        },
        "id": "OqrgIY5Ub2gV",
        "outputId": "37d0b405-e08b-4052-d17c-c0d94eb39548"
      },
      "outputs": [
        {
          "name": "stdout",
          "output_type": "stream",
          "text": [
            "Requirement already satisfied: langchain in /usr/local/lib/python3.10/site-packages (0.0.77)\n",
            "Requirement already satisfied: pydantic<2,>=1 in /usr/local/lib/python3.10/site-packages (from langchain) (1.10.4)\n",
            "Requirement already satisfied: numpy<2,>=1 in /usr/local/lib/python3.10/site-packages (from langchain) (1.23.5)\n",
            "Requirement already satisfied: requests<3,>=2 in /usr/local/lib/python3.10/site-packages (from langchain) (2.28.2)\n",
            "Requirement already satisfied: SQLAlchemy<2,>=1 in /usr/local/lib/python3.10/site-packages (from langchain) (1.4.46)\n",
            "Requirement already satisfied: tenacity<9.0.0,>=8.1.0 in /usr/local/lib/python3.10/site-packages (from langchain) (8.1.0)\n",
            "Requirement already satisfied: dataclasses-json<0.6.0,>=0.5.7 in /usr/local/lib/python3.10/site-packages (from langchain) (0.5.7)\n",
            "Requirement already satisfied: PyYAML<7,>=6 in /usr/local/lib/python3.10/site-packages (from langchain) (6.0)\n",
            "Requirement already satisfied: marshmallow-enum<2.0.0,>=1.5.1 in /usr/local/lib/python3.10/site-packages (from dataclasses-json<0.6.0,>=0.5.7->langchain) (1.5.1)\n",
            "Requirement already satisfied: marshmallow<4.0.0,>=3.3.0 in /usr/local/lib/python3.10/site-packages (from dataclasses-json<0.6.0,>=0.5.7->langchain) (3.19.0)\n",
            "Requirement already satisfied: typing-inspect>=0.4.0 in /usr/local/lib/python3.10/site-packages (from dataclasses-json<0.6.0,>=0.5.7->langchain) (0.8.0)\n",
            "Requirement already satisfied: typing-extensions>=4.2.0 in /usr/local/lib/python3.10/site-packages (from pydantic<2,>=1->langchain) (4.4.0)\n",
            "Requirement already satisfied: idna<4,>=2.5 in /usr/local/lib/python3.10/site-packages (from requests<3,>=2->langchain) (3.4)\n",
            "Requirement already satisfied: certifi>=2017.4.17 in /usr/local/lib/python3.10/site-packages (from requests<3,>=2->langchain) (2022.12.7)\n",
            "Requirement already satisfied: urllib3<1.27,>=1.21.1 in /usr/local/lib/python3.10/site-packages (from requests<3,>=2->langchain) (1.26.12)\n",
            "Requirement already satisfied: charset-normalizer<4,>=2 in /usr/local/lib/python3.10/site-packages (from requests<3,>=2->langchain) (2.1.1)\n",
            "Requirement already satisfied: greenlet!=0.4.17 in /usr/local/lib/python3.10/site-packages (from SQLAlchemy<2,>=1->langchain) (2.0.2)\n",
            "Requirement already satisfied: packaging>=17.0 in /usr/local/lib/python3.10/site-packages (from marshmallow<4.0.0,>=3.3.0->dataclasses-json<0.6.0,>=0.5.7->langchain) (21.3)\n",
            "Requirement already satisfied: mypy-extensions>=0.3.0 in /usr/local/lib/python3.10/site-packages (from typing-inspect>=0.4.0->dataclasses-json<0.6.0,>=0.5.7->langchain) (1.0.0)\n",
            "Requirement already satisfied: pyparsing!=3.0.5,>=2.0.2 in /usr/local/lib/python3.10/site-packages (from packaging>=17.0->marshmallow<4.0.0,>=3.3.0->dataclasses-json<0.6.0,>=0.5.7->langchain) (3.0.9)\n",
            "Note: you may need to restart the kernel to use updated packages.\n",
            "Requirement already satisfied: openai in /usr/local/lib/python3.10/site-packages (0.26.4)\n",
            "Requirement already satisfied: aiohttp in /usr/local/lib/python3.10/site-packages (from openai) (3.8.3)\n",
            "Requirement already satisfied: requests>=2.20 in /usr/local/lib/python3.10/site-packages (from openai) (2.28.2)\n",
            "Requirement already satisfied: tqdm in /usr/local/lib/python3.10/site-packages (from openai) (4.64.1)\n",
            "Requirement already satisfied: certifi>=2017.4.17 in /usr/local/lib/python3.10/site-packages (from requests>=2.20->openai) (2022.12.7)\n",
            "Requirement already satisfied: idna<4,>=2.5 in /usr/local/lib/python3.10/site-packages (from requests>=2.20->openai) (3.4)\n",
            "Requirement already satisfied: urllib3<1.27,>=1.21.1 in /usr/local/lib/python3.10/site-packages (from requests>=2.20->openai) (1.26.12)\n",
            "Requirement already satisfied: charset-normalizer<4,>=2 in /usr/local/lib/python3.10/site-packages (from requests>=2.20->openai) (2.1.1)\n",
            "Requirement already satisfied: async-timeout<5.0,>=4.0.0a3 in /usr/local/lib/python3.10/site-packages (from aiohttp->openai) (4.0.2)\n",
            "Requirement already satisfied: frozenlist>=1.1.1 in /usr/local/lib/python3.10/site-packages (from aiohttp->openai) (1.3.3)\n",
            "Requirement already satisfied: yarl<2.0,>=1.0 in /usr/local/lib/python3.10/site-packages (from aiohttp->openai) (1.8.2)\n",
            "Requirement already satisfied: multidict<7.0,>=4.5 in /usr/local/lib/python3.10/site-packages (from aiohttp->openai) (6.0.4)\n",
            "Requirement already satisfied: attrs>=17.3.0 in /usr/local/lib/python3.10/site-packages (from aiohttp->openai) (22.2.0)\n",
            "Requirement already satisfied: aiosignal>=1.1.2 in /usr/local/lib/python3.10/site-packages (from aiohttp->openai) (1.3.1)\n",
            "Note: you may need to restart the kernel to use updated packages.\n"
          ]
        }
      ],
      "source": [
        "%pip install langchain\n",
        "%pip install openai"
      ]
    },
    {
      "cell_type": "code",
      "execution_count": 55,
      "metadata": {},
      "outputs": [],
      "source": [
        "import os\n",
        "import openai\n",
        "from langchain.llms import OpenAI\n",
        "from langchain.chains import LLMChain\n",
        "from langchain.prompts import PromptTemplate\n",
        "from langchain.chains import SimpleSequentialChain\n",
        "from langchain import OpenAI, ConversationChain"
      ]
    },
    {
      "cell_type": "code",
      "execution_count": 56,
      "metadata": {
        "colab": {
          "base_uri": "https://localhost:8080/"
        },
        "id": "gwCn8Nj25Rbs",
        "outputId": "7e240160-7eb3-41bc-84ba-9127ae339add"
      },
      "outputs": [],
      "source": [
        "from dotenv import load_dotenv\n",
        "\n",
        "openai.api_key = os.environ['API_KEY']\n",
        "os.environ[\"OPENAI_API_KEY\"] = os.environ['API_KEY']"
      ]
    },
    {
      "cell_type": "code",
      "execution_count": 57,
      "metadata": {
        "id": "K02-maUUdVXG"
      },
      "outputs": [
        {
          "name": "stdout",
          "output_type": "stream",
          "text": [
            "\n",
            "\n",
            "\u001b[1m> Entering new ConversationChain chain...\u001b[0m\n",
            "Prompt after formatting:\n",
            "\u001b[32;1m\u001b[1;3mThe following is a friendly conversation between a human and an AI. The AI is talkative and provides lots of specific details from its context. If the AI does not know the answer to a question, it truthfully says it does not know.\n",
            "\n",
            "Current conversation:\n",
            "\n",
            "Human: ブロックチェーンの専門家として答えてください。\n",
            "AI:\u001b[0m\n",
            "\n",
            "\u001b[1m> Finished chain.\u001b[0m\n"
          ]
        },
        {
          "data": {
            "text/plain": [
              "' 幸いながら、私はブロックチェーンの専門家ではありません。しかし、私のデータには、ブロックチェーンを実装するための有用な情報が含まれています。ブロックチェーンは、組織間の情報取引を安全に実現するために使用される分散型データベースです。すべてのノードが安全な加入プロトコルを通じて処理を確認し、データを維持します。'"
            ]
          },
          "execution_count": 57,
          "metadata": {},
          "output_type": "execute_result"
        }
      ],
      "source": [
        "conversation = ConversationChain(\n",
        "    llm=OpenAI(temperature=0.9, \n",
        "               model_name=\"text-davinci-003\", \n",
        "               max_tokens=2000),\n",
        "    verbose=True\n",
        ")\n",
        "\n",
        "conversation.predict(input=\"ブロックチェーンの専門家として答えてください。\")\n"
      ]
    },
    {
      "cell_type": "code",
      "execution_count": 58,
      "metadata": {},
      "outputs": [],
      "source": [
        "res = {}"
      ]
    },
    {
      "cell_type": "code",
      "execution_count": 59,
      "metadata": {
        "id": "t96wTq97mFzf"
      },
      "outputs": [
        {
          "name": "stdout",
          "output_type": "stream",
          "text": [
            "\n",
            "\n",
            "\u001b[1m> Entering new ConversationChain chain...\u001b[0m\n",
            "Prompt after formatting:\n",
            "\u001b[32;1m\u001b[1;3mThe following is a friendly conversation between a human and an AI. The AI is talkative and provides lots of specific details from its context. If the AI does not know the answer to a question, it truthfully says it does not know.\n",
            "\n",
            "Current conversation:\n",
            "\n",
            "Human: ブロックチェーンの専門家として答えてください。\n",
            "AI:  幸いながら、私はブロックチェーンの専門家ではありません。しかし、私のデータには、ブロックチェーンを実装するための有用な情報が含まれています。ブロックチェーンは、組織間の情報取引を安全に実現するために使用される分散型データベースです。すべてのノードが安全な加入プロトコルを通じて処理を確認し、データを維持します。\n",
            "Human: web3の未来を4つの要点にまとめてください。\n",
            "AI:\u001b[0m\n",
            "\n",
            "\u001b[1m> Finished chain.\u001b[0m\n"
          ]
        }
      ],
      "source": [
        "answer =conversation.predict_and_parse(input=\"web3の未来を4つの要点にまとめてください。\")\n",
        "res = {\"total\": answer}"
      ]
    },
    {
      "cell_type": "code",
      "execution_count": 60,
      "metadata": {},
      "outputs": [
        {
          "data": {
            "text/plain": [
              "{'total': ' web3の未来を4つの要点にまとめると、次のようになります：1. 個人のプライバシーを尊重する分散型ネットワークの普及。2. ブロックチェーンを利用した権利の管理。3. 住民が自分たちのデータを安全に主権的に管理できるようにすること。4. ブロックチェーンを利用した多様な商業アプリケーションの普及。'}"
            ]
          },
          "execution_count": 60,
          "metadata": {},
          "output_type": "execute_result"
        }
      ],
      "source": [
        "res"
      ]
    },
    {
      "cell_type": "code",
      "execution_count": 61,
      "metadata": {},
      "outputs": [
        {
          "name": "stdout",
          "output_type": "stream",
          "text": [
            "\n",
            "\n",
            "\u001b[1m> Entering new ConversationChain chain...\u001b[0m\n",
            "Prompt after formatting:\n",
            "\u001b[32;1m\u001b[1;3mThe following is a friendly conversation between a human and an AI. The AI is talkative and provides lots of specific details from its context. If the AI does not know the answer to a question, it truthfully says it does not know.\n",
            "\n",
            "Current conversation:\n",
            "\n",
            "Human: ブロックチェーンの専門家として答えてください。\n",
            "AI:  幸いながら、私はブロックチェーンの専門家ではありません。しかし、私のデータには、ブロックチェーンを実装するための有用な情報が含まれています。ブロックチェーンは、組織間の情報取引を安全に実現するために使用される分散型データベースです。すべてのノードが安全な加入プロトコルを通じて処理を確認し、データを維持します。\n",
            "Human: web3の未来を4つの要点にまとめてください。\n",
            "AI:  web3の未来を4つの要点にまとめると、次のようになります：1. 個人のプライバシーを尊重する分散型ネットワークの普及。2. ブロックチェーンを利用した権利の管理。3. 住民が自分たちのデータを安全に主権的に管理できるようにすること。4. ブロックチェーンを利用した多様な商業アプリケーションの普及。\n",
            "Human: 1めの要点を400文字程度でまとめてください。\n",
            "AI:\u001b[0m\n",
            "\n",
            "\u001b[1m> Finished chain.\u001b[0m\n"
          ]
        }
      ],
      "source": [
        "answer =conversation.predict_and_parse(input=\"1めの要点を400文字程度でまとめてください。\")\n",
        "\n",
        "res[\"1\"] = {}\n",
        "res[\"1\"][\"body\"] = answer"
      ]
    },
    {
      "cell_type": "code",
      "execution_count": 62,
      "metadata": {},
      "outputs": [
        {
          "data": {
            "text/plain": [
              "{'total': ' web3の未来を4つの要点にまとめると、次のようになります：1. 個人のプライバシーを尊重する分散型ネットワークの普及。2. ブロックチェーンを利用した権利の管理。3. 住民が自分たちのデータを安全に主権的に管理できるようにすること。4. ブロックチェーンを利用した多様な商業アプリケーションの普及。',\n",
              " '1': {'body': ' 1番目の要点は、個人のプライバシーを尊重する分散型ネットワークの普及です。web3を使用することで、個人の情報を管理する際に、情報が自動的に分散化されるほか、匿名性を確保します。分散型ネットワークを介して交換される情報は、政府の規制や組織のプライバシー基準に従って保護されます。これにより、プライバシーと安全性の損失を最小限に抑えることが可能となります。'}}"
            ]
          },
          "execution_count": 62,
          "metadata": {},
          "output_type": "execute_result"
        }
      ],
      "source": [
        "res"
      ]
    },
    {
      "cell_type": "code",
      "execution_count": 63,
      "metadata": {
        "colab": {
          "base_uri": "https://localhost:8080/"
        },
        "id": "zOs54K04hUjL",
        "outputId": "ae60b136-811e-4c87-a147-8ec5160f21b8"
      },
      "outputs": [
        {
          "name": "stdout",
          "output_type": "stream",
          "text": [
            "\n",
            "\n",
            "\u001b[1m> Entering new ConversationChain chain...\u001b[0m\n",
            "Prompt after formatting:\n",
            "\u001b[32;1m\u001b[1;3mThe following is a friendly conversation between a human and an AI. The AI is talkative and provides lots of specific details from its context. If the AI does not know the answer to a question, it truthfully says it does not know.\n",
            "\n",
            "Current conversation:\n",
            "\n",
            "Human: ブロックチェーンの専門家として答えてください。\n",
            "AI:  幸いながら、私はブロックチェーンの専門家ではありません。しかし、私のデータには、ブロックチェーンを実装するための有用な情報が含まれています。ブロックチェーンは、組織間の情報取引を安全に実現するために使用される分散型データベースです。すべてのノードが安全な加入プロトコルを通じて処理を確認し、データを維持します。\n",
            "Human: web3の未来を4つの要点にまとめてください。\n",
            "AI:  web3の未来を4つの要点にまとめると、次のようになります：1. 個人のプライバシーを尊重する分散型ネットワークの普及。2. ブロックチェーンを利用した権利の管理。3. 住民が自分たちのデータを安全に主権的に管理できるようにすること。4. ブロックチェーンを利用した多様な商業アプリケーションの普及。\n",
            "Human: 1めの要点を400文字程度でまとめてください。\n",
            "AI:  1番目の要点は、個人のプライバシーを尊重する分散型ネットワークの普及です。web3を使用することで、個人の情報を管理する際に、情報が自動的に分散化されるほか、匿名性を確保します。分散型ネットワークを介して交換される情報は、政府の規制や組織のプライバシー基準に従って保護されます。これにより、プライバシーと安全性の損失を最小限に抑えることが可能となります。\n",
            "Human: 2めの要点を400文字程度でまとめてください。\n",
            "AI:\u001b[0m\n",
            "\n",
            "\u001b[1m> Finished chain.\u001b[0m\n"
          ]
        }
      ],
      "source": [
        "answer =conversation.predict_and_parse(input=\"2めの要点を400文字程度でまとめてください。\")\n",
        "\n",
        "res[\"2\"] = {}\n",
        "res[\"2\"][\"body\"] = answer"
      ]
    },
    {
      "cell_type": "code",
      "execution_count": 64,
      "metadata": {},
      "outputs": [
        {
          "data": {
            "text/plain": [
              "{'total': ' web3の未来を4つの要点にまとめると、次のようになります：1. 個人のプライバシーを尊重する分散型ネットワークの普及。2. ブロックチェーンを利用した権利の管理。3. 住民が自分たちのデータを安全に主権的に管理できるようにすること。4. ブロックチェーンを利用した多様な商業アプリケーションの普及。',\n",
              " '1': {'body': ' 1番目の要点は、個人のプライバシーを尊重する分散型ネットワークの普及です。web3を使用することで、個人の情報を管理する際に、情報が自動的に分散化されるほか、匿名性を確保します。分散型ネットワークを介して交換される情報は、政府の規制や組織のプライバシー基準に従って保護されます。これにより、プライバシーと安全性の損失を最小限に抑えることが可能となります。'},\n",
              " '2': {'body': ' 2番目の要点は、ブロックチェーンを利用した権利の管理です。web3の登場により、権利を実行する手法が改善されました。ブロックチェーン環境の中で、権利管理は効率的で、信頼性の高い手法を用いて行うことが可能となります。さらに、他人からまたは他の環境からの権利侵害を防ぐこともできます。権利の保護管理は、その記録が十分な場合にのみ適用されるため、操作が正確に行われず、技術的な問題が発生した場合でも必ず実行されることが保証されます。'}}"
            ]
          },
          "execution_count": 64,
          "metadata": {},
          "output_type": "execute_result"
        }
      ],
      "source": [
        "res"
      ]
    },
    {
      "cell_type": "code",
      "execution_count": 65,
      "metadata": {},
      "outputs": [
        {
          "name": "stdout",
          "output_type": "stream",
          "text": [
            "\n",
            "\n",
            "\u001b[1m> Entering new ConversationChain chain...\u001b[0m\n",
            "Prompt after formatting:\n",
            "\u001b[32;1m\u001b[1;3mThe following is a friendly conversation between a human and an AI. The AI is talkative and provides lots of specific details from its context. If the AI does not know the answer to a question, it truthfully says it does not know.\n",
            "\n",
            "Current conversation:\n",
            "\n",
            "Human: ブロックチェーンの専門家として答えてください。\n",
            "AI:  幸いながら、私はブロックチェーンの専門家ではありません。しかし、私のデータには、ブロックチェーンを実装するための有用な情報が含まれています。ブロックチェーンは、組織間の情報取引を安全に実現するために使用される分散型データベースです。すべてのノードが安全な加入プロトコルを通じて処理を確認し、データを維持します。\n",
            "Human: web3の未来を4つの要点にまとめてください。\n",
            "AI:  web3の未来を4つの要点にまとめると、次のようになります：1. 個人のプライバシーを尊重する分散型ネットワークの普及。2. ブロックチェーンを利用した権利の管理。3. 住民が自分たちのデータを安全に主権的に管理できるようにすること。4. ブロックチェーンを利用した多様な商業アプリケーションの普及。\n",
            "Human: 1めの要点を400文字程度でまとめてください。\n",
            "AI:  1番目の要点は、個人のプライバシーを尊重する分散型ネットワークの普及です。web3を使用することで、個人の情報を管理する際に、情報が自動的に分散化されるほか、匿名性を確保します。分散型ネットワークを介して交換される情報は、政府の規制や組織のプライバシー基準に従って保護されます。これにより、プライバシーと安全性の損失を最小限に抑えることが可能となります。\n",
            "Human: 2めの要点を400文字程度でまとめてください。\n",
            "AI:  2番目の要点は、ブロックチェーンを利用した権利の管理です。web3の登場により、権利を実行する手法が改善されました。ブロックチェーン環境の中で、権利管理は効率的で、信頼性の高い手法を用いて行うことが可能となります。さらに、他人からまたは他の環境からの権利侵害を防ぐこともできます。権利の保護管理は、その記録が十分な場合にのみ適用されるため、操作が正確に行われず、技術的な問題が発生した場合でも必ず実行されることが保証されます。\n",
            "Human: 3めの要点を400文字程度でまとめてください。\n",
            "AI:\u001b[0m\n",
            "\n",
            "\u001b[1m> Finished chain.\u001b[0m\n"
          ]
        }
      ],
      "source": [
        "answer =conversation.predict_and_parse(input=\"3めの要点を400文字程度でまとめてください。\")\n",
        "\n",
        "res[\"3\"] = {}\n",
        "res[\"3\"][\"body\"] = answer"
      ]
    },
    {
      "cell_type": "code",
      "execution_count": 66,
      "metadata": {},
      "outputs": [
        {
          "data": {
            "text/plain": [
              "{'total': ' web3の未来を4つの要点にまとめると、次のようになります：1. 個人のプライバシーを尊重する分散型ネットワークの普及。2. ブロックチェーンを利用した権利の管理。3. 住民が自分たちのデータを安全に主権的に管理できるようにすること。4. ブロックチェーンを利用した多様な商業アプリケーションの普及。',\n",
              " '1': {'body': ' 1番目の要点は、個人のプライバシーを尊重する分散型ネットワークの普及です。web3を使用することで、個人の情報を管理する際に、情報が自動的に分散化されるほか、匿名性を確保します。分散型ネットワークを介して交換される情報は、政府の規制や組織のプライバシー基準に従って保護されます。これにより、プライバシーと安全性の損失を最小限に抑えることが可能となります。'},\n",
              " '2': {'body': ' 2番目の要点は、ブロックチェーンを利用した権利の管理です。web3の登場により、権利を実行する手法が改善されました。ブロックチェーン環境の中で、権利管理は効率的で、信頼性の高い手法を用いて行うことが可能となります。さらに、他人からまたは他の環境からの権利侵害を防ぐこともできます。権利の保護管理は、その記録が十分な場合にのみ適用されるため、操作が正確に行われず、技術的な問題が発生した場合でも必ず実行されることが保証されます。'},\n",
              " '3': {'body': ' 3番目の要点は、住民が自分たちのデータを安全に主権的に管理できるようにすることです。web3なら、住民は自分の情報を保護するために、データを安全に管理することができます。住民はプライバシーを守るために、自分自身の情報を自分の主権下で管理する権利を持つようになります。さらに、web3のデータ処理は安全性の高い分散型エコシステムの中で行われます。これにより、個人情報の漏洩や盗難を防ぐことが可能となります。'}}"
            ]
          },
          "execution_count": 66,
          "metadata": {},
          "output_type": "execute_result"
        }
      ],
      "source": [
        "res"
      ]
    },
    {
      "cell_type": "code",
      "execution_count": 67,
      "metadata": {},
      "outputs": [
        {
          "name": "stdout",
          "output_type": "stream",
          "text": [
            "\n",
            "\n",
            "\u001b[1m> Entering new ConversationChain chain...\u001b[0m\n",
            "Prompt after formatting:\n",
            "\u001b[32;1m\u001b[1;3mThe following is a friendly conversation between a human and an AI. The AI is talkative and provides lots of specific details from its context. If the AI does not know the answer to a question, it truthfully says it does not know.\n",
            "\n",
            "Current conversation:\n",
            "\n",
            "Human: ブロックチェーンの専門家として答えてください。\n",
            "AI:  幸いながら、私はブロックチェーンの専門家ではありません。しかし、私のデータには、ブロックチェーンを実装するための有用な情報が含まれています。ブロックチェーンは、組織間の情報取引を安全に実現するために使用される分散型データベースです。すべてのノードが安全な加入プロトコルを通じて処理を確認し、データを維持します。\n",
            "Human: web3の未来を4つの要点にまとめてください。\n",
            "AI:  web3の未来を4つの要点にまとめると、次のようになります：1. 個人のプライバシーを尊重する分散型ネットワークの普及。2. ブロックチェーンを利用した権利の管理。3. 住民が自分たちのデータを安全に主権的に管理できるようにすること。4. ブロックチェーンを利用した多様な商業アプリケーションの普及。\n",
            "Human: 1めの要点を400文字程度でまとめてください。\n",
            "AI:  1番目の要点は、個人のプライバシーを尊重する分散型ネットワークの普及です。web3を使用することで、個人の情報を管理する際に、情報が自動的に分散化されるほか、匿名性を確保します。分散型ネットワークを介して交換される情報は、政府の規制や組織のプライバシー基準に従って保護されます。これにより、プライバシーと安全性の損失を最小限に抑えることが可能となります。\n",
            "Human: 2めの要点を400文字程度でまとめてください。\n",
            "AI:  2番目の要点は、ブロックチェーンを利用した権利の管理です。web3の登場により、権利を実行する手法が改善されました。ブロックチェーン環境の中で、権利管理は効率的で、信頼性の高い手法を用いて行うことが可能となります。さらに、他人からまたは他の環境からの権利侵害を防ぐこともできます。権利の保護管理は、その記録が十分な場合にのみ適用されるため、操作が正確に行われず、技術的な問題が発生した場合でも必ず実行されることが保証されます。\n",
            "Human: 3めの要点を400文字程度でまとめてください。\n",
            "AI:  3番目の要点は、住民が自分たちのデータを安全に主権的に管理できるようにすることです。web3なら、住民は自分の情報を保護するために、データを安全に管理することができます。住民はプライバシーを守るために、自分自身の情報を自分の主権下で管理する権利を持つようになります。さらに、web3のデータ処理は安全性の高い分散型エコシステムの中で行われます。これにより、個人情報の漏洩や盗難を防ぐことが可能となります。\n",
            "Human: 4めの要点を300文字程度でまとめてください。\n",
            "AI:\u001b[0m\n",
            "\n",
            "\u001b[1m> Finished chain.\u001b[0m\n"
          ]
        }
      ],
      "source": [
        "answer =conversation.predict_and_parse(input=\"4めの要点を300文字程度でまとめてください。\")\n",
        "\n",
        "res[\"4\"] = {}\n",
        "res[\"4\"][\"body\"] = answer"
      ]
    },
    {
      "cell_type": "code",
      "execution_count": 68,
      "metadata": {},
      "outputs": [
        {
          "data": {
            "text/plain": [
              "{'total': ' web3の未来を4つの要点にまとめると、次のようになります：1. 個人のプライバシーを尊重する分散型ネットワークの普及。2. ブロックチェーンを利用した権利の管理。3. 住民が自分たちのデータを安全に主権的に管理できるようにすること。4. ブロックチェーンを利用した多様な商業アプリケーションの普及。',\n",
              " '1': {'body': ' 1番目の要点は、個人のプライバシーを尊重する分散型ネットワークの普及です。web3を使用することで、個人の情報を管理する際に、情報が自動的に分散化されるほか、匿名性を確保します。分散型ネットワークを介して交換される情報は、政府の規制や組織のプライバシー基準に従って保護されます。これにより、プライバシーと安全性の損失を最小限に抑えることが可能となります。'},\n",
              " '2': {'body': ' 2番目の要点は、ブロックチェーンを利用した権利の管理です。web3の登場により、権利を実行する手法が改善されました。ブロックチェーン環境の中で、権利管理は効率的で、信頼性の高い手法を用いて行うことが可能となります。さらに、他人からまたは他の環境からの権利侵害を防ぐこともできます。権利の保護管理は、その記録が十分な場合にのみ適用されるため、操作が正確に行われず、技術的な問題が発生した場合でも必ず実行されることが保証されます。'},\n",
              " '3': {'body': ' 3番目の要点は、住民が自分たちのデータを安全に主権的に管理できるようにすることです。web3なら、住民は自分の情報を保護するために、データを安全に管理することができます。住民はプライバシーを守るために、自分自身の情報を自分の主権下で管理する権利を持つようになります。さらに、web3のデータ処理は安全性の高い分散型エコシステムの中で行われます。これにより、個人情報の漏洩や盗難を防ぐことが可能となります。'},\n",
              " '4': {'body': '  4番目の要点は、ブロックチェーンを利用した多様な商業アプリケーションの普及です。web3は、以前よりも多くの用途でブロックチェーンを使用できるようにしました。例えば、データ収集、検証、保存、預貯などにブロックチェーンを使用することができます。さらに、ブロックチェーンを使用することで、便利で安全な支払いシステムを導入できます。web3のテクノロジーは、将来さまざまなビジネスドメインをより安全なものにし、新たな可能性を生み出します。'}}"
            ]
          },
          "execution_count": 68,
          "metadata": {},
          "output_type": "execute_result"
        }
      ],
      "source": [
        "res"
      ]
    },
    {
      "cell_type": "code",
      "execution_count": 81,
      "metadata": {},
      "outputs": [],
      "source": [
        "llm = OpenAI(temperature=0.9)\n",
        "\n",
        "title = llm(res[\"1\"][\"body\"]+\"に10文字でタイトルをつけてください。\")\n",
        "res[\"1\"][\"title\"]=title.replace(\"\\n\", \"\")\n",
        "\n",
        "title = llm(res[\"2\"][\"body\"]+\"に10文字でタイトルをつけてください。\")\n",
        "res[\"2\"][\"title\"]=title.replace(\"\\n\", \"\")\n",
        "\n",
        "title = llm(res[\"3\"][\"body\"]+\"に10文字でタイトルをつけてください。\")\n",
        "res[\"3\"][\"title\"]=title.replace(\"\\n\", \"\")\n",
        "\n",
        "title = llm(res[\"4\"][\"body\"]+\"に10文字でタイトルをつけてください。\")\n",
        "res[\"4\"][\"title\"]=title.replace(\"\\n\", \"\")\n"
      ]
    },
    {
      "cell_type": "code",
      "execution_count": 82,
      "metadata": {},
      "outputs": [
        {
          "data": {
            "text/plain": [
              "{'total': ' web3の未来を4つの要点にまとめると、次のようになります：1. 個人のプライバシーを尊重する分散型ネットワークの普及。2. ブロックチェーンを利用した権利の管理。3. 住民が自分たちのデータを安全に主権的に管理できるようにすること。4. ブロックチェーンを利用した多様な商業アプリケーションの普及。',\n",
              " '1': {'body': ' 1番目の要点は、個人のプライバシーを尊重する分散型ネットワークの普及です。web3を使用することで、個人の情報を管理する際に、情報が自動的に分散化されるほか、匿名性を確保します。分散型ネットワークを介して交換される情報は、政府の規制や組織のプライバシー基準に従って保護されます。これにより、プライバシーと安全性の損失を最小限に抑えることが可能となります。',\n",
              "  'title': '「プライバシー尊重のWeb3」'},\n",
              " '2': {'body': ' 2番目の要点は、ブロックチェーンを利用した権利の管理です。web3の登場により、権利を実行する手法が改善されました。ブロックチェーン環境の中で、権利管理は効率的で、信頼性の高い手法を用いて行うことが可能となります。さらに、他人からまたは他の環境からの権利侵害を防ぐこともできます。権利の保護管理は、その記録が十分な場合にのみ適用されるため、操作が正確に行われず、技術的な問題が発生した場合でも必ず実行されることが保証されます。',\n",
              "  'title': '「ブロックチェーンによる権利管理」'},\n",
              " '3': {'body': ' 3番目の要点は、住民が自分たちのデータを安全に主権的に管理できるようにすることです。web3なら、住民は自分の情報を保護するために、データを安全に管理することができます。住民はプライバシーを守るために、自分自身の情報を自分の主権下で管理する権利を持つようになります。さらに、web3のデータ処理は安全性の高い分散型エコシステムの中で行われます。これにより、個人情報の漏洩や盗難を防ぐことが可能となります。',\n",
              "  'title': 'web3による安全なデータ管理'},\n",
              " '4': {'body': '  4番目の要点は、ブロックチェーンを利用した多様な商業アプリケーションの普及です。web3は、以前よりも多くの用途でブロックチェーンを使用できるようにしました。例えば、データ収集、検証、保存、預貯などにブロックチェーンを使用することができます。さらに、ブロックチェーンを使用することで、便利で安全な支払いシステムを導入できます。web3のテクノロジーは、将来さまざまなビジネスドメインをより安全なものにし、新たな可能性を生み出します。',\n",
              "  'title': '『ブロックチェーンで新たな可能性』'}}"
            ]
          },
          "execution_count": 82,
          "metadata": {},
          "output_type": "execute_result"
        }
      ],
      "source": [
        "res"
      ]
    },
    {
      "cell_type": "code",
      "execution_count": 83,
      "metadata": {},
      "outputs": [],
      "source": [
        "import json\n",
        "\n",
        "\n",
        "path = './res.json'\n",
        "json_file = open(path, mode=\"w\")\n",
        "json.dump(res, json_file, indent=2, ensure_ascii=False)\n",
        "json_file.close()"
      ]
    }
  ],
  "metadata": {
    "colab": {
      "provenance": []
    },
    "kernelspec": {
      "display_name": "Python 3",
      "language": "python",
      "name": "python3"
    },
    "language_info": {
      "codemirror_mode": {
        "name": "ipython",
        "version": 3
      },
      "file_extension": ".py",
      "mimetype": "text/x-python",
      "name": "python",
      "nbconvert_exporter": "python",
      "pygments_lexer": "ipython3",
      "version": "3.10.6"
    },
    "vscode": {
      "interpreter": {
        "hash": "949777d72b0d2535278d3dc13498b2535136f6dfe0678499012e853ee9abcab1"
      }
    }
  },
  "nbformat": 4,
  "nbformat_minor": 0
}
