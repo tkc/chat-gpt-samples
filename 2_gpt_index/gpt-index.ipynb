{
 "cells": [
  {
   "cell_type": "code",
   "execution_count": 1,
   "metadata": {},
   "outputs": [
    {
     "name": "stdout",
     "output_type": "stream",
     "text": [
      "Requirement already satisfied: pip in /usr/local/lib/python3.10/site-packages (23.0.1)\n",
      "Note: you may need to restart the kernel to use updated packages.\n"
     ]
    }
   ],
   "source": [
    "%pip install --upgrade pip"
   ]
  },
  {
   "cell_type": "code",
   "execution_count": 1,
   "metadata": {},
   "outputs": [
    {
     "name": "stdout",
     "output_type": "stream",
     "text": [
      "Requirement already satisfied: openai in /usr/local/lib/python3.10/site-packages (0.26.4)\n",
      "Requirement already satisfied: tqdm in /usr/local/lib/python3.10/site-packages (from openai) (4.64.1)\n",
      "Requirement already satisfied: aiohttp in /usr/local/lib/python3.10/site-packages (from openai) (3.8.3)\n",
      "Requirement already satisfied: requests>=2.20 in /usr/local/lib/python3.10/site-packages (from openai) (2.28.2)\n",
      "Requirement already satisfied: idna<4,>=2.5 in /usr/local/lib/python3.10/site-packages (from requests>=2.20->openai) (3.4)\n",
      "Requirement already satisfied: urllib3<1.27,>=1.21.1 in /usr/local/lib/python3.10/site-packages (from requests>=2.20->openai) (1.26.12)\n",
      "Requirement already satisfied: charset-normalizer<4,>=2 in /usr/local/lib/python3.10/site-packages (from requests>=2.20->openai) (2.1.1)\n",
      "Requirement already satisfied: certifi>=2017.4.17 in /usr/local/lib/python3.10/site-packages (from requests>=2.20->openai) (2022.12.7)\n",
      "Requirement already satisfied: async-timeout<5.0,>=4.0.0a3 in /usr/local/lib/python3.10/site-packages (from aiohttp->openai) (4.0.2)\n",
      "Requirement already satisfied: multidict<7.0,>=4.5 in /usr/local/lib/python3.10/site-packages (from aiohttp->openai) (6.0.4)\n",
      "Requirement already satisfied: aiosignal>=1.1.2 in /usr/local/lib/python3.10/site-packages (from aiohttp->openai) (1.3.1)\n",
      "Requirement already satisfied: yarl<2.0,>=1.0 in /usr/local/lib/python3.10/site-packages (from aiohttp->openai) (1.8.2)\n",
      "Requirement already satisfied: frozenlist>=1.1.1 in /usr/local/lib/python3.10/site-packages (from aiohttp->openai) (1.3.3)\n",
      "Requirement already satisfied: attrs>=17.3.0 in /usr/local/lib/python3.10/site-packages (from aiohttp->openai) (22.2.0)\n",
      "Note: you may need to restart the kernel to use updated packages.\n",
      "Requirement already satisfied: llama-index in /usr/local/lib/python3.10/site-packages (0.4.9)\n",
      "Requirement already satisfied: transformers in /usr/local/lib/python3.10/site-packages (from llama-index) (4.27.0.dev0)\n",
      "Requirement already satisfied: dataclasses-json in /usr/local/lib/python3.10/site-packages (from llama-index) (0.5.7)\n",
      "Requirement already satisfied: openai>=0.26.4 in /usr/local/lib/python3.10/site-packages (from llama-index) (0.26.4)\n",
      "Requirement already satisfied: nltk in /usr/local/lib/python3.10/site-packages (from llama-index) (3.8.1)\n",
      "Requirement already satisfied: tenacity<8.2.0 in /usr/local/lib/python3.10/site-packages (from llama-index) (8.1.0)\n",
      "Requirement already satisfied: langchain in /usr/local/lib/python3.10/site-packages (from llama-index) (0.0.77)\n",
      "Requirement already satisfied: tiktoken in /usr/local/lib/python3.10/site-packages (from llama-index) (0.2.0)\n",
      "Requirement already satisfied: pandas in /usr/local/lib/python3.10/site-packages (from llama-index) (1.5.3)\n",
      "Requirement already satisfied: numpy in /usr/local/lib/python3.10/site-packages (from llama-index) (1.23.5)\n",
      "Requirement already satisfied: aiohttp in /usr/local/lib/python3.10/site-packages (from openai>=0.26.4->llama-index) (3.8.3)\n",
      "Requirement already satisfied: requests>=2.20 in /usr/local/lib/python3.10/site-packages (from openai>=0.26.4->llama-index) (2.28.2)\n",
      "Requirement already satisfied: tqdm in /usr/local/lib/python3.10/site-packages (from openai>=0.26.4->llama-index) (4.64.1)\n",
      "Requirement already satisfied: marshmallow<4.0.0,>=3.3.0 in /usr/local/lib/python3.10/site-packages (from dataclasses-json->llama-index) (3.19.0)\n",
      "Requirement already satisfied: typing-inspect>=0.4.0 in /usr/local/lib/python3.10/site-packages (from dataclasses-json->llama-index) (0.8.0)\n",
      "Requirement already satisfied: marshmallow-enum<2.0.0,>=1.5.1 in /usr/local/lib/python3.10/site-packages (from dataclasses-json->llama-index) (1.5.1)\n",
      "Requirement already satisfied: SQLAlchemy<2,>=1 in /usr/local/lib/python3.10/site-packages (from langchain->llama-index) (1.4.46)\n",
      "Requirement already satisfied: PyYAML<7,>=6 in /usr/local/lib/python3.10/site-packages (from langchain->llama-index) (6.0)\n",
      "Requirement already satisfied: pydantic<2,>=1 in /usr/local/lib/python3.10/site-packages (from langchain->llama-index) (1.10.4)\n",
      "Requirement already satisfied: click in /usr/local/lib/python3.10/site-packages (from nltk->llama-index) (8.1.3)\n",
      "Requirement already satisfied: regex>=2021.8.3 in /usr/local/lib/python3.10/site-packages (from nltk->llama-index) (2022.10.31)\n",
      "Requirement already satisfied: joblib in /usr/local/lib/python3.10/site-packages (from nltk->llama-index) (1.2.0)\n",
      "Requirement already satisfied: python-dateutil>=2.8.1 in /usr/local/lib/python3.10/site-packages (from pandas->llama-index) (2.8.2)\n",
      "Requirement already satisfied: pytz>=2020.1 in /usr/local/lib/python3.10/site-packages (from pandas->llama-index) (2022.7.1)\n",
      "Requirement already satisfied: blobfile>=2 in /usr/local/lib/python3.10/site-packages (from tiktoken->llama-index) (2.0.1)\n",
      "Requirement already satisfied: tokenizers!=0.11.3,<0.14,>=0.11.1 in /usr/local/lib/python3.10/site-packages (from transformers->llama-index) (0.13.2)\n",
      "Requirement already satisfied: filelock in /usr/local/lib/python3.10/site-packages (from transformers->llama-index) (3.9.0)\n",
      "Requirement already satisfied: huggingface-hub<1.0,>=0.11.0 in /usr/local/lib/python3.10/site-packages (from transformers->llama-index) (0.12.0)\n",
      "Requirement already satisfied: packaging>=20.0 in /usr/local/lib/python3.10/site-packages (from transformers->llama-index) (21.3)\n",
      "Requirement already satisfied: lxml~=4.9 in /usr/local/lib/python3.10/site-packages (from blobfile>=2->tiktoken->llama-index) (4.9.2)\n",
      "Requirement already satisfied: urllib3<3,>=1.25.3 in /usr/local/lib/python3.10/site-packages (from blobfile>=2->tiktoken->llama-index) (1.26.12)\n",
      "Requirement already satisfied: pycryptodomex~=3.8 in /usr/local/lib/python3.10/site-packages (from blobfile>=2->tiktoken->llama-index) (3.17)\n",
      "Requirement already satisfied: typing-extensions>=3.7.4.3 in /usr/local/lib/python3.10/site-packages (from huggingface-hub<1.0,>=0.11.0->transformers->llama-index) (4.4.0)\n",
      "Requirement already satisfied: pyparsing!=3.0.5,>=2.0.2 in /usr/local/lib/python3.10/site-packages (from packaging>=20.0->transformers->llama-index) (3.0.9)\n",
      "Requirement already satisfied: six>=1.5 in /usr/local/lib/python3.10/site-packages (from python-dateutil>=2.8.1->pandas->llama-index) (1.16.0)\n",
      "Requirement already satisfied: idna<4,>=2.5 in /usr/local/lib/python3.10/site-packages (from requests>=2.20->openai>=0.26.4->llama-index) (3.4)\n",
      "Requirement already satisfied: certifi>=2017.4.17 in /usr/local/lib/python3.10/site-packages (from requests>=2.20->openai>=0.26.4->llama-index) (2022.12.7)\n",
      "Requirement already satisfied: charset-normalizer<4,>=2 in /usr/local/lib/python3.10/site-packages (from requests>=2.20->openai>=0.26.4->llama-index) (2.1.1)\n",
      "Requirement already satisfied: greenlet!=0.4.17 in /usr/local/lib/python3.10/site-packages (from SQLAlchemy<2,>=1->langchain->llama-index) (2.0.2)\n",
      "Requirement already satisfied: mypy-extensions>=0.3.0 in /usr/local/lib/python3.10/site-packages (from typing-inspect>=0.4.0->dataclasses-json->llama-index) (1.0.0)\n",
      "Requirement already satisfied: frozenlist>=1.1.1 in /usr/local/lib/python3.10/site-packages (from aiohttp->openai>=0.26.4->llama-index) (1.3.3)\n",
      "Requirement already satisfied: multidict<7.0,>=4.5 in /usr/local/lib/python3.10/site-packages (from aiohttp->openai>=0.26.4->llama-index) (6.0.4)\n",
      "Requirement already satisfied: attrs>=17.3.0 in /usr/local/lib/python3.10/site-packages (from aiohttp->openai>=0.26.4->llama-index) (22.2.0)\n",
      "Requirement already satisfied: yarl<2.0,>=1.0 in /usr/local/lib/python3.10/site-packages (from aiohttp->openai>=0.26.4->llama-index) (1.8.2)\n",
      "Requirement already satisfied: async-timeout<5.0,>=4.0.0a3 in /usr/local/lib/python3.10/site-packages (from aiohttp->openai>=0.26.4->llama-index) (4.0.2)\n",
      "Requirement already satisfied: aiosignal>=1.1.2 in /usr/local/lib/python3.10/site-packages (from aiohttp->openai>=0.26.4->llama-index) (1.3.1)\n",
      "Note: you may need to restart the kernel to use updated packages.\n",
      "Requirement already satisfied: wikipedia in /usr/local/lib/python3.10/site-packages (1.4.0)\n",
      "Requirement already satisfied: requests<3.0.0,>=2.0.0 in /usr/local/lib/python3.10/site-packages (from wikipedia) (2.28.2)\n",
      "Requirement already satisfied: beautifulsoup4 in /usr/local/lib/python3.10/site-packages (from wikipedia) (4.11.1)\n",
      "Requirement already satisfied: idna<4,>=2.5 in /usr/local/lib/python3.10/site-packages (from requests<3.0.0,>=2.0.0->wikipedia) (3.4)\n",
      "Requirement already satisfied: certifi>=2017.4.17 in /usr/local/lib/python3.10/site-packages (from requests<3.0.0,>=2.0.0->wikipedia) (2022.12.7)\n",
      "Requirement already satisfied: urllib3<1.27,>=1.21.1 in /usr/local/lib/python3.10/site-packages (from requests<3.0.0,>=2.0.0->wikipedia) (1.26.12)\n",
      "Requirement already satisfied: charset-normalizer<4,>=2 in /usr/local/lib/python3.10/site-packages (from requests<3.0.0,>=2.0.0->wikipedia) (2.1.1)\n",
      "Requirement already satisfied: soupsieve>1.2 in /usr/local/lib/python3.10/site-packages (from beautifulsoup4->wikipedia) (2.3.2.post1)\n",
      "Note: you may need to restart the kernel to use updated packages.\n"
     ]
    }
   ],
   "source": [
    "%pip install openai\n",
    "%pip install llama-index\n",
    "%pip install wikipedia"
   ]
  },
  {
   "attachments": {},
   "cell_type": "markdown",
   "metadata": {},
   "source": [
    "## ダミーデータ生成"
   ]
  },
  {
   "cell_type": "code",
   "execution_count": 11,
   "metadata": {},
   "outputs": [],
   "source": [
    "import wikipedia\n",
    "wikipedia.set_lang(\"ja\")\n"
   ]
  },
  {
   "attachments": {},
   "cell_type": "markdown",
   "metadata": {},
   "source": [
    "wikipediaよりデータ取得"
   ]
  },
  {
   "cell_type": "code",
   "execution_count": 13,
   "metadata": {},
   "outputs": [
    {
     "name": "stdout",
     "output_type": "stream",
     "text": [
      "Web3（ウェブスリー）とは、次世代のワールド・ワイド・ウェブとして提唱されている概念である。分散化・ブロックチェーン・トークンベース経済などの要素が取り入れられており、一部の技術者やジャーナリストは、「ビッグ・テック」と呼ばれる大手IT企業にデータやコンテンツが集中しているとされるWeb 2.0とこれを対比させている。「Web3」という用語は、2014年にイーサリアムの共同設立者であるギャビン・ウッドによって作られ、2021年に暗号通貨愛好家や大手IT企業、およびベンチャーキャピタルなどから関心を集めた。Web 3.0とも呼ばれる。\n",
      "一部の評論家は、「Web3は、ユーザーにより優れたデータ・セキュリティ、スケーラビリティ、プライバシーを提供し、第三者が簡単にアクセスできる方法でデータが保存されなくなる為、ユーザーは民間および政府の監視からより適切に保護される。」と評価している。一方、分散型ウェブについて、モデレーションの低下や有害なコンテンツの拡散、少数の投資家や個人への富の集中、より広範なデータ収集によるプライバシーの侵害などの可能性を懸念する声もある。また、イーロン・マスクやジャック・ドーシーなど、Web3は単なるバズワードやマーケティング用語でしかないと主張する者もいる。そして情報の双方向性を特徴としたWeb2.0では、ブログやwikiやBitTorrent（P2P）などの日常的に利用するウェブサービス群があったが、Ｗeb3にはそれらが見当たらないという指摘もある。\n",
      "Web3（ウェブスリー）とは、次世代のワールド・ワイド・ウェブとして提唱されている概念である。分散化・ブロックチェーン・トークンベース経済などの要素が取り入れられており、一部の技術者やジャーナリストは、「ビッグ・テック」と呼ばれる大手IT企業にデータやコンテンツが集中しているとされるWeb 2.0とこれを対比させている。「Web3」という用語は、2014年にイーサリアムの共同設立者であるギャビン・ウッドによって作られ、2021年に暗号通貨愛好家や大手IT企業、およびベンチャーキャピタルなどから関心を集めた。Web 3.0とも呼ばれる。\n",
      "一部の評論家は、「Web3は、ユーザーにより優れたデータ・セキュリティ、スケーラビリティ、プライバシーを提供し、第三者が簡単にアクセスできる方法でデータが保存されなくなる為、ユーザーは民間および政府の監視からより適切に保護される。」と評価している。一方、分散型ウェブについて、モデレーションの低下や有害なコンテンツの拡散、少数の投資家や個人への富の集中、より広範なデータ収集によるプライバシーの侵害などの可能性を懸念する声もある。また、イーロン・マスクやジャック・ドーシーなど、Web3は単なるバズワードやマーケティング用語でしかないと主張する者もいる。そして情報の双方向性を特徴としたWeb2.0では、ブログやwikiやBitTorrent（P2P）などの日常的に利用するウェブサービス群があったが、Ｗeb3にはそれらが見当たらないという指摘もある。\n",
      "\n",
      "\n",
      "== 背景 ==\n",
      "\n",
      "「Web 1.0」と「Web 2.0」は、さまざまな技術と形式を通じて進化してきたワールド・ワイド・ウェブの歴史上の期間を指す。Web 1.0は、静的ウェブページで構成されるウェブサイトが大多数を占め、ユーザーのほとんどがコンテンツの生産者ではなく消費者であった1991年から2004年頃までの期間を指す。Web 2.0は、「プラットフォームとしてのウェブ」という構想に基づき、フォーラムやソーシャルメディア、ネットワーキングサービス、ブログ、およびウィキなどのサービスにアップロードされたユーザー生成コンテンツを中心としたものである。これは、2004年頃に始まり、現在まで続いていると考えられている。\n",
      "\n",
      "\n",
      "== 用語 ==\n",
      "Web3は、ティム・バーナーズ＝リーが1999年に提唱し、2006年にWeb 3.0の構成要素に位置づけたセマンティック・ウェブとは異なる。Web3という用語は、イーサリアムの共同設立者であるギャビン・ウッドが、2014年に「ブロックチェーンに基づく分散型オンライン・エコシステム」を指して作った造語である。この構想は2021年に人気を博し、暗号通貨愛好家が関心を寄せ、著名な技術者や企業が投資を行ったことにより、特に同年末に急速に注目を浴びた。ベンチャーキャピタルのアンドリーセン・ホロウィッツの幹部は、2021年10月にワシントンD.C.を訪れ、政策立案者が取り組んできたインターネット規制に関する問題の解決策になりうるとして、Web3のロビー活動を行った。\n",
      "一部の作家は、Web3を指してWeb 3.0という用語を使っており、この2つの概念の混同につながっている。さらに、Web3の構想の中には、セマンティック・ウェブに関連するアイデアも含まれている。\n",
      "\n",
      "\n",
      "== 構想 ==\n",
      "Web3の具体的な構想は人によって異なり、ブルームバーグはこの用語について「漠然としている」と評している。しかしながら、基本的には分散化（英: decentralization、非中央集権・脱中央集権）というアイデアに準拠しており、さまざまな暗号通貨や、非代替性トークン（英: non-fungible token、NFT）などのブロックチェーン技術が組み込まれていることが多い。ブルームバーグは、Web3について「オンラインで行うほぼすべてのことのメカニズムに、トークンという形で金融資産を組み込むアイデアである」と説明している。ケンブリッジ大学のベネット公共政策研究所が公表した政策概要では、「ブロックチェーン、スマート・コントラクト、暗号通貨を含む、ウェブの技術・法律・決済インフラの次世代型と目されるもの」と定義されている。Web3を実現する基本的なアーキテクチャは、分散型（decentralized）、または連合型（federated）のプラットフォーム、安全な相互運用性、および分散型台帳技術による検証可能なコンピューティングの3つとされる。\n",
      "いくつかのビジョンは、分散型自律組織（DAOs）のコンセプトに基づいている。また、銀行や政府を介さずに通貨を交換可能なシステムである分散型金融（DeFi）も重要なコンセプトとなっている。自己主権型アイデンティティでは、OAuthのような、信頼できる第三者機関と接触してアイデンティティを評価する認証システムに依存することなく、ユーザーが自分自身を識別することができる。一部の研究者は、Web3はWeb 2.0のウェブサイトと連動し、Web 2.0のウェブサイトはサービスを適切に維持するためにWeb3の技術を採用する可能性が高いと主張している。\n",
      "\n",
      "\n",
      "== 反応 ==\n",
      "技術者やジャーナリストは、Web3について、少数の「ビッグ・テック」企業にウェブが過度に集中しているという懸念に対する解決策になりうると述べている。また、現行のWeb 2.0のプラットフォームで可能な以上に、データ・セキュリティ、スケーラビリティ、プライバシーを向上させられるという見解も表明している。ブルームバーグは、懐疑的な意見として「暗号通貨トレーダーを対象としたニッチなツール以上の用途を証明するには長い道のりだ」と述べている。ニューヨーク・タイムズは、複数の投資家がWeb3が「インターネットの未来」であることに270億ドルを賭けていると報じている。\n",
      "RedditやDiscordなどの一部のWeb 2.0企業は、Web3の技術を自社のプラットフォームに導入することを検討している。2021年11月8日、OpenFeintのCEOであるジェイソン・シトロン（英: Jason Citron）は、Discordが自社プラットフォームへの暗号通貨ウォレットの導入を検討していることを示唆するスクリーンショットをツイートした。その2日後、ユーザーから激しい反発を受けたDiscordは、そのような技術を導入する計画はなく、社内で開催されたハッカソンで作られた社内向けのコンセプトであると表明した。\n",
      "ニュースサイトの『The Conversation』で紹介された一部の法学者は、分散型ウェブの規制の困難さに懸念を示しており、サイバー犯罪やネットいじめ、ヘイトスピーチ、児童虐待画像の拡散などの防止が困難になる可能性があると報告している。しかし、「インターネットが既存の権力構造を打破し、普通の人々に力が与えられるという、過去のサイバー・リバタリアンの希望と見解を表している」とも述べられている。他の批評家は、Web3について、「暗号通貨バブルの一部、あるいは過剰にブロックチェーンを推進する有害な風潮、特にNFTの延長線上にある」と評している。また、暗号通貨やNFTが環境に与える影響について懸念を示している批評家も存在する。暗号通貨の効率はさまざまであり、プルーフ・オブ・ステーク（英: Proof-of-stake、PoS）は、より普及しているプルーフ・オブ・ワーク（英: Proof-of-work、PoW）よりもエネルギー消費が少ないように設計されているが、これが実際にどの程度安全で分散化されているのかについては意見が分かれている。また、Web3とその関連技術は無限連鎖講であるとの意見も見られる。\n",
      "Twitterの共同設立者で元CEOのジャック・ドーシーは、Web3について「ベンチャーキャピタルのおもちゃ」と断じた。ドーシーは、Web3はインターネットを民主化せず、その代わりにFacebookのようなプレイヤーからアンドリーセン・ホロウィッツのようなベンチャーキャピタルに権力を移すだろうとの見方を示している。\n",
      "2021年12月14日、ソフトウェアエンジニアのモリー・ホワイトは、暗号通貨とWeb3に関わる「著名な詐欺やラグプル」を記録した風刺サイト『Web3 Is Going Just Great』を立ち上げた。\n",
      "\n",
      "\n",
      "=== バズワードであるという評価 ===\n",
      "『The Register』に寄稿したリアム・プルーブン（英: Liam Proven）は、「Web3は神話、おとぎ話。『経済学者に育つように』と親が子供に夜な夜な語るようなものだ」と結論づけている。\n",
      "2021年、スペースXとテスラのCEOであるイーロン・マスクは、「現実のものというより、マーケティングのためのバズワードのようだ」とツイートし、懐疑的な見方を示した。\n",
      "2021年11月、コーネル大学のジェームス・グリメルマン（英: James Grimmelmann）は、Web3はベーパーウェアであると述べた上で、「現行のインターネットの気に入らない点を、たとえ矛盾していても修正してくれる、約束された未来のインターネット」であると評した。また、インターネットをブロックチェーンに特化したインフラに移行すると、むしろ現行のインターネットよりも中央集権化し、より多くのデータ収集が発生すると主張した。\n",
      "ソフトウェアエンジニアのステファン・ディール（英: Stephen Diehl）は、「一般人に定着した暗号資産に対するネガティブなイメージを、既存の大手IT企業の覇権を揺るがすという偽りの物語に作り変えようとする、くだらないマーケティング・キャンペーンである」と評している。\n",
      "\n",
      "\n",
      "=== 分散化されていないという評価 ===\n",
      "ケビン・ワーバッハは、「いわゆる『Web 3.0』のソリューションの多くは、見かけほど分散化されておらず、また、マス市場向けに十分な拡張性・安全性・アクセス性を示すに至っていないものもある」と述べており、さらに「変わるかもしれないが、これらの制限がすべて克服されるとも限らない」と付け加えている。\n",
      "2022年初頭、Signalの作成者であるモクシー・マーリンスパイクは、AlchemyやInfuraなどの企業が主に支配しているブロックチェーンAPI、およびBinance、Coinbase、MetaMask、OpenSeaなどが主に支配している暗号通貨取引所、そしてTetherによって支配されているステーブルコイン市場など、暗号通貨分野の結合により、Web3は見た目ほど分散化されていないと言明した。また、この「新しいウェブ」は「古いウェブ」を彷彿とさせるとも述べている。そして、Web3とかつてのP2Pの分散アプリを比較して、Web3を重量級リバタリアン的、P2Pを軽量級共産主義的と例えた。\n",
      "\n",
      "\n",
      "== 脚注 ==\n",
      "\n",
      "\n",
      "== 関連項目 ==\n",
      "分散型ソーシャル・ネットワーク\n",
      "有効需要\n",
      "セマンティック・ウェブ\n",
      "非代替性トークン (NFT)\n",
      "Web 2.0\n",
      "\n",
      "\n",
      "== 外部リンク ==\n",
      "Web3 Foundation（英語）\n",
      "Web3 Is Going Just Great（英語）\n"
     ]
    }
   ],
   "source": [
    "wp = wikipedia.page(\"web3\")\n",
    "\n",
    "print(wp.summary)\n",
    "print(wp.content)"
   ]
  },
  {
   "attachments": {},
   "cell_type": "markdown",
   "metadata": {},
   "source": [
    "ダミーデータ生成"
   ]
  },
  {
   "cell_type": "code",
   "execution_count": 35,
   "metadata": {},
   "outputs": [],
   "source": [
    "dummy_summary = wp.summary.replace('Web3', 'Web4').replace('Web 3.0', 'Web 4.0')\n",
    "dummy_content = wp.content.replace('Web3', 'Web4').replace('Web 3.0', 'Web 4.0')\n"
   ]
  },
  {
   "cell_type": "code",
   "execution_count": 36,
   "metadata": {},
   "outputs": [],
   "source": [
    "with open('./data/summary.txt', 'w', encoding='utf-8') as f:\n",
    "   f.write(dummy_summary)\n",
    "\n",
    "with open('./data/content.txt', 'w', encoding='utf-8') as f:\n",
    "   f.write(dummy_content)"
   ]
  },
  {
   "attachments": {},
   "cell_type": "markdown",
   "metadata": {},
   "source": [
    "## GPT-index学習"
   ]
  },
  {
   "cell_type": "code",
   "execution_count": 46,
   "metadata": {},
   "outputs": [],
   "source": [
    "import openai\n",
    "import os\n",
    "from dotenv import load_dotenv\n",
    "\n",
    "load_dotenv()\n",
    "openai.api_key = os.environ['API_KEY']\n",
    "os.environ['OPENAI_API_KEY'] = os.environ['API_KEY']"
   ]
  },
  {
   "cell_type": "code",
   "execution_count": 40,
   "metadata": {},
   "outputs": [
    {
     "name": "stderr",
     "output_type": "stream",
     "text": [
      "INFO:root:> [build_index_from_documents] Total LLM token usage: 0 tokens\n",
      "INFO:root:> [build_index_from_documents] Total embedding token usage: 6393 tokens\n"
     ]
    }
   ],
   "source": [
    "from llama_index import GPTSimpleVectorIndex, SimpleDirectoryReader\n",
    "documents = SimpleDirectoryReader('data').load_data()\n",
    "index = GPTSimpleVectorIndex(documents)"
   ]
  },
  {
   "cell_type": "code",
   "execution_count": 24,
   "metadata": {},
   "outputs": [
    {
     "name": "stderr",
     "output_type": "stream",
     "text": [
      "INFO:root:> [query] Total LLM token usage: 1083 tokens\n",
      "INFO:root:> [query] Total embedding token usage: 10 tokens\n"
     ]
    }
   ],
   "source": [
    "response = index.query(\"Web4とはなんですか?\")\n"
   ]
  },
  {
   "cell_type": "code",
   "execution_count": 25,
   "metadata": {},
   "outputs": [
    {
     "data": {
      "text/plain": [
       "'\\nWeb4とは、次世代のワールド・ワイド・ウェブとして提唱されている概念であり、分散化・ブロックチェーン・トークンベース経済などの要素を取り入れている。Web4は、ユーザーにより優れたデータ・セキュリティ、スケーラビリティ、プライバシーを提供し、第三者が簡単にアクセスできないようにデータが保存されることで、ユーザーは民間および政府の監視からより適切に保護されると評価されている。'"
      ]
     },
     "execution_count": 25,
     "metadata": {},
     "output_type": "execute_result"
    }
   ],
   "source": [
    "response.response\n"
   ]
  },
  {
   "cell_type": "code",
   "execution_count": 26,
   "metadata": {},
   "outputs": [
    {
     "data": {
      "text/plain": [
       "[SourceNode(source_text='Web4（ウェブスリー）とは、次世代のワールド・ワイド・ウェブとして提唱されている概念である。分散化・ブロックチェーン・トークンベース経済などの要素が取り入れられており、一部の技術者やジャーナリストは、「ビッグ・テック」と呼ばれる大手IT企業にデータやコンテンツが集中しているとされるWeb 2.0とこれを対比させている。「Web4」という用語は、2014年にイーサリアムの共同設立者であるギャビン・ウッドによって作られ、2021年に暗号通貨愛好家や大手IT企業、およびベンチャーキャピタルなどから関心を集めた。Web 3.0とも呼ばれる。\\n一部の評論家は、「Web4は、ユーザーにより優れたデータ・セキュリティ、スケーラビリティ、プライバシーを提供し、第三者が簡単にアクセスできる方法でデータが保存されなくなる為、ユーザーは民間および政府の監視からより適切に保護される。」と評価している。一方、分散型ウェブについて、モデレーションの低下や有害なコンテンツの拡散、少数の投資家や個人への富の集中、より広範なデータ収集によるプライバシーの侵害などの可能性を懸念する声もある。また、イーロン・マスクやジャック・ドーシーなど、Web4は単なるバズワードやマーケティング用語でしかないと主張する者もいる。そして情報の双方向性を特徴としたWeb2.0では、ブログやwikiやBitTorrent（P2P）などの日常的に利用するウェブサービス群があったが、Ｗeb3にはそれらが見当たらないという指摘もある。', doc_id='072b039c-7af9-4d30-995e-49b7139aa932', extra_info=None, node_info={'start': 0, 'end': 647}, similarity=0.8880160949232904)]"
      ]
     },
     "execution_count": 26,
     "metadata": {},
     "output_type": "execute_result"
    }
   ],
   "source": [
    "response.source_nodes\n"
   ]
  },
  {
   "cell_type": "code",
   "execution_count": 27,
   "metadata": {},
   "outputs": [],
   "source": [
    "response.extra_info\n"
   ]
  },
  {
   "cell_type": "code",
   "execution_count": 41,
   "metadata": {},
   "outputs": [
    {
     "name": "stderr",
     "output_type": "stream",
     "text": [
      "INFO:root:> [query] Total LLM token usage: 1046 tokens\n",
      "INFO:root:> [query] Total embedding token usage: 18 tokens\n"
     ]
    },
    {
     "data": {
      "text/plain": [
       "'\\nWeb4は2014年にイーサリアムの共同設立者であるギャビン・ウッドによって作られ、2021年に暗号通貨愛好家や大手IT企業、およびベンチャーキャピタルなどから関心を集めた。Web4は、分散化・ブロックチェーン・トークンベース経済などの要素を取り入れており、次世代のワールド・ワイド・ウェブとして提唱されている。'"
      ]
     },
     "execution_count": 41,
     "metadata": {},
     "output_type": "execute_result"
    }
   ],
   "source": [
    "response = index.query(\"Web4の歴史を教えてください。\")\n",
    "response.response\n"
   ]
  },
  {
   "cell_type": "code",
   "execution_count": 42,
   "metadata": {},
   "outputs": [
    {
     "name": "stderr",
     "output_type": "stream",
     "text": [
      "INFO:root:> [query] Total LLM token usage: 1109 tokens\n",
      "INFO:root:> [query] Total embedding token usage: 19 tokens\n"
     ]
    },
    {
     "data": {
      "text/plain": [
       "'\\nWeb4は、分散化、ブロックチェーン、トークンベース経済などの要素を取り入れた次世代のワールド・ワイド・ウェブとして提唱されている概念です。2014年にイーサリアムの共同設立者であるギャビン・ウッドによって作られ、2021年に暗号通貨愛好家や大手IT企業、およびベンチャーキャピタルなどから関心を集めました。Web4は、ユーザーにより優れたデータ・セキュリティ、スケーラビリティ、プライバシーを提供し、第三者が簡'"
      ]
     },
     "execution_count": 42,
     "metadata": {},
     "output_type": "execute_result"
    }
   ],
   "source": [
    "response = index.query(\"Web4の背景を教えてください。\")\n",
    "response.response\n"
   ]
  },
  {
   "cell_type": "code",
   "execution_count": 43,
   "metadata": {},
   "outputs": [
    {
     "name": "stderr",
     "output_type": "stream",
     "text": [
      "INFO:root:> [query] Total LLM token usage: 1042 tokens\n",
      "INFO:root:> [query] Total embedding token usage: 20 tokens\n"
     ]
    },
    {
     "data": {
      "text/plain": [
       "'\\nWeb4の構想は、分散化・ブロックチェーン・トークンベース経済などの要素を取り入れた、次世代のワールド・ワイド・ウェブを提唱するものです。Web4は、ユーザーにより優れたデータ・セキュリティ、スケーラビリティ、プライバシーを提供し、第三者が簡単にアクセスできる方法でデータが保存されなくなることを目指しています。'"
      ]
     },
     "execution_count": 43,
     "metadata": {},
     "output_type": "execute_result"
    }
   ],
   "source": [
    "response = index.query(\"Web4の構想はどんなものですか？\")\n",
    "response.response\n"
   ]
  },
  {
   "cell_type": "code",
   "execution_count": null,
   "metadata": {},
   "outputs": [
    {
     "name": "stderr",
     "output_type": "stream",
     "text": [
      "INFO:root:> [query] Total LLM token usage: 1110 tokens\n",
      "INFO:root:> [query] Total embedding token usage: 20 tokens\n"
     ]
    },
    {
     "data": {
      "text/plain": [
       "'\\nWeb4は、ユーザーにより優れたデータ・セキュリティ、スケーラビリティ、プライバシーを提供し、第三者が簡単にアクセスできる方法でデータが保存されなくなる為、ユーザーは民間および政府の監視からより適切に保護されるという評価があります。一方で、分散型ウェブについては、モデレーションの低下や有害なコンテンツの拡散、少数の投資家や個人への富の集中、より広範なデータ収集によるプライバシ'"
      ]
     },
     "execution_count": 44,
     "metadata": {},
     "output_type": "execute_result"
    }
   ],
   "source": [
    "response = index.query(\"Web4の評価を教えてください。\")\n",
    "response.response\n"
   ]
  },
  {
   "attachments": {},
   "cell_type": "markdown",
   "metadata": {},
   "source": [
    "インデックスの保存"
   ]
  },
  {
   "cell_type": "code",
   "execution_count": 28,
   "metadata": {},
   "outputs": [],
   "source": [
    "## 生成したindexの保存\n",
    "index.save_to_disk('gpt-index.json')\n",
    "\n",
    "## 保存したインデックスの読み込み\n",
    "# index = GPTSimpleVectorIndex.load_from_disk('gpt-index.json')\n"
   ]
  },
  {
   "cell_type": "code",
   "execution_count": 48,
   "metadata": {},
   "outputs": [
    {
     "name": "stderr",
     "output_type": "stream",
     "text": [
      "INFO:openai:error_code=account_deactivated error_message='This key is associated with a deactivated account. If you feel this is an error, contact us through our help center at help.openai.com.' error_param=None error_type=invalid_request_error message='OpenAI API error received' stream_error=False\n",
      "INFO:openai:error_code=account_deactivated error_message='This key is associated with a deactivated account. If you feel this is an error, contact us through our help center at help.openai.com.' error_param=None error_type=invalid_request_error message='OpenAI API error received' stream_error=False\n",
      "INFO:openai:error_code=account_deactivated error_message='This key is associated with a deactivated account. If you feel this is an error, contact us through our help center at help.openai.com.' error_param=None error_type=invalid_request_error message='OpenAI API error received' stream_error=False\n",
      "INFO:openai:error_code=account_deactivated error_message='This key is associated with a deactivated account. If you feel this is an error, contact us through our help center at help.openai.com.' error_param=None error_type=invalid_request_error message='OpenAI API error received' stream_error=False\n",
      "INFO:openai:error_code=account_deactivated error_message='This key is associated with a deactivated account. If you feel this is an error, contact us through our help center at help.openai.com.' error_param=None error_type=invalid_request_error message='OpenAI API error received' stream_error=False\n",
      "INFO:openai:error_code=account_deactivated error_message='This key is associated with a deactivated account. If you feel this is an error, contact us through our help center at help.openai.com.' error_param=None error_type=invalid_request_error message='OpenAI API error received' stream_error=False\n",
      "INFO:openai:error_code=account_deactivated error_message='This key is associated with a deactivated account. If you feel this is an error, contact us through our help center at help.openai.com.' error_param=None error_type=invalid_request_error message='OpenAI API error received' stream_error=False\n"
     ]
    }
   ],
   "source": [
    "response = index.query(\"Web3どはなんですか？\")\n",
    "response.response\n",
    "\n"
   ]
  },
  {
   "attachments": {},
   "cell_type": "markdown",
   "metadata": {},
   "source": [
    "追加質問"
   ]
  },
  {
   "cell_type": "code",
   "execution_count": 45,
   "metadata": {},
   "outputs": [
    {
     "name": "stderr",
     "output_type": "stream",
     "text": [
      "INFO:root:> [query] Total LLM token usage: 1113 tokens\n",
      "INFO:root:> [query] Total embedding token usage: 23 tokens\n"
     ]
    }
   ],
   "source": [
    "response = index.query(\"Web4とweb3はどんな関係がありますか？\")"
   ]
  },
  {
   "cell_type": "code",
   "execution_count": 47,
   "metadata": {},
   "outputs": [
    {
     "data": {
      "text/plain": [
       "'\\nWeb4とWeb3の関係は、Web4がWeb3の概念を拡張したものと考えられます。Web3は、分散型のデータベースを使用して、データを安全に保存し、プライバシーを保護することを目的としています。Web4は、Web3の概念をさらに拡張し、分散型のブロックチェーン技術を使用して、データをより安全に保存し、プライバシーをより強固に保護することを目的としています。Web4は、Web3の概念をさらに拡張し、より多くの機能を提供することを目'"
      ]
     },
     "execution_count": 47,
     "metadata": {},
     "output_type": "execute_result"
    }
   ],
   "source": [
    "response.response\n"
   ]
  }
 ],
 "metadata": {
  "kernelspec": {
   "display_name": "Python 3",
   "language": "python",
   "name": "python3"
  },
  "language_info": {
   "codemirror_mode": {
    "name": "ipython",
    "version": 3
   },
   "file_extension": ".py",
   "mimetype": "text/x-python",
   "name": "python",
   "nbconvert_exporter": "python",
   "pygments_lexer": "ipython3",
   "version": "3.10.6"
  },
  "orig_nbformat": 4,
  "vscode": {
   "interpreter": {
    "hash": "949777d72b0d2535278d3dc13498b2535136f6dfe0678499012e853ee9abcab1"
   }
  }
 },
 "nbformat": 4,
 "nbformat_minor": 2
}
