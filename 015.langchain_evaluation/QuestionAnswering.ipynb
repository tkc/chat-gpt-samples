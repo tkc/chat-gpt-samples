{
    "cells": [
        {
            "attachments": {},
            "cell_type": "markdown",
            "id": "d5f777c3",
            "metadata": {},
            "source": [
                "## Question Answering\n",
                "https://python.langchain.com/en/latest/use_cases/evaluation/question_answering.html"
            ]
        },
        {
            "cell_type": "code",
            "execution_count": 2,
            "id": "ab65b9ae",
            "metadata": {},
            "outputs": [
                {
                    "name": "stdout",
                    "output_type": "stream",
                    "text": [
                        "Requirement already satisfied: langchain in /Users/takeshiiijima/opt/anaconda3/lib/python3.9/site-packages (0.0.143)\n",
                        "Requirement already satisfied: llama_index in /Users/takeshiiijima/opt/anaconda3/lib/python3.9/site-packages (0.5.17.post1)\n",
                        "Requirement already satisfied: pydantic<2,>=1 in /Users/takeshiiijima/opt/anaconda3/lib/python3.9/site-packages (from langchain) (1.10.6)\n",
                        "Requirement already satisfied: async-timeout<5.0.0,>=4.0.0 in /Users/takeshiiijima/opt/anaconda3/lib/python3.9/site-packages (from langchain) (4.0.2)\n",
                        "Requirement already satisfied: openapi-schema-pydantic<2.0,>=1.2 in /Users/takeshiiijima/opt/anaconda3/lib/python3.9/site-packages (from langchain) (1.2.4)\n",
                        "Requirement already satisfied: numexpr<3.0.0,>=2.8.4 in /Users/takeshiiijima/opt/anaconda3/lib/python3.9/site-packages (from langchain) (2.8.4)\n",
                        "Requirement already satisfied: SQLAlchemy<2,>=1 in /Users/takeshiiijima/opt/anaconda3/lib/python3.9/site-packages (from langchain) (1.4.22)\n",
                        "Requirement already satisfied: requests<3,>=2 in /Users/takeshiiijima/opt/anaconda3/lib/python3.9/site-packages (from langchain) (2.26.0)\n",
                        "Requirement already satisfied: dataclasses-json<0.6.0,>=0.5.7 in /Users/takeshiiijima/opt/anaconda3/lib/python3.9/site-packages (from langchain) (0.5.7)\n",
                        "Requirement already satisfied: numpy<2,>=1 in /Users/takeshiiijima/opt/anaconda3/lib/python3.9/site-packages (from langchain) (1.20.3)\n",
                        "Requirement already satisfied: tenacity<9.0.0,>=8.1.0 in /Users/takeshiiijima/opt/anaconda3/lib/python3.9/site-packages (from langchain) (8.2.2)\n",
                        "Requirement already satisfied: PyYAML>=5.4.1 in /Users/takeshiiijima/opt/anaconda3/lib/python3.9/site-packages (from langchain) (6.0)\n",
                        "Requirement already satisfied: aiohttp<4.0.0,>=3.8.3 in /Users/takeshiiijima/opt/anaconda3/lib/python3.9/site-packages (from langchain) (3.8.4)\n",
                        "Requirement already satisfied: openai>=0.26.4 in /Users/takeshiiijima/opt/anaconda3/lib/python3.9/site-packages (from llama_index) (0.27.2)\n",
                        "Requirement already satisfied: pandas in /Users/takeshiiijima/opt/anaconda3/lib/python3.9/site-packages (from llama_index) (1.3.4)\n",
                        "Requirement already satisfied: tiktoken in /Users/takeshiiijima/opt/anaconda3/lib/python3.9/site-packages (from llama_index) (0.3.2)\n",
                        "Requirement already satisfied: charset-normalizer<4.0,>=2.0 in /Users/takeshiiijima/opt/anaconda3/lib/python3.9/site-packages (from aiohttp<4.0.0,>=3.8.3->langchain) (2.0.4)\n",
                        "Requirement already satisfied: frozenlist>=1.1.1 in /Users/takeshiiijima/opt/anaconda3/lib/python3.9/site-packages (from aiohttp<4.0.0,>=3.8.3->langchain) (1.3.3)\n",
                        "Requirement already satisfied: attrs>=17.3.0 in /Users/takeshiiijima/opt/anaconda3/lib/python3.9/site-packages (from aiohttp<4.0.0,>=3.8.3->langchain) (21.2.0)\n",
                        "Requirement already satisfied: aiosignal>=1.1.2 in /Users/takeshiiijima/opt/anaconda3/lib/python3.9/site-packages (from aiohttp<4.0.0,>=3.8.3->langchain) (1.3.1)\n",
                        "Requirement already satisfied: multidict<7.0,>=4.5 in /Users/takeshiiijima/opt/anaconda3/lib/python3.9/site-packages (from aiohttp<4.0.0,>=3.8.3->langchain) (6.0.4)\n",
                        "Requirement already satisfied: yarl<2.0,>=1.0 in /Users/takeshiiijima/opt/anaconda3/lib/python3.9/site-packages (from aiohttp<4.0.0,>=3.8.3->langchain) (1.8.2)\n",
                        "Requirement already satisfied: marshmallow-enum<2.0.0,>=1.5.1 in /Users/takeshiiijima/opt/anaconda3/lib/python3.9/site-packages (from dataclasses-json<0.6.0,>=0.5.7->langchain) (1.5.1)\n",
                        "Requirement already satisfied: marshmallow<4.0.0,>=3.3.0 in /Users/takeshiiijima/opt/anaconda3/lib/python3.9/site-packages (from dataclasses-json<0.6.0,>=0.5.7->langchain) (3.19.0)\n",
                        "Requirement already satisfied: typing-inspect>=0.4.0 in /Users/takeshiiijima/opt/anaconda3/lib/python3.9/site-packages (from dataclasses-json<0.6.0,>=0.5.7->langchain) (0.8.0)\n",
                        "Requirement already satisfied: packaging>=17.0 in /Users/takeshiiijima/opt/anaconda3/lib/python3.9/site-packages (from marshmallow<4.0.0,>=3.3.0->dataclasses-json<0.6.0,>=0.5.7->langchain) (21.0)\n",
                        "Requirement already satisfied: tqdm in /Users/takeshiiijima/opt/anaconda3/lib/python3.9/site-packages (from openai>=0.26.4->llama_index) (4.62.3)\n",
                        "Requirement already satisfied: pyparsing>=2.0.2 in /Users/takeshiiijima/opt/anaconda3/lib/python3.9/site-packages (from packaging>=17.0->marshmallow<4.0.0,>=3.3.0->dataclasses-json<0.6.0,>=0.5.7->langchain) (3.0.4)\n",
                        "Requirement already satisfied: typing-extensions>=4.2.0 in /Users/takeshiiijima/opt/anaconda3/lib/python3.9/site-packages (from pydantic<2,>=1->langchain) (4.5.0)\n",
                        "Requirement already satisfied: idna<4,>=2.5 in /Users/takeshiiijima/opt/anaconda3/lib/python3.9/site-packages (from requests<3,>=2->langchain) (3.2)\n",
                        "Requirement already satisfied: certifi>=2017.4.17 in /Users/takeshiiijima/opt/anaconda3/lib/python3.9/site-packages (from requests<3,>=2->langchain) (2021.10.8)\n",
                        "Requirement already satisfied: urllib3<1.27,>=1.21.1 in /Users/takeshiiijima/opt/anaconda3/lib/python3.9/site-packages (from requests<3,>=2->langchain) (1.26.7)\n",
                        "Requirement already satisfied: greenlet!=0.4.17 in /Users/takeshiiijima/opt/anaconda3/lib/python3.9/site-packages (from SQLAlchemy<2,>=1->langchain) (1.1.1)\n",
                        "Requirement already satisfied: mypy-extensions>=0.3.0 in /Users/takeshiiijima/opt/anaconda3/lib/python3.9/site-packages (from typing-inspect>=0.4.0->dataclasses-json<0.6.0,>=0.5.7->langchain) (0.4.3)\n",
                        "Requirement already satisfied: python-dateutil>=2.7.3 in /Users/takeshiiijima/opt/anaconda3/lib/python3.9/site-packages (from pandas->llama_index) (2.8.2)\n",
                        "Requirement already satisfied: pytz>=2017.3 in /Users/takeshiiijima/opt/anaconda3/lib/python3.9/site-packages (from pandas->llama_index) (2021.3)\n",
                        "Requirement already satisfied: six>=1.5 in /Users/takeshiiijima/opt/anaconda3/lib/python3.9/site-packages (from python-dateutil>=2.7.3->pandas->llama_index) (1.16.0)\n",
                        "Requirement already satisfied: regex>=2022.1.18 in /Users/takeshiiijima/opt/anaconda3/lib/python3.9/site-packages (from tiktoken->llama_index) (2022.10.31)\n",
                        "Note: you may need to restart the kernel to use updated packages.\n",
                        "Requirement already satisfied: llama_index in /Users/takeshiiijima/opt/anaconda3/lib/python3.9/site-packages (0.5.17.post1)\n",
                        "Requirement already satisfied: langchain in /Users/takeshiiijima/opt/anaconda3/lib/python3.9/site-packages (0.0.143)\n",
                        "Requirement already satisfied: numpy in /Users/takeshiiijima/opt/anaconda3/lib/python3.9/site-packages (from llama_index) (1.20.3)\n",
                        "Requirement already satisfied: dataclasses-json in /Users/takeshiiijima/opt/anaconda3/lib/python3.9/site-packages (from llama_index) (0.5.7)\n",
                        "Requirement already satisfied: tenacity<9.0.0,>=8.2.0 in /Users/takeshiiijima/opt/anaconda3/lib/python3.9/site-packages (from llama_index) (8.2.2)\n",
                        "Requirement already satisfied: tiktoken in /Users/takeshiiijima/opt/anaconda3/lib/python3.9/site-packages (from llama_index) (0.3.2)\n",
                        "Requirement already satisfied: openai>=0.26.4 in /Users/takeshiiijima/opt/anaconda3/lib/python3.9/site-packages (from llama_index) (0.27.2)\n",
                        "Requirement already satisfied: pandas in /Users/takeshiiijima/opt/anaconda3/lib/python3.9/site-packages (from llama_index) (1.3.4)\n",
                        "Requirement already satisfied: numexpr<3.0.0,>=2.8.4 in /Users/takeshiiijima/opt/anaconda3/lib/python3.9/site-packages (from langchain) (2.8.4)\n",
                        "Requirement already satisfied: openapi-schema-pydantic<2.0,>=1.2 in /Users/takeshiiijima/opt/anaconda3/lib/python3.9/site-packages (from langchain) (1.2.4)\n",
                        "Requirement already satisfied: pydantic<2,>=1 in /Users/takeshiiijima/opt/anaconda3/lib/python3.9/site-packages (from langchain) (1.10.6)\n",
                        "Requirement already satisfied: PyYAML>=5.4.1 in /Users/takeshiiijima/opt/anaconda3/lib/python3.9/site-packages (from langchain) (6.0)\n",
                        "Requirement already satisfied: SQLAlchemy<2,>=1 in /Users/takeshiiijima/opt/anaconda3/lib/python3.9/site-packages (from langchain) (1.4.22)\n",
                        "Requirement already satisfied: async-timeout<5.0.0,>=4.0.0 in /Users/takeshiiijima/opt/anaconda3/lib/python3.9/site-packages (from langchain) (4.0.2)\n",
                        "Requirement already satisfied: requests<3,>=2 in /Users/takeshiiijima/opt/anaconda3/lib/python3.9/site-packages (from langchain) (2.26.0)\n",
                        "Requirement already satisfied: aiohttp<4.0.0,>=3.8.3 in /Users/takeshiiijima/opt/anaconda3/lib/python3.9/site-packages (from langchain) (3.8.4)\n",
                        "Requirement already satisfied: charset-normalizer<4.0,>=2.0 in /Users/takeshiiijima/opt/anaconda3/lib/python3.9/site-packages (from aiohttp<4.0.0,>=3.8.3->langchain) (2.0.4)\n",
                        "Requirement already satisfied: attrs>=17.3.0 in /Users/takeshiiijima/opt/anaconda3/lib/python3.9/site-packages (from aiohttp<4.0.0,>=3.8.3->langchain) (21.2.0)\n",
                        "Requirement already satisfied: multidict<7.0,>=4.5 in /Users/takeshiiijima/opt/anaconda3/lib/python3.9/site-packages (from aiohttp<4.0.0,>=3.8.3->langchain) (6.0.4)\n",
                        "Requirement already satisfied: frozenlist>=1.1.1 in /Users/takeshiiijima/opt/anaconda3/lib/python3.9/site-packages (from aiohttp<4.0.0,>=3.8.3->langchain) (1.3.3)\n",
                        "Requirement already satisfied: yarl<2.0,>=1.0 in /Users/takeshiiijima/opt/anaconda3/lib/python3.9/site-packages (from aiohttp<4.0.0,>=3.8.3->langchain) (1.8.2)\n",
                        "Requirement already satisfied: aiosignal>=1.1.2 in /Users/takeshiiijima/opt/anaconda3/lib/python3.9/site-packages (from aiohttp<4.0.0,>=3.8.3->langchain) (1.3.1)\n",
                        "Requirement already satisfied: marshmallow<4.0.0,>=3.3.0 in /Users/takeshiiijima/opt/anaconda3/lib/python3.9/site-packages (from dataclasses-json->llama_index) (3.19.0)\n",
                        "Requirement already satisfied: marshmallow-enum<2.0.0,>=1.5.1 in /Users/takeshiiijima/opt/anaconda3/lib/python3.9/site-packages (from dataclasses-json->llama_index) (1.5.1)\n",
                        "Requirement already satisfied: typing-inspect>=0.4.0 in /Users/takeshiiijima/opt/anaconda3/lib/python3.9/site-packages (from dataclasses-json->llama_index) (0.8.0)\n",
                        "Requirement already satisfied: packaging>=17.0 in /Users/takeshiiijima/opt/anaconda3/lib/python3.9/site-packages (from marshmallow<4.0.0,>=3.3.0->dataclasses-json->llama_index) (21.0)\n",
                        "Requirement already satisfied: tqdm in /Users/takeshiiijima/opt/anaconda3/lib/python3.9/site-packages (from openai>=0.26.4->llama_index) (4.62.3)\n",
                        "Requirement already satisfied: pyparsing>=2.0.2 in /Users/takeshiiijima/opt/anaconda3/lib/python3.9/site-packages (from packaging>=17.0->marshmallow<4.0.0,>=3.3.0->dataclasses-json->llama_index) (3.0.4)\n",
                        "Requirement already satisfied: typing-extensions>=4.2.0 in /Users/takeshiiijima/opt/anaconda3/lib/python3.9/site-packages (from pydantic<2,>=1->langchain) (4.5.0)\n",
                        "Requirement already satisfied: idna<4,>=2.5 in /Users/takeshiiijima/opt/anaconda3/lib/python3.9/site-packages (from requests<3,>=2->langchain) (3.2)\n",
                        "Requirement already satisfied: urllib3<1.27,>=1.21.1 in /Users/takeshiiijima/opt/anaconda3/lib/python3.9/site-packages (from requests<3,>=2->langchain) (1.26.7)\n",
                        "Requirement already satisfied: certifi>=2017.4.17 in /Users/takeshiiijima/opt/anaconda3/lib/python3.9/site-packages (from requests<3,>=2->langchain) (2021.10.8)\n",
                        "Requirement already satisfied: greenlet!=0.4.17 in /Users/takeshiiijima/opt/anaconda3/lib/python3.9/site-packages (from SQLAlchemy<2,>=1->langchain) (1.1.1)\n",
                        "Requirement already satisfied: mypy-extensions>=0.3.0 in /Users/takeshiiijima/opt/anaconda3/lib/python3.9/site-packages (from typing-inspect>=0.4.0->dataclasses-json->llama_index) (0.4.3)\n",
                        "Requirement already satisfied: python-dateutil>=2.7.3 in /Users/takeshiiijima/opt/anaconda3/lib/python3.9/site-packages (from pandas->llama_index) (2.8.2)\n",
                        "Requirement already satisfied: pytz>=2017.3 in /Users/takeshiiijima/opt/anaconda3/lib/python3.9/site-packages (from pandas->llama_index) (2021.3)\n",
                        "Requirement already satisfied: six>=1.5 in /Users/takeshiiijima/opt/anaconda3/lib/python3.9/site-packages (from python-dateutil>=2.7.3->pandas->llama_index) (1.16.0)\n",
                        "Requirement already satisfied: regex>=2022.1.18 in /Users/takeshiiijima/opt/anaconda3/lib/python3.9/site-packages (from tiktoken->llama_index) (2022.10.31)\n",
                        "Note: you may need to restart the kernel to use updated packages.\n"
                    ]
                }
            ],
            "source": [
                "%pip install langchain llama_index\n",
                "%pip install --upgrade llama_index langchain"
            ]
        },
        {
            "cell_type": "code",
            "execution_count": 3,
            "id": "853669ad",
            "metadata": {},
            "outputs": [],
            "source": [
                "import os\n",
                "import openai\n",
                "\n",
                "openai.api_key = os.environ['API_KEY']\n",
                "os.environ[\"OPENAI_API_KEY\"] = os.environ['API_KEY']\n"
            ]
        },
        {
            "cell_type": "code",
            "execution_count": 4,
            "id": "9080b39e",
            "metadata": {},
            "outputs": [],
            "source": [
                "from langchain.prompts import PromptTemplate\n",
                "from langchain.chains import LLMChain\n",
                "from langchain.llms import OpenAI\n"
            ]
        },
        {
            "cell_type": "code",
            "execution_count": 25,
            "id": "79809156",
            "metadata": {},
            "outputs": [
                {
                    "name": "stdout",
                    "output_type": "stream",
                    "text": [
                        "\n",
                        "\n",
                        "\u001b[1m> Entering new LLMChain chain...\u001b[0m\n",
                        "Prompt after formatting:\n",
                        "\u001b[32;1m\u001b[1;3m質問: 関ヶ原の戦いで勝ったのは?\n",
                        "\n",
                        "回答: 段階的に考えてください。\u001b[0m\n",
                        "\n",
                        "\u001b[1m> Finished chain.\u001b[0m\n"
                    ]
                },
                {
                    "data": {
                        "text/plain": [
                            "'関ヶ原の戦いは、1575年に行われた戦いです。この戦いで勝利したのは、徳川家康率いる徳川軍です。'"
                        ]
                    },
                    "execution_count": 25,
                    "metadata": {},
                    "output_type": "execute_result"
                }
            ],
            "source": [
                "# from langchain import PromptTemplate, OpenAI, LLMChain\n",
                "\n",
                "# template = \"\"\"質問: {question}\n",
                "\n",
                "# 回答: 段階的に考えてください。\"\"\"\n",
                "# prompt = PromptTemplate(template=template, input_variables=[\"question\"])\n",
                "# llm_chain = LLMChain(prompt=prompt, llm=OpenAI(temperature=0), verbose=True)\n",
                "\n",
                "# question = \"関ヶ原の戦いで勝ったのは?\"\n",
                "\n",
                "# llm_chain.predict(question=question)"
            ]
        },
        {
            "cell_type": "code",
            "execution_count": 5,
            "id": "b4b4387b-413e-4016-ba1e-88b3d9410a38",
            "metadata": {},
            "outputs": [],
            "source": [
                "prompt = PromptTemplate(\n",
                "    template=\"Question: {question}\\nAnswer:\", input_variables=[\"question\"])"
            ]
        },
        {
            "cell_type": "code",
            "execution_count": 6,
            "id": "8d0b2364-4806-4656-81e7-3f6e4b910b5b",
            "metadata": {},
            "outputs": [],
            "source": [
                "llm = OpenAI(model_name=\"text-davinci-003\", temperature=0)\n",
                "chain = LLMChain(llm=llm, prompt=prompt)\n"
            ]
        },
        {
            "cell_type": "code",
            "execution_count": 7,
            "id": "1298bbb4-c99e-431e-93ef-eb32c0a2fc2a",
            "metadata": {
                "tags": []
            },
            "outputs": [],
            "source": [
                "examples = [\n",
                "    {\n",
                "        \"question\": \"Roger has 5 tennis balls. He buys 2 more cans of tennis balls. Each can has 3 tennis balls. How many tennis balls does he have now?\",\n",
                "        \"answer\": \"11\"\n",
                "    },\n",
                "    {\n",
                "        \"question\": 'Is the following sentence plausible? \"Joao Moutinho caught the screen pass in the NFC championship.\"',\n",
                "        \"answer\": \"No\"\n",
                "    }\n",
                "]"
            ]
        },
        {
            "cell_type": "code",
            "execution_count": 8,
            "id": "0b4fe9b6-5762-4e86-b51e-aac45d3ecdb1",
            "metadata": {},
            "outputs": [],
            "source": [
                "predictions = chain.apply(examples)\n"
            ]
        },
        {
            "cell_type": "code",
            "execution_count": 9,
            "id": "5eec265d-211b-4f26-b05b-5b4e7072bc6e",
            "metadata": {},
            "outputs": [
                {
                    "data": {
                        "text/plain": [
                            "[{'text': ' 11 tennis balls'},\n",
                            " {'text': ' No, this sentence is not plausible. Joao Moutinho is a professional soccer player, not an American football player, so it is not likely that he would be catching a screen pass in the NFC championship.'}]"
                        ]
                    },
                    "execution_count": 9,
                    "metadata": {},
                    "output_type": "execute_result"
                }
            ],
            "source": [
                "predictions\n"
            ]
        },
        {
            "cell_type": "code",
            "execution_count": 10,
            "id": "68c9ebfe-b1b6-4f4e-9278-174346de8c90",
            "metadata": {
                "tags": []
            },
            "outputs": [],
            "source": [
                "from langchain.evaluation.qa import QAEvalChain\n"
            ]
        },
        {
            "cell_type": "code",
            "execution_count": 11,
            "id": "4fc3f18a-0ef9-453c-acf8-7aedd784cdcf",
            "metadata": {},
            "outputs": [],
            "source": [
                "llm = OpenAI(temperature=0)\n",
                "eval_chain = QAEvalChain.from_llm(llm)\n",
                "graded_outputs = eval_chain.evaluate(examples, predictions, question_key=\"question\", prediction_key=\"text\")\n"
            ]
        },
        {
            "cell_type": "code",
            "execution_count": 12,
            "id": "97f3ddf1-8dc2-4fb8-831f-2c06649e0955",
            "metadata": {},
            "outputs": [
                {
                    "name": "stdout",
                    "output_type": "stream",
                    "text": [
                        "Example 0:\n",
                        "Question: Roger has 5 tennis balls. He buys 2 more cans of tennis balls. Each can has 3 tennis balls. How many tennis balls does he have now?\n",
                        "Real Answer: 11\n",
                        "Predicted Answer:  11 tennis balls\n",
                        "Predicted Grade:  CORRECT\n",
                        "\n",
                        "Example 1:\n",
                        "Question: Is the following sentence plausible? \"Joao Moutinho caught the screen pass in the NFC championship.\"\n",
                        "Real Answer: No\n",
                        "Predicted Answer:  No, this sentence is not plausible. Joao Moutinho is a professional soccer player, not an American football player, so it is not likely that he would be catching a screen pass in the NFC championship.\n",
                        "Predicted Grade:  CORRECT\n",
                        "\n"
                    ]
                }
            ],
            "source": [
                "for i, eg in enumerate(examples):\n",
                "    print(f\"Example {i}:\")\n",
                "    print(\"Question: \" + eg['question'])\n",
                "    print(\"Real Answer: \" + eg['answer'])\n",
                "    print(\"Predicted Answer: \" + predictions[i]['text'])\n",
                "    print(\"Predicted Grade: \" + graded_outputs[i]['text'])\n",
                "    print()"
            ]
        },
        {
            "cell_type": "code",
            "execution_count": 13,
            "id": "53265fd4-da98-4cf9-abfb-3f76105fd2ff",
            "metadata": {},
            "outputs": [],
            "source": [
                "from langchain.prompts.prompt import PromptTemplate\n",
                "\n",
                "_PROMPT_TEMPLATE = \"\"\"You are an expert professor specialized in grading students' answers to questions.\n",
                "You are grading the following question:\n",
                "{query}\n",
                "Here is the real answer:\n",
                "{answer}\n",
                "You are grading the following predicted answer:\n",
                "{result}\n",
                "What grade do you give from 0 to 10, where 0 is the lowest (very low similarity) and 10 is the highest (very high similarity)?\n",
                "\"\"\"\n",
                "\n",
                "PROMPT = PromptTemplate(input_variables=[\"query\", \"answer\", \"result\"], template=_PROMPT_TEMPLATE)"
            ]
        },
        {
            "cell_type": "code",
            "execution_count": 14,
            "id": "1ed78fdb",
            "metadata": {},
            "outputs": [
                {
                    "data": {
                        "text/plain": [
                            "[{'text': '\\n10'},\n",
                            " {'text': \"\\nI would give this answer a 9 out of 10. The student correctly identified that Joao Moutinho is a soccer player and not an American football player, and they provided a reasonable explanation for why the sentence is not plausible. The only thing missing is a reference to the NFC championship specifically, but the student's answer is still very accurate and well-reasoned.\"}]"
                        ]
                    },
                    "execution_count": 14,
                    "metadata": {},
                    "output_type": "execute_result"
                }
            ],
            "source": [
                "evalchain = QAEvalChain.from_llm(llm=llm,prompt=PROMPT)\n",
                "evalchain.evaluate(examples, predictions, question_key=\"question\", answer_key=\"answer\", prediction_key=\"text\")"
            ]
        },
        {
            "cell_type": "code",
            "execution_count": 15,
            "id": "aaa70744",
            "metadata": {},
            "outputs": [],
            "source": [
                "context_examples = [\n",
                "    {\n",
                "        \"question\": \"How old am I?\",\n",
                "        \"context\": \"I am 30 years old. I live in New York and take the train to work everyday.\",\n",
                "    },\n",
                "    {\n",
                "        \"question\": 'Who won the NFC championship game in 2023?\"',\n",
                "        \"context\": \"NFC Championship Game 2023: Philadelphia Eagles 31, San Francisco 49ers 7\"\n",
                "    }\n",
                "]\n",
                "QA_PROMPT = \"Answer the question based on the  context\\nContext:{context}\\nQuestion:{question}\\nAnswer:\"\n",
                "template = PromptTemplate(input_variables=[\"context\", \"question\"], template=QA_PROMPT)\n",
                "qa_chain = LLMChain(llm=llm, prompt=template)\n",
                "predictions = qa_chain.apply(context_examples)"
            ]
        },
        {
            "cell_type": "code",
            "execution_count": 16,
            "id": "affc7faf",
            "metadata": {},
            "outputs": [
                {
                    "data": {
                        "text/plain": [
                            "[{'text': 'You are 30 years old.'},\n",
                            " {'text': ' The Philadelphia Eagles won the NFC championship game in 2023.'}]"
                        ]
                    },
                    "execution_count": 16,
                    "metadata": {},
                    "output_type": "execute_result"
                }
            ],
            "source": [
                "predictions"
            ]
        },
        {
            "cell_type": "code",
            "execution_count": 17,
            "id": "c3f4752a",
            "metadata": {},
            "outputs": [],
            "source": [
                "from langchain.evaluation.qa import ContextQAEvalChain\n",
                "eval_chain = ContextQAEvalChain.from_llm(llm)\n",
                "graded_outputs = eval_chain.evaluate(context_examples, predictions, question_key=\"question\", prediction_key=\"text\")"
            ]
        },
        {
            "cell_type": "code",
            "execution_count": 18,
            "id": "e6712452",
            "metadata": {},
            "outputs": [
                {
                    "data": {
                        "text/plain": [
                            "[{'text': ' CORRECT'}, {'text': ' CORRECT'}]"
                        ]
                    },
                    "execution_count": 18,
                    "metadata": {},
                    "output_type": "execute_result"
                }
            ],
            "source": [
                "graded_outputs\n"
            ]
        },
        {
            "cell_type": "code",
            "execution_count": 19,
            "id": "acb4e10b",
            "metadata": {},
            "outputs": [],
            "source": [
                "# Some data munging to get the examples in the right format\n",
                "for i, eg in enumerate(examples):\n",
                "    eg['id'] = str(i)\n",
                "    eg['answers'] = {\"text\": [eg['answer']], \"answer_start\": [0]}\n",
                "    predictions[i]['id'] = str(i)\n",
                "    predictions[i]['prediction_text'] = predictions[i]['text']\n",
                "\n",
                "for p in predictions:\n",
                "    del p['text']\n",
                "\n",
                "new_examples = examples.copy()\n",
                "for eg in new_examples:\n",
                "    del eg ['question']\n",
                "    del eg['answer']"
            ]
        },
        {
            "cell_type": "code",
            "execution_count": 20,
            "id": "3536f977",
            "metadata": {},
            "outputs": [
                {
                    "name": "stdout",
                    "output_type": "stream",
                    "text": [
                        "Requirement already satisfied: scipy==1.7.1 in /Users/takeshiiijima/opt/anaconda3/lib/python3.9/site-packages (1.7.1)\n",
                        "Requirement already satisfied: numpy<1.23.0,>=1.16.5 in /Users/takeshiiijima/opt/anaconda3/lib/python3.9/site-packages (from scipy==1.7.1) (1.20.3)\n",
                        "Note: you may need to restart the kernel to use updated packages.\n",
                        "Note: you may need to restart the kernel to use updated packages.\n"
                    ]
                }
            ],
            "source": [
                "%pip install scipy==1.7.1\n",
                "%pip install -qqq evaluate\n"
            ]
        },
        {
            "cell_type": "code",
            "execution_count": 22,
            "id": "465f2d4f",
            "metadata": {},
            "outputs": [],
            "source": [
                "from evaluate import load\n",
                "\n",
                "squad_metric = load(\"squad\")\n",
                "results = squad_metric.compute(\n",
                "    references=new_examples,\n",
                "    predictions=predictions,\n",
                ")"
            ]
        },
        {
            "cell_type": "code",
            "execution_count": 23,
            "id": "f54954cf",
            "metadata": {},
            "outputs": [
                {
                    "data": {
                        "text/plain": [
                            "{'exact_match': 0.0, 'f1': 0.0}"
                        ]
                    },
                    "execution_count": 23,
                    "metadata": {},
                    "output_type": "execute_result"
                }
            ],
            "source": [
                "results\n"
            ]
        }
    ],
    "metadata": {
        "kernelspec": {
            "display_name": "Python 3 (ipykernel)",
            "language": "python",
            "name": "python3"
        },
        "language_info": {
            "codemirror_mode": {
                "name": "ipython",
                "version": 3
            },
            "file_extension": ".py",
            "mimetype": "text/x-python",
            "name": "python",
            "nbconvert_exporter": "python",
            "pygments_lexer": "ipython3",
            "version": "3.9.7"
        }
    },
    "nbformat": 4,
    "nbformat_minor": 5
}
