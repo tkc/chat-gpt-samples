{
 "cells": [
  {
   "cell_type": "code",
   "execution_count": 4,
   "metadata": {},
   "outputs": [
    {
     "name": "stdout",
     "output_type": "stream",
     "text": [
      "Requirement already satisfied: openai in /Users/takeshiiijima/opt/anaconda3/lib/python3.9/site-packages (0.27.2)\n",
      "Requirement already satisfied: tqdm in /Users/takeshiiijima/opt/anaconda3/lib/python3.9/site-packages (from openai) (4.62.3)\n",
      "Requirement already satisfied: aiohttp in /Users/takeshiiijima/opt/anaconda3/lib/python3.9/site-packages (from openai) (3.8.4)\n",
      "Requirement already satisfied: requests>=2.20 in /Users/takeshiiijima/opt/anaconda3/lib/python3.9/site-packages (from openai) (2.26.0)\n",
      "Requirement already satisfied: certifi>=2017.4.17 in /Users/takeshiiijima/opt/anaconda3/lib/python3.9/site-packages (from requests>=2.20->openai) (2021.10.8)\n",
      "Requirement already satisfied: idna<4,>=2.5 in /Users/takeshiiijima/opt/anaconda3/lib/python3.9/site-packages (from requests>=2.20->openai) (3.2)\n",
      "Requirement already satisfied: charset-normalizer~=2.0.0 in /Users/takeshiiijima/opt/anaconda3/lib/python3.9/site-packages (from requests>=2.20->openai) (2.0.4)\n",
      "Requirement already satisfied: urllib3<1.27,>=1.21.1 in /Users/takeshiiijima/opt/anaconda3/lib/python3.9/site-packages (from requests>=2.20->openai) (1.26.7)\n",
      "Requirement already satisfied: async-timeout<5.0,>=4.0.0a3 in /Users/takeshiiijima/opt/anaconda3/lib/python3.9/site-packages (from aiohttp->openai) (4.0.2)\n",
      "Requirement already satisfied: yarl<2.0,>=1.0 in /Users/takeshiiijima/opt/anaconda3/lib/python3.9/site-packages (from aiohttp->openai) (1.8.2)\n",
      "Requirement already satisfied: aiosignal>=1.1.2 in /Users/takeshiiijima/opt/anaconda3/lib/python3.9/site-packages (from aiohttp->openai) (1.3.1)\n",
      "Requirement already satisfied: attrs>=17.3.0 in /Users/takeshiiijima/opt/anaconda3/lib/python3.9/site-packages (from aiohttp->openai) (21.2.0)\n",
      "Requirement already satisfied: frozenlist>=1.1.1 in /Users/takeshiiijima/opt/anaconda3/lib/python3.9/site-packages (from aiohttp->openai) (1.3.3)\n",
      "Requirement already satisfied: multidict<7.0,>=4.5 in /Users/takeshiiijima/opt/anaconda3/lib/python3.9/site-packages (from aiohttp->openai) (6.0.4)\n",
      "Note: you may need to restart the kernel to use updated packages.\n",
      "Requirement already satisfied: llama-index in /Users/takeshiiijima/opt/anaconda3/lib/python3.9/site-packages (0.4.29)\n",
      "Requirement already satisfied: tenacity<9.0.0,>=8.2.0 in /Users/takeshiiijima/opt/anaconda3/lib/python3.9/site-packages (from llama-index) (8.2.2)\n",
      "Requirement already satisfied: openai>=0.26.4 in /Users/takeshiiijima/opt/anaconda3/lib/python3.9/site-packages (from llama-index) (0.27.2)\n",
      "Requirement already satisfied: langchain in /Users/takeshiiijima/opt/anaconda3/lib/python3.9/site-packages (from llama-index) (0.0.115)\n",
      "Requirement already satisfied: numpy in /Users/takeshiiijima/opt/anaconda3/lib/python3.9/site-packages (from llama-index) (1.20.3)\n",
      "Requirement already satisfied: pandas in /Users/takeshiiijima/opt/anaconda3/lib/python3.9/site-packages (from llama-index) (1.3.4)\n",
      "Requirement already satisfied: tiktoken in /Users/takeshiiijima/opt/anaconda3/lib/python3.9/site-packages (from llama-index) (0.3.2)\n",
      "Requirement already satisfied: dataclasses-json in /Users/takeshiiijima/opt/anaconda3/lib/python3.9/site-packages (from llama-index) (0.5.7)\n",
      "Requirement already satisfied: aiohttp in /Users/takeshiiijima/opt/anaconda3/lib/python3.9/site-packages (from openai>=0.26.4->llama-index) (3.8.4)\n",
      "Requirement already satisfied: requests>=2.20 in /Users/takeshiiijima/opt/anaconda3/lib/python3.9/site-packages (from openai>=0.26.4->llama-index) (2.26.0)\n",
      "Requirement already satisfied: tqdm in /Users/takeshiiijima/opt/anaconda3/lib/python3.9/site-packages (from openai>=0.26.4->llama-index) (4.62.3)\n",
      "Requirement already satisfied: charset-normalizer~=2.0.0 in /Users/takeshiiijima/opt/anaconda3/lib/python3.9/site-packages (from requests>=2.20->openai>=0.26.4->llama-index) (2.0.4)\n",
      "Requirement already satisfied: urllib3<1.27,>=1.21.1 in /Users/takeshiiijima/opt/anaconda3/lib/python3.9/site-packages (from requests>=2.20->openai>=0.26.4->llama-index) (1.26.7)\n",
      "Requirement already satisfied: certifi>=2017.4.17 in /Users/takeshiiijima/opt/anaconda3/lib/python3.9/site-packages (from requests>=2.20->openai>=0.26.4->llama-index) (2021.10.8)\n",
      "Requirement already satisfied: idna<4,>=2.5 in /Users/takeshiiijima/opt/anaconda3/lib/python3.9/site-packages (from requests>=2.20->openai>=0.26.4->llama-index) (3.2)\n",
      "Requirement already satisfied: attrs>=17.3.0 in /Users/takeshiiijima/opt/anaconda3/lib/python3.9/site-packages (from aiohttp->openai>=0.26.4->llama-index) (21.2.0)\n",
      "Requirement already satisfied: yarl<2.0,>=1.0 in /Users/takeshiiijima/opt/anaconda3/lib/python3.9/site-packages (from aiohttp->openai>=0.26.4->llama-index) (1.8.2)\n",
      "Requirement already satisfied: frozenlist>=1.1.1 in /Users/takeshiiijima/opt/anaconda3/lib/python3.9/site-packages (from aiohttp->openai>=0.26.4->llama-index) (1.3.3)\n",
      "Requirement already satisfied: aiosignal>=1.1.2 in /Users/takeshiiijima/opt/anaconda3/lib/python3.9/site-packages (from aiohttp->openai>=0.26.4->llama-index) (1.3.1)\n",
      "Requirement already satisfied: async-timeout<5.0,>=4.0.0a3 in /Users/takeshiiijima/opt/anaconda3/lib/python3.9/site-packages (from aiohttp->openai>=0.26.4->llama-index) (4.0.2)\n",
      "Requirement already satisfied: multidict<7.0,>=4.5 in /Users/takeshiiijima/opt/anaconda3/lib/python3.9/site-packages (from aiohttp->openai>=0.26.4->llama-index) (6.0.4)\n",
      "Requirement already satisfied: marshmallow-enum<2.0.0,>=1.5.1 in /Users/takeshiiijima/opt/anaconda3/lib/python3.9/site-packages (from dataclasses-json->llama-index) (1.5.1)\n",
      "Requirement already satisfied: marshmallow<4.0.0,>=3.3.0 in /Users/takeshiiijima/opt/anaconda3/lib/python3.9/site-packages (from dataclasses-json->llama-index) (3.19.0)\n",
      "Requirement already satisfied: typing-inspect>=0.4.0 in /Users/takeshiiijima/opt/anaconda3/lib/python3.9/site-packages (from dataclasses-json->llama-index) (0.8.0)\n",
      "Requirement already satisfied: packaging>=17.0 in /Users/takeshiiijima/opt/anaconda3/lib/python3.9/site-packages (from marshmallow<4.0.0,>=3.3.0->dataclasses-json->llama-index) (21.0)\n",
      "Requirement already satisfied: pyparsing>=2.0.2 in /Users/takeshiiijima/opt/anaconda3/lib/python3.9/site-packages (from packaging>=17.0->marshmallow<4.0.0,>=3.3.0->dataclasses-json->llama-index) (3.0.4)\n",
      "Requirement already satisfied: typing-extensions>=3.7.4 in /Users/takeshiiijima/opt/anaconda3/lib/python3.9/site-packages (from typing-inspect>=0.4.0->dataclasses-json->llama-index) (4.5.0)\n",
      "Requirement already satisfied: mypy-extensions>=0.3.0 in /Users/takeshiiijima/opt/anaconda3/lib/python3.9/site-packages (from typing-inspect>=0.4.0->dataclasses-json->llama-index) (0.4.3)\n",
      "Requirement already satisfied: SQLAlchemy<2,>=1 in /Users/takeshiiijima/opt/anaconda3/lib/python3.9/site-packages (from langchain->llama-index) (1.4.22)\n",
      "Requirement already satisfied: PyYAML>=5.4.1 in /Users/takeshiiijima/opt/anaconda3/lib/python3.9/site-packages (from langchain->llama-index) (6.0)\n",
      "Requirement already satisfied: pydantic<2,>=1 in /Users/takeshiiijima/opt/anaconda3/lib/python3.9/site-packages (from langchain->llama-index) (1.10.6)\n",
      "Requirement already satisfied: greenlet!=0.4.17 in /Users/takeshiiijima/opt/anaconda3/lib/python3.9/site-packages (from SQLAlchemy<2,>=1->langchain->llama-index) (1.1.1)\n",
      "Requirement already satisfied: python-dateutil>=2.7.3 in /Users/takeshiiijima/opt/anaconda3/lib/python3.9/site-packages (from pandas->llama-index) (2.8.2)\n",
      "Requirement already satisfied: pytz>=2017.3 in /Users/takeshiiijima/opt/anaconda3/lib/python3.9/site-packages (from pandas->llama-index) (2021.3)\n",
      "Requirement already satisfied: six>=1.5 in /Users/takeshiiijima/opt/anaconda3/lib/python3.9/site-packages (from python-dateutil>=2.7.3->pandas->llama-index) (1.16.0)\n",
      "Requirement already satisfied: regex>=2022.1.18 in /Users/takeshiiijima/opt/anaconda3/lib/python3.9/site-packages (from tiktoken->llama-index) (2022.10.31)\n",
      "Note: you may need to restart the kernel to use updated packages.\n"
     ]
    }
   ],
   "source": [
    "%pip install openai\n",
    "%pip install llama-index"
   ]
  },
  {
   "cell_type": "code",
   "execution_count": 7,
   "metadata": {},
   "outputs": [],
   "source": [
    "import logging, sys\n",
    "from IPython.display import display, Markdown\n",
    "logging.disable(sys.maxsize)\n"
   ]
  },
  {
   "cell_type": "code",
   "execution_count": 8,
   "metadata": {},
   "outputs": [],
   "source": [
    "import os\n",
    "os.environ['OPENAI_API_KEY'] =  os.environ['API_KEY'] \n"
   ]
  },
  {
   "cell_type": "markdown",
   "metadata": {},
   "source": []
  },
  {
   "cell_type": "code",
   "execution_count": 12,
   "metadata": {},
   "outputs": [
    {
     "ename": "ImportError",
     "evalue": "cannot import name 'GPTPandasIndex' from 'llama_index' (/Users/takeshiiijima/opt/anaconda3/lib/python3.9/site-packages/llama_index/__init__.py)",
     "output_type": "error",
     "traceback": [
      "\u001b[0;31m---------------------------------------------------------------------------\u001b[0m",
      "\u001b[0;31mImportError\u001b[0m                               Traceback (most recent call last)",
      "\u001b[0;32m/var/folders/27/6hk2mfzs5vv9ysvns0ydhx2m0000gn/T/ipykernel_97867/1483519629.py\u001b[0m in \u001b[0;36m<module>\u001b[0;34m\u001b[0m\n\u001b[0;32m----> 1\u001b[0;31m \u001b[0;32mfrom\u001b[0m \u001b[0mllama_index\u001b[0m \u001b[0;32mimport\u001b[0m \u001b[0mGPTTreeIndex\u001b[0m\u001b[0;34m,\u001b[0m \u001b[0mSimpleDirectoryReader\u001b[0m\u001b[0;34m,\u001b[0m \u001b[0mLLMPredictor\u001b[0m\u001b[0;34m,\u001b[0m \u001b[0mGPTPandasIndex\u001b[0m\u001b[0;34m\u001b[0m\u001b[0;34m\u001b[0m\u001b[0m\n\u001b[0m\u001b[1;32m      2\u001b[0m \u001b[0;31m# from llama_index.logger import LlamaLogger\u001b[0m\u001b[0;34m\u001b[0m\u001b[0;34m\u001b[0m\u001b[0m\n\u001b[1;32m      3\u001b[0m \u001b[0;32mfrom\u001b[0m \u001b[0mlangchain\u001b[0m\u001b[0;34m.\u001b[0m\u001b[0mchat_models\u001b[0m \u001b[0;32mimport\u001b[0m \u001b[0mChatOpenAI\u001b[0m\u001b[0;34m\u001b[0m\u001b[0;34m\u001b[0m\u001b[0m\n\u001b[1;32m      4\u001b[0m \u001b[0;32mfrom\u001b[0m \u001b[0mlangchain\u001b[0m\u001b[0;34m.\u001b[0m\u001b[0mllms\u001b[0m \u001b[0;32mimport\u001b[0m \u001b[0mOpenAI\u001b[0m\u001b[0;34m\u001b[0m\u001b[0;34m\u001b[0m\u001b[0m\n\u001b[1;32m      5\u001b[0m \u001b[0;34m\u001b[0m\u001b[0m\n",
      "\u001b[0;31mImportError\u001b[0m: cannot import name 'GPTPandasIndex' from 'llama_index' (/Users/takeshiiijima/opt/anaconda3/lib/python3.9/site-packages/llama_index/__init__.py)"
     ]
    }
   ],
   "source": [
    "from llama_index import GPTTreeIndex, SimpleDirectoryReader, LLMPredictor, GPTPandasIndex\n",
    "# from llama_index.logger import LlamaLogger\n",
    "# from langchain.chat_models import ChatOpenAI\n",
    "# from langchain.llms import OpenAI\n",
    "\n",
    "\n",
    "from llama_index import GPTSimpleVectorIndex, SimpleDirectoryReader\n",
    "\n",
    "from gpt_index import GPTSimpleVectorIndex\n",
    "from gpt_index.documents import TextDocument\n",
    "\n"
   ]
  },
  {
   "cell_type": "code",
   "execution_count": 6,
   "metadata": {},
   "outputs": [],
   "source": [
    "# gpt-4\n",
    "llm_predictor_gpt4 = LLMPredictor(llm=ChatOpenAI(temperature=0, model_name=\"gpt-4\"))"
   ]
  },
  {
   "cell_type": "code",
   "execution_count": 7,
   "metadata": {},
   "outputs": [],
   "source": [
    "documents = SimpleDirectoryReader('data').load_data()\n"
   ]
  },
  {
   "cell_type": "code",
   "execution_count": 8,
   "metadata": {},
   "outputs": [],
   "source": [
    "index = GPTTreeIndex(documents, llm_predictor=llm_predictor_gpt4)\n",
    "\n"
   ]
  },
  {
   "cell_type": "code",
   "execution_count": 9,
   "metadata": {},
   "outputs": [],
   "source": [
    "index.save_to_disk('index_gpt4.json')\n",
    "\n"
   ]
  },
  {
   "cell_type": "code",
   "execution_count": 10,
   "metadata": {},
   "outputs": [],
   "source": [
    "new_index = GPTTreeIndex.load_from_disk('index_gpt4.json')\n",
    "\n"
   ]
  },
  {
   "cell_type": "code",
   "execution_count": 18,
   "metadata": {},
   "outputs": [],
   "source": [
    "def ask(text):\n",
    "    response_gpt4 = new_index.query(\n",
    "        text,\n",
    "        llm_predictor=llm_predictor_gpt4,\n",
    "        verbose=True)\n",
    "    # print(str(response_gpt4))\n",
    "    display(Markdown(f\"```python\\n{response_gpt4}\\n```\"))\n",
    "    return response_gpt4"
   ]
  },
  {
   "cell_type": "code",
   "execution_count": 13,
   "metadata": {},
   "outputs": [
    {
     "name": "stdout",
     "output_type": "stream",
     "text": [
      "> Starting query: def actを説明してください。\n",
      ">[Level 0] Current response: ANSWER: 1\n",
      "\n",
      "The first summary was selected because it discusses the development of a bot using Jupyter Notebooks and the kaggle-environments package, specifically mentioning the \"act\" method. The act method is redefined to optimize in-game actions, such as mining ice and transferring it to factories. The second summary is about New York City and does not mention the \"act\" method or anything related to bot development.\n",
      ">[Level 0] Selected node: [1]/[1]\n",
      ">[Level 0] Node [1] Summary text: This tutorial introduces Lux AI Season 2 and demonstrates how to develop a bot using Jupyter Notebooks and the kaggle-environments package. The tutorial provides a basic setup for creating an environment, interacting with it, and visualizing it. It also offers a skeleton for building an agent, including initializing players and defining early_setup and act methods. The agent's strategy is expanded by redefining the act method to optimize in-game actions, such as mining ice and transferring it to factories. A complete starter agent is created and saved in agent.py, which can be submitted to the competition website. New York City is the most populous city in the United States, with a diverse culture, architecture, and history. The city comprises five boroughs and has a complex park system and a diverse climate.\n",
      ">[Level 1] Current response: ANSWER: 2\n",
      "\n",
      "This summary was selected because it explains the \"act\" method, which helps agents decide their next action using given observations and generate the game state. It also mentions that the current agent does not have any specific strategy or action but provides the basic structure and game state generation. This summary is relevant to the question as it directly addresses the \"act\" method and its purpose.\n",
      ">[Level 1] Selected node: [2]/[2]\n",
      ">[Level 1] Node [2] Summary text: The act method is defined to help agents decide their next action using given observations and generate the game state. Currently, the agent does not have any specific strategy or action but provides the basic structure and game state generation. This framework can be extended to implement agents that decide specific actions based on the game state. In season 2, there are two distinct phases of the game, requiring two different sets of logic. A simple function is defined to initialize the agent, interact with the environment, and generate a simple video replay. The interact function simulates agent-environment interactions and visualizes the results.\n",
      ">[Level 2] Current response: ANSWER: 1\n",
      "\n",
      "この要約は、actメソッドの定義について説明しています。actメソッドは、エージェントが次の行動を決定するために呼び出されます。与えられた観測値を使って、ゲームの状態を生成します。現在は何も行動を返していませんが、このフレームワークを拡張して、エージェントがゲーム状態に基づいて具体的な行動を決定するように実装できます。この要約が選ばれた理由は、質問がactメソッドに関する説明を求めているためです。\n",
      ">[Level 2] Selected node: [1]/[1]\n",
      ">[Level 2] Node [1] Summary text: \n",
      "# actメソッドを定義します。このメソッドは、エージェントが次の行動を決定するために呼び出されます。与えられた観測値を使って、ゲームの状態を生成します。現在は何も行動を返していません。\n",
      "# \n",
      "# 現時点では、このエージェントは具体的な戦略や行動を持っていませんが、ゲーム状態の生成とエージェントの基本的な構造を提供しています。このフレームワークを拡張して、エージェントがゲーム状態に基づいて具体的な行動を決定するように実装できます。\n",
      "\n",
      "# %% [markdown]\n",
      "# Note that in season 2, there are two distinct phases of the game where you will have to program two different sets of logic to play it.\n",
      "# \n",
      "# We will also define a simple function to initialize our agent and interact with the environment and generate a simple video\n",
      "\u001b[36;1m\u001b[1;3m>[Level 2] Got node text: \n",
      "# actメソッドを定義します。このメソッドは、エージェントが次の行動を決定するために呼び出されます。与えられた観測値を使って、ゲームの状態を生成します。現在は何も行動を返していません。\n",
      "# \n",
      "# 現時点では、このエージェントは具体的な戦略や行動を持っていませんが、ゲーム状態の生成とエージェントの基本的な構造を提供しています。このフレームワークを拡張して、エージェントがゲーム状態に基づいて...\n",
      "\u001b[0m"
     ]
    }
   ],
   "source": [
    "response_gpt4 = new_index.query(\n",
    "    \"def actを説明してください。\",\n",
    "    llm_predictor=llm_predictor_gpt4,\n",
    "    verbose=True\n",
    ")\n"
   ]
  },
  {
   "cell_type": "code",
   "execution_count": 14,
   "metadata": {},
   "outputs": [
    {
     "data": {
      "text/plain": [
       "'`act`メソッドは、エージェントが次の行動を決定するために呼び出される関数です。このメソッドは、与えられた観測値を使ってゲームの状態を生成します。現在は何も行動を返していません。このフレームワークを拡張して、エージェントがゲーム状態に基づいて具体的な行動を決定するように実装できます。'"
      ]
     },
     "execution_count": 14,
     "metadata": {},
     "output_type": "execute_result"
    }
   ],
   "source": [
    "str(response_gpt4)\n"
   ]
  },
  {
   "cell_type": "code",
   "execution_count": 15,
   "metadata": {},
   "outputs": [
    {
     "name": "stdout",
     "output_type": "stream",
     "text": [
      "> Starting query: def actをリファクタリングしてください。\n",
      ">[Level 0] Current response: ANSWER: 1\n",
      "\n",
      "This summary was selected because it discusses the development of a bot, including redefining the act method to optimize in-game actions. The other summary is about New York City and is not relevant to the question.\n",
      ">[Level 0] Selected node: [1]/[1]\n",
      ">[Level 0] Node [1] Summary text: This tutorial introduces Lux AI Season 2 and demonstrates how to develop a bot using Jupyter Notebooks and the kaggle-environments package. The tutorial provides a basic setup for creating an environment, interacting with it, and visualizing it. It also offers a skeleton for building an agent, including initializing players and defining early_setup and act methods. The agent's strategy is expanded by redefining the act method to optimize in-game actions, such as mining ice and transferring it to factories. A complete starter agent is created and saved in agent.py, which can be submitted to the competition website. New York City is the most populous city in the United States, with a diverse culture, architecture, and history. The city comprises five boroughs and has a complex park system and a diverse climate.\n",
      ">[Level 1] Current response: ANSWER: 5\n",
      "\n",
      "This summary was selected because it discusses updating the act method to make units mine ice and return it to the nearest factory. The updated act method allows the agent to effectively collect resources and optimize its strategy, which is relevant to the request for refactoring the \"def act\" function.\n",
      ">[Level 1] Selected node: [5]/[5]\n",
      ">[Level 1] Node [5] Summary text: This code updates the act method to make units mine ice and return it to the nearest factory. The previous factory logic is maintained, allowing heavy robots to be built in factories that meet the conditions. The agent retrieves the positions of units and factories belonging to its team. For each unit, it identifies the closest factory, checks if the unit is adjacent to the factory, and mines ice tiles if the unit's ice amount is less than 40. If the unit's ice amount is 40 or more, it transfers ice to the factory if adjacent or moves towards the closest factory. This update allows the agent to effectively collect resources and optimize its strategy.\n",
      ">[Level 2] Current response: ANSWER: 6\n",
      "\n",
      "This summary was selected because it describes the updated 'act' method, which allows the agent to perform actions such as returning to the nearest factory after mining ice. This is relevant to the question asking for a refactoring of the 'def act' function.\n",
      ">[Level 2] Selected node: [6]/[6]\n",
      ">[Level 2] Node [6] Summary text: この更新により、エージェントは、ユニットが氷を採掘した後、最も近いファクトリーに戻って氷を投入するように行動することができます。これにより、エージェントはより効果的に資源を収集し、戦略を最適化できます。\n",
      "\n",
      "\n",
      "\n",
      "def act(self, step: int, obs, remainingOverageTime: int = 60):\n",
      "    actions = dict()\n",
      "    game_state = obs_to_game_state(step, self.env_cfg, obs)\n",
      "    factories = game_state.factories[self.player]\n",
      "    factory_tiles, factory_units = [], []\n",
      "    for unit_id, factory in factories.items():\n",
      "        if factory.power >= self.env_cfg.ROBOTS[\"HEAVY\"].POWER_COST and \\\n",
      "        factory.cargo.metal >= self.env_cfg.ROBOTS[\"HEAVY\"].METAL_COST:\n",
      "            actions[unit_id] = factory.build_heavy()\n",
      "        factory_tiles\n",
      "\u001b[36;1m\u001b[1;3m>[Level 2] Got node text: この更新により、エージェントは、ユニットが氷を採掘した後、最も近いファクトリーに戻って氷を投入するように行動することができます。これにより、エージェントはより効果的に資源を収集し、戦略を最適化できます。\n",
      "\n",
      "\n",
      "\n",
      "def act(self, step: int, obs, remainingOverageTime: int = 60):\n",
      "    actions = dict()\n",
      "    game...\n",
      "\u001b[0m"
     ]
    }
   ],
   "source": [
    "response_gpt4 = new_index.query(\n",
    "    \"def actをリファクタリングしてください。\",\n",
    "    llm_predictor=llm_predictor_gpt4,\n",
    "    verbose=True\n",
    ")"
   ]
  },
  {
   "cell_type": "code",
   "execution_count": 16,
   "metadata": {},
   "outputs": [
    {
     "data": {
      "text/plain": [
       "'私はAIアシスタントであり、コードのリファクタリングを直接行うことはできませんが、リファクタリングの提案を行うことができます。以下に、`act`関数のリファクタリングの例を示します。\\n\\n```python\\ndef act(self, step: int, obs, remainingOverageTime: int = 60):\\n    actions = dict()\\n    game_state = obs_to_game_state(step, self.env_cfg, obs)\\n    factories = game_state.factories[self.player]\\n\\n    actions.update(self.build_heavy_units(factories))\\n\\n    return actions\\n\\ndef build_heavy_units(self, factories):\\n    actions = dict()\\n    heavy_robot_cfg = self.env_cfg.ROBOTS[\"HEAVY\"]\\n\\n    for unit_id, factory in factories.items():\\n        if factory.power >= heavy_robot_cfg.POWER_COST and \\\\\\n        factory.cargo.metal >= heavy_robot_cfg.METAL_COST:\\n            actions[unit_id] = factory.build_heavy()\\n\\n    return actions\\n```\\n\\nこのリファクタリングでは、`act`関数からヘビーユニ'"
      ]
     },
     "execution_count": 16,
     "metadata": {},
     "output_type": "execute_result"
    }
   ],
   "source": [
    "str(response_gpt4)\n"
   ]
  }
 ],
 "metadata": {
  "kernelspec": {
   "display_name": "Python 3",
   "language": "python",
   "name": "python3"
  },
  "language_info": {
   "codemirror_mode": {
    "name": "ipython",
    "version": 3
   },
   "file_extension": ".py",
   "mimetype": "text/x-python",
   "name": "python",
   "nbconvert_exporter": "python",
   "pygments_lexer": "ipython3",
   "version": "3.9.7"
  },
  "orig_nbformat": 4,
  "vscode": {
   "interpreter": {
    "hash": "949777d72b0d2535278d3dc13498b2535136f6dfe0678499012e853ee9abcab1"
   }
  }
 },
 "nbformat": 4,
 "nbformat_minor": 2
}
