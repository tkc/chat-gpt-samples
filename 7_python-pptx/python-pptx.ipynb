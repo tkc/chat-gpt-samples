{
 "cells": [
  {
   "cell_type": "code",
   "execution_count": 58,
   "metadata": {},
   "outputs": [
    {
     "name": "stdout",
     "output_type": "stream",
     "text": [
      "Requirement already satisfied: pip in /usr/local/lib/python3.10/site-packages (23.0)\n",
      "Note: you may need to restart the kernel to use updated packages.\n"
     ]
    }
   ],
   "source": [
    "%pip install --upgrade pip"
   ]
  },
  {
   "cell_type": "code",
   "execution_count": 59,
   "metadata": {},
   "outputs": [
    {
     "name": "stdout",
     "output_type": "stream",
     "text": [
      "Requirement already satisfied: python-pptx in /usr/local/lib/python3.10/site-packages (0.6.21)\n",
      "Requirement already satisfied: Pillow>=3.3.2 in /usr/local/lib/python3.10/site-packages (from python-pptx) (9.4.0)\n",
      "Requirement already satisfied: XlsxWriter>=0.5.7 in /usr/local/lib/python3.10/site-packages (from python-pptx) (3.0.8)\n",
      "Requirement already satisfied: lxml>=3.1.0 in /usr/local/lib/python3.10/site-packages (from python-pptx) (4.9.2)\n",
      "Note: you may need to restart the kernel to use updated packages.\n"
     ]
    }
   ],
   "source": [
    "%pip install python-pptx"
   ]
  },
  {
   "cell_type": "code",
   "execution_count": 60,
   "metadata": {},
   "outputs": [],
   "source": [
    "from pptx import Presentation\n",
    "from pptx.util import Inches"
   ]
  },
  {
   "cell_type": "code",
   "execution_count": 61,
   "metadata": {},
   "outputs": [],
   "source": [
    "prs = Presentation()\n"
   ]
  },
  {
   "cell_type": "code",
   "execution_count": 67,
   "metadata": {},
   "outputs": [
    {
     "ename": "AttributeError",
     "evalue": "'CT_Picture' object has no attribute '_nvPicPr'",
     "output_type": "error",
     "traceback": [
      "\u001b[0;31m---------------------------------------------------------------------------\u001b[0m",
      "\u001b[0;31mAttributeError\u001b[0m                            Traceback (most recent call last)",
      "Cell \u001b[0;32mIn [67], line 10\u001b[0m\n\u001b[1;32m      8\u001b[0m pic\u001b[39m.\u001b[39mwidth \u001b[39m=\u001b[39m prs\u001b[39m.\u001b[39mslide_width\n\u001b[1;32m      9\u001b[0m pic\u001b[39m.\u001b[39mheight \u001b[39m=\u001b[39m prs\u001b[39m.\u001b[39mslide_height\n\u001b[0;32m---> 10\u001b[0m pic\u001b[39m.\u001b[39;49m_element\u001b[39m.\u001b[39;49m_nvPicPr\u001b[39m.\u001b[39mcNvPr\u001b[39m.\u001b[39mdescr \u001b[39m=\u001b[39m \u001b[39m'\u001b[39m\u001b[39mImage Name\u001b[39m\u001b[39m'\u001b[39m\n\u001b[1;32m     12\u001b[0m txBox \u001b[39m=\u001b[39m slide1\u001b[39m.\u001b[39mshapes\u001b[39m.\u001b[39madd_textbox(Inches(\u001b[39m1\u001b[39m), Inches(\u001b[39m1\u001b[39m), Inches(\u001b[39m8\u001b[39m), Inches(\u001b[39m2\u001b[39m))\n\u001b[1;32m     13\u001b[0m tf \u001b[39m=\u001b[39m txBox\u001b[39m.\u001b[39mtext_frame\n",
      "\u001b[0;31mAttributeError\u001b[0m: 'CT_Picture' object has no attribute '_nvPicPr'"
     ]
    }
   ],
   "source": [
    "slide1 = prs.slides.add_slide(prs.slide_layouts[6])\n",
    "\n",
    "# img_path = './main.jpg'\n",
    "img_path = './bc.jpg'\n",
    "left = top = Inches(0)\n",
    "\n",
    "pic = slide1.shapes.add_picture(img_path, left, top)\n",
    "pic.width = prs.slide_width\n",
    "# pic.height = prs.slide_height\n",
    "# pic._element._nvPicPr.cNvPr.descr = 'Image Name'\n",
    "\n",
    "txBox = slide1.shapes.add_textbox(Inches(1), Inches(1), Inches(8), Inches(2))\n",
    "tf = txBox.text_frame\n",
    "tf.text = \"This is some text on top of the image\"\n"
   ]
  },
  {
   "cell_type": "code",
   "execution_count": 63,
   "metadata": {},
   "outputs": [],
   "source": [
    "slide2 = prs.slides.add_slide(prs.slide_layouts[1])\n",
    "title2 = slide2.shapes.title\n",
    "title2.text = \"Slide 2 Title\"\n",
    "body2 = slide2.placeholders[1]\n",
    "body2.text = \"This is the body text for slide 2\""
   ]
  },
  {
   "cell_type": "code",
   "execution_count": 64,
   "metadata": {},
   "outputs": [],
   "source": [
    "slide3 = prs.slides.add_slide(prs.slide_layouts[2])\n",
    "title3 = slide3.shapes.title\n",
    "title3.text = \"Slide 3 Title\"\n",
    "\n",
    "left = Inches(1)\n",
    "top = Inches(2)\n",
    "width = Inches(6)\n",
    "height = Inches(1)\n",
    "txBox = slide3.shapes.add_textbox(left, top, width, height)\n",
    "tf = txBox.text_frame\n",
    "tf.text = \"This is some text in a text box on slide 3\"\n",
    "p = tf.add_paragraph()\n",
    "p.text = \"This is a second paragraph\"\n",
    "p.level = 1"
   ]
  },
  {
   "cell_type": "code",
   "execution_count": 65,
   "metadata": {},
   "outputs": [],
   "source": [
    "slide4 = prs.slides.add_slide(prs.slide_layouts[3])\n",
    "shapes4 = slide4.shapes\n",
    "title4 = shapes4.title\n",
    "title4.text = \"Slide 4 Title\"\n",
    "subtitle4 = shapes4.placeholders[1]\n",
    "subtitle4.text = \"This is the subtitle for slide 4\"\n"
   ]
  },
  {
   "cell_type": "code",
   "execution_count": 66,
   "metadata": {},
   "outputs": [],
   "source": [
    "prs.save('sample.pptx')"
   ]
  }
 ],
 "metadata": {
  "kernelspec": {
   "display_name": "Python 3",
   "language": "python",
   "name": "python3"
  },
  "language_info": {
   "codemirror_mode": {
    "name": "ipython",
    "version": 3
   },
   "file_extension": ".py",
   "mimetype": "text/x-python",
   "name": "python",
   "nbconvert_exporter": "python",
   "pygments_lexer": "ipython3",
   "version": "3.10.6"
  },
  "orig_nbformat": 4,
  "vscode": {
   "interpreter": {
    "hash": "949777d72b0d2535278d3dc13498b2535136f6dfe0678499012e853ee9abcab1"
   }
  }
 },
 "nbformat": 4,
 "nbformat_minor": 2
}
