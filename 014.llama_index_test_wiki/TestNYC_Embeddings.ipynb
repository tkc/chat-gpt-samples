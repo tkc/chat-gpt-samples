{
   "cells": [
      {
         "cell_type": "markdown",
         "id": "7a9f093e-e027-405b-ae3d-17dda9e30cd0",
         "metadata": {},
         "source": [
            "# NYC Wikipedia Embeddings Demo"
         ]
      },
      {
         "cell_type": "code",
         "execution_count": 15,
         "id": "7621ef00",
         "metadata": {},
         "outputs": [
            {
               "name": "stdout",
               "output_type": "stream",
               "text": [
                  "Requirement already satisfied: langchain in /usr/local/lib/python3.10/site-packages (0.0.143)\n",
                  "Requirement already satisfied: PyYAML>=5.4.1 in /usr/local/lib/python3.10/site-packages (from langchain) (6.0)\n",
                  "Requirement already satisfied: SQLAlchemy<2,>=1 in /usr/local/lib/python3.10/site-packages (from langchain) (1.4.46)\n",
                  "Requirement already satisfied: aiohttp<4.0.0,>=3.8.3 in /usr/local/lib/python3.10/site-packages (from langchain) (3.8.3)\n",
                  "Requirement already satisfied: async-timeout<5.0.0,>=4.0.0 in /usr/local/lib/python3.10/site-packages (from langchain) (4.0.2)\n",
                  "Requirement already satisfied: dataclasses-json<0.6.0,>=0.5.7 in /usr/local/lib/python3.10/site-packages (from langchain) (0.5.7)\n",
                  "Requirement already satisfied: numexpr<3.0.0,>=2.8.4 in /usr/local/lib/python3.10/site-packages (from langchain) (2.8.4)\n",
                  "Requirement already satisfied: numpy<2,>=1 in /usr/local/lib/python3.10/site-packages (from langchain) (1.23.5)\n",
                  "Requirement already satisfied: openapi-schema-pydantic<2.0,>=1.2 in /usr/local/lib/python3.10/site-packages (from langchain) (1.2.4)\n",
                  "Requirement already satisfied: pydantic<2,>=1 in /usr/local/lib/python3.10/site-packages (from langchain) (1.10.4)\n",
                  "Requirement already satisfied: requests<3,>=2 in /usr/local/lib/python3.10/site-packages (from langchain) (2.28.2)\n",
                  "Requirement already satisfied: tenacity<9.0.0,>=8.1.0 in /usr/local/lib/python3.10/site-packages (from langchain) (8.2.2)\n",
                  "Requirement already satisfied: attrs>=17.3.0 in /usr/local/lib/python3.10/site-packages (from aiohttp<4.0.0,>=3.8.3->langchain) (22.2.0)\n",
                  "Requirement already satisfied: charset-normalizer<3.0,>=2.0 in /usr/local/lib/python3.10/site-packages (from aiohttp<4.0.0,>=3.8.3->langchain) (2.1.1)\n",
                  "Requirement already satisfied: multidict<7.0,>=4.5 in /usr/local/lib/python3.10/site-packages (from aiohttp<4.0.0,>=3.8.3->langchain) (6.0.4)\n",
                  "Requirement already satisfied: yarl<2.0,>=1.0 in /usr/local/lib/python3.10/site-packages (from aiohttp<4.0.0,>=3.8.3->langchain) (1.8.2)\n",
                  "Requirement already satisfied: frozenlist>=1.1.1 in /usr/local/lib/python3.10/site-packages (from aiohttp<4.0.0,>=3.8.3->langchain) (1.3.3)\n",
                  "Requirement already satisfied: aiosignal>=1.1.2 in /usr/local/lib/python3.10/site-packages (from aiohttp<4.0.0,>=3.8.3->langchain) (1.3.1)\n",
                  "Requirement already satisfied: marshmallow<4.0.0,>=3.3.0 in /usr/local/lib/python3.10/site-packages (from dataclasses-json<0.6.0,>=0.5.7->langchain) (3.19.0)\n",
                  "Requirement already satisfied: marshmallow-enum<2.0.0,>=1.5.1 in /usr/local/lib/python3.10/site-packages (from dataclasses-json<0.6.0,>=0.5.7->langchain) (1.5.1)\n",
                  "Requirement already satisfied: typing-inspect>=0.4.0 in /usr/local/lib/python3.10/site-packages (from dataclasses-json<0.6.0,>=0.5.7->langchain) (0.8.0)\n",
                  "Requirement already satisfied: typing-extensions>=4.2.0 in /usr/local/lib/python3.10/site-packages (from pydantic<2,>=1->langchain) (4.5.0)\n",
                  "Requirement already satisfied: idna<4,>=2.5 in /usr/local/lib/python3.10/site-packages (from requests<3,>=2->langchain) (3.4)\n",
                  "Requirement already satisfied: urllib3<1.27,>=1.21.1 in /usr/local/lib/python3.10/site-packages (from requests<3,>=2->langchain) (1.26.12)\n",
                  "Requirement already satisfied: certifi>=2017.4.17 in /usr/local/lib/python3.10/site-packages (from requests<3,>=2->langchain) (2022.12.7)\n",
                  "Requirement already satisfied: greenlet!=0.4.17 in /usr/local/lib/python3.10/site-packages (from SQLAlchemy<2,>=1->langchain) (2.0.2)\n",
                  "Requirement already satisfied: packaging>=17.0 in /usr/local/lib/python3.10/site-packages (from marshmallow<4.0.0,>=3.3.0->dataclasses-json<0.6.0,>=0.5.7->langchain) (21.3)\n",
                  "Requirement already satisfied: mypy-extensions>=0.3.0 in /usr/local/lib/python3.10/site-packages (from typing-inspect>=0.4.0->dataclasses-json<0.6.0,>=0.5.7->langchain) (1.0.0)\n",
                  "Requirement already satisfied: pyparsing!=3.0.5,>=2.0.2 in /usr/local/lib/python3.10/site-packages (from packaging>=17.0->marshmallow<4.0.0,>=3.3.0->dataclasses-json<0.6.0,>=0.5.7->langchain) (3.0.9)\n",
                  "Note: you may need to restart the kernel to use updated packages.\n",
                  "Requirement already satisfied: llama_index in /usr/local/lib/python3.10/site-packages (0.5.17.post1)\n",
                  "Requirement already satisfied: langchain in /usr/local/lib/python3.10/site-packages (0.0.143)\n",
                  "Requirement already satisfied: dataclasses-json in /usr/local/lib/python3.10/site-packages (from llama_index) (0.5.7)\n",
                  "Requirement already satisfied: numpy in /usr/local/lib/python3.10/site-packages (from llama_index) (1.23.5)\n",
                  "Requirement already satisfied: tenacity<9.0.0,>=8.2.0 in /usr/local/lib/python3.10/site-packages (from llama_index) (8.2.2)\n",
                  "Requirement already satisfied: openai>=0.26.4 in /usr/local/lib/python3.10/site-packages (from llama_index) (0.27.0)\n",
                  "Requirement already satisfied: pandas in /usr/local/lib/python3.10/site-packages (from llama_index) (1.4.3)\n",
                  "Requirement already satisfied: tiktoken in /usr/local/lib/python3.10/site-packages (from llama_index) (0.3.1)\n",
                  "Requirement already satisfied: PyYAML>=5.4.1 in /usr/local/lib/python3.10/site-packages (from langchain) (6.0)\n",
                  "Requirement already satisfied: SQLAlchemy<2,>=1 in /usr/local/lib/python3.10/site-packages (from langchain) (1.4.46)\n",
                  "Requirement already satisfied: aiohttp<4.0.0,>=3.8.3 in /usr/local/lib/python3.10/site-packages (from langchain) (3.8.3)\n",
                  "Requirement already satisfied: async-timeout<5.0.0,>=4.0.0 in /usr/local/lib/python3.10/site-packages (from langchain) (4.0.2)\n",
                  "Requirement already satisfied: numexpr<3.0.0,>=2.8.4 in /usr/local/lib/python3.10/site-packages (from langchain) (2.8.4)\n",
                  "Requirement already satisfied: openapi-schema-pydantic<2.0,>=1.2 in /usr/local/lib/python3.10/site-packages (from langchain) (1.2.4)\n",
                  "Requirement already satisfied: pydantic<2,>=1 in /usr/local/lib/python3.10/site-packages (from langchain) (1.10.4)\n",
                  "Requirement already satisfied: requests<3,>=2 in /usr/local/lib/python3.10/site-packages (from langchain) (2.28.2)\n",
                  "Requirement already satisfied: attrs>=17.3.0 in /usr/local/lib/python3.10/site-packages (from aiohttp<4.0.0,>=3.8.3->langchain) (22.2.0)\n",
                  "Requirement already satisfied: charset-normalizer<3.0,>=2.0 in /usr/local/lib/python3.10/site-packages (from aiohttp<4.0.0,>=3.8.3->langchain) (2.1.1)\n",
                  "Requirement already satisfied: multidict<7.0,>=4.5 in /usr/local/lib/python3.10/site-packages (from aiohttp<4.0.0,>=3.8.3->langchain) (6.0.4)\n",
                  "Requirement already satisfied: yarl<2.0,>=1.0 in /usr/local/lib/python3.10/site-packages (from aiohttp<4.0.0,>=3.8.3->langchain) (1.8.2)\n",
                  "Requirement already satisfied: frozenlist>=1.1.1 in /usr/local/lib/python3.10/site-packages (from aiohttp<4.0.0,>=3.8.3->langchain) (1.3.3)\n",
                  "Requirement already satisfied: aiosignal>=1.1.2 in /usr/local/lib/python3.10/site-packages (from aiohttp<4.0.0,>=3.8.3->langchain) (1.3.1)\n",
                  "Requirement already satisfied: marshmallow<4.0.0,>=3.3.0 in /usr/local/lib/python3.10/site-packages (from dataclasses-json->llama_index) (3.19.0)\n",
                  "Requirement already satisfied: marshmallow-enum<2.0.0,>=1.5.1 in /usr/local/lib/python3.10/site-packages (from dataclasses-json->llama_index) (1.5.1)\n",
                  "Requirement already satisfied: typing-inspect>=0.4.0 in /usr/local/lib/python3.10/site-packages (from dataclasses-json->llama_index) (0.8.0)\n",
                  "Requirement already satisfied: tqdm in /usr/local/lib/python3.10/site-packages (from openai>=0.26.4->llama_index) (4.64.1)\n",
                  "Requirement already satisfied: typing-extensions>=4.2.0 in /usr/local/lib/python3.10/site-packages (from pydantic<2,>=1->langchain) (4.5.0)\n",
                  "Requirement already satisfied: idna<4,>=2.5 in /usr/local/lib/python3.10/site-packages (from requests<3,>=2->langchain) (3.4)\n",
                  "Requirement already satisfied: urllib3<1.27,>=1.21.1 in /usr/local/lib/python3.10/site-packages (from requests<3,>=2->langchain) (1.26.12)\n",
                  "Requirement already satisfied: certifi>=2017.4.17 in /usr/local/lib/python3.10/site-packages (from requests<3,>=2->langchain) (2022.12.7)\n",
                  "Requirement already satisfied: greenlet!=0.4.17 in /usr/local/lib/python3.10/site-packages (from SQLAlchemy<2,>=1->langchain) (2.0.2)\n",
                  "Requirement already satisfied: python-dateutil>=2.8.1 in /usr/local/lib/python3.10/site-packages (from pandas->llama_index) (2.8.2)\n",
                  "Requirement already satisfied: pytz>=2020.1 in /usr/local/lib/python3.10/site-packages (from pandas->llama_index) (2022.7.1)\n",
                  "Requirement already satisfied: regex>=2022.1.18 in /usr/local/lib/python3.10/site-packages (from tiktoken->llama_index) (2022.10.31)\n",
                  "Requirement already satisfied: packaging>=17.0 in /usr/local/lib/python3.10/site-packages (from marshmallow<4.0.0,>=3.3.0->dataclasses-json->llama_index) (21.3)\n",
                  "Requirement already satisfied: six>=1.5 in /usr/local/lib/python3.10/site-packages (from python-dateutil>=2.8.1->pandas->llama_index) (1.16.0)\n",
                  "Requirement already satisfied: mypy-extensions>=0.3.0 in /usr/local/lib/python3.10/site-packages (from typing-inspect>=0.4.0->dataclasses-json->llama_index) (1.0.0)\n",
                  "Requirement already satisfied: pyparsing!=3.0.5,>=2.0.2 in /usr/local/lib/python3.10/site-packages (from packaging>=17.0->marshmallow<4.0.0,>=3.3.0->dataclasses-json->llama_index) (3.0.9)\n",
                  "Note: you may need to restart the kernel to use updated packages.\n"
               ]
            }
         ],
         "source": [
            "%pip install langchain\n",
            "%pip install --upgrade llama_index langchain"
         ]
      },
      {
         "cell_type": "code",
         "execution_count": 16,
         "id": "cadae9f2",
         "metadata": {},
         "outputs": [],
         "source": [
            "import logging\n",
            "import sys\n",
            "\n",
            "logging.basicConfig(stream=sys.stdout, level=logging.INFO)\n",
            "logging.getLogger().addHandler(logging.StreamHandler(stream=sys.stdout))"
         ]
      },
      {
         "cell_type": "markdown",
         "id": "3e594a62-110e-40b3-ad1e-c99f49a4e537",
         "metadata": {},
         "source": [
            "Demonstrate embedding capabilities in GPTTreeIndex and GPTListIndex"
         ]
      },
      {
         "cell_type": "markdown",
         "id": "b145f093-afb0-46b8-a81f-466af8478439",
         "metadata": {},
         "source": [
            "### Setup + Data Prep"
         ]
      },
      {
         "cell_type": "code",
         "execution_count": 17,
         "id": "d038dcc1",
         "metadata": {},
         "outputs": [],
         "source": [
            "import logging\n",
            "import sys\n",
            "\n",
            "logging.basicConfig(stream=sys.stdout, level=logging.DEBUG)\n",
            "logging.getLogger().addHandler(logging.StreamHandler(stream=sys.stdout))"
         ]
      },
      {
         "cell_type": "code",
         "execution_count": 18,
         "id": "b4b4387b-413e-4016-ba1e-88b3d9410a38",
         "metadata": {},
         "outputs": [],
         "source": [
            "# fetch \"New York City\" page from Wikipedia\n",
            "from pathlib import Path\n",
            "\n",
            "import requests\n",
            "response = requests.get(\n",
            "    'https://en.wikipedia.org/w/api.php',\n",
            "    params={\n",
            "        'action': 'query',\n",
            "        'format': 'json',\n",
            "        'titles': 'New York City',\n",
            "        'prop': 'extracts',\n",
            "        # 'exintro': True,\n",
            "        'explaintext': True,\n",
            "    }\n",
            ").json()\n",
            "page = next(iter(response['query']['pages'].values()))\n",
            "nyc_text = page['extract']\n",
            "\n",
            "data_path = Path('data')\n",
            "if not data_path.exists():\n",
            "    Path.mkdir(data_path)\n",
            "\n",
            "with open('data/nyc_text.txt', 'w') as fp:\n",
            "    fp.write(nyc_text)"
         ]
      },
      {
         "cell_type": "code",
         "execution_count": 19,
         "id": "f1a9eb90-335c-4214-8bb6-fd1edbe3ccbd",
         "metadata": {},
         "outputs": [],
         "source": [
            "# My OpenAI Key\n",
            "import os\n",
            "os.environ['OPENAI_API_KEY'] =  os.environ['API_KEY']"
         ]
      },
      {
         "cell_type": "markdown",
         "id": "def4eca7-ba03-48e2-b18f-fd669b91a5fc",
         "metadata": {},
         "source": [
            "### GPTTreeIndex - Embedding-based Query"
         ]
      },
      {
         "cell_type": "code",
         "execution_count": 20,
         "id": "8d0b2364-4806-4656-81e7-3f6e4b910b5b",
         "metadata": {},
         "outputs": [],
         "source": [
            "from llama_index import GPTTreeIndex, SimpleDirectoryReader\n",
            "from IPython.display import Markdown"
         ]
      },
      {
         "cell_type": "code",
         "execution_count": 21,
         "id": "1298bbb4-c99e-431e-93ef-eb32c0a2fc2a",
         "metadata": {
            "tags": []
         },
         "outputs": [
            {
               "ename": "AttributeError",
               "evalue": "type object 'GPTTreeIndex' has no attribute 'from_documents'",
               "output_type": "error",
               "traceback": [
                  "\u001b[0;31m---------------------------------------------------------------------------\u001b[0m",
                  "\u001b[0;31mAttributeError\u001b[0m                            Traceback (most recent call last)",
                  "\u001b[1;32m/Users/takeshiiijima/github/chat-gpt-samples/014.llama_index_test_wiki/TestNYC_Embeddings.ipynb Cell 11\u001b[0m in \u001b[0;36m2\n\u001b[1;32m      <a href='vscode-notebook-cell:/Users/takeshiiijima/github/chat-gpt-samples/014.llama_index_test_wiki/TestNYC_Embeddings.ipynb#X12sZmlsZQ%3D%3D?line=0'>1</a>\u001b[0m documents \u001b[39m=\u001b[39m SimpleDirectoryReader(\u001b[39m'\u001b[39m\u001b[39mdata\u001b[39m\u001b[39m'\u001b[39m)\u001b[39m.\u001b[39mload_data()\n\u001b[0;32m----> <a href='vscode-notebook-cell:/Users/takeshiiijima/github/chat-gpt-samples/014.llama_index_test_wiki/TestNYC_Embeddings.ipynb#X12sZmlsZQ%3D%3D?line=1'>2</a>\u001b[0m index \u001b[39m=\u001b[39m GPTTreeIndex\u001b[39m.\u001b[39;49mfrom_documents(documents)\n",
                  "\u001b[0;31mAttributeError\u001b[0m: type object 'GPTTreeIndex' has no attribute 'from_documents'"
               ]
            }
         ],
         "source": [
            "documents = SimpleDirectoryReader('data').load_data()\n",
            "index = GPTTreeIndex.from_documents(documents)\n"
         ]
      },
      {
         "cell_type": "code",
         "execution_count": 22,
         "id": "0b4fe9b6-5762-4e86-b51e-aac45d3ecdb1",
         "metadata": {},
         "outputs": [
            {
               "ename": "NameError",
               "evalue": "name 'index' is not defined",
               "output_type": "error",
               "traceback": [
                  "\u001b[0;31m---------------------------------------------------------------------------\u001b[0m",
                  "\u001b[0;31mNameError\u001b[0m                                 Traceback (most recent call last)",
                  "\u001b[1;32m/Users/takeshiiijima/github/chat-gpt-samples/014.llama_index_test_wiki/TestNYC_Embeddings.ipynb Cell 12\u001b[0m in \u001b[0;36m1\n\u001b[0;32m----> <a href='vscode-notebook-cell:/Users/takeshiiijima/github/chat-gpt-samples/014.llama_index_test_wiki/TestNYC_Embeddings.ipynb#X13sZmlsZQ%3D%3D?line=0'>1</a>\u001b[0m index\u001b[39m.\u001b[39msave_to_disk(\u001b[39m'\u001b[39m\u001b[39mindex.json\u001b[39m\u001b[39m'\u001b[39m)\n",
                  "\u001b[0;31mNameError\u001b[0m: name 'index' is not defined"
               ]
            }
         ],
         "source": [
            "index.save_to_disk('index.json')"
         ]
      },
      {
         "cell_type": "code",
         "execution_count": null,
         "id": "5eec265d-211b-4f26-b05b-5b4e7072bc6e",
         "metadata": {},
         "outputs": [],
         "source": [
            "new_index = GPTTreeIndex.load_from_disk('index.json')"
         ]
      },
      {
         "cell_type": "code",
         "execution_count": null,
         "id": "68c9ebfe-b1b6-4f4e-9278-174346de8c90",
         "metadata": {
            "tags": []
         },
         "outputs": [],
         "source": [
            "# set Logging to DEBUG for more detailed outputs\n",
            "response = new_index.query(\"What is the name of the professional women's basketball team in New York City?\", mode=\"embedding\")"
         ]
      },
      {
         "cell_type": "code",
         "execution_count": null,
         "id": "e1000018-18de-410d-b6d9-c66bf37ccf1d",
         "metadata": {},
         "outputs": [],
         "source": [
            "display(Markdown(f\"<b>{response}</b>\"))"
         ]
      },
      {
         "cell_type": "code",
         "execution_count": null,
         "id": "4fc3f18a-0ef9-453c-acf8-7aedd784cdcf",
         "metadata": {},
         "outputs": [],
         "source": [
            "response = new_index.query(\n",
            "    \"What battles took place in New York City in the American Revolution?\", \n",
            "    mode=\"embedding\"\n",
            ")"
         ]
      },
      {
         "cell_type": "code",
         "execution_count": null,
         "id": "5588289b-9fdc-4b86-bab9-808c97be05e1",
         "metadata": {},
         "outputs": [],
         "source": [
            "display(Markdown(f\"<b>{response}</b>\"))"
         ]
      },
      {
         "cell_type": "code",
         "execution_count": null,
         "id": "53265fd4-da98-4cf9-abfb-3f76105fd2ff",
         "metadata": {},
         "outputs": [],
         "source": [
            "# set Logging to DEBUG for more detailed outputs\n",
            "response = new_index.query(\"What are the airports in New York City?\", mode=\"embedding\")"
         ]
      },
      {
         "cell_type": "code",
         "execution_count": null,
         "id": "bc08060f-b031-4dc5-a980-427dd2407b5d",
         "metadata": {},
         "outputs": [],
         "source": [
            "display(Markdown(f\"<b>{response}</b>\"))"
         ]
      },
      {
         "cell_type": "markdown",
         "id": "63009734-deda-4159-9f2b-0af19720e913",
         "metadata": {},
         "source": [
            "### GPTListIndex - Embedding-based Query"
         ]
      },
      {
         "cell_type": "code",
         "execution_count": null,
         "id": "fd8920ae-8115-457c-b092-21e50cc3bcc0",
         "metadata": {},
         "outputs": [],
         "source": [
            "from llama_index import GPTListIndex, SimpleDirectoryReader\n",
            "from IPython.display import Markdown"
         ]
      },
      {
         "cell_type": "code",
         "execution_count": null,
         "id": "27c8bbee-daf5-494d-ba66-b60142592a96",
         "metadata": {},
         "outputs": [],
         "source": [
            "documents = SimpleDirectoryReader('data').load_data()\n",
            "index = GPTListIndex.from_documents(documents)"
         ]
      },
      {
         "cell_type": "code",
         "execution_count": null,
         "id": "c3d5a589-ee75-40bd-9529-75f693874ed7",
         "metadata": {},
         "outputs": [],
         "source": [
            "index.save_to_disk('index_list_emb.json')"
         ]
      },
      {
         "cell_type": "code",
         "execution_count": null,
         "id": "9dfbef52-50fb-46ca-b82b-c44cfa2301ef",
         "metadata": {},
         "outputs": [],
         "source": [
            "# try loading\n",
            "new_index = GPTListIndex.load_from_disk('index_list_emb.json')"
         ]
      },
      {
         "cell_type": "code",
         "execution_count": null,
         "id": "2cbf24c2-060e-4216-9188-a6746af1830d",
         "metadata": {
            "tags": []
         },
         "outputs": [],
         "source": [
            "# set Logging to DEBUG for more detailed outputs\n",
            "response = new_index.query(\"What is the name of the professional women's basketball team in New York City?\", mode=\"embedding\")"
         ]
      },
      {
         "cell_type": "code",
         "execution_count": null,
         "id": "14e1b19f-fbf7-49fd-a96f-cbb37bafd498",
         "metadata": {},
         "outputs": [],
         "source": [
            "display(Markdown(f\"<b>{response}</b>\"))"
         ]
      },
      {
         "cell_type": "code",
         "execution_count": null,
         "id": "48b86c8d-9149-4395-9d52-6070597c814d",
         "metadata": {},
         "outputs": [],
         "source": [
            "# set Logging to DEBUG for more detailed outputs\n",
            "response = new_index.query(\"What battles took place in New York City in the American Revolution?\", mode=\"embedding\")"
         ]
      },
      {
         "cell_type": "code",
         "execution_count": null,
         "id": "57fbd90c-a8d3-4738-8531-e8f48a953167",
         "metadata": {},
         "outputs": [],
         "source": [
            "display(Markdown(f\"<b>{response}</b>\"))"
         ]
      },
      {
         "cell_type": "code",
         "execution_count": null,
         "id": "7ab01446-9b07-4222-a577-eeb4617ce4fc",
         "metadata": {},
         "outputs": [],
         "source": [
            "# set Logging to DEBUG for more detailed outputs\n",
            "response = new_index.query(\"What are the airports in New York City?\", mode=\"embedding\")"
         ]
      },
      {
         "cell_type": "code",
         "execution_count": null,
         "id": "091afaea-a61e-4a7c-b2f1-7df387380b8b",
         "metadata": {},
         "outputs": [],
         "source": [
            "display(Markdown(f\"<b>{response}</b>\"))"
         ]
      },
      {
         "cell_type": "markdown",
         "id": "aca03087-d6cc-4d87-8ec6-185fa03d9fea",
         "metadata": {},
         "source": [
            "## Try out other embeddings! \n",
            "(courtesy of langchain)"
         ]
      },
      {
         "cell_type": "code",
         "execution_count": null,
         "id": "27c24411-7049-45c7-862c-0857c03db580",
         "metadata": {},
         "outputs": [],
         "source": [
            "from llama_index import GPTListIndex, SimpleDirectoryReader, ServiceContext\n",
            "from IPython.display import Markdown"
         ]
      },
      {
         "cell_type": "code",
         "execution_count": null,
         "id": "b9ff1944-a06a-4b05-adae-a2ef25e74e8b",
         "metadata": {},
         "outputs": [],
         "source": [
            "# load in HF embedding model from langchain\n",
            "from langchain.embeddings.huggingface import HuggingFaceEmbeddings\n",
            "from llama_index import LangchainEmbedding\n",
            "embed_model = LangchainEmbedding(HuggingFaceEmbeddings())"
         ]
      },
      {
         "cell_type": "code",
         "execution_count": null,
         "id": "3049d517-05db-459b-9e32-711e380fda67",
         "metadata": {},
         "outputs": [],
         "source": [
            "# try loading index\n",
            "new_index = GPTListIndex.load_from_disk('index_list_emb.json')"
         ]
      },
      {
         "cell_type": "code",
         "execution_count": null,
         "id": "1494cabb-0123-408a-9d81-8e02db9b3acd",
         "metadata": {},
         "outputs": [],
         "source": [
            "# configure\n",
            "service_context = ServiceContext.from_defaults(embed_model=embed_model)\n",
            "\n",
            "# set Logging to DEBUG for more detailed outputs\n",
            "response = new_index.query(\n",
            "    \"What is the name of the professional women's basketball team in New York City?\", \n",
            "    mode=\"embedding\", \n",
            "    service_context=service_context, \n",
            ")"
         ]
      },
      {
         "cell_type": "code",
         "execution_count": null,
         "id": "4d96a2e7-4eb1-474e-b855-eca3efed1bad",
         "metadata": {},
         "outputs": [],
         "source": [
            "response"
         ]
      },
      {
         "cell_type": "code",
         "execution_count": null,
         "id": "80510d3a-8bf8-47f2-b1d4-3d1bd0d5a1bb",
         "metadata": {},
         "outputs": [],
         "source": []
      }
   ],
   "metadata": {
      "kernelspec": {
         "display_name": "Python 3 (ipykernel)",
         "language": "python",
         "name": "python3"
      },
      "language_info": {
         "codemirror_mode": {
            "name": "ipython",
            "version": 3
         },
         "file_extension": ".py",
         "mimetype": "text/x-python",
         "name": "python",
         "nbconvert_exporter": "python",
         "pygments_lexer": "ipython3",
         "version": "3.10.6"
      }
   },
   "nbformat": 4,
   "nbformat_minor": 5
}
