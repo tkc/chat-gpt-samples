{
    "cells": [
        {
            "attachments": {},
            "cell_type": "markdown",
            "id": "d5f777c3",
            "metadata": {},
            "source": [
                "## Agents"
            ]
        },
        {
            "cell_type": "code",
            "execution_count": 1,
            "id": "ab65b9ae",
            "metadata": {},
            "outputs": [
                {
                    "name": "stdout",
                    "output_type": "stream",
                    "text": [
                        "Requirement already satisfied: openai in /Users/takeshiiijima/opt/anaconda3/lib/python3.9/site-packages (from -r requirements.txt (line 1)) (0.27.6)\n",
                        "Requirement already satisfied: langchain==0.0.146 in /Users/takeshiiijima/opt/anaconda3/lib/python3.9/site-packages (from -r requirements.txt (line 2)) (0.0.146)\n",
                        "Requirement already satisfied: tiktoken in /Users/takeshiiijima/opt/anaconda3/lib/python3.9/site-packages (from -r requirements.txt (line 3)) (0.3.3)\n",
                        "Requirement already satisfied: chromadb==0.3.21 in /Users/takeshiiijima/opt/anaconda3/lib/python3.9/site-packages (from -r requirements.txt (line 4)) (0.3.21)\n",
                        "Requirement already satisfied: wikipedia in /Users/takeshiiijima/opt/anaconda3/lib/python3.9/site-packages (from -r requirements.txt (line 5)) (1.4.0)\n",
                        "Requirement already satisfied: faiss-cpu in /Users/takeshiiijima/opt/anaconda3/lib/python3.9/site-packages (from -r requirements.txt (line 6)) (1.7.4)\n",
                        "Requirement already satisfied: deeplake in /Users/takeshiiijima/opt/anaconda3/lib/python3.9/site-packages (from -r requirements.txt (line 7)) (3.4.0)\n",
                        "Requirement already satisfied: PyYAML>=5.4.1 in /Users/takeshiiijima/opt/anaconda3/lib/python3.9/site-packages (from langchain==0.0.146->-r requirements.txt (line 2)) (6.0)\n",
                        "Requirement already satisfied: SQLAlchemy<2,>=1 in /Users/takeshiiijima/opt/anaconda3/lib/python3.9/site-packages (from langchain==0.0.146->-r requirements.txt (line 2)) (1.4.22)\n",
                        "Requirement already satisfied: aiohttp<4.0.0,>=3.8.3 in /Users/takeshiiijima/opt/anaconda3/lib/python3.9/site-packages (from langchain==0.0.146->-r requirements.txt (line 2)) (3.8.4)\n",
                        "Requirement already satisfied: async-timeout<5.0.0,>=4.0.0 in /Users/takeshiiijima/opt/anaconda3/lib/python3.9/site-packages (from langchain==0.0.146->-r requirements.txt (line 2)) (4.0.2)\n",
                        "Requirement already satisfied: dataclasses-json<0.6.0,>=0.5.7 in /Users/takeshiiijima/opt/anaconda3/lib/python3.9/site-packages (from langchain==0.0.146->-r requirements.txt (line 2)) (0.5.7)\n",
                        "Requirement already satisfied: numexpr<3.0.0,>=2.8.4 in /Users/takeshiiijima/opt/anaconda3/lib/python3.9/site-packages (from langchain==0.0.146->-r requirements.txt (line 2)) (2.8.4)\n",
                        "Requirement already satisfied: numpy<2,>=1 in /Users/takeshiiijima/opt/anaconda3/lib/python3.9/site-packages (from langchain==0.0.146->-r requirements.txt (line 2)) (1.22.4)\n",
                        "Requirement already satisfied: openapi-schema-pydantic<2.0,>=1.2 in /Users/takeshiiijima/opt/anaconda3/lib/python3.9/site-packages (from langchain==0.0.146->-r requirements.txt (line 2)) (1.2.4)\n",
                        "Requirement already satisfied: pydantic<2,>=1 in /Users/takeshiiijima/opt/anaconda3/lib/python3.9/site-packages (from langchain==0.0.146->-r requirements.txt (line 2)) (1.10.6)\n",
                        "Requirement already satisfied: requests<3,>=2 in /Users/takeshiiijima/opt/anaconda3/lib/python3.9/site-packages (from langchain==0.0.146->-r requirements.txt (line 2)) (2.30.0)\n",
                        "Requirement already satisfied: tenacity<9.0.0,>=8.1.0 in /Users/takeshiiijima/opt/anaconda3/lib/python3.9/site-packages (from langchain==0.0.146->-r requirements.txt (line 2)) (8.2.2)\n",
                        "Requirement already satisfied: tqdm>=4.48.0 in /Users/takeshiiijima/opt/anaconda3/lib/python3.9/site-packages (from langchain==0.0.146->-r requirements.txt (line 2)) (4.62.3)\n",
                        "Requirement already satisfied: pandas>=1.3 in /Users/takeshiiijima/opt/anaconda3/lib/python3.9/site-packages (from chromadb==0.3.21->-r requirements.txt (line 4)) (1.3.4)\n",
                        "Requirement already satisfied: hnswlib>=0.7 in /Users/takeshiiijima/opt/anaconda3/lib/python3.9/site-packages (from chromadb==0.3.21->-r requirements.txt (line 4)) (0.7.0)\n",
                        "Requirement already satisfied: clickhouse-connect>=0.5.7 in /Users/takeshiiijima/opt/anaconda3/lib/python3.9/site-packages (from chromadb==0.3.21->-r requirements.txt (line 4)) (0.5.23)\n",
                        "Requirement already satisfied: sentence-transformers>=2.2.2 in /Users/takeshiiijima/opt/anaconda3/lib/python3.9/site-packages (from chromadb==0.3.21->-r requirements.txt (line 4)) (2.2.2)\n",
                        "Requirement already satisfied: duckdb>=0.7.1 in /Users/takeshiiijima/opt/anaconda3/lib/python3.9/site-packages (from chromadb==0.3.21->-r requirements.txt (line 4)) (0.7.1)\n",
                        "Requirement already satisfied: fastapi>=0.85.1 in /Users/takeshiiijima/opt/anaconda3/lib/python3.9/site-packages (from chromadb==0.3.21->-r requirements.txt (line 4)) (0.95.1)\n",
                        "Requirement already satisfied: uvicorn[standard]>=0.18.3 in /Users/takeshiiijima/opt/anaconda3/lib/python3.9/site-packages (from chromadb==0.3.21->-r requirements.txt (line 4)) (0.22.0)\n",
                        "Requirement already satisfied: posthog>=2.4.0 in /Users/takeshiiijima/opt/anaconda3/lib/python3.9/site-packages (from chromadb==0.3.21->-r requirements.txt (line 4)) (3.0.1)\n",
                        "Requirement already satisfied: regex>=2022.1.18 in /Users/takeshiiijima/opt/anaconda3/lib/python3.9/site-packages (from tiktoken->-r requirements.txt (line 3)) (2022.10.31)\n",
                        "Requirement already satisfied: beautifulsoup4 in /Users/takeshiiijima/opt/anaconda3/lib/python3.9/site-packages (from wikipedia->-r requirements.txt (line 5)) (4.10.0)\n",
                        "Requirement already satisfied: pillow in /Users/takeshiiijima/opt/anaconda3/lib/python3.9/site-packages (from deeplake->-r requirements.txt (line 7)) (8.4.0)\n",
                        "Requirement already satisfied: boto3 in /Users/takeshiiijima/opt/anaconda3/lib/python3.9/site-packages (from deeplake->-r requirements.txt (line 7)) (1.26.76)\n",
                        "Requirement already satisfied: click in /Users/takeshiiijima/opt/anaconda3/lib/python3.9/site-packages (from deeplake->-r requirements.txt (line 7)) (8.0.3)\n",
                        "Requirement already satisfied: pathos in /Users/takeshiiijima/opt/anaconda3/lib/python3.9/site-packages (from deeplake->-r requirements.txt (line 7)) (0.3.0)\n",
                        "Requirement already satisfied: humbug>=0.3.1 in /Users/takeshiiijima/opt/anaconda3/lib/python3.9/site-packages (from deeplake->-r requirements.txt (line 7)) (0.3.1)\n",
                        "Requirement already satisfied: numcodecs in /Users/takeshiiijima/opt/anaconda3/lib/python3.9/site-packages (from deeplake->-r requirements.txt (line 7)) (0.11.0)\n",
                        "Requirement already satisfied: pyjwt in /Users/takeshiiijima/opt/anaconda3/lib/python3.9/site-packages (from deeplake->-r requirements.txt (line 7)) (2.1.0)\n",
                        "Requirement already satisfied: aioboto3>=10.4.0 in /Users/takeshiiijima/opt/anaconda3/lib/python3.9/site-packages (from deeplake->-r requirements.txt (line 7)) (11.1.0)\n",
                        "Requirement already satisfied: nest-asyncio in /Users/takeshiiijima/opt/anaconda3/lib/python3.9/site-packages (from deeplake->-r requirements.txt (line 7)) (1.5.1)\n",
                        "Requirement already satisfied: aiobotocore[boto3]==2.5.0 in /Users/takeshiiijima/opt/anaconda3/lib/python3.9/site-packages (from aioboto3>=10.4.0->deeplake->-r requirements.txt (line 7)) (2.5.0)\n",
                        "Requirement already satisfied: botocore<1.29.77,>=1.29.76 in /Users/takeshiiijima/opt/anaconda3/lib/python3.9/site-packages (from aiobotocore[boto3]==2.5.0->aioboto3>=10.4.0->deeplake->-r requirements.txt (line 7)) (1.29.76)\n",
                        "Requirement already satisfied: wrapt>=1.10.10 in /Users/takeshiiijima/opt/anaconda3/lib/python3.9/site-packages (from aiobotocore[boto3]==2.5.0->aioboto3>=10.4.0->deeplake->-r requirements.txt (line 7)) (1.14.1)\n",
                        "Requirement already satisfied: aioitertools>=0.5.1 in /Users/takeshiiijima/opt/anaconda3/lib/python3.9/site-packages (from aiobotocore[boto3]==2.5.0->aioboto3>=10.4.0->deeplake->-r requirements.txt (line 7)) (0.11.0)\n",
                        "Requirement already satisfied: attrs>=17.3.0 in /Users/takeshiiijima/opt/anaconda3/lib/python3.9/site-packages (from aiohttp<4.0.0,>=3.8.3->langchain==0.0.146->-r requirements.txt (line 2)) (21.2.0)\n",
                        "Requirement already satisfied: charset-normalizer<4.0,>=2.0 in /Users/takeshiiijima/opt/anaconda3/lib/python3.9/site-packages (from aiohttp<4.0.0,>=3.8.3->langchain==0.0.146->-r requirements.txt (line 2)) (2.0.4)\n",
                        "Requirement already satisfied: multidict<7.0,>=4.5 in /Users/takeshiiijima/opt/anaconda3/lib/python3.9/site-packages (from aiohttp<4.0.0,>=3.8.3->langchain==0.0.146->-r requirements.txt (line 2)) (6.0.4)\n",
                        "Requirement already satisfied: yarl<2.0,>=1.0 in /Users/takeshiiijima/opt/anaconda3/lib/python3.9/site-packages (from aiohttp<4.0.0,>=3.8.3->langchain==0.0.146->-r requirements.txt (line 2)) (1.8.2)\n",
                        "Requirement already satisfied: frozenlist>=1.1.1 in /Users/takeshiiijima/opt/anaconda3/lib/python3.9/site-packages (from aiohttp<4.0.0,>=3.8.3->langchain==0.0.146->-r requirements.txt (line 2)) (1.3.3)\n",
                        "Requirement already satisfied: aiosignal>=1.1.2 in /Users/takeshiiijima/opt/anaconda3/lib/python3.9/site-packages (from aiohttp<4.0.0,>=3.8.3->langchain==0.0.146->-r requirements.txt (line 2)) (1.3.1)\n",
                        "Requirement already satisfied: jmespath<2.0.0,>=0.7.1 in /Users/takeshiiijima/opt/anaconda3/lib/python3.9/site-packages (from boto3->deeplake->-r requirements.txt (line 7)) (1.0.1)\n",
                        "Requirement already satisfied: s3transfer<0.7.0,>=0.6.0 in /Users/takeshiiijima/opt/anaconda3/lib/python3.9/site-packages (from boto3->deeplake->-r requirements.txt (line 7)) (0.6.1)\n",
                        "Requirement already satisfied: certifi in /Users/takeshiiijima/opt/anaconda3/lib/python3.9/site-packages (from clickhouse-connect>=0.5.7->chromadb==0.3.21->-r requirements.txt (line 4)) (2022.12.7)\n",
                        "Requirement already satisfied: urllib3>=1.26 in /Users/takeshiiijima/opt/anaconda3/lib/python3.9/site-packages (from clickhouse-connect>=0.5.7->chromadb==0.3.21->-r requirements.txt (line 4)) (1.26.7)\n",
                        "Requirement already satisfied: pytz in /Users/takeshiiijima/opt/anaconda3/lib/python3.9/site-packages (from clickhouse-connect>=0.5.7->chromadb==0.3.21->-r requirements.txt (line 4)) (2021.3)\n",
                        "Requirement already satisfied: zstandard in /Users/takeshiiijima/opt/anaconda3/lib/python3.9/site-packages (from clickhouse-connect>=0.5.7->chromadb==0.3.21->-r requirements.txt (line 4)) (0.21.0)\n",
                        "Requirement already satisfied: lz4 in /Users/takeshiiijima/opt/anaconda3/lib/python3.9/site-packages (from clickhouse-connect>=0.5.7->chromadb==0.3.21->-r requirements.txt (line 4)) (4.3.2)\n",
                        "Requirement already satisfied: marshmallow<4.0.0,>=3.3.0 in /Users/takeshiiijima/opt/anaconda3/lib/python3.9/site-packages (from dataclasses-json<0.6.0,>=0.5.7->langchain==0.0.146->-r requirements.txt (line 2)) (3.19.0)\n",
                        "Requirement already satisfied: marshmallow-enum<2.0.0,>=1.5.1 in /Users/takeshiiijima/opt/anaconda3/lib/python3.9/site-packages (from dataclasses-json<0.6.0,>=0.5.7->langchain==0.0.146->-r requirements.txt (line 2)) (1.5.1)\n",
                        "Requirement already satisfied: typing-inspect>=0.4.0 in /Users/takeshiiijima/opt/anaconda3/lib/python3.9/site-packages (from dataclasses-json<0.6.0,>=0.5.7->langchain==0.0.146->-r requirements.txt (line 2)) (0.8.0)\n",
                        "Requirement already satisfied: starlette<0.27.0,>=0.26.1 in /Users/takeshiiijima/opt/anaconda3/lib/python3.9/site-packages (from fastapi>=0.85.1->chromadb==0.3.21->-r requirements.txt (line 4)) (0.26.1)\n",
                        "Requirement already satisfied: python-dateutil>=2.7.3 in /Users/takeshiiijima/opt/anaconda3/lib/python3.9/site-packages (from pandas>=1.3->chromadb==0.3.21->-r requirements.txt (line 4)) (2.8.2)\n",
                        "Requirement already satisfied: six>=1.5 in /Users/takeshiiijima/opt/anaconda3/lib/python3.9/site-packages (from posthog>=2.4.0->chromadb==0.3.21->-r requirements.txt (line 4)) (1.16.0)\n",
                        "Requirement already satisfied: monotonic>=1.5 in /Users/takeshiiijima/opt/anaconda3/lib/python3.9/site-packages (from posthog>=2.4.0->chromadb==0.3.21->-r requirements.txt (line 4)) (1.6)\n",
                        "Requirement already satisfied: backoff>=1.10.0 in /Users/takeshiiijima/opt/anaconda3/lib/python3.9/site-packages (from posthog>=2.4.0->chromadb==0.3.21->-r requirements.txt (line 4)) (2.2.1)\n",
                        "Requirement already satisfied: typing-extensions>=4.2.0 in /Users/takeshiiijima/opt/anaconda3/lib/python3.9/site-packages (from pydantic<2,>=1->langchain==0.0.146->-r requirements.txt (line 2)) (4.5.0)\n",
                        "Requirement already satisfied: idna<4,>=2.5 in /Users/takeshiiijima/opt/anaconda3/lib/python3.9/site-packages (from requests<3,>=2->langchain==0.0.146->-r requirements.txt (line 2)) (3.2)\n",
                        "Requirement already satisfied: transformers<5.0.0,>=4.6.0 in /Users/takeshiiijima/opt/anaconda3/lib/python3.9/site-packages (from sentence-transformers>=2.2.2->chromadb==0.3.21->-r requirements.txt (line 4)) (4.28.1)\n",
                        "Requirement already satisfied: torch>=1.6.0 in /Users/takeshiiijima/opt/anaconda3/lib/python3.9/site-packages (from sentence-transformers>=2.2.2->chromadb==0.3.21->-r requirements.txt (line 4)) (2.0.0)\n",
                        "Requirement already satisfied: torchvision in /Users/takeshiiijima/opt/anaconda3/lib/python3.9/site-packages (from sentence-transformers>=2.2.2->chromadb==0.3.21->-r requirements.txt (line 4)) (0.15.1)\n",
                        "Requirement already satisfied: scikit-learn in /Users/takeshiiijima/opt/anaconda3/lib/python3.9/site-packages (from sentence-transformers>=2.2.2->chromadb==0.3.21->-r requirements.txt (line 4)) (0.24.2)\n",
                        "Requirement already satisfied: scipy in /Users/takeshiiijima/opt/anaconda3/lib/python3.9/site-packages (from sentence-transformers>=2.2.2->chromadb==0.3.21->-r requirements.txt (line 4)) (1.7.1)\n",
                        "Requirement already satisfied: nltk in /Users/takeshiiijima/opt/anaconda3/lib/python3.9/site-packages (from sentence-transformers>=2.2.2->chromadb==0.3.21->-r requirements.txt (line 4)) (3.6.5)\n",
                        "Requirement already satisfied: sentencepiece in /Users/takeshiiijima/opt/anaconda3/lib/python3.9/site-packages (from sentence-transformers>=2.2.2->chromadb==0.3.21->-r requirements.txt (line 4)) (0.1.99)\n",
                        "Requirement already satisfied: huggingface-hub>=0.4.0 in /Users/takeshiiijima/opt/anaconda3/lib/python3.9/site-packages (from sentence-transformers>=2.2.2->chromadb==0.3.21->-r requirements.txt (line 4)) (0.13.4)\n",
                        "Requirement already satisfied: greenlet!=0.4.17 in /Users/takeshiiijima/opt/anaconda3/lib/python3.9/site-packages (from SQLAlchemy<2,>=1->langchain==0.0.146->-r requirements.txt (line 2)) (1.1.1)\n",
                        "Requirement already satisfied: h11>=0.8 in /Users/takeshiiijima/opt/anaconda3/lib/python3.9/site-packages (from uvicorn[standard]>=0.18.3->chromadb==0.3.21->-r requirements.txt (line 4)) (0.14.0)\n",
                        "Requirement already satisfied: httptools>=0.5.0 in /Users/takeshiiijima/opt/anaconda3/lib/python3.9/site-packages (from uvicorn[standard]>=0.18.3->chromadb==0.3.21->-r requirements.txt (line 4)) (0.5.0)\n",
                        "Requirement already satisfied: python-dotenv>=0.13 in /Users/takeshiiijima/opt/anaconda3/lib/python3.9/site-packages (from uvicorn[standard]>=0.18.3->chromadb==0.3.21->-r requirements.txt (line 4)) (1.0.0)\n",
                        "Requirement already satisfied: uvloop!=0.15.0,!=0.15.1,>=0.14.0 in /Users/takeshiiijima/opt/anaconda3/lib/python3.9/site-packages (from uvicorn[standard]>=0.18.3->chromadb==0.3.21->-r requirements.txt (line 4)) (0.17.0)\n",
                        "Requirement already satisfied: watchfiles>=0.13 in /Users/takeshiiijima/opt/anaconda3/lib/python3.9/site-packages (from uvicorn[standard]>=0.18.3->chromadb==0.3.21->-r requirements.txt (line 4)) (0.19.0)\n",
                        "Requirement already satisfied: websockets>=10.4 in /Users/takeshiiijima/opt/anaconda3/lib/python3.9/site-packages (from uvicorn[standard]>=0.18.3->chromadb==0.3.21->-r requirements.txt (line 4)) (10.4)\n",
                        "Requirement already satisfied: soupsieve>1.2 in /Users/takeshiiijima/opt/anaconda3/lib/python3.9/site-packages (from beautifulsoup4->wikipedia->-r requirements.txt (line 5)) (2.2.1)\n",
                        "Requirement already satisfied: entrypoints in /Users/takeshiiijima/opt/anaconda3/lib/python3.9/site-packages (from numcodecs->deeplake->-r requirements.txt (line 7)) (0.3)\n",
                        "Requirement already satisfied: ppft>=1.7.6.6 in /Users/takeshiiijima/opt/anaconda3/lib/python3.9/site-packages (from pathos->deeplake->-r requirements.txt (line 7)) (1.7.6.6)\n",
                        "Requirement already satisfied: dill>=0.3.6 in /Users/takeshiiijima/opt/anaconda3/lib/python3.9/site-packages (from pathos->deeplake->-r requirements.txt (line 7)) (0.3.6)\n",
                        "Requirement already satisfied: pox>=0.3.2 in /Users/takeshiiijima/opt/anaconda3/lib/python3.9/site-packages (from pathos->deeplake->-r requirements.txt (line 7)) (0.3.2)\n",
                        "Requirement already satisfied: multiprocess>=0.70.14 in /Users/takeshiiijima/opt/anaconda3/lib/python3.9/site-packages (from pathos->deeplake->-r requirements.txt (line 7)) (0.70.14)\n",
                        "Requirement already satisfied: filelock in /Users/takeshiiijima/opt/anaconda3/lib/python3.9/site-packages (from huggingface-hub>=0.4.0->sentence-transformers>=2.2.2->chromadb==0.3.21->-r requirements.txt (line 4)) (3.3.1)\n",
                        "Requirement already satisfied: packaging>=20.9 in /Users/takeshiiijima/opt/anaconda3/lib/python3.9/site-packages (from huggingface-hub>=0.4.0->sentence-transformers>=2.2.2->chromadb==0.3.21->-r requirements.txt (line 4)) (21.0)\n",
                        "Requirement already satisfied: anyio<5,>=3.4.0 in /Users/takeshiiijima/opt/anaconda3/lib/python3.9/site-packages (from starlette<0.27.0,>=0.26.1->fastapi>=0.85.1->chromadb==0.3.21->-r requirements.txt (line 4)) (3.6.2)\n",
                        "Requirement already satisfied: sympy in /Users/takeshiiijima/opt/anaconda3/lib/python3.9/site-packages (from torch>=1.6.0->sentence-transformers>=2.2.2->chromadb==0.3.21->-r requirements.txt (line 4)) (1.9)\n",
                        "Requirement already satisfied: networkx in /Users/takeshiiijima/opt/anaconda3/lib/python3.9/site-packages (from torch>=1.6.0->sentence-transformers>=2.2.2->chromadb==0.3.21->-r requirements.txt (line 4)) (2.6.3)\n",
                        "Requirement already satisfied: jinja2 in /Users/takeshiiijima/opt/anaconda3/lib/python3.9/site-packages (from torch>=1.6.0->sentence-transformers>=2.2.2->chromadb==0.3.21->-r requirements.txt (line 4)) (2.11.3)\n",
                        "Requirement already satisfied: tokenizers!=0.11.3,<0.14,>=0.11.1 in /Users/takeshiiijima/opt/anaconda3/lib/python3.9/site-packages (from transformers<5.0.0,>=4.6.0->sentence-transformers>=2.2.2->chromadb==0.3.21->-r requirements.txt (line 4)) (0.13.3)\n",
                        "Requirement already satisfied: mypy-extensions>=0.3.0 in /Users/takeshiiijima/opt/anaconda3/lib/python3.9/site-packages (from typing-inspect>=0.4.0->dataclasses-json<0.6.0,>=0.5.7->langchain==0.0.146->-r requirements.txt (line 2)) (0.4.3)\n",
                        "Requirement already satisfied: joblib in /Users/takeshiiijima/opt/anaconda3/lib/python3.9/site-packages (from nltk->sentence-transformers>=2.2.2->chromadb==0.3.21->-r requirements.txt (line 4)) (1.1.0)\n",
                        "Requirement already satisfied: threadpoolctl>=2.0.0 in /Users/takeshiiijima/opt/anaconda3/lib/python3.9/site-packages (from scikit-learn->sentence-transformers>=2.2.2->chromadb==0.3.21->-r requirements.txt (line 4)) (2.2.0)\n",
                        "Requirement already satisfied: sniffio>=1.1 in /Users/takeshiiijima/opt/anaconda3/lib/python3.9/site-packages (from anyio<5,>=3.4.0->starlette<0.27.0,>=0.26.1->fastapi>=0.85.1->chromadb==0.3.21->-r requirements.txt (line 4)) (1.2.0)\n",
                        "Requirement already satisfied: pyparsing>=2.0.2 in /Users/takeshiiijima/opt/anaconda3/lib/python3.9/site-packages (from packaging>=20.9->huggingface-hub>=0.4.0->sentence-transformers>=2.2.2->chromadb==0.3.21->-r requirements.txt (line 4)) (3.0.4)\n",
                        "Requirement already satisfied: MarkupSafe>=0.23 in /Users/takeshiiijima/opt/anaconda3/lib/python3.9/site-packages (from jinja2->torch>=1.6.0->sentence-transformers>=2.2.2->chromadb==0.3.21->-r requirements.txt (line 4)) (1.1.1)\n",
                        "Requirement already satisfied: mpmath>=0.19 in /Users/takeshiiijima/opt/anaconda3/lib/python3.9/site-packages (from sympy->torch>=1.6.0->sentence-transformers>=2.2.2->chromadb==0.3.21->-r requirements.txt (line 4)) (1.2.1)\n",
                        "Note: you may need to restart the kernel to use updated packages.\n"
                    ]
                }
            ],
            "source": [
                "%pip install -r requirements.txt"
            ]
        },
        {
            "cell_type": "code",
            "execution_count": 2,
            "id": "853669ad",
            "metadata": {},
            "outputs": [],
            "source": [
                "import os\n",
                "from dotenv import load_dotenv\n",
                "load_dotenv()\n",
                "\n",
                "AZURE_DEPLOYMENT_NAME= os.environ['AZURE_DEPLOYMENT_NAME']\n",
                "os.environ[\"OPENAI_API_TYPE\"] = \"azure\"\n",
                "os.environ[\"OPENAI_API_KEY\"] = os.environ['AZURE_OPEN_API_KEY']\n",
                "os.environ[\"OPENAI_API_BASE\"] = os.environ['AZURE_API_BASE']\n",
                "os.environ[\"OPENAI_VERSION\"] = \"2023-03-15-preview\"   \n"
            ]
        },
        {
            "cell_type": "code",
            "execution_count": 3,
            "id": "1c9d405c",
            "metadata": {},
            "outputs": [],
            "source": [
                "from langchain.agents import load_tools\n",
                "from langchain.agents import initialize_agent\n",
                "from langchain.agents import AgentType"
            ]
        },
        {
            "cell_type": "code",
            "execution_count": 4,
            "id": "4b7c821e",
            "metadata": {},
            "outputs": [],
            "source": [
                "from langchain.chains.conversational_retrieval.prompts import CONDENSE_QUESTION_PROMPT\n",
                "from langchain.chat_models import AzureChatOpenAI\n",
                "\n",
                "llm = AzureChatOpenAI(\n",
                "    client=None,\n",
                "    deployment_name=AZURE_DEPLOYMENT_NAME,\n",
                "    openai_api_base=os.environ['AZURE_API_BASE'],\n",
                "    openai_api_version=\"2023-03-15-preview\",\n",
                "    openai_api_key=os.environ['AZURE_OPEN_API_KEY'],\n",
                "    temperature=0,\n",
                "    request_timeout=180)\n"
            ]
        },
        {
            "cell_type": "code",
            "execution_count": null,
            "id": "2a7fea57",
            "metadata": {},
            "outputs": [],
            "source": [
                "from langchain.llms import OpenAI\n",
                "import pandas as pd\n",
                "\n",
                "df = pd.read_csv('data/titanic.csv')"
            ]
        },
        {
            "cell_type": "code",
            "execution_count": 6,
            "id": "4ab6629a",
            "metadata": {},
            "outputs": [],
            "source": [
                "tools = load_tools([\"llm-math\"], llm=llm)"
            ]
        },
        {
            "cell_type": "code",
            "execution_count": 7,
            "id": "9fd328ee",
            "metadata": {},
            "outputs": [],
            "source": [
                "agent = initialize_agent(tools, llm, agent=AgentType.ZERO_SHOT_REACT_DESCRIPTION, verbose=True)"
            ]
        },
        {
            "cell_type": "code",
            "execution_count": 8,
            "id": "c7590bb8",
            "metadata": {},
            "outputs": [
                {
                    "name": "stdout",
                    "output_type": "stream",
                    "text": [
                        "\n",
                        "\n",
                        "\u001b[1m> Entering new AgentExecutor chain...\u001b[0m\n"
                    ]
                },
                {
                    "ename": "OutputParserException",
                    "evalue": "Could not parse LLM output: `I don't think a calculator will be useful for this question.\nAction: None`",
                    "output_type": "error",
                    "traceback": [
                        "\u001b[0;31m---------------------------------------------------------------------------\u001b[0m",
                        "\u001b[0;31mOutputParserException\u001b[0m                     Traceback (most recent call last)",
                        "\u001b[0;32m/var/folders/27/6hk2mfzs5vv9ysvns0ydhx2m0000gn/T/ipykernel_13645/1404738132.py\u001b[0m in \u001b[0;36m<module>\u001b[0;34m\u001b[0m\n\u001b[0;32m----> 1\u001b[0;31m \u001b[0magent\u001b[0m\u001b[0;34m.\u001b[0m\u001b[0mrun\u001b[0m\u001b[0;34m(\u001b[0m\u001b[0;34m\"Who is Leo DiCaprio's girlfriend? What is her current age raised to the 0.43 power?\"\u001b[0m\u001b[0;34m)\u001b[0m\u001b[0;34m\u001b[0m\u001b[0;34m\u001b[0m\u001b[0m\n\u001b[0m",
                        "\u001b[0;32m~/opt/anaconda3/lib/python3.9/site-packages/langchain/chains/base.py\u001b[0m in \u001b[0;36mrun\u001b[0;34m(self, *args, **kwargs)\u001b[0m\n\u001b[1;32m    211\u001b[0m             \u001b[0;32mif\u001b[0m \u001b[0mlen\u001b[0m\u001b[0;34m(\u001b[0m\u001b[0margs\u001b[0m\u001b[0;34m)\u001b[0m \u001b[0;34m!=\u001b[0m \u001b[0;36m1\u001b[0m\u001b[0;34m:\u001b[0m\u001b[0;34m\u001b[0m\u001b[0;34m\u001b[0m\u001b[0m\n\u001b[1;32m    212\u001b[0m                 \u001b[0;32mraise\u001b[0m \u001b[0mValueError\u001b[0m\u001b[0;34m(\u001b[0m\u001b[0;34m\"`run` supports only one positional argument.\"\u001b[0m\u001b[0;34m)\u001b[0m\u001b[0;34m\u001b[0m\u001b[0;34m\u001b[0m\u001b[0m\n\u001b[0;32m--> 213\u001b[0;31m             \u001b[0;32mreturn\u001b[0m \u001b[0mself\u001b[0m\u001b[0;34m(\u001b[0m\u001b[0margs\u001b[0m\u001b[0;34m[\u001b[0m\u001b[0;36m0\u001b[0m\u001b[0;34m]\u001b[0m\u001b[0;34m)\u001b[0m\u001b[0;34m[\u001b[0m\u001b[0mself\u001b[0m\u001b[0;34m.\u001b[0m\u001b[0moutput_keys\u001b[0m\u001b[0;34m[\u001b[0m\u001b[0;36m0\u001b[0m\u001b[0;34m]\u001b[0m\u001b[0;34m]\u001b[0m\u001b[0;34m\u001b[0m\u001b[0;34m\u001b[0m\u001b[0m\n\u001b[0m\u001b[1;32m    214\u001b[0m \u001b[0;34m\u001b[0m\u001b[0m\n\u001b[1;32m    215\u001b[0m         \u001b[0;32mif\u001b[0m \u001b[0mkwargs\u001b[0m \u001b[0;32mand\u001b[0m \u001b[0;32mnot\u001b[0m \u001b[0margs\u001b[0m\u001b[0;34m:\u001b[0m\u001b[0;34m\u001b[0m\u001b[0;34m\u001b[0m\u001b[0m\n",
                        "\u001b[0;32m~/opt/anaconda3/lib/python3.9/site-packages/langchain/chains/base.py\u001b[0m in \u001b[0;36m__call__\u001b[0;34m(self, inputs, return_only_outputs)\u001b[0m\n\u001b[1;32m    114\u001b[0m         \u001b[0;32mexcept\u001b[0m \u001b[0;34m(\u001b[0m\u001b[0mKeyboardInterrupt\u001b[0m\u001b[0;34m,\u001b[0m \u001b[0mException\u001b[0m\u001b[0;34m)\u001b[0m \u001b[0;32mas\u001b[0m \u001b[0me\u001b[0m\u001b[0;34m:\u001b[0m\u001b[0;34m\u001b[0m\u001b[0;34m\u001b[0m\u001b[0m\n\u001b[1;32m    115\u001b[0m             \u001b[0mself\u001b[0m\u001b[0;34m.\u001b[0m\u001b[0mcallback_manager\u001b[0m\u001b[0;34m.\u001b[0m\u001b[0mon_chain_error\u001b[0m\u001b[0;34m(\u001b[0m\u001b[0me\u001b[0m\u001b[0;34m,\u001b[0m \u001b[0mverbose\u001b[0m\u001b[0;34m=\u001b[0m\u001b[0mself\u001b[0m\u001b[0;34m.\u001b[0m\u001b[0mverbose\u001b[0m\u001b[0;34m)\u001b[0m\u001b[0;34m\u001b[0m\u001b[0;34m\u001b[0m\u001b[0m\n\u001b[0;32m--> 116\u001b[0;31m             \u001b[0;32mraise\u001b[0m \u001b[0me\u001b[0m\u001b[0;34m\u001b[0m\u001b[0;34m\u001b[0m\u001b[0m\n\u001b[0m\u001b[1;32m    117\u001b[0m         \u001b[0mself\u001b[0m\u001b[0;34m.\u001b[0m\u001b[0mcallback_manager\u001b[0m\u001b[0;34m.\u001b[0m\u001b[0mon_chain_end\u001b[0m\u001b[0;34m(\u001b[0m\u001b[0moutputs\u001b[0m\u001b[0;34m,\u001b[0m \u001b[0mverbose\u001b[0m\u001b[0;34m=\u001b[0m\u001b[0mself\u001b[0m\u001b[0;34m.\u001b[0m\u001b[0mverbose\u001b[0m\u001b[0;34m)\u001b[0m\u001b[0;34m\u001b[0m\u001b[0;34m\u001b[0m\u001b[0m\n\u001b[1;32m    118\u001b[0m         \u001b[0;32mreturn\u001b[0m \u001b[0mself\u001b[0m\u001b[0;34m.\u001b[0m\u001b[0mprep_outputs\u001b[0m\u001b[0;34m(\u001b[0m\u001b[0minputs\u001b[0m\u001b[0;34m,\u001b[0m \u001b[0moutputs\u001b[0m\u001b[0;34m,\u001b[0m \u001b[0mreturn_only_outputs\u001b[0m\u001b[0;34m)\u001b[0m\u001b[0;34m\u001b[0m\u001b[0;34m\u001b[0m\u001b[0m\n",
                        "\u001b[0;32m~/opt/anaconda3/lib/python3.9/site-packages/langchain/chains/base.py\u001b[0m in \u001b[0;36m__call__\u001b[0;34m(self, inputs, return_only_outputs)\u001b[0m\n\u001b[1;32m    111\u001b[0m         )\n\u001b[1;32m    112\u001b[0m         \u001b[0;32mtry\u001b[0m\u001b[0;34m:\u001b[0m\u001b[0;34m\u001b[0m\u001b[0;34m\u001b[0m\u001b[0m\n\u001b[0;32m--> 113\u001b[0;31m             \u001b[0moutputs\u001b[0m \u001b[0;34m=\u001b[0m \u001b[0mself\u001b[0m\u001b[0;34m.\u001b[0m\u001b[0m_call\u001b[0m\u001b[0;34m(\u001b[0m\u001b[0minputs\u001b[0m\u001b[0;34m)\u001b[0m\u001b[0;34m\u001b[0m\u001b[0;34m\u001b[0m\u001b[0m\n\u001b[0m\u001b[1;32m    114\u001b[0m         \u001b[0;32mexcept\u001b[0m \u001b[0;34m(\u001b[0m\u001b[0mKeyboardInterrupt\u001b[0m\u001b[0;34m,\u001b[0m \u001b[0mException\u001b[0m\u001b[0;34m)\u001b[0m \u001b[0;32mas\u001b[0m \u001b[0me\u001b[0m\u001b[0;34m:\u001b[0m\u001b[0;34m\u001b[0m\u001b[0;34m\u001b[0m\u001b[0m\n\u001b[1;32m    115\u001b[0m             \u001b[0mself\u001b[0m\u001b[0;34m.\u001b[0m\u001b[0mcallback_manager\u001b[0m\u001b[0;34m.\u001b[0m\u001b[0mon_chain_error\u001b[0m\u001b[0;34m(\u001b[0m\u001b[0me\u001b[0m\u001b[0;34m,\u001b[0m \u001b[0mverbose\u001b[0m\u001b[0;34m=\u001b[0m\u001b[0mself\u001b[0m\u001b[0;34m.\u001b[0m\u001b[0mverbose\u001b[0m\u001b[0;34m)\u001b[0m\u001b[0;34m\u001b[0m\u001b[0;34m\u001b[0m\u001b[0m\n",
                        "\u001b[0;32m~/opt/anaconda3/lib/python3.9/site-packages/langchain/agents/agent.py\u001b[0m in \u001b[0;36m_call\u001b[0;34m(self, inputs)\u001b[0m\n\u001b[1;32m    790\u001b[0m         \u001b[0;31m# We now enter the agent loop (until it returns something).\u001b[0m\u001b[0;34m\u001b[0m\u001b[0;34m\u001b[0m\u001b[0m\n\u001b[1;32m    791\u001b[0m         \u001b[0;32mwhile\u001b[0m \u001b[0mself\u001b[0m\u001b[0;34m.\u001b[0m\u001b[0m_should_continue\u001b[0m\u001b[0;34m(\u001b[0m\u001b[0miterations\u001b[0m\u001b[0;34m,\u001b[0m \u001b[0mtime_elapsed\u001b[0m\u001b[0;34m)\u001b[0m\u001b[0;34m:\u001b[0m\u001b[0;34m\u001b[0m\u001b[0;34m\u001b[0m\u001b[0m\n\u001b[0;32m--> 792\u001b[0;31m             next_step_output = self._take_next_step(\n\u001b[0m\u001b[1;32m    793\u001b[0m                 \u001b[0mname_to_tool_map\u001b[0m\u001b[0;34m,\u001b[0m \u001b[0mcolor_mapping\u001b[0m\u001b[0;34m,\u001b[0m \u001b[0minputs\u001b[0m\u001b[0;34m,\u001b[0m \u001b[0mintermediate_steps\u001b[0m\u001b[0;34m\u001b[0m\u001b[0;34m\u001b[0m\u001b[0m\n\u001b[1;32m    794\u001b[0m             )\n",
                        "\u001b[0;32m~/opt/anaconda3/lib/python3.9/site-packages/langchain/agents/agent.py\u001b[0m in \u001b[0;36m_take_next_step\u001b[0;34m(self, name_to_tool_map, color_mapping, inputs, intermediate_steps)\u001b[0m\n\u001b[1;32m    670\u001b[0m         \"\"\"\n\u001b[1;32m    671\u001b[0m         \u001b[0;31m# Call the LLM to see what to do.\u001b[0m\u001b[0;34m\u001b[0m\u001b[0;34m\u001b[0m\u001b[0m\n\u001b[0;32m--> 672\u001b[0;31m         \u001b[0moutput\u001b[0m \u001b[0;34m=\u001b[0m \u001b[0mself\u001b[0m\u001b[0;34m.\u001b[0m\u001b[0magent\u001b[0m\u001b[0;34m.\u001b[0m\u001b[0mplan\u001b[0m\u001b[0;34m(\u001b[0m\u001b[0mintermediate_steps\u001b[0m\u001b[0;34m,\u001b[0m \u001b[0;34m**\u001b[0m\u001b[0minputs\u001b[0m\u001b[0;34m)\u001b[0m\u001b[0;34m\u001b[0m\u001b[0;34m\u001b[0m\u001b[0m\n\u001b[0m\u001b[1;32m    673\u001b[0m         \u001b[0;31m# If the tool chosen is the finishing tool, then we end and return.\u001b[0m\u001b[0;34m\u001b[0m\u001b[0;34m\u001b[0m\u001b[0m\n\u001b[1;32m    674\u001b[0m         \u001b[0;32mif\u001b[0m \u001b[0misinstance\u001b[0m\u001b[0;34m(\u001b[0m\u001b[0moutput\u001b[0m\u001b[0;34m,\u001b[0m \u001b[0mAgentFinish\u001b[0m\u001b[0;34m)\u001b[0m\u001b[0;34m:\u001b[0m\u001b[0;34m\u001b[0m\u001b[0;34m\u001b[0m\u001b[0m\n",
                        "\u001b[0;32m~/opt/anaconda3/lib/python3.9/site-packages/langchain/agents/agent.py\u001b[0m in \u001b[0;36mplan\u001b[0;34m(self, intermediate_steps, **kwargs)\u001b[0m\n\u001b[1;32m    383\u001b[0m         \u001b[0mfull_inputs\u001b[0m \u001b[0;34m=\u001b[0m \u001b[0mself\u001b[0m\u001b[0;34m.\u001b[0m\u001b[0mget_full_inputs\u001b[0m\u001b[0;34m(\u001b[0m\u001b[0mintermediate_steps\u001b[0m\u001b[0;34m,\u001b[0m \u001b[0;34m**\u001b[0m\u001b[0mkwargs\u001b[0m\u001b[0;34m)\u001b[0m\u001b[0;34m\u001b[0m\u001b[0;34m\u001b[0m\u001b[0m\n\u001b[1;32m    384\u001b[0m         \u001b[0mfull_output\u001b[0m \u001b[0;34m=\u001b[0m \u001b[0mself\u001b[0m\u001b[0;34m.\u001b[0m\u001b[0mllm_chain\u001b[0m\u001b[0;34m.\u001b[0m\u001b[0mpredict\u001b[0m\u001b[0;34m(\u001b[0m\u001b[0;34m**\u001b[0m\u001b[0mfull_inputs\u001b[0m\u001b[0;34m)\u001b[0m\u001b[0;34m\u001b[0m\u001b[0;34m\u001b[0m\u001b[0m\n\u001b[0;32m--> 385\u001b[0;31m         \u001b[0;32mreturn\u001b[0m \u001b[0mself\u001b[0m\u001b[0;34m.\u001b[0m\u001b[0moutput_parser\u001b[0m\u001b[0;34m.\u001b[0m\u001b[0mparse\u001b[0m\u001b[0;34m(\u001b[0m\u001b[0mfull_output\u001b[0m\u001b[0;34m)\u001b[0m\u001b[0;34m\u001b[0m\u001b[0;34m\u001b[0m\u001b[0m\n\u001b[0m\u001b[1;32m    386\u001b[0m \u001b[0;34m\u001b[0m\u001b[0m\n\u001b[1;32m    387\u001b[0m     async def aplan(\n",
                        "\u001b[0;32m~/opt/anaconda3/lib/python3.9/site-packages/langchain/agents/mrkl/output_parser.py\u001b[0m in \u001b[0;36mparse\u001b[0;34m(self, text)\u001b[0m\n\u001b[1;32m     22\u001b[0m         \u001b[0mmatch\u001b[0m \u001b[0;34m=\u001b[0m \u001b[0mre\u001b[0m\u001b[0;34m.\u001b[0m\u001b[0msearch\u001b[0m\u001b[0;34m(\u001b[0m\u001b[0mregex\u001b[0m\u001b[0;34m,\u001b[0m \u001b[0mtext\u001b[0m\u001b[0;34m,\u001b[0m \u001b[0mre\u001b[0m\u001b[0;34m.\u001b[0m\u001b[0mDOTALL\u001b[0m\u001b[0;34m)\u001b[0m\u001b[0;34m\u001b[0m\u001b[0;34m\u001b[0m\u001b[0m\n\u001b[1;32m     23\u001b[0m         \u001b[0;32mif\u001b[0m \u001b[0;32mnot\u001b[0m \u001b[0mmatch\u001b[0m\u001b[0;34m:\u001b[0m\u001b[0;34m\u001b[0m\u001b[0;34m\u001b[0m\u001b[0m\n\u001b[0;32m---> 24\u001b[0;31m             \u001b[0;32mraise\u001b[0m \u001b[0mOutputParserException\u001b[0m\u001b[0;34m(\u001b[0m\u001b[0;34mf\"Could not parse LLM output: `{text}`\"\u001b[0m\u001b[0;34m)\u001b[0m\u001b[0;34m\u001b[0m\u001b[0;34m\u001b[0m\u001b[0m\n\u001b[0m\u001b[1;32m     25\u001b[0m         \u001b[0maction\u001b[0m \u001b[0;34m=\u001b[0m \u001b[0mmatch\u001b[0m\u001b[0;34m.\u001b[0m\u001b[0mgroup\u001b[0m\u001b[0;34m(\u001b[0m\u001b[0;36m1\u001b[0m\u001b[0;34m)\u001b[0m\u001b[0;34m.\u001b[0m\u001b[0mstrip\u001b[0m\u001b[0;34m(\u001b[0m\u001b[0;34m)\u001b[0m\u001b[0;34m\u001b[0m\u001b[0;34m\u001b[0m\u001b[0m\n\u001b[1;32m     26\u001b[0m         \u001b[0maction_input\u001b[0m \u001b[0;34m=\u001b[0m \u001b[0mmatch\u001b[0m\u001b[0;34m.\u001b[0m\u001b[0mgroup\u001b[0m\u001b[0;34m(\u001b[0m\u001b[0;36m2\u001b[0m\u001b[0;34m)\u001b[0m\u001b[0;34m\u001b[0m\u001b[0;34m\u001b[0m\u001b[0m\n",
                        "\u001b[0;31mOutputParserException\u001b[0m: Could not parse LLM output: `I don't think a calculator will be useful for this question.\nAction: None`"
                    ]
                }
            ],
            "source": [
                "agent.run(\"Who is Leo DiCaprio's girlfriend? What is her current age raised to the 0.43 power?\")"
            ]
        }
    ],
    "metadata": {
        "kernelspec": {
            "display_name": "Python 3 (ipykernel)",
            "language": "python",
            "name": "python3"
        },
        "language_info": {
            "codemirror_mode": {
                "name": "ipython",
                "version": 3
            },
            "file_extension": ".py",
            "mimetype": "text/x-python",
            "name": "python",
            "nbconvert_exporter": "python",
            "pygments_lexer": "ipython3",
            "version": "3.9.7"
        }
    },
    "nbformat": 4,
    "nbformat_minor": 5
}
