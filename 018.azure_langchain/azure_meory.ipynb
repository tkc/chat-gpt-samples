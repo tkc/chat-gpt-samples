{
    "cells": [
        {
            "attachments": {},
            "cell_type": "markdown",
            "id": "d5f777c3",
            "metadata": {},
            "source": [
                "## Memory"
            ]
        },
        {
            "cell_type": "code",
            "execution_count": 1,
            "id": "ab65b9ae",
            "metadata": {},
            "outputs": [
                {
                    "name": "stdout",
                    "output_type": "stream",
                    "text": [
                        "Requirement already satisfied: openai in /usr/local/lib/python3.10/site-packages (from -r requirements.txt (line 1)) (0.27.0)\n",
                        "Requirement already satisfied: langchain in /usr/local/lib/python3.10/site-packages (from -r requirements.txt (line 2)) (0.0.157)\n",
                        "Requirement already satisfied: tiktoken in /usr/local/lib/python3.10/site-packages (from -r requirements.txt (line 3)) (0.3.1)\n",
                        "Requirement already satisfied: faiss-cpu in /usr/local/lib/python3.10/site-packages (from -r requirements.txt (line 4)) (1.7.3)\n",
                        "Requirement already satisfied: requests>=2.20 in /usr/local/lib/python3.10/site-packages (from openai->-r requirements.txt (line 1)) (2.28.2)\n",
                        "Requirement already satisfied: tqdm in /usr/local/lib/python3.10/site-packages (from openai->-r requirements.txt (line 1)) (4.64.1)\n",
                        "Requirement already satisfied: aiohttp in /usr/local/lib/python3.10/site-packages (from openai->-r requirements.txt (line 1)) (3.8.3)\n",
                        "Requirement already satisfied: PyYAML>=5.4.1 in /usr/local/lib/python3.10/site-packages (from langchain->-r requirements.txt (line 2)) (6.0)\n",
                        "Requirement already satisfied: SQLAlchemy<3,>=1.3 in /usr/local/lib/python3.10/site-packages (from langchain->-r requirements.txt (line 2)) (1.4.46)\n",
                        "Requirement already satisfied: async-timeout<5.0.0,>=4.0.0 in /usr/local/lib/python3.10/site-packages (from langchain->-r requirements.txt (line 2)) (4.0.2)\n",
                        "Requirement already satisfied: dataclasses-json<0.6.0,>=0.5.7 in /usr/local/lib/python3.10/site-packages (from langchain->-r requirements.txt (line 2)) (0.5.7)\n",
                        "Requirement already satisfied: numexpr<3.0.0,>=2.8.4 in /usr/local/lib/python3.10/site-packages (from langchain->-r requirements.txt (line 2)) (2.8.4)\n",
                        "Requirement already satisfied: numpy<2,>=1 in /usr/local/lib/python3.10/site-packages (from langchain->-r requirements.txt (line 2)) (1.23.5)\n",
                        "Requirement already satisfied: openapi-schema-pydantic<2.0,>=1.2 in /usr/local/lib/python3.10/site-packages (from langchain->-r requirements.txt (line 2)) (1.2.4)\n",
                        "Requirement already satisfied: pydantic<2,>=1 in /usr/local/lib/python3.10/site-packages (from langchain->-r requirements.txt (line 2)) (1.10.4)\n",
                        "Requirement already satisfied: tenacity<9.0.0,>=8.1.0 in /usr/local/lib/python3.10/site-packages (from langchain->-r requirements.txt (line 2)) (8.2.2)\n",
                        "Requirement already satisfied: regex>=2022.1.18 in /usr/local/lib/python3.10/site-packages (from tiktoken->-r requirements.txt (line 3)) (2022.10.31)\n",
                        "Requirement already satisfied: attrs>=17.3.0 in /usr/local/lib/python3.10/site-packages (from aiohttp->openai->-r requirements.txt (line 1)) (22.2.0)\n",
                        "Requirement already satisfied: charset-normalizer<3.0,>=2.0 in /usr/local/lib/python3.10/site-packages (from aiohttp->openai->-r requirements.txt (line 1)) (2.1.1)\n",
                        "Requirement already satisfied: multidict<7.0,>=4.5 in /usr/local/lib/python3.10/site-packages (from aiohttp->openai->-r requirements.txt (line 1)) (6.0.4)\n",
                        "Requirement already satisfied: yarl<2.0,>=1.0 in /usr/local/lib/python3.10/site-packages (from aiohttp->openai->-r requirements.txt (line 1)) (1.8.2)\n",
                        "Requirement already satisfied: frozenlist>=1.1.1 in /usr/local/lib/python3.10/site-packages (from aiohttp->openai->-r requirements.txt (line 1)) (1.3.3)\n",
                        "Requirement already satisfied: aiosignal>=1.1.2 in /usr/local/lib/python3.10/site-packages (from aiohttp->openai->-r requirements.txt (line 1)) (1.3.1)\n",
                        "Requirement already satisfied: marshmallow<4.0.0,>=3.3.0 in /usr/local/lib/python3.10/site-packages (from dataclasses-json<0.6.0,>=0.5.7->langchain->-r requirements.txt (line 2)) (3.19.0)\n",
                        "Requirement already satisfied: marshmallow-enum<2.0.0,>=1.5.1 in /usr/local/lib/python3.10/site-packages (from dataclasses-json<0.6.0,>=0.5.7->langchain->-r requirements.txt (line 2)) (1.5.1)\n",
                        "Requirement already satisfied: typing-inspect>=0.4.0 in /usr/local/lib/python3.10/site-packages (from dataclasses-json<0.6.0,>=0.5.7->langchain->-r requirements.txt (line 2)) (0.8.0)\n",
                        "Requirement already satisfied: typing-extensions>=4.2.0 in /usr/local/lib/python3.10/site-packages (from pydantic<2,>=1->langchain->-r requirements.txt (line 2)) (4.5.0)\n",
                        "Requirement already satisfied: idna<4,>=2.5 in /usr/local/lib/python3.10/site-packages (from requests>=2.20->openai->-r requirements.txt (line 1)) (3.4)\n",
                        "Requirement already satisfied: urllib3<1.27,>=1.21.1 in /usr/local/lib/python3.10/site-packages (from requests>=2.20->openai->-r requirements.txt (line 1)) (1.26.12)\n",
                        "Requirement already satisfied: certifi>=2017.4.17 in /usr/local/lib/python3.10/site-packages (from requests>=2.20->openai->-r requirements.txt (line 1)) (2022.12.7)\n",
                        "Requirement already satisfied: greenlet!=0.4.17 in /usr/local/lib/python3.10/site-packages (from SQLAlchemy<3,>=1.3->langchain->-r requirements.txt (line 2)) (2.0.2)\n",
                        "Requirement already satisfied: packaging>=17.0 in /usr/local/lib/python3.10/site-packages (from marshmallow<4.0.0,>=3.3.0->dataclasses-json<0.6.0,>=0.5.7->langchain->-r requirements.txt (line 2)) (23.1)\n",
                        "Requirement already satisfied: mypy-extensions>=0.3.0 in /usr/local/lib/python3.10/site-packages (from typing-inspect>=0.4.0->dataclasses-json<0.6.0,>=0.5.7->langchain->-r requirements.txt (line 2)) (1.0.0)\n",
                        "Note: you may need to restart the kernel to use updated packages.\n"
                    ]
                }
            ],
            "source": [
                "%pip install -r requirements.txt"
            ]
        },
        {
            "cell_type": "code",
            "execution_count": 33,
            "id": "853669ad",
            "metadata": {},
            "outputs": [],
            "source": [
                "import os\n",
                "import openai\n",
                "from dotenv import load_dotenv\n",
                "load_dotenv()\n",
                "\n",
                "openai.api_key = os.environ['API_KEY']\n",
                "os.environ[\"OPENAI_API_KEY\"] = os.environ['API_KEY']\n",
                "\n",
                "openai.api_type = \"azure\"\n",
                "openai.api_base = os.environ['AZURE_API_BASE']\n",
                "openai.api_version = \"2023-03-15-preview\"\n",
                "openai.api_key = os.environ['AZURE_OPEN_API_KEY']\n",
                "AZURE_DEPLOYMENT_NAME= os.environ['AZURE_DEPLOYMENT_NAME']\n"
            ]
        },
        {
            "cell_type": "code",
            "execution_count": 35,
            "id": "7993aa66",
            "metadata": {},
            "outputs": [],
            "source": [
                "import os\n",
                "import openai\n",
                "from dotenv import load_dotenv\n",
                "load_dotenv()\n",
                "\n",
                "\n",
                "AZURE_DEPLOYMENT_NAME= os.environ['AZURE_DEPLOYMENT_NAME']\n",
                "os.environ[\"OPENAI_API_TYPE\"] = \"azure\"\n",
                "os.environ[\"OPENAI_API_KEY\"] = os.environ['API_KEY']\n",
                "os.environ[\"OPENAI_API_BASE\"] = os.environ['AZURE_API_BASE']\n",
                "os.environ[\"OPENAI_VERSION\"] = \"2023-03-15-preview\""
            ]
        },
        {
            "cell_type": "code",
            "execution_count": 22,
            "id": "ca8bdaf0",
            "metadata": {},
            "outputs": [],
            "source": [
                "from langchain.chains.conversation.memory import ConversationBufferMemory\n",
                "from langchain import OpenAI, LLMChain, PromptTemplate\n",
                "\n",
                "\n",
                "template = \"\"\"あなたは人間と会話するチャットボットです。\n",
                "\n",
                "{chat_history}\n",
                "Human: {human_input}\n",
                "Chatbot:\"\"\"\n",
                "\n",
                "prompt = PromptTemplate(\n",
                "    input_variables=[\"chat_history\", \"human_input\"],\n",
                "    template=template\n",
                ")\n"
            ]
        },
        {
            "cell_type": "code",
            "execution_count": 23,
            "id": "fcd9b71c",
            "metadata": {},
            "outputs": [],
            "source": [
                "\n",
                "memory = ConversationBufferMemory(memory_key=\"chat_history\")"
            ]
        },
        {
            "cell_type": "code",
            "execution_count": 19,
            "id": "3716697d",
            "metadata": {},
            "outputs": [],
            "source": [
                "import openai\n",
                "\n",
                "from langchain.chains import LLMChain, ConversationalRetrievalChain\n",
                "from langchain.embeddings import OpenAIEmbeddings\n",
                "from langchain.vectorstores import FAISS\n",
                "from langchain.chains.question_answering import load_qa_chain\n",
                "from langchain.chains.conversational_retrieval.prompts import CONDENSE_QUESTION_PROMPT\n",
                "from langchain.callbacks import get_openai_callback\n",
                "from langchain.chat_models import AzureChatOpenAI\n",
                "from langchain.text_splitter import RecursiveCharacterTextSplitter\n",
                "from langchain.document_loaders import TextLoader\n",
                "\n",
                "llm = AzureChatOpenAI(\n",
                "    client=None,\n",
                "    deployment_name=AZURE_DEPLOYMENT_NAME,\n",
                "    openai_api_base=openai.api_base,\n",
                "    openai_api_version=openai.api_version or \"\",\n",
                "    openai_api_key=openai.api_key or \"\",\n",
                "    temperature=0,\n",
                "    request_timeout=180,\n",
                ")\n",
                "\n",
                "llm_chain = LLMChain(\n",
                "    llm=llm,\n",
                "    prompt=prompt,\n",
                "    memory=memory,\n",
                "    verbose=True,\n",
                ")\n",
                "\n"
            ]
        },
        {
            "cell_type": "code",
            "execution_count": 36,
            "id": "4d7cf45e",
            "metadata": {},
            "outputs": [
                {
                    "name": "stdout",
                    "output_type": "stream",
                    "text": [
                        "\n",
                        "\n",
                        "\u001b[1m> Entering new LLMChain chain...\u001b[0m\n",
                        "Prompt after formatting:\n",
                        "\u001b[32;1m\u001b[1;3mあなたは人間と会話するチャットボットです。\n",
                        "\n",
                        "Human: こんにちは！\n",
                        "AI: こんにちは！お話しできて嬉しいです。何かお話ししましょうか？\n",
                        "Human: こんにちは！\n",
                        "AI: こんにちは！お話しできて嬉しいです。何かお話ししましょうか？\n",
                        "Human: こんにちは！\n",
                        "AI: こんにちは！お話しできて嬉しいです。何かお話ししましょうか？\n",
                        "Human: こんにちは！\n",
                        "AI: こんにちは！お話しできて嬉しいです。何かお話ししましょうか？\n",
                        "Human: こんにちは！\n",
                        "AI: こんにちは！お話しできて嬉しいです。何かお話ししましょうか？\n",
                        "Human: こんにちは！\n",
                        "Chatbot:\u001b[0m\n",
                        "////////////\n",
                        "200\n",
                        "\n",
                        "\u001b[1m> Finished chain.\u001b[0m\n"
                    ]
                },
                {
                    "data": {
                        "text/plain": [
                            "'こんにちは！お話しできて嬉しいです。何かお話ししましょうか？'"
                        ]
                    },
                    "execution_count": 36,
                    "metadata": {},
                    "output_type": "execute_result"
                }
            ],
            "source": [
                "llm_chain.predict(human_input=\"こんにちは！\")"
            ]
        },
        {
            "cell_type": "code",
            "execution_count": 8,
            "id": "5ee31616",
            "metadata": {},
            "outputs": [
                {
                    "name": "stdout",
                    "output_type": "stream",
                    "text": [
                        "\n",
                        "\n",
                        "\u001b[1m> Entering new LLMChain chain...\u001b[0m\n",
                        "Prompt after formatting:\n",
                        "\u001b[32;1m\u001b[1;3mあなたは人間と会話するチャットボットです。\n",
                        "\n",
                        "Human: こんにちは！\n",
                        "AI: こんにちは！お話しできて嬉しいです。何かお話ししましょうか？\n",
                        "Human: はいお話ししましょう\n",
                        "Chatbot:\u001b[0m\n",
                        "////////////\n",
                        "200\n",
                        "\n",
                        "\u001b[1m> Finished chain.\u001b[0m\n"
                    ]
                },
                {
                    "data": {
                        "text/plain": [
                            "'素晴らしいです！何についてお話ししたいですか？趣味や興味のあること、最近の出来事など、何でもおっしゃってください。'"
                        ]
                    },
                    "execution_count": 8,
                    "metadata": {},
                    "output_type": "execute_result"
                }
            ],
            "source": [
                "llm_chain.predict(human_input=\"はいお話ししましょう\")"
            ]
        }
    ],
    "metadata": {
        "kernelspec": {
            "display_name": "Python 3 (ipykernel)",
            "language": "python",
            "name": "python3"
        },
        "language_info": {
            "codemirror_mode": {
                "name": "ipython",
                "version": 3
            },
            "file_extension": ".py",
            "mimetype": "text/x-python",
            "name": "python",
            "nbconvert_exporter": "python",
            "pygments_lexer": "ipython3",
            "version": "3.10.6"
        }
    },
    "nbformat": 4,
    "nbformat_minor": 5
}
