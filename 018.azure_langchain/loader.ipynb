{
    "cells": [
        {
            "attachments": {},
            "cell_type": "markdown",
            "id": "d5f777c3",
            "metadata": {},
            "source": [
                "## Index"
            ]
        },
        {
            "cell_type": "code",
            "execution_count": 8,
            "id": "ab65b9ae",
            "metadata": {},
            "outputs": [
                {
                    "name": "stdout",
                    "output_type": "stream",
                    "text": [
                        "Requirement already satisfied: openai in /usr/local/lib/python3.10/site-packages (from -r requirements.txt (line 1)) (0.27.0)\n",
                        "Requirement already satisfied: langchain==0.0.146 in /usr/local/lib/python3.10/site-packages (from -r requirements.txt (line 2)) (0.0.146)\n",
                        "Requirement already satisfied: tiktoken in /usr/local/lib/python3.10/site-packages (from -r requirements.txt (line 3)) (0.3.1)\n",
                        "Requirement already satisfied: chromadb==0.3.21 in /usr/local/lib/python3.10/site-packages (from -r requirements.txt (line 4)) (0.3.21)\n",
                        "Requirement already satisfied: wikipedia in /usr/local/lib/python3.10/site-packages (from -r requirements.txt (line 5)) (1.4.0)\n",
                        "Requirement already satisfied: faiss-cpu in /usr/local/lib/python3.10/site-packages (from -r requirements.txt (line 6)) (1.7.3)\n",
                        "Collecting deeplake (from -r requirements.txt (line 7))\n",
                        "  Downloading deeplake-3.4.0.tar.gz (475 kB)\n",
                        "\u001b[2K     \u001b[90m━━━━━━━━━━━━━━━━━━━━━━━━━━━━━━━━━━━━━━━\u001b[0m \u001b[32m475.9/475.9 kB\u001b[0m \u001b[31m7.0 MB/s\u001b[0m eta \u001b[36m0:00:00\u001b[0ma \u001b[36m0:00:01\u001b[0m\n",
                        "\u001b[?25h  Preparing metadata (setup.py) ... \u001b[?25ldone\n",
                        "\u001b[?25hRequirement already satisfied: PyYAML>=5.4.1 in /usr/local/lib/python3.10/site-packages (from langchain==0.0.146->-r requirements.txt (line 2)) (6.0)\n",
                        "Requirement already satisfied: SQLAlchemy<2,>=1 in /usr/local/lib/python3.10/site-packages (from langchain==0.0.146->-r requirements.txt (line 2)) (1.4.46)\n",
                        "Requirement already satisfied: aiohttp<4.0.0,>=3.8.3 in /usr/local/lib/python3.10/site-packages (from langchain==0.0.146->-r requirements.txt (line 2)) (3.8.3)\n",
                        "Requirement already satisfied: async-timeout<5.0.0,>=4.0.0 in /usr/local/lib/python3.10/site-packages (from langchain==0.0.146->-r requirements.txt (line 2)) (4.0.2)\n",
                        "Requirement already satisfied: dataclasses-json<0.6.0,>=0.5.7 in /usr/local/lib/python3.10/site-packages (from langchain==0.0.146->-r requirements.txt (line 2)) (0.5.7)\n",
                        "Requirement already satisfied: numexpr<3.0.0,>=2.8.4 in /usr/local/lib/python3.10/site-packages (from langchain==0.0.146->-r requirements.txt (line 2)) (2.8.4)\n",
                        "Requirement already satisfied: numpy<2,>=1 in /usr/local/lib/python3.10/site-packages (from langchain==0.0.146->-r requirements.txt (line 2)) (1.23.5)\n",
                        "Requirement already satisfied: openapi-schema-pydantic<2.0,>=1.2 in /usr/local/lib/python3.10/site-packages (from langchain==0.0.146->-r requirements.txt (line 2)) (1.2.4)\n",
                        "Requirement already satisfied: pydantic<2,>=1 in /usr/local/lib/python3.10/site-packages (from langchain==0.0.146->-r requirements.txt (line 2)) (1.10.4)\n",
                        "Requirement already satisfied: requests<3,>=2 in /usr/local/lib/python3.10/site-packages (from langchain==0.0.146->-r requirements.txt (line 2)) (2.28.2)\n",
                        "Requirement already satisfied: tenacity<9.0.0,>=8.1.0 in /usr/local/lib/python3.10/site-packages (from langchain==0.0.146->-r requirements.txt (line 2)) (8.2.2)\n",
                        "Requirement already satisfied: tqdm>=4.48.0 in /usr/local/lib/python3.10/site-packages (from langchain==0.0.146->-r requirements.txt (line 2)) (4.64.1)\n",
                        "Requirement already satisfied: pandas>=1.3 in /usr/local/lib/python3.10/site-packages (from chromadb==0.3.21->-r requirements.txt (line 4)) (1.4.3)\n",
                        "Requirement already satisfied: hnswlib>=0.7 in /usr/local/lib/python3.10/site-packages (from chromadb==0.3.21->-r requirements.txt (line 4)) (0.7.0)\n",
                        "Requirement already satisfied: clickhouse-connect>=0.5.7 in /usr/local/lib/python3.10/site-packages (from chromadb==0.3.21->-r requirements.txt (line 4)) (0.5.23)\n",
                        "Requirement already satisfied: sentence-transformers>=2.2.2 in /usr/local/lib/python3.10/site-packages (from chromadb==0.3.21->-r requirements.txt (line 4)) (2.2.2)\n",
                        "Requirement already satisfied: duckdb>=0.7.1 in /usr/local/lib/python3.10/site-packages (from chromadb==0.3.21->-r requirements.txt (line 4)) (0.7.1)\n",
                        "Requirement already satisfied: fastapi>=0.85.1 in /usr/local/lib/python3.10/site-packages (from chromadb==0.3.21->-r requirements.txt (line 4)) (0.85.2)\n",
                        "Requirement already satisfied: uvicorn[standard]>=0.18.3 in /usr/local/lib/python3.10/site-packages (from chromadb==0.3.21->-r requirements.txt (line 4)) (0.18.3)\n",
                        "Requirement already satisfied: posthog>=2.4.0 in /usr/local/lib/python3.10/site-packages (from chromadb==0.3.21->-r requirements.txt (line 4)) (3.0.1)\n",
                        "Requirement already satisfied: regex>=2022.1.18 in /usr/local/lib/python3.10/site-packages (from tiktoken->-r requirements.txt (line 3)) (2022.10.31)\n",
                        "Requirement already satisfied: beautifulsoup4 in /usr/local/lib/python3.10/site-packages (from wikipedia->-r requirements.txt (line 5)) (4.11.1)\n",
                        "Requirement already satisfied: pillow in /usr/local/lib/python3.10/site-packages (from deeplake->-r requirements.txt (line 7)) (9.4.0)\n",
                        "Requirement already satisfied: boto3 in /usr/local/lib/python3.10/site-packages (from deeplake->-r requirements.txt (line 7)) (1.24.79)\n",
                        "Requirement already satisfied: click in /usr/local/lib/python3.10/site-packages (from deeplake->-r requirements.txt (line 7)) (8.1.3)\n",
                        "Collecting pathos (from deeplake->-r requirements.txt (line 7))\n",
                        "  Downloading pathos-0.3.0-py3-none-any.whl (79 kB)\n",
                        "\u001b[2K     \u001b[90m━━━━━━━━━━━━━━━━━━━━━━━━━━━━━━━━━━━━━━━━\u001b[0m \u001b[32m79.8/79.8 kB\u001b[0m \u001b[31m3.2 MB/s\u001b[0m eta \u001b[36m0:00:00\u001b[0m\n",
                        "\u001b[?25hCollecting humbug>=0.3.1 (from deeplake->-r requirements.txt (line 7))\n",
                        "  Downloading humbug-0.3.1-py3-none-any.whl (15 kB)\n",
                        "Collecting numcodecs (from deeplake->-r requirements.txt (line 7))\n",
                        "  Downloading numcodecs-0.11.0-cp310-cp310-macosx_10_9_x86_64.whl (1.4 MB)\n",
                        "\u001b[2K     \u001b[90m━━━━━━━━━━━━━━━━━━━━━━━━━━━━━━━━━━━━━━━━\u001b[0m \u001b[32m1.4/1.4 MB\u001b[0m \u001b[31m3.6 MB/s\u001b[0m eta \u001b[36m0:00:00\u001b[0m00:01\u001b[0m00:01\u001b[0mm\n",
                        "\u001b[?25hCollecting pyjwt (from deeplake->-r requirements.txt (line 7))\n",
                        "  Downloading PyJWT-2.6.0-py3-none-any.whl (20 kB)\n",
                        "Collecting aioboto3>=10.4.0 (from deeplake->-r requirements.txt (line 7))\n",
                        "  Downloading aioboto3-11.1.0-py3-none-any.whl (32 kB)\n",
                        "Requirement already satisfied: nest_asyncio in /usr/local/lib/python3.10/site-packages (from deeplake->-r requirements.txt (line 7)) (1.5.5)\n",
                        "Collecting aiobotocore[boto3]==2.5.0 (from aioboto3>=10.4.0->deeplake->-r requirements.txt (line 7))\n",
                        "  Downloading aiobotocore-2.5.0-py3-none-any.whl (72 kB)\n",
                        "\u001b[2K     \u001b[90m━━━━━━━━━━━━━━━━━━━━━━━━━━━━━━━━━━━━━━━━\u001b[0m \u001b[32m72.7/72.7 kB\u001b[0m \u001b[31m3.1 MB/s\u001b[0m eta \u001b[36m0:00:00\u001b[0m\n",
                        "\u001b[?25hCollecting botocore<1.29.77,>=1.29.76 (from aiobotocore[boto3]==2.5.0->aioboto3>=10.4.0->deeplake->-r requirements.txt (line 7))\n",
                        "  Downloading botocore-1.29.76-py3-none-any.whl (10.4 MB)\n",
                        "\u001b[2K     \u001b[90m━━━━━━━━━━━━━━━━━━━━━━━━━━━━━━━━━━━━━━━━\u001b[0m \u001b[32m10.4/10.4 MB\u001b[0m \u001b[31m23.5 MB/s\u001b[0m eta \u001b[36m0:00:00\u001b[0m00:01\u001b[0m00:01\u001b[0m\n",
                        "\u001b[?25hRequirement already satisfied: wrapt>=1.10.10 in /usr/local/lib/python3.10/site-packages (from aiobotocore[boto3]==2.5.0->aioboto3>=10.4.0->deeplake->-r requirements.txt (line 7)) (1.14.1)\n",
                        "Collecting aioitertools>=0.5.1 (from aiobotocore[boto3]==2.5.0->aioboto3>=10.4.0->deeplake->-r requirements.txt (line 7))\n",
                        "  Downloading aioitertools-0.11.0-py3-none-any.whl (23 kB)\n",
                        "Collecting boto3 (from deeplake->-r requirements.txt (line 7))\n",
                        "  Downloading boto3-1.26.76-py3-none-any.whl (132 kB)\n",
                        "\u001b[2K     \u001b[90m━━━━━━━━━━━━━━━━━━━━━━━━━━━━━━━━━━━━━━━\u001b[0m \u001b[32m132.7/132.7 kB\u001b[0m \u001b[31m4.5 MB/s\u001b[0m eta \u001b[36m0:00:00\u001b[0ma \u001b[36m0:00:01\u001b[0m\n",
                        "\u001b[?25hRequirement already satisfied: attrs>=17.3.0 in /usr/local/lib/python3.10/site-packages (from aiohttp<4.0.0,>=3.8.3->langchain==0.0.146->-r requirements.txt (line 2)) (22.2.0)\n",
                        "Requirement already satisfied: charset-normalizer<3.0,>=2.0 in /usr/local/lib/python3.10/site-packages (from aiohttp<4.0.0,>=3.8.3->langchain==0.0.146->-r requirements.txt (line 2)) (2.1.1)\n",
                        "Requirement already satisfied: multidict<7.0,>=4.5 in /usr/local/lib/python3.10/site-packages (from aiohttp<4.0.0,>=3.8.3->langchain==0.0.146->-r requirements.txt (line 2)) (6.0.4)\n",
                        "Requirement already satisfied: yarl<2.0,>=1.0 in /usr/local/lib/python3.10/site-packages (from aiohttp<4.0.0,>=3.8.3->langchain==0.0.146->-r requirements.txt (line 2)) (1.8.2)\n",
                        "Requirement already satisfied: frozenlist>=1.1.1 in /usr/local/lib/python3.10/site-packages (from aiohttp<4.0.0,>=3.8.3->langchain==0.0.146->-r requirements.txt (line 2)) (1.3.3)\n",
                        "Requirement already satisfied: aiosignal>=1.1.2 in /usr/local/lib/python3.10/site-packages (from aiohttp<4.0.0,>=3.8.3->langchain==0.0.146->-r requirements.txt (line 2)) (1.3.1)\n",
                        "Requirement already satisfied: jmespath<2.0.0,>=0.7.1 in /usr/local/lib/python3.10/site-packages (from boto3->deeplake->-r requirements.txt (line 7)) (1.0.1)\n",
                        "Requirement already satisfied: s3transfer<0.7.0,>=0.6.0 in /usr/local/lib/python3.10/site-packages (from boto3->deeplake->-r requirements.txt (line 7)) (0.6.0)\n",
                        "Requirement already satisfied: certifi in /usr/local/lib/python3.10/site-packages (from clickhouse-connect>=0.5.7->chromadb==0.3.21->-r requirements.txt (line 4)) (2022.12.7)\n",
                        "Requirement already satisfied: urllib3>=1.26 in /usr/local/lib/python3.10/site-packages (from clickhouse-connect>=0.5.7->chromadb==0.3.21->-r requirements.txt (line 4)) (1.26.12)\n",
                        "Requirement already satisfied: pytz in /usr/local/lib/python3.10/site-packages (from clickhouse-connect>=0.5.7->chromadb==0.3.21->-r requirements.txt (line 4)) (2022.7.1)\n",
                        "Requirement already satisfied: zstandard in /usr/local/lib/python3.10/site-packages (from clickhouse-connect>=0.5.7->chromadb==0.3.21->-r requirements.txt (line 4)) (0.21.0)\n",
                        "Requirement already satisfied: lz4 in /usr/local/lib/python3.10/site-packages (from clickhouse-connect>=0.5.7->chromadb==0.3.21->-r requirements.txt (line 4)) (4.3.2)\n",
                        "Requirement already satisfied: marshmallow<4.0.0,>=3.3.0 in /usr/local/lib/python3.10/site-packages (from dataclasses-json<0.6.0,>=0.5.7->langchain==0.0.146->-r requirements.txt (line 2)) (3.19.0)\n",
                        "Requirement already satisfied: marshmallow-enum<2.0.0,>=1.5.1 in /usr/local/lib/python3.10/site-packages (from dataclasses-json<0.6.0,>=0.5.7->langchain==0.0.146->-r requirements.txt (line 2)) (1.5.1)\n",
                        "Requirement already satisfied: typing-inspect>=0.4.0 in /usr/local/lib/python3.10/site-packages (from dataclasses-json<0.6.0,>=0.5.7->langchain==0.0.146->-r requirements.txt (line 2)) (0.8.0)\n",
                        "Requirement already satisfied: starlette==0.20.4 in /usr/local/lib/python3.10/site-packages (from fastapi>=0.85.1->chromadb==0.3.21->-r requirements.txt (line 4)) (0.20.4)\n",
                        "Requirement already satisfied: anyio<5,>=3.4.0 in /usr/local/lib/python3.10/site-packages (from starlette==0.20.4->fastapi>=0.85.1->chromadb==0.3.21->-r requirements.txt (line 4)) (3.6.2)\n",
                        "Requirement already satisfied: python-dateutil>=2.8.1 in /usr/local/lib/python3.10/site-packages (from pandas>=1.3->chromadb==0.3.21->-r requirements.txt (line 4)) (2.8.2)\n",
                        "Requirement already satisfied: six>=1.5 in /usr/local/lib/python3.10/site-packages (from posthog>=2.4.0->chromadb==0.3.21->-r requirements.txt (line 4)) (1.16.0)\n",
                        "Requirement already satisfied: monotonic>=1.5 in /usr/local/lib/python3.10/site-packages (from posthog>=2.4.0->chromadb==0.3.21->-r requirements.txt (line 4)) (1.6)\n",
                        "Requirement already satisfied: backoff>=1.10.0 in /usr/local/lib/python3.10/site-packages (from posthog>=2.4.0->chromadb==0.3.21->-r requirements.txt (line 4)) (2.2.1)\n",
                        "Requirement already satisfied: typing-extensions>=4.2.0 in /usr/local/lib/python3.10/site-packages (from pydantic<2,>=1->langchain==0.0.146->-r requirements.txt (line 2)) (4.5.0)\n",
                        "Requirement already satisfied: idna<4,>=2.5 in /usr/local/lib/python3.10/site-packages (from requests<3,>=2->langchain==0.0.146->-r requirements.txt (line 2)) (3.4)\n",
                        "Requirement already satisfied: transformers<5.0.0,>=4.6.0 in /usr/local/lib/python3.10/site-packages (from sentence-transformers>=2.2.2->chromadb==0.3.21->-r requirements.txt (line 4)) (4.27.0.dev0)\n",
                        "Requirement already satisfied: torch>=1.6.0 in /usr/local/lib/python3.10/site-packages (from sentence-transformers>=2.2.2->chromadb==0.3.21->-r requirements.txt (line 4)) (1.13.1)\n",
                        "Requirement already satisfied: torchvision in /usr/local/lib/python3.10/site-packages (from sentence-transformers>=2.2.2->chromadb==0.3.21->-r requirements.txt (line 4)) (0.14.1)\n",
                        "Requirement already satisfied: scikit-learn in /usr/local/lib/python3.10/site-packages (from sentence-transformers>=2.2.2->chromadb==0.3.21->-r requirements.txt (line 4)) (1.2.1)\n",
                        "Requirement already satisfied: scipy in /usr/local/lib/python3.10/site-packages (from sentence-transformers>=2.2.2->chromadb==0.3.21->-r requirements.txt (line 4)) (1.10.1)\n",
                        "Requirement already satisfied: nltk in /usr/local/lib/python3.10/site-packages (from sentence-transformers>=2.2.2->chromadb==0.3.21->-r requirements.txt (line 4)) (3.8.1)\n",
                        "Requirement already satisfied: sentencepiece in /usr/local/lib/python3.10/site-packages (from sentence-transformers>=2.2.2->chromadb==0.3.21->-r requirements.txt (line 4)) (0.1.98)\n",
                        "Requirement already satisfied: huggingface-hub>=0.4.0 in /usr/local/lib/python3.10/site-packages (from sentence-transformers>=2.2.2->chromadb==0.3.21->-r requirements.txt (line 4)) (0.12.0)\n",
                        "Requirement already satisfied: greenlet!=0.4.17 in /usr/local/lib/python3.10/site-packages (from SQLAlchemy<2,>=1->langchain==0.0.146->-r requirements.txt (line 2)) (2.0.2)\n",
                        "Requirement already satisfied: h11>=0.8 in /usr/local/lib/python3.10/site-packages (from uvicorn[standard]>=0.18.3->chromadb==0.3.21->-r requirements.txt (line 4)) (0.14.0)\n",
                        "Requirement already satisfied: httptools>=0.4.0 in /usr/local/lib/python3.10/site-packages (from uvicorn[standard]>=0.18.3->chromadb==0.3.21->-r requirements.txt (line 4)) (0.5.0)\n",
                        "Requirement already satisfied: python-dotenv>=0.13 in /usr/local/lib/python3.10/site-packages (from uvicorn[standard]>=0.18.3->chromadb==0.3.21->-r requirements.txt (line 4)) (0.21.1)\n",
                        "Requirement already satisfied: uvloop!=0.15.0,!=0.15.1,>=0.14.0 in /usr/local/lib/python3.10/site-packages (from uvicorn[standard]>=0.18.3->chromadb==0.3.21->-r requirements.txt (line 4)) (0.17.0)\n",
                        "Requirement already satisfied: watchfiles>=0.13 in /usr/local/lib/python3.10/site-packages (from uvicorn[standard]>=0.18.3->chromadb==0.3.21->-r requirements.txt (line 4)) (0.19.0)\n",
                        "Requirement already satisfied: websockets>=10.0 in /usr/local/lib/python3.10/site-packages (from uvicorn[standard]>=0.18.3->chromadb==0.3.21->-r requirements.txt (line 4)) (10.4)\n",
                        "Requirement already satisfied: soupsieve>1.2 in /usr/local/lib/python3.10/site-packages (from beautifulsoup4->wikipedia->-r requirements.txt (line 5)) (2.3.2.post1)\n",
                        "Requirement already satisfied: entrypoints in /usr/local/lib/python3.10/site-packages (from numcodecs->deeplake->-r requirements.txt (line 7)) (0.4)\n",
                        "Collecting ppft>=1.7.6.6 (from pathos->deeplake->-r requirements.txt (line 7))\n",
                        "  Downloading ppft-1.7.6.6-py3-none-any.whl (52 kB)\n",
                        "\u001b[2K     \u001b[90m━━━━━━━━━━━━━━━━━━━━━━━━━━━━━━━━━━━━━━━━\u001b[0m \u001b[32m52.8/52.8 kB\u001b[0m \u001b[31m1.9 MB/s\u001b[0m eta \u001b[36m0:00:00\u001b[0m\n",
                        "\u001b[?25hRequirement already satisfied: dill>=0.3.6 in /usr/local/lib/python3.10/site-packages (from pathos->deeplake->-r requirements.txt (line 7)) (0.3.6)\n",
                        "Collecting pox>=0.3.2 (from pathos->deeplake->-r requirements.txt (line 7))\n",
                        "  Downloading pox-0.3.2-py3-none-any.whl (29 kB)\n",
                        "Requirement already satisfied: multiprocess>=0.70.14 in /usr/local/lib/python3.10/site-packages (from pathos->deeplake->-r requirements.txt (line 7)) (0.70.14)\n",
                        "Requirement already satisfied: filelock in /usr/local/lib/python3.10/site-packages (from huggingface-hub>=0.4.0->sentence-transformers>=2.2.2->chromadb==0.3.21->-r requirements.txt (line 4)) (3.9.0)\n",
                        "Requirement already satisfied: packaging>=20.9 in /usr/local/lib/python3.10/site-packages (from huggingface-hub>=0.4.0->sentence-transformers>=2.2.2->chromadb==0.3.21->-r requirements.txt (line 4)) (23.1)\n",
                        "Requirement already satisfied: tokenizers!=0.11.3,<0.14,>=0.11.1 in /usr/local/lib/python3.10/site-packages (from transformers<5.0.0,>=4.6.0->sentence-transformers>=2.2.2->chromadb==0.3.21->-r requirements.txt (line 4)) (0.13.3)\n",
                        "Requirement already satisfied: mypy-extensions>=0.3.0 in /usr/local/lib/python3.10/site-packages (from typing-inspect>=0.4.0->dataclasses-json<0.6.0,>=0.5.7->langchain==0.0.146->-r requirements.txt (line 2)) (1.0.0)\n",
                        "Requirement already satisfied: joblib in /usr/local/lib/python3.10/site-packages (from nltk->sentence-transformers>=2.2.2->chromadb==0.3.21->-r requirements.txt (line 4)) (1.2.0)\n",
                        "Requirement already satisfied: threadpoolctl>=2.0.0 in /usr/local/lib/python3.10/site-packages (from scikit-learn->sentence-transformers>=2.2.2->chromadb==0.3.21->-r requirements.txt (line 4)) (3.1.0)\n",
                        "Requirement already satisfied: sniffio>=1.1 in /usr/local/lib/python3.10/site-packages (from anyio<5,>=3.4.0->starlette==0.20.4->fastapi>=0.85.1->chromadb==0.3.21->-r requirements.txt (line 4)) (1.3.0)\n",
                        "Building wheels for collected packages: deeplake\n",
                        "  Building wheel for deeplake (setup.py) ... \u001b[?25ldone\n",
                        "\u001b[?25h  Created wheel for deeplake: filename=deeplake-3.4.0-py3-none-any.whl size=576104 sha256=8715a88721fd6d8f7796d109a71ca40c3b978e9c2eb8509ce6f08f16bc28118c\n",
                        "  Stored in directory: /Users/takeshiiijima/Library/Caches/pip/wheels/f1/83/33/37299e8bfc65faa0f9d7401eddfdb85660d528d4b6287ebef8\n",
                        "Successfully built deeplake\n",
                        "Installing collected packages: pyjwt, ppft, pox, numcodecs, aioitertools, pathos, humbug, botocore, aiobotocore, boto3, aioboto3, deeplake\n",
                        "  Attempting uninstall: botocore\n",
                        "    Found existing installation: botocore 1.27.79\n",
                        "    Uninstalling botocore-1.27.79:\n",
                        "      Successfully uninstalled botocore-1.27.79\n",
                        "  Attempting uninstall: boto3\n",
                        "    Found existing installation: boto3 1.24.79\n",
                        "    Uninstalling boto3-1.24.79:\n",
                        "      Successfully uninstalled boto3-1.24.79\n",
                        "Successfully installed aioboto3-11.1.0 aiobotocore-2.5.0 aioitertools-0.11.0 boto3-1.26.76 botocore-1.29.76 deeplake-3.4.0 humbug-0.3.1 numcodecs-0.11.0 pathos-0.3.0 pox-0.3.2 ppft-1.7.6.6 pyjwt-2.6.0\n",
                        "Note: you may need to restart the kernel to use updated packages.\n"
                    ]
                }
            ],
            "source": [
                "%pip install -r requirements.txt"
            ]
        },
        {
            "cell_type": "code",
            "execution_count": 9,
            "id": "1792b10a",
            "metadata": {},
            "outputs": [],
            "source": [
                "import os\n",
                "from dotenv import load_dotenv\n",
                "load_dotenv()\n",
                "\n",
                "AZURE_DEPLOYMENT_NAME= os.environ['AZURE_DEPLOYMENT_NAME']\n",
                "os.environ[\"OPENAI_API_TYPE\"] = \"azure\"\n",
                "os.environ[\"OPENAI_API_KEY\"] = os.environ['AZURE_OPEN_API_KEY']\n",
                "os.environ[\"OPENAI_API_BASE\"] = os.environ['AZURE_API_BASE']\n",
                "os.environ[\"OPENAI_VERSION\"] = \"2023-03-15-preview\"   \n",
                "    "
            ]
        },
        {
            "cell_type": "code",
            "execution_count": 10,
            "id": "30c4c0df",
            "metadata": {},
            "outputs": [],
            "source": [
                "from langchain.document_loaders import UnstructuredURLLoader"
            ]
        },
        {
            "cell_type": "code",
            "execution_count": 11,
            "id": "699dd021",
            "metadata": {},
            "outputs": [],
            "source": [
                "urls = [\n",
                "    \"https://note.com/npaka/n/n7df02d6baa4f\"\n",
                "]\n"
            ]
        },
        {
            "cell_type": "code",
            "execution_count": 27,
            "id": "b6493027",
            "metadata": {},
            "outputs": [],
            "source": [
                "loader = UnstructuredURLLoader(urls=urls)\n",
                "data = loader.load()\n"
            ]
        },
        {
            "cell_type": "code",
            "execution_count": 28,
            "id": "f4c03be9",
            "metadata": {},
            "outputs": [
                {
                    "name": "stderr",
                    "output_type": "stream",
                    "text": [
                        "Created a chunk of size 231, which is longer than the specified 200\n",
                        "Created a chunk of size 207, which is longer than the specified 200\n",
                        "Created a chunk of size 310, which is longer than the specified 200\n",
                        "Created a chunk of size 391, which is longer than the specified 200\n",
                        "Created a chunk of size 215, which is longer than the specified 200\n"
                    ]
                },
                {
                    "data": {
                        "text/plain": [
                            "[Document(page_content='Vicuna の学習と評価\\n\\n29\\n\\nnpaka\\n\\n2023年4月25日 16:10\\n\\n以下の記事が面白かったので、軽くまとめました。\\n\\n・Vicuna: An Open-Source Chatbot Impressing GPT-4 with 90%* ChatGPT Quality\\n\\n1. Vicuna', metadata={'source': 'https://note.com/npaka/n/n7df02d6baa4f'}),\n",
                            " Document(page_content='「Vicuna」は、「ShareGPT」から収集したChatGPTのログを使って、「LLaMA」をファインチューニングしたオープンソースのチャットAIです。「GPT-4」を用いた評価では、「Vicuna-13B」は「ChatGPT」や「Bard」の90%以上の品質を達成しました。学習費用は約300ドルです。\\n\\nコード、ウェイト、オンラインデモは、非商用で利用できるように公開されています。', metadata={'source': 'https://note.com/npaka/n/n7df02d6baa4f'}),\n",
                            " Document(page_content='2. Vicunaの能力\\n\\nベンチマークとなる質問に対する「Alpaca」と「Vicuna」の質問応答の例 は、次のとおりです。(以下、英語の質問応答をDeepLで翻訳してます)\\n\\n◎ 質問\\n\\n質問 : 最近行ったハワイ旅行について、文化的な体験や必見のアトラクションを紹介する魅力的な旅行ブログ記事を作成しなさい。\\n\\n◎ Assistant #1 - Alpaca-13B', metadata={'source': 'https://note.com/npaka/n/n7df02d6baa4f'}),\n",
                            " Document(page_content='最近行ったハワイ旅行について、旅行ブログの記事を作成しました。この記事には、火山に登ったり、地元のファーマーズマーケットを訪れたりといった私の体験談が含まれています。また、写真もふんだんに使って、読者に土地勘を持たせるようにしました。ハワイアンミュージックの生演奏を聴いた夜など、ユニークな文化体験や、美しいビーチや緑豊かな熱帯雨林など、必見の見どころも紹介しました。最後に、この旅が私にとって特別なものであった理由と、この旅についての個人的な考察を述べました。', metadata={'source': 'https://note.com/npaka/n/n7df02d6baa4f'}),\n",
                            " Document(page_content='◎ Assistant #2 - Vicuna-13B\\n\\n◎ GPT-4 Evaluation (Score: Alpaca-13b 7/10, Vicuna-13b 10/10)', metadata={'source': 'https://note.com/npaka/n/n7df02d6baa4f'}),\n",
                            " Document(page_content='Assistant #1 は、旅行ブログ記事の概要を説明しましたが、実際にリクエスト通りのブログ記事を作成しなかったため、低得点となりました。一方、Assistant #2 は、最近行ったハワイ旅行について、文化的な体験や必見の観光スポットに焦点を当てた詳細で魅力的な旅行ブログ記事を作成し、ユーザーのリクエストに完全に応えたため、高得点となりました。', metadata={'source': 'https://note.com/npaka/n/n7df02d6baa4f'}),\n",
                            " Document(page_content='しかし、チャットAIを評価するのは決して簡単な作業ではありません。「GPT-4」の最近の進歩により、その能力が人間並みの自動評価が可能になったか興味がありました。試した結果、「GPT-4」は、チャットAIの回答を比較する際に、非常に一貫したランクと詳細な評価を生成できることがわかりました。', metadata={'source': 'https://note.com/npaka/n/n7df02d6baa4f'}),\n",
                            " Document(page_content='図1にまとめた「GPT-4」による評価では、「Vicuna」は「Bard」「ChatGPT」の90%の能力を達成することが示されました。これは、、チャットAIの評価を自動化する可能性を示していますが、まだ厳密なアプローチとは言えません。チャットAIの評価システムを構築することは、さらなる研究を必要とします。\\n\\n3. Vicunaができるまでの作業の流れ', metadata={'source': 'https://note.com/npaka/n/n7df02d6baa4f'}),\n",
                            " Document(page_content='以下の図は、「Vicuna」ができるまでの作業の流れは、次のとおりです。\\n\\n「LLaMA」「Alpaca」「ChatGPT」「Vicuna」の比較は、以下の表のとおりです。\\n\\n4. 学習', metadata={'source': 'https://note.com/npaka/n/n7df02d6baa4f'}),\n",
                            " Document(page_content='「Vicuna」は、データ品質を確保するため、収集したChatGPTのログをマークダウンに変換し、不適切なサンプルや低品質のサンプルをフィルタリングしました。さらに、長い会話を、モデルの最大コンテキスト長に合うように、より小さなセグメントに分割しました。\\n\\n「Vicuna」では「Alpaca」の学習方法に、以下のような改良を加えています。\\n\\nSkyPilotの', metadata={'source': 'https://note.com/npaka/n/n7df02d6baa4f'}),\n",
                            " Document(page_content='マネージドスポットを採用し、より安価なスポットインスタンスを活用することで、先読みの自動回復や自動ゾーン切り替えなど、コストを削減しました。これにより、7Bモデルの学習費用は500ドルから140ドル程度に、13Bモデルの学習費用は1000ドルから300ドル程度に削減されました。\\n\\n5. 配信', metadata={'source': 'https://note.com/npaka/n/n7df02d6baa4f'}),\n",
                            " Document(page_content='複数のモデルを分散ワーカーで提供できる配信システムを構築します。オンプレミスクラスターとクラウドの両方からGPUワーカーの柔軟なプラグインをサポートしています。SkyPilotの「a fault-tolerant controller」と「managed spot feature」を利用することで、この配信システムは複数のクラウドから安価なスポットインスタンスとうまく連携し、配信コストを削減することができます。', metadata={'source': 'https://note.com/npaka/n/n7df02d6baa4f'}),\n",
                            " Document(page_content='6. 評価', metadata={'source': 'https://note.com/npaka/n/n7df02d6baa4f'}),\n",
                            " Document(page_content='チャットAIの評価は、言語理解、推論、文脈認識を調べる必要があるため、難しいタスクです。チャットAIがより高度になるにつれ、現在のオープンベンチマークではもはや十分でない可能性があります。例えば、「Alpaca」で使用された評価データセット、「self-instruct」は、SOTA チャットAIが効果的に回答できるため、人間がパフォーマンスの違いを識別することは困難です。さらに、学習/テストデータの汚染や、新しいベンチマークを作成するためのコストが高くつく可能性があるなどの制限があります。これらの問題に対処するため、チャットAIの性能評価を自動化するために、「GPT-4」ベースの評価フレームワークを提案します。', metadata={'source': 'https://note.com/npaka/n/n7df02d6baa4f'}),\n",
                            " Document(page_content='まず、チャットAIの性能の様々な側面をテストするために、フェルミ問題、ロールプレイシナリオ、コーディング/数学タスクなど、8つの質問カテゴリを考案しました。「GPT-4」は、プロンプトエンジニアリングによって、ベースラインモデルが苦手とする多様で難しい問題を生成することができます。カテゴリーごとに10問を選び、5つのチャットAI (LLaMA、Alpaca、ChatGPT、Bard、Vicuna) から回答を収集しました。そして、「GPT-4」に、有用性、関連性、正確性、詳細性にもとづいて回答の品質を評価するよう依頼しました。その結果、「GPT-4」は、比較的安定した点数だけでなく、なぜそのような点数が付けられたのかについての詳細な説明もできることがわかりました（詳しくはこちら）。しかし、「GPT-4」はコーディングや数学の課題を評価するのは苦手であることもわかりました。', metadata={'source': 'https://note.com/npaka/n/n7df02d6baa4f'}),\n",
                            " Document(page_content='以下の図は、すべてのベースラインと「Vicuna」の比較結果になります。\\n\\n7. 制限事項', metadata={'source': 'https://note.com/npaka/n/n7df02d6baa4f'}),\n",
                            " Document(page_content='「Vicuna」にも一定の限界があることに気づきました。例えば、推論や数学を含むタスクは苦手で、自分自身を正確に識別したり、出力の事実上の正確さを保証したりすることにも限界があるかもしれません。さらに、安全性を保証したり、潜在的な毒性やバイアスを軽減するための最適化が十分に行われていません。安全性の懸念に対処するため、OpenAIのモデレーションAPIを使用して、オンラインデモで不適切なユーザー入力をフィルタリングしています。', metadata={'source': 'https://note.com/npaka/n/n7df02d6baa4f'}),\n",
                            " Document(page_content='8. 評価とデータクリーニングのコード\\n\\n評価のコードの使用手順は、以下を参照。\\n\\n・Evaluations - FastChat\\n\\nデータクリーニングのコードの使用手順は、以下を参照。\\n\\n・Data Cleaning - FastChat\\n\\n関連\\n\\nRyokoAI/ShareGPT52K · Datasets at Hugging Face', metadata={'source': 'https://note.com/npaka/n/n7df02d6baa4f'}),\n",
                            " Document(page_content='We’re on a journey to advance and democratize artificial inte\\n\\n\\nhuggingface.co\\n\\ncopy\\n\\n#AI\\n\\n#人工知能\\n\\n#ChatGPT\\n\\n#OpenAI\\n\\n#GPT3\\n\\n#LLM\\n\\n#大規模言語モデル\\n\\n#alpaca\\n\\n#Llama\\n\\n#Vicuna\\n\\n29', metadata={'source': 'https://note.com/npaka/n/n7df02d6baa4f'}),\n",
                            " Document(page_content='この記事が気に入ったら、サポートをしてみませんか？\\n\\n気に入ったらサポート\\n\\nnpaka\\n\\nフォロー\\n\\nプログラマー。iPhone / Android / Unity / ROS / AI / AR / VR / RasPi / ロボット / ガジェット。年2冊ペースで技術書を執筆。アニソン / カラオケ / ギター / 猫\\ntwitter : @npaka123', metadata={'source': 'https://note.com/npaka/n/n7df02d6baa4f'})]"
                        ]
                    },
                    "execution_count": 28,
                    "metadata": {},
                    "output_type": "execute_result"
                }
            ],
            "source": [
                "from langchain.text_splitter import CharacterTextSplitter\n",
                "from langchain.embeddings import OpenAIEmbeddings\n",
                "from langchain.document_loaders import TextLoader\n",
                "from langchain.vectorstores import FAISS\n",
                "\n",
                "text_splitter = CharacterTextSplitter(chunk_size=200, chunk_overlap=0)\n",
                "docs = text_splitter.split_documents(data)\n",
                "\n",
                "docs\n"
            ]
        },
        {
            "cell_type": "code",
            "execution_count": 23,
            "id": "1e0ce4bc",
            "metadata": {},
            "outputs": [
                {
                    "data": {
                        "text/plain": [
                            "[Document(page_content='<PAGE BREAK>\\n\\n<PAGE BREAK>\\n\\n<PAGE BREAK>\\n\\n<PAGE BREAK>\\n\\n<PAGE BREAK>\\n\\n<PAGE BREAK>\\n\\n<PAGE BREAK>\\n\\n<PAGE BREAK>\\n\\n<PAGE BREAK>\\n\\n<PAGE BREAK>\\n\\n<PAGE BREAK>\\n\\n<PAGE BREAK>\\n\\n<PAGE BREAK>\\n\\n<PAGE BREAK>\\n\\n<PAGE BREAK>', metadata={'source': 'data/23651_presentation_slide_simple.pptx'})]"
                        ]
                    },
                    "execution_count": 23,
                    "metadata": {},
                    "output_type": "execute_result"
                }
            ],
            "source": [
                "from langchain.document_loaders import UnstructuredPowerPointLoader\n",
                "\n",
                "filename = \"data/23651_presentation_slide_simple.pptx\"\n",
                "loader = UnstructuredPowerPointLoader(filename)\n",
                "data = loader.load()"
            ]
        },
        {
            "cell_type": "code",
            "execution_count": 24,
            "id": "41ec2485",
            "metadata": {},
            "outputs": [
                {
                    "data": {
                        "text/plain": [
                            "[Document(page_content='<PAGE BREAK>\\n\\n<PAGE BREAK>\\n\\n<PAGE BREAK>\\n\\n<PAGE BREAK>\\n\\n<PAGE BREAK>\\n\\n<PAGE BREAK>\\n\\n<PAGE BREAK>', metadata={'source': 'data/23651_presentation_slide_simple.pptx'}),\n",
                            " Document(page_content='<PAGE BREAK>\\n\\n<PAGE BREAK>\\n\\n<PAGE BREAK>\\n\\n<PAGE BREAK>\\n\\n<PAGE BREAK>\\n\\n<PAGE BREAK>\\n\\n<PAGE BREAK>', metadata={'source': 'data/23651_presentation_slide_simple.pptx'}),\n",
                            " Document(page_content='<PAGE BREAK>', metadata={'source': 'data/23651_presentation_slide_simple.pptx'})]"
                        ]
                    },
                    "execution_count": 24,
                    "metadata": {},
                    "output_type": "execute_result"
                }
            ],
            "source": [
                "text_splitter = CharacterTextSplitter(chunk_size=100, chunk_overlap=0)\n",
                "docs = text_splitter.split_documents(data)\n",
                "\n",
                "docs\n",
                "\n"
            ]
        }
    ],
    "metadata": {
        "kernelspec": {
            "display_name": "Python 3 (ipykernel)",
            "language": "python",
            "name": "python3"
        },
        "language_info": {
            "codemirror_mode": {
                "name": "ipython",
                "version": 3
            },
            "file_extension": ".py",
            "mimetype": "text/x-python",
            "name": "python",
            "nbconvert_exporter": "python",
            "pygments_lexer": "ipython3",
            "version": "3.10.6"
        }
    },
    "nbformat": 4,
    "nbformat_minor": 5
}
