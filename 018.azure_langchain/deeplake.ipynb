{
    "cells": [
        {
            "attachments": {},
            "cell_type": "markdown",
            "id": "d5f777c3",
            "metadata": {},
            "source": [
                "## Deeplake"
            ]
        },
        {
            "cell_type": "code",
            "execution_count": 57,
            "id": "ab65b9ae",
            "metadata": {},
            "outputs": [
                {
                    "name": "stdout",
                    "output_type": "stream",
                    "text": [
                        "Requirement already satisfied: openai in /Users/takeshiiijima/opt/anaconda3/lib/python3.9/site-packages (from -r requirements.txt (line 1)) (0.27.6)\n",
                        "Collecting langchain==0.0.146 (from -r requirements.txt (line 2))\n",
                        "  Using cached langchain-0.0.146-py3-none-any.whl (600 kB)\n",
                        "Requirement already satisfied: tiktoken in /Users/takeshiiijima/opt/anaconda3/lib/python3.9/site-packages (from -r requirements.txt (line 3)) (0.3.3)\n",
                        "Requirement already satisfied: chromadb==0.3.21 in /Users/takeshiiijima/opt/anaconda3/lib/python3.9/site-packages (from -r requirements.txt (line 4)) (0.3.21)\n",
                        "Requirement already satisfied: wikipedia in /Users/takeshiiijima/opt/anaconda3/lib/python3.9/site-packages (from -r requirements.txt (line 5)) (1.4.0)\n",
                        "Requirement already satisfied: faiss-cpu in /Users/takeshiiijima/opt/anaconda3/lib/python3.9/site-packages (from -r requirements.txt (line 6)) (1.7.4)\n",
                        "Requirement already satisfied: deeplake in /Users/takeshiiijima/opt/anaconda3/lib/python3.9/site-packages (from -r requirements.txt (line 7)) (3.4.0)\n",
                        "Requirement already satisfied: PyYAML>=5.4.1 in /Users/takeshiiijima/opt/anaconda3/lib/python3.9/site-packages (from langchain==0.0.146->-r requirements.txt (line 2)) (6.0)\n",
                        "Requirement already satisfied: SQLAlchemy<2,>=1 in /Users/takeshiiijima/opt/anaconda3/lib/python3.9/site-packages (from langchain==0.0.146->-r requirements.txt (line 2)) (1.4.22)\n",
                        "Requirement already satisfied: aiohttp<4.0.0,>=3.8.3 in /Users/takeshiiijima/opt/anaconda3/lib/python3.9/site-packages (from langchain==0.0.146->-r requirements.txt (line 2)) (3.8.4)\n",
                        "Requirement already satisfied: async-timeout<5.0.0,>=4.0.0 in /Users/takeshiiijima/opt/anaconda3/lib/python3.9/site-packages (from langchain==0.0.146->-r requirements.txt (line 2)) (4.0.2)\n",
                        "Requirement already satisfied: dataclasses-json<0.6.0,>=0.5.7 in /Users/takeshiiijima/opt/anaconda3/lib/python3.9/site-packages (from langchain==0.0.146->-r requirements.txt (line 2)) (0.5.7)\n",
                        "Requirement already satisfied: numexpr<3.0.0,>=2.8.4 in /Users/takeshiiijima/opt/anaconda3/lib/python3.9/site-packages (from langchain==0.0.146->-r requirements.txt (line 2)) (2.8.4)\n",
                        "Requirement already satisfied: numpy<2,>=1 in /Users/takeshiiijima/opt/anaconda3/lib/python3.9/site-packages (from langchain==0.0.146->-r requirements.txt (line 2)) (1.22.4)\n",
                        "Requirement already satisfied: openapi-schema-pydantic<2.0,>=1.2 in /Users/takeshiiijima/opt/anaconda3/lib/python3.9/site-packages (from langchain==0.0.146->-r requirements.txt (line 2)) (1.2.4)\n",
                        "Requirement already satisfied: pydantic<2,>=1 in /Users/takeshiiijima/opt/anaconda3/lib/python3.9/site-packages (from langchain==0.0.146->-r requirements.txt (line 2)) (1.10.6)\n",
                        "Requirement already satisfied: requests<3,>=2 in /Users/takeshiiijima/opt/anaconda3/lib/python3.9/site-packages (from langchain==0.0.146->-r requirements.txt (line 2)) (2.30.0)\n",
                        "Requirement already satisfied: tenacity<9.0.0,>=8.1.0 in /Users/takeshiiijima/opt/anaconda3/lib/python3.9/site-packages (from langchain==0.0.146->-r requirements.txt (line 2)) (8.2.2)\n",
                        "Requirement already satisfied: tqdm>=4.48.0 in /Users/takeshiiijima/opt/anaconda3/lib/python3.9/site-packages (from langchain==0.0.146->-r requirements.txt (line 2)) (4.62.3)\n",
                        "Requirement already satisfied: pandas>=1.3 in /Users/takeshiiijima/opt/anaconda3/lib/python3.9/site-packages (from chromadb==0.3.21->-r requirements.txt (line 4)) (1.3.4)\n",
                        "Requirement already satisfied: hnswlib>=0.7 in /Users/takeshiiijima/opt/anaconda3/lib/python3.9/site-packages (from chromadb==0.3.21->-r requirements.txt (line 4)) (0.7.0)\n",
                        "Requirement already satisfied: clickhouse-connect>=0.5.7 in /Users/takeshiiijima/opt/anaconda3/lib/python3.9/site-packages (from chromadb==0.3.21->-r requirements.txt (line 4)) (0.5.23)\n",
                        "Requirement already satisfied: sentence-transformers>=2.2.2 in /Users/takeshiiijima/opt/anaconda3/lib/python3.9/site-packages (from chromadb==0.3.21->-r requirements.txt (line 4)) (2.2.2)\n",
                        "Requirement already satisfied: duckdb>=0.7.1 in /Users/takeshiiijima/opt/anaconda3/lib/python3.9/site-packages (from chromadb==0.3.21->-r requirements.txt (line 4)) (0.7.1)\n",
                        "Requirement already satisfied: fastapi>=0.85.1 in /Users/takeshiiijima/opt/anaconda3/lib/python3.9/site-packages (from chromadb==0.3.21->-r requirements.txt (line 4)) (0.95.1)\n",
                        "Requirement already satisfied: uvicorn[standard]>=0.18.3 in /Users/takeshiiijima/opt/anaconda3/lib/python3.9/site-packages (from chromadb==0.3.21->-r requirements.txt (line 4)) (0.22.0)\n",
                        "Requirement already satisfied: posthog>=2.4.0 in /Users/takeshiiijima/opt/anaconda3/lib/python3.9/site-packages (from chromadb==0.3.21->-r requirements.txt (line 4)) (3.0.1)\n",
                        "Requirement already satisfied: regex>=2022.1.18 in /Users/takeshiiijima/opt/anaconda3/lib/python3.9/site-packages (from tiktoken->-r requirements.txt (line 3)) (2022.10.31)\n",
                        "Requirement already satisfied: beautifulsoup4 in /Users/takeshiiijima/opt/anaconda3/lib/python3.9/site-packages (from wikipedia->-r requirements.txt (line 5)) (4.10.0)\n",
                        "Requirement already satisfied: pillow in /Users/takeshiiijima/opt/anaconda3/lib/python3.9/site-packages (from deeplake->-r requirements.txt (line 7)) (8.4.0)\n",
                        "Requirement already satisfied: boto3 in /Users/takeshiiijima/opt/anaconda3/lib/python3.9/site-packages (from deeplake->-r requirements.txt (line 7)) (1.26.76)\n",
                        "Requirement already satisfied: click in /Users/takeshiiijima/opt/anaconda3/lib/python3.9/site-packages (from deeplake->-r requirements.txt (line 7)) (8.0.3)\n",
                        "Requirement already satisfied: pathos in /Users/takeshiiijima/opt/anaconda3/lib/python3.9/site-packages (from deeplake->-r requirements.txt (line 7)) (0.3.0)\n",
                        "Requirement already satisfied: humbug>=0.3.1 in /Users/takeshiiijima/opt/anaconda3/lib/python3.9/site-packages (from deeplake->-r requirements.txt (line 7)) (0.3.1)\n",
                        "Requirement already satisfied: numcodecs in /Users/takeshiiijima/opt/anaconda3/lib/python3.9/site-packages (from deeplake->-r requirements.txt (line 7)) (0.11.0)\n",
                        "Requirement already satisfied: pyjwt in /Users/takeshiiijima/opt/anaconda3/lib/python3.9/site-packages (from deeplake->-r requirements.txt (line 7)) (2.1.0)\n",
                        "Requirement already satisfied: aioboto3>=10.4.0 in /Users/takeshiiijima/opt/anaconda3/lib/python3.9/site-packages (from deeplake->-r requirements.txt (line 7)) (11.1.0)\n",
                        "Requirement already satisfied: nest-asyncio in /Users/takeshiiijima/opt/anaconda3/lib/python3.9/site-packages (from deeplake->-r requirements.txt (line 7)) (1.5.1)\n",
                        "Requirement already satisfied: aiobotocore[boto3]==2.5.0 in /Users/takeshiiijima/opt/anaconda3/lib/python3.9/site-packages (from aioboto3>=10.4.0->deeplake->-r requirements.txt (line 7)) (2.5.0)\n",
                        "Requirement already satisfied: botocore<1.29.77,>=1.29.76 in /Users/takeshiiijima/opt/anaconda3/lib/python3.9/site-packages (from aiobotocore[boto3]==2.5.0->aioboto3>=10.4.0->deeplake->-r requirements.txt (line 7)) (1.29.76)\n",
                        "Requirement already satisfied: wrapt>=1.10.10 in /Users/takeshiiijima/opt/anaconda3/lib/python3.9/site-packages (from aiobotocore[boto3]==2.5.0->aioboto3>=10.4.0->deeplake->-r requirements.txt (line 7)) (1.14.1)\n",
                        "Requirement already satisfied: aioitertools>=0.5.1 in /Users/takeshiiijima/opt/anaconda3/lib/python3.9/site-packages (from aiobotocore[boto3]==2.5.0->aioboto3>=10.4.0->deeplake->-r requirements.txt (line 7)) (0.11.0)\n",
                        "Requirement already satisfied: attrs>=17.3.0 in /Users/takeshiiijima/opt/anaconda3/lib/python3.9/site-packages (from aiohttp<4.0.0,>=3.8.3->langchain==0.0.146->-r requirements.txt (line 2)) (21.2.0)\n",
                        "Requirement already satisfied: charset-normalizer<4.0,>=2.0 in /Users/takeshiiijima/opt/anaconda3/lib/python3.9/site-packages (from aiohttp<4.0.0,>=3.8.3->langchain==0.0.146->-r requirements.txt (line 2)) (2.0.4)\n",
                        "Requirement already satisfied: multidict<7.0,>=4.5 in /Users/takeshiiijima/opt/anaconda3/lib/python3.9/site-packages (from aiohttp<4.0.0,>=3.8.3->langchain==0.0.146->-r requirements.txt (line 2)) (6.0.4)\n",
                        "Requirement already satisfied: yarl<2.0,>=1.0 in /Users/takeshiiijima/opt/anaconda3/lib/python3.9/site-packages (from aiohttp<4.0.0,>=3.8.3->langchain==0.0.146->-r requirements.txt (line 2)) (1.8.2)\n",
                        "Requirement already satisfied: frozenlist>=1.1.1 in /Users/takeshiiijima/opt/anaconda3/lib/python3.9/site-packages (from aiohttp<4.0.0,>=3.8.3->langchain==0.0.146->-r requirements.txt (line 2)) (1.3.3)\n",
                        "Requirement already satisfied: aiosignal>=1.1.2 in /Users/takeshiiijima/opt/anaconda3/lib/python3.9/site-packages (from aiohttp<4.0.0,>=3.8.3->langchain==0.0.146->-r requirements.txt (line 2)) (1.3.1)\n",
                        "Requirement already satisfied: jmespath<2.0.0,>=0.7.1 in /Users/takeshiiijima/opt/anaconda3/lib/python3.9/site-packages (from boto3->deeplake->-r requirements.txt (line 7)) (1.0.1)\n",
                        "Requirement already satisfied: s3transfer<0.7.0,>=0.6.0 in /Users/takeshiiijima/opt/anaconda3/lib/python3.9/site-packages (from boto3->deeplake->-r requirements.txt (line 7)) (0.6.1)\n",
                        "Requirement already satisfied: certifi in /Users/takeshiiijima/opt/anaconda3/lib/python3.9/site-packages (from clickhouse-connect>=0.5.7->chromadb==0.3.21->-r requirements.txt (line 4)) (2022.12.7)\n",
                        "Requirement already satisfied: urllib3>=1.26 in /Users/takeshiiijima/opt/anaconda3/lib/python3.9/site-packages (from clickhouse-connect>=0.5.7->chromadb==0.3.21->-r requirements.txt (line 4)) (1.26.7)\n",
                        "Requirement already satisfied: pytz in /Users/takeshiiijima/opt/anaconda3/lib/python3.9/site-packages (from clickhouse-connect>=0.5.7->chromadb==0.3.21->-r requirements.txt (line 4)) (2021.3)\n",
                        "Requirement already satisfied: zstandard in /Users/takeshiiijima/opt/anaconda3/lib/python3.9/site-packages (from clickhouse-connect>=0.5.7->chromadb==0.3.21->-r requirements.txt (line 4)) (0.21.0)\n",
                        "Requirement already satisfied: lz4 in /Users/takeshiiijima/opt/anaconda3/lib/python3.9/site-packages (from clickhouse-connect>=0.5.7->chromadb==0.3.21->-r requirements.txt (line 4)) (4.3.2)\n",
                        "Requirement already satisfied: marshmallow<4.0.0,>=3.3.0 in /Users/takeshiiijima/opt/anaconda3/lib/python3.9/site-packages (from dataclasses-json<0.6.0,>=0.5.7->langchain==0.0.146->-r requirements.txt (line 2)) (3.19.0)\n",
                        "Requirement already satisfied: marshmallow-enum<2.0.0,>=1.5.1 in /Users/takeshiiijima/opt/anaconda3/lib/python3.9/site-packages (from dataclasses-json<0.6.0,>=0.5.7->langchain==0.0.146->-r requirements.txt (line 2)) (1.5.1)\n",
                        "Requirement already satisfied: typing-inspect>=0.4.0 in /Users/takeshiiijima/opt/anaconda3/lib/python3.9/site-packages (from dataclasses-json<0.6.0,>=0.5.7->langchain==0.0.146->-r requirements.txt (line 2)) (0.8.0)\n",
                        "Requirement already satisfied: starlette<0.27.0,>=0.26.1 in /Users/takeshiiijima/opt/anaconda3/lib/python3.9/site-packages (from fastapi>=0.85.1->chromadb==0.3.21->-r requirements.txt (line 4)) (0.26.1)\n",
                        "Requirement already satisfied: python-dateutil>=2.7.3 in /Users/takeshiiijima/opt/anaconda3/lib/python3.9/site-packages (from pandas>=1.3->chromadb==0.3.21->-r requirements.txt (line 4)) (2.8.2)\n",
                        "Requirement already satisfied: six>=1.5 in /Users/takeshiiijima/opt/anaconda3/lib/python3.9/site-packages (from posthog>=2.4.0->chromadb==0.3.21->-r requirements.txt (line 4)) (1.16.0)\n",
                        "Requirement already satisfied: monotonic>=1.5 in /Users/takeshiiijima/opt/anaconda3/lib/python3.9/site-packages (from posthog>=2.4.0->chromadb==0.3.21->-r requirements.txt (line 4)) (1.6)\n",
                        "Requirement already satisfied: backoff>=1.10.0 in /Users/takeshiiijima/opt/anaconda3/lib/python3.9/site-packages (from posthog>=2.4.0->chromadb==0.3.21->-r requirements.txt (line 4)) (2.2.1)\n",
                        "Requirement already satisfied: typing-extensions>=4.2.0 in /Users/takeshiiijima/opt/anaconda3/lib/python3.9/site-packages (from pydantic<2,>=1->langchain==0.0.146->-r requirements.txt (line 2)) (4.5.0)\n",
                        "Requirement already satisfied: idna<4,>=2.5 in /Users/takeshiiijima/opt/anaconda3/lib/python3.9/site-packages (from requests<3,>=2->langchain==0.0.146->-r requirements.txt (line 2)) (3.2)\n",
                        "Requirement already satisfied: transformers<5.0.0,>=4.6.0 in /Users/takeshiiijima/opt/anaconda3/lib/python3.9/site-packages (from sentence-transformers>=2.2.2->chromadb==0.3.21->-r requirements.txt (line 4)) (4.28.1)\n",
                        "Requirement already satisfied: torch>=1.6.0 in /Users/takeshiiijima/opt/anaconda3/lib/python3.9/site-packages (from sentence-transformers>=2.2.2->chromadb==0.3.21->-r requirements.txt (line 4)) (2.0.0)\n",
                        "Requirement already satisfied: torchvision in /Users/takeshiiijima/opt/anaconda3/lib/python3.9/site-packages (from sentence-transformers>=2.2.2->chromadb==0.3.21->-r requirements.txt (line 4)) (0.15.1)\n",
                        "Requirement already satisfied: scikit-learn in /Users/takeshiiijima/opt/anaconda3/lib/python3.9/site-packages (from sentence-transformers>=2.2.2->chromadb==0.3.21->-r requirements.txt (line 4)) (0.24.2)\n",
                        "Requirement already satisfied: scipy in /Users/takeshiiijima/opt/anaconda3/lib/python3.9/site-packages (from sentence-transformers>=2.2.2->chromadb==0.3.21->-r requirements.txt (line 4)) (1.7.1)\n",
                        "Requirement already satisfied: nltk in /Users/takeshiiijima/opt/anaconda3/lib/python3.9/site-packages (from sentence-transformers>=2.2.2->chromadb==0.3.21->-r requirements.txt (line 4)) (3.6.5)\n",
                        "Requirement already satisfied: sentencepiece in /Users/takeshiiijima/opt/anaconda3/lib/python3.9/site-packages (from sentence-transformers>=2.2.2->chromadb==0.3.21->-r requirements.txt (line 4)) (0.1.99)\n",
                        "Requirement already satisfied: huggingface-hub>=0.4.0 in /Users/takeshiiijima/opt/anaconda3/lib/python3.9/site-packages (from sentence-transformers>=2.2.2->chromadb==0.3.21->-r requirements.txt (line 4)) (0.13.4)\n",
                        "Requirement already satisfied: greenlet!=0.4.17 in /Users/takeshiiijima/opt/anaconda3/lib/python3.9/site-packages (from SQLAlchemy<2,>=1->langchain==0.0.146->-r requirements.txt (line 2)) (1.1.1)\n",
                        "Requirement already satisfied: h11>=0.8 in /Users/takeshiiijima/opt/anaconda3/lib/python3.9/site-packages (from uvicorn[standard]>=0.18.3->chromadb==0.3.21->-r requirements.txt (line 4)) (0.14.0)\n",
                        "Requirement already satisfied: httptools>=0.5.0 in /Users/takeshiiijima/opt/anaconda3/lib/python3.9/site-packages (from uvicorn[standard]>=0.18.3->chromadb==0.3.21->-r requirements.txt (line 4)) (0.5.0)\n",
                        "Requirement already satisfied: python-dotenv>=0.13 in /Users/takeshiiijima/opt/anaconda3/lib/python3.9/site-packages (from uvicorn[standard]>=0.18.3->chromadb==0.3.21->-r requirements.txt (line 4)) (1.0.0)\n",
                        "Requirement already satisfied: uvloop!=0.15.0,!=0.15.1,>=0.14.0 in /Users/takeshiiijima/opt/anaconda3/lib/python3.9/site-packages (from uvicorn[standard]>=0.18.3->chromadb==0.3.21->-r requirements.txt (line 4)) (0.17.0)\n",
                        "Requirement already satisfied: watchfiles>=0.13 in /Users/takeshiiijima/opt/anaconda3/lib/python3.9/site-packages (from uvicorn[standard]>=0.18.3->chromadb==0.3.21->-r requirements.txt (line 4)) (0.19.0)\n",
                        "Requirement already satisfied: websockets>=10.4 in /Users/takeshiiijima/opt/anaconda3/lib/python3.9/site-packages (from uvicorn[standard]>=0.18.3->chromadb==0.3.21->-r requirements.txt (line 4)) (10.4)\n",
                        "Requirement already satisfied: soupsieve>1.2 in /Users/takeshiiijima/opt/anaconda3/lib/python3.9/site-packages (from beautifulsoup4->wikipedia->-r requirements.txt (line 5)) (2.2.1)\n",
                        "Requirement already satisfied: entrypoints in /Users/takeshiiijima/opt/anaconda3/lib/python3.9/site-packages (from numcodecs->deeplake->-r requirements.txt (line 7)) (0.3)\n",
                        "Requirement already satisfied: ppft>=1.7.6.6 in /Users/takeshiiijima/opt/anaconda3/lib/python3.9/site-packages (from pathos->deeplake->-r requirements.txt (line 7)) (1.7.6.6)\n",
                        "Requirement already satisfied: dill>=0.3.6 in /Users/takeshiiijima/opt/anaconda3/lib/python3.9/site-packages (from pathos->deeplake->-r requirements.txt (line 7)) (0.3.6)\n",
                        "Requirement already satisfied: pox>=0.3.2 in /Users/takeshiiijima/opt/anaconda3/lib/python3.9/site-packages (from pathos->deeplake->-r requirements.txt (line 7)) (0.3.2)\n",
                        "Requirement already satisfied: multiprocess>=0.70.14 in /Users/takeshiiijima/opt/anaconda3/lib/python3.9/site-packages (from pathos->deeplake->-r requirements.txt (line 7)) (0.70.14)\n",
                        "Requirement already satisfied: filelock in /Users/takeshiiijima/opt/anaconda3/lib/python3.9/site-packages (from huggingface-hub>=0.4.0->sentence-transformers>=2.2.2->chromadb==0.3.21->-r requirements.txt (line 4)) (3.3.1)\n",
                        "Requirement already satisfied: packaging>=20.9 in /Users/takeshiiijima/opt/anaconda3/lib/python3.9/site-packages (from huggingface-hub>=0.4.0->sentence-transformers>=2.2.2->chromadb==0.3.21->-r requirements.txt (line 4)) (21.0)\n",
                        "Requirement already satisfied: anyio<5,>=3.4.0 in /Users/takeshiiijima/opt/anaconda3/lib/python3.9/site-packages (from starlette<0.27.0,>=0.26.1->fastapi>=0.85.1->chromadb==0.3.21->-r requirements.txt (line 4)) (3.6.2)\n",
                        "Requirement already satisfied: sympy in /Users/takeshiiijima/opt/anaconda3/lib/python3.9/site-packages (from torch>=1.6.0->sentence-transformers>=2.2.2->chromadb==0.3.21->-r requirements.txt (line 4)) (1.9)\n",
                        "Requirement already satisfied: networkx in /Users/takeshiiijima/opt/anaconda3/lib/python3.9/site-packages (from torch>=1.6.0->sentence-transformers>=2.2.2->chromadb==0.3.21->-r requirements.txt (line 4)) (2.6.3)\n",
                        "Requirement already satisfied: jinja2 in /Users/takeshiiijima/opt/anaconda3/lib/python3.9/site-packages (from torch>=1.6.0->sentence-transformers>=2.2.2->chromadb==0.3.21->-r requirements.txt (line 4)) (2.11.3)\n",
                        "Requirement already satisfied: tokenizers!=0.11.3,<0.14,>=0.11.1 in /Users/takeshiiijima/opt/anaconda3/lib/python3.9/site-packages (from transformers<5.0.0,>=4.6.0->sentence-transformers>=2.2.2->chromadb==0.3.21->-r requirements.txt (line 4)) (0.13.3)\n",
                        "Requirement already satisfied: mypy-extensions>=0.3.0 in /Users/takeshiiijima/opt/anaconda3/lib/python3.9/site-packages (from typing-inspect>=0.4.0->dataclasses-json<0.6.0,>=0.5.7->langchain==0.0.146->-r requirements.txt (line 2)) (0.4.3)\n",
                        "Requirement already satisfied: joblib in /Users/takeshiiijima/opt/anaconda3/lib/python3.9/site-packages (from nltk->sentence-transformers>=2.2.2->chromadb==0.3.21->-r requirements.txt (line 4)) (1.1.0)\n",
                        "Requirement already satisfied: threadpoolctl>=2.0.0 in /Users/takeshiiijima/opt/anaconda3/lib/python3.9/site-packages (from scikit-learn->sentence-transformers>=2.2.2->chromadb==0.3.21->-r requirements.txt (line 4)) (2.2.0)\n",
                        "Requirement already satisfied: sniffio>=1.1 in /Users/takeshiiijima/opt/anaconda3/lib/python3.9/site-packages (from anyio<5,>=3.4.0->starlette<0.27.0,>=0.26.1->fastapi>=0.85.1->chromadb==0.3.21->-r requirements.txt (line 4)) (1.2.0)\n",
                        "Requirement already satisfied: pyparsing>=2.0.2 in /Users/takeshiiijima/opt/anaconda3/lib/python3.9/site-packages (from packaging>=20.9->huggingface-hub>=0.4.0->sentence-transformers>=2.2.2->chromadb==0.3.21->-r requirements.txt (line 4)) (3.0.4)\n",
                        "Requirement already satisfied: MarkupSafe>=0.23 in /Users/takeshiiijima/opt/anaconda3/lib/python3.9/site-packages (from jinja2->torch>=1.6.0->sentence-transformers>=2.2.2->chromadb==0.3.21->-r requirements.txt (line 4)) (1.1.1)\n",
                        "Requirement already satisfied: mpmath>=0.19 in /Users/takeshiiijima/opt/anaconda3/lib/python3.9/site-packages (from sympy->torch>=1.6.0->sentence-transformers>=2.2.2->chromadb==0.3.21->-r requirements.txt (line 4)) (1.2.1)\n",
                        "Installing collected packages: langchain\n",
                        "  Attempting uninstall: langchain\n",
                        "    Found existing installation: langchain 0.0.161\n",
                        "    Uninstalling langchain-0.0.161:\n",
                        "      Successfully uninstalled langchain-0.0.161\n",
                        "\u001b[31mERROR: pip's dependency resolver does not currently take into account all the packages that are installed. This behaviour is the source of the following dependency conflicts.\n",
                        "llama-index 0.5.25 requires langchain==0.0.142, but you have langchain 0.0.146 which is incompatible.\u001b[0m\u001b[31m\n",
                        "\u001b[0mSuccessfully installed langchain-0.0.146\n",
                        "Note: you may need to restart the kernel to use updated packages.\n"
                    ]
                }
            ],
            "source": [
                "%pip install -r requirements.txt"
            ]
        },
        {
            "cell_type": "code",
            "execution_count": 58,
            "id": "853669ad",
            "metadata": {},
            "outputs": [],
            "source": [
                "import os\n",
                "from dotenv import load_dotenv\n",
                "load_dotenv()\n",
                "\n",
                "AZURE_DEPLOYMENT_NAME= os.environ['AZURE_DEPLOYMENT_NAME']\n",
                "os.environ[\"OPENAI_API_TYPE\"] = \"azure\"\n",
                "os.environ[\"OPENAI_API_KEY\"] = os.environ['AZURE_OPEN_API_KEY']\n",
                "os.environ[\"OPENAI_API_BASE\"] = os.environ['AZURE_API_BASE']\n",
                "os.environ[\"OPENAI_VERSION\"] = \"2023-03-15-preview\"   \n",
                "os.environ[\"ACTIVELOOP_TOKEN\"] = os.environ['ACTIVELOOP_TOKEN']  \n"
            ]
        },
        {
            "cell_type": "code",
            "execution_count": 59,
            "id": "1c9d405c",
            "metadata": {},
            "outputs": [],
            "source": [
                "from langchain.embeddings.openai import OpenAIEmbeddings\n",
                "from langchain.text_splitter import CharacterTextSplitter\n",
                "from langchain.embeddings.openai import OpenAIEmbeddings\n",
                "from langchain.vectorstores import DeepLake\n",
                "from langchain.text_splitter import CharacterTextSplitter\n",
                "from langchain.chains import RetrievalQA\n",
                "from langchain.document_loaders import PagedPDFSplitter\n",
                "\n"
            ]
        },
        {
            "cell_type": "markdown",
            "id": "fcd9b71c",
            "metadata": {},
            "source": [
                "embeddings = OpenAIEmbeddings(deployment=\"text-embedding-ada-002\")\n",
                "docsearch = Chroma.from_texts(texts, embeddings)\n",
                "\n"
            ]
        },
        {
            "cell_type": "code",
            "execution_count": 60,
            "id": "e645af2f",
            "metadata": {},
            "outputs": [
                {
                    "name": "stderr",
                    "output_type": "stream",
                    "text": [
                        "100%|██████████| 2/2 [00:01<00:00,  1.23it/s]\n"
                    ]
                }
            ],
            "source": [
                "import requests\n",
                "import tqdm\n",
                "from typing import List\n",
                "\n",
                "# https://www.digital.go.jp/assets/contents/node/basic_page/field_ref_resources/c5365b9c-0cf7-40b7-a5ff-b9f09e2d9292/615d206b/20221223_meeting_web3_summary_01.pdf\n",
                "# https://www.digital.go.jp/assets/contents/node/basic_page/field_ref_resources/baf62741-ddf5-4c34-997c-9744a19cf8df/6fb98ecb/20221213_meeting_web3_summary_01.pdf\n",
                "\n",
                "# financial reports of amamzon, but can be replaced by any URLs of pdfs\n",
                "urls = ['https://www.digital.go.jp/assets/contents/node/basic_page/field_ref_resources/c5365b9c-0cf7-40b7-a5ff-b9f09e2d9292/615d206b/20221223_meeting_web3_summary_01.pdf',\n",
                "        'https://www.digital.go.jp/assets/contents/node/basic_page/field_ref_resources/baf62741-ddf5-4c34-997c-9744a19cf8df/6fb98ecb/20221213_meeting_web3_summary_01.pdf'\n",
                "        ]\n",
                "\n",
                "def load_reports(urls: List[str]) -> List[str]:\n",
                "    \"\"\" Load pages from a list of urls\"\"\"\n",
                "    pages = []\n",
                "\n",
                "    for url in tqdm.tqdm(urls):\n",
                "        r = requests.get(url)\n",
                "        path = url.split('/')[-1]\n",
                "        with open(path, 'wb') as f:\n",
                "            f.write(r.content)\n",
                "        loader = PagedPDFSplitter(path)\n",
                "        local_pages = loader.load_and_split()\n",
                "        pages.extend(local_pages)\n",
                "    return pages\n",
                "\n",
                "pages = load_reports(urls)\n",
                "\n"
            ]
        },
        {
            "cell_type": "code",
            "execution_count": 61,
            "id": "70081733",
            "metadata": {},
            "outputs": [],
            "source": [
                "text_splitter = CharacterTextSplitter(chunk_size=1000, chunk_overlap=0)\n",
                "texts = text_splitter.split_documents(pages)\n",
                "\n"
            ]
        },
        {
            "cell_type": "code",
            "execution_count": 62,
            "id": "7821f19e",
            "metadata": {},
            "outputs": [
                {
                    "name": "stderr",
                    "output_type": "stream",
                    "text": [
                        "/"
                    ]
                },
                {
                    "name": "stdout",
                    "output_type": "stream",
                    "text": [
                        "This dataset can be visualized in Jupyter Notebook by ds.visualize() or at https://app.activeloop.ai/tkc/dataset_name\n",
                        "\n"
                    ]
                },
                {
                    "name": "stderr",
                    "output_type": "stream",
                    "text": [
                        "|"
                    ]
                },
                {
                    "name": "stdout",
                    "output_type": "stream",
                    "text": [
                        "hub://tkc/dataset_name loaded successfully.\n",
                        "\n"
                    ]
                },
                {
                    "name": "stderr",
                    "output_type": "stream",
                    "text": [
                        "Deep Lake Dataset in hub://tkc/dataset_name already exists, loading from the storage\n"
                    ]
                },
                {
                    "name": "stdout",
                    "output_type": "stream",
                    "text": [
                        "Dataset(path='hub://tkc/dataset_name', tensors=['embedding', 'ids', 'metadata', 'text'])\n",
                        "\n",
                        "  tensor     htype      shape      dtype  compression\n",
                        "  -------   -------    -------    -------  ------- \n",
                        " embedding  generic  (108, 1536)  float32   None   \n",
                        "    ids      text     (108, 1)      str     None   \n",
                        " metadata    json     (108, 1)      str     None   \n",
                        "   text      text     (108, 1)      str     None   \n"
                    ]
                },
                {
                    "name": "stderr",
                    "output_type": "stream",
                    "text": [
                        "Evaluating ingest: 100%|██████████| 1/1 [00:37<00:00\n",
                        "\\"
                    ]
                },
                {
                    "name": "stdout",
                    "output_type": "stream",
                    "text": [
                        "Dataset(path='hub://tkc/dataset_name', tensors=['embedding', 'ids', 'metadata', 'text'])\n",
                        "\n",
                        "  tensor     htype      shape      dtype  compression\n",
                        "  -------   -------    -------    -------  ------- \n",
                        " embedding  generic  (130, 1536)  float32   None   \n",
                        "    ids      text     (130, 1)      str     None   \n",
                        " metadata    json     (130, 1)      str     None   \n",
                        "   text      text     (130, 1)      str     None   \n"
                    ]
                },
                {
                    "name": "stderr",
                    "output_type": "stream",
                    "text": [
                        " \r"
                    ]
                },
                {
                    "data": {
                        "text/plain": [
                            "['2ef881a4-eca4-11ed-8ca9-1e00073ed291',\n",
                            " '2ef8828a-eca4-11ed-8ca9-1e00073ed291',\n",
                            " '2ef882b2-eca4-11ed-8ca9-1e00073ed291',\n",
                            " '2ef882d0-eca4-11ed-8ca9-1e00073ed291',\n",
                            " '2ef882ee-eca4-11ed-8ca9-1e00073ed291',\n",
                            " '2ef88302-eca4-11ed-8ca9-1e00073ed291',\n",
                            " '2ef88320-eca4-11ed-8ca9-1e00073ed291',\n",
                            " '2ef8833e-eca4-11ed-8ca9-1e00073ed291',\n",
                            " '2ef8835c-eca4-11ed-8ca9-1e00073ed291',\n",
                            " '2ef8837a-eca4-11ed-8ca9-1e00073ed291',\n",
                            " '2ef8838e-eca4-11ed-8ca9-1e00073ed291',\n",
                            " '2ef883ac-eca4-11ed-8ca9-1e00073ed291',\n",
                            " '2ef883ca-eca4-11ed-8ca9-1e00073ed291',\n",
                            " '2ef883de-eca4-11ed-8ca9-1e00073ed291',\n",
                            " '2ef883fc-eca4-11ed-8ca9-1e00073ed291',\n",
                            " '2ef8841a-eca4-11ed-8ca9-1e00073ed291',\n",
                            " '2ef8842e-eca4-11ed-8ca9-1e00073ed291',\n",
                            " '2ef8844c-eca4-11ed-8ca9-1e00073ed291',\n",
                            " '2ef8846a-eca4-11ed-8ca9-1e00073ed291',\n",
                            " '2ef8847e-eca4-11ed-8ca9-1e00073ed291',\n",
                            " '2ef8849c-eca4-11ed-8ca9-1e00073ed291',\n",
                            " '2ef884ba-eca4-11ed-8ca9-1e00073ed291']"
                        ]
                    },
                    "execution_count": 62,
                    "metadata": {},
                    "output_type": "execute_result"
                }
            ],
            "source": [
                "embeddings = OpenAIEmbeddings(deployment=\"text-embedding-ada-002\",chunk_size=1)\n",
                "\n",
                "db = DeepLake(\n",
                "    dataset_path=\"hub://tkc/dataset_name\", \n",
                "    embedding_function=embeddings, \n",
                "    token=os.environ['ACTIVELOOP_TOKEN'])\n",
                "\n",
                "db.add_documents(texts)\n",
                "\n",
                "\n"
            ]
        },
        {
            "cell_type": "code",
            "execution_count": 76,
            "id": "1ffe0e7c",
            "metadata": {},
            "outputs": [
                {
                    "data": {
                        "text/plain": [
                            "[Document(page_content='アメリカにある大手、中小問わずブロックチェーン企業は基本的にガバメントリレーシ\\nョンやロビイストとして、政府機関や国際機関に在籍していた人に何千万円も支払い雇\\n用している。ワシントンDCでそのコミュニティーは100人超であり、私が運営してい\\nる研究センターで毎月PGP for Crypto（Pretty Good Policy for Crypto）というクロー\\nズなブレックファストミーティングを開催しソーシャライズや情報交換を半年以上行っ\\nている。 \\n 日本側にカウンターパートがいなくてはいけない認識であっているか。 \\n ご認識通りである。日本人のビジターもおり、その人たちはコミュニティーに入ってい\\nるが、そのような関係性を今後太くしていくことは1つの例として重要なのではないか\\nと思われる。 \\n この研究会が始まる前の流れとして、この活動自体が元々自民党という政治家の中の議\\n論からスタートしている。いわゆる民主主義の国において政治家は国民の意見を代表し\\nている人たちでもあるため、このDAOの中に政治家も入り、彼らが国内あるいはグロ\\nーバルな公開の議論ともコミュニケーションを取れる状態が必要ではないか。つまり、\\nこのステークホルダーの中に政治家を入れるべきではないか。 \\n 開かれた議論をする経験が日本には今までそんなになかったため、それをするというこ\\nとに一定の意義があるのではないか。 \\n 1つの可能性として（4）と（5）の順番を入れ替えてもいいのではないか。まず（3）の\\nところで未来像として目指すべき姿が書いてあり、最後の段落でエンジニアやクリエイ\\nターのサポートを直ちに行っていくことが重要であることが書いてある。例えば、その\\n次に（5）の「イノベーション促進策」を目指すべき未来に進んでいくために直ちに行う\\nべき、ドライブしていくための施策という意味で繋げて書く。一方で車の両輪で制度面\\nでの整備も同時に必要という論点で（4）を記載する流れもあるのではないか。もう1点、\\n自民党のWeb3.0PTに参加し議論しているが、Web3.0関係を担当している自民党の議\\n員の方々は開かれたマインドを持ち、様々な有識者やマーケットの方と積極的に意見交\\n換を行っている。従って、開かれた場で様々な人の意見を集約していくことは良い取組\\nみである。日本の法律家がそのような形で非常に柔らかい段階から政治家の方々と一緒\\nに政策立案を検討する機会は今まではほとんど無く、もう少し下地が出来た時点でコメ\\nントすることが多かったが、今後はそのようなところにも積極的に取り組んでいくべき\\nである。 \\n 役人が法律を真面目に書くと毎回硬い法律になる。アメリカの立法は雑な法律を出して、\\n揉めたら裁判所で決着することが多い。日本の場合、議員立法は内閣法制局審査無しに\\n法律を作れるが、今の日本のプラクティスとして、優秀な法律家が政治家をサポートし、\\n議員立法を行う仕組みというのはまだ無いのか。 \\n まさに今議員立法でDAO法を作ろうという動きもある。まさにそういった取組みが起\\nきつつあるということが言えるのではないか。', metadata={'source': '20221223_meeting_web3_summary_01.pdf', 'page': 4}),\n",
                            " Document(page_content='アメリカにある大手、中小問わずブロックチェーン企業は基本的にガバメントリレーシ\\nョンやロビイストとして、政府機関や国際機関に在籍していた人に何千万円も支払い雇\\n用している。ワシントンDCでそのコミュニティーは100人超であり、私が運営してい\\nる研究センターで毎月PGP for Crypto（Pretty Good Policy for Crypto）というクロー\\nズなブレックファストミーティングを開催しソーシャライズや情報交換を半年以上行っ\\nている。 \\n 日本側にカウンターパートがいなくてはいけない認識であっているか。 \\n ご認識通りである。日本人のビジターもおり、その人たちはコミュニティーに入ってい\\nるが、そのような関係性を今後太くしていくことは1つの例として重要なのではないか\\nと思われる。 \\n この研究会が始まる前の流れとして、この活動自体が元々自民党という政治家の中の議\\n論からスタートしている。いわゆる民主主義の国において政治家は国民の意見を代表し\\nている人たちでもあるため、このDAOの中に政治家も入り、彼らが国内あるいはグロ\\nーバルな公開の議論ともコミュニケーションを取れる状態が必要ではないか。つまり、\\nこのステークホルダーの中に政治家を入れるべきではないか。 \\n 開かれた議論をする経験が日本には今までそんなになかったため、それをするというこ\\nとに一定の意義があるのではないか。 \\n 1つの可能性として（4）と（5）の順番を入れ替えてもいいのではないか。まず（3）の\\nところで未来像として目指すべき姿が書いてあり、最後の段落でエンジニアやクリエイ\\nターのサポートを直ちに行っていくことが重要であることが書いてある。例えば、その\\n次に（5）の「イノベーション促進策」を目指すべき未来に進んでいくために直ちに行う\\nべき、ドライブしていくための施策という意味で繋げて書く。一方で車の両輪で制度面\\nでの整備も同時に必要という論点で（4）を記載する流れもあるのではないか。もう1点、\\n自民党のWeb3.0PTに参加し議論しているが、Web3.0関係を担当している自民党の議\\n員の方々は開かれたマインドを持ち、様々な有識者やマーケットの方と積極的に意見交\\n換を行っている。従って、開かれた場で様々な人の意見を集約していくことは良い取組\\nみである。日本の法律家がそのような形で非常に柔らかい段階から政治家の方々と一緒\\nに政策立案を検討する機会は今まではほとんど無く、もう少し下地が出来た時点でコメ\\nントすることが多かったが、今後はそのようなところにも積極的に取り組んでいくべき\\nである。 \\n 役人が法律を真面目に書くと毎回硬い法律になる。アメリカの立法は雑な法律を出して、\\n揉めたら裁判所で決着することが多い。日本の場合、議員立法は内閣法制局審査無しに\\n法律を作れるが、今の日本のプラクティスとして、優秀な法律家が政治家をサポートし、\\n議員立法を行う仕組みというのはまだ無いのか。 \\n まさに今議員立法でDAO法を作ろうという動きもある。まさにそういった取組みが起\\nきつつあるということが言えるのではないか。', metadata={'source': '20221223_meeting_web3_summary_01.pdf', 'page': 4}),\n",
                            " Document(page_content='LINE本文ページ\\nFABRIC TOKYO\\n社\\nの\\n取\\n組\\n紹\\n介消\\n費\\n者\\nの\\n声\\nの\\n活\\n用\\n方\\n法\\uf06e定量的なデータの収集は常に取り組んでいるが、定量データだけでは顧客ニーズのインサイトを深掘ることは難しいため、対面もしくは Web\\n会議等を用いて、定期的に（月に 1回程度）約 10名のお客様を招待してユーザーインタビューを実施している\\n\\uf06c具体的には CEOや役員、プロジェクトマネージャー等が参加して 1回1時間程度のインタビューを実施し、お客様の望むこと・不満なこと、\\n弊社サービスを選んでいる理由、最近のお客様の生活上での課題、等をヒアリングしている\\n\\uf06eSNSやLINE等のコミュニケーションツールを積極的に活用してお客様とコミュニケーションを図っており、 Instagram のストーリー機能や LINE\\nの投票機能を活用し、お客様に対してアンケートを実施している\\n\\uf06eオフィスにお客様を招待し、サービスに対しての意見や新商品のモニターになっていただいくことでサービス・商品改善に協力していただく等、リ\\nアルのイベントを通じたコミュニティ作りに関しても徐々に実施し始めている\\n\\uf06e直近1年はコロナ渦の影響でリアルのイベント開催ができないことが課題であったため、 Clubhouse という音声プラットフォームを活用し、\\nClubhouse 内にお客様を招待したルームを立ち上げて公開座談会を行う取組を 3～4回実施した\\n\\uf06cこのように、リアルで会う機会を設けることが難しい中、最新のツールを活用することにより、オンラインを通じてお客様と接点を持つ取組も\\n試み始めている新\\n商\\n品\\n開\\n発\\nの\\nた\\nめ\\nの\\n活\\n用\\nお\\n客\\n様\\nの\\n声\\nの\\n活\\n用\\n事\\n例\\uf06e自社の顧客特性を踏まえて、顧客のロイヤリティを把握する際の重要指標を、一般的に用いられている NPS（Net Promoter Score 。\\n他者への推奨意向）から、 NRS（Net Repeater Score 。自身の継続意向）に変更した\\n\\uf06e「ニットは毛玉ができやすい」というお客様のペインに対し、「毛玉ができないニット」という商品を開発したところ好評であった\\n\\uf06e「オーダーシャツを検討したいが価格に障壁がある」というお客様の声に対し、廉価でオーダーシャツをまとめ買いできるキャンペーンを行ったと\\nころ、前年度比でオーダーシャツの新規購入者数が 200% になった\\n\\uf06eクレームの削減においてもお客様の声を生かしている。日々のデータ確認やお客様への定期的かつこまめなヒアリング等によって、お客様の\\n声に対して細かく業務をチューニングしていった結果、約 1年半の期間で 70%のクレームが削減された\\n\\uf06eクロスセル向上の事例もある。 1カテゴリーのみで購買が完結してしまうお客様が非常に多かったが、 「全体のコーディネートのイメージが湧か\\nない」というお客様に対する施策により、約 2年でクロスセル率は以前の約 1.75倍まで向上した\\n\\uf06e他にも、消費者の声を参考にして施策の空振りを回避した事例もある。緊急事態宣言発令中の昨年の 4～5月、「リモートワーク用の商\\n品を提供してはどうか」という意見が出たが、インタビューの結果「リモート環境になって家で働くための洋服を新たに買うことは検討していな\\nい」という意見が大半であったため、施策を中止した\\n14', metadata={'source': '005_02_00.pdf', 'page': 14}),\n",
                            " Document(page_content='OODAループの観点で、規制自体のPDCAを回す時に、各法で行うと手順は大変であ\\nり、時間を要し、ステークホルダーの意見を全部聞かなくてはならず、既得権を持って\\nいる人からの反対意見が出て、玉虫色で硬い法律になってしまう。1度作ってしまうと\\n身動きが取れないパターンを過去繰り返していると認識している。 \\n 若い人が中心になってWeb3.0の立法をする仕組みが1つ日本に出来上がると、先ほど\\nの議論が噛み合う気がする。例えばアメリカは似たような仕組みの元で法律を作ってい\\nるが、日本では難しいか。 \\n DAO法は特別法という形にすることも考えられる。積み重なる1つの事例になれば望ま\\nしい。 \\n （5）のイノベーション促進策について、④で研究開発・技術課開発の担い手の育成とあ\\nるが、結局③で言っていることと同じで、グローバルなコミュニティーの中でキャッチ\\nアップしようという話で止まっているのではないか。逆にそのグローバルのコミュニテ\\nィーで我々の意見を通すためには、日本としても発信できるような先進的な技術を提示\\nできないと議論に加われない。担い手を育成してWeb3.0に関わる研究開発・技術開発\\nも支援していく点を追記いただきたい。イノベーションという観点だとWeb3.0は技術\\n的な側面でなくて文化的な側面も恐らくあるのではないか。特にメタバースが関わって\\nくるところも付け加えていただきたい。 \\n （4）と（5）は逆の方がいいのではないかという指摘で、（3）との接合を考えると\\n今の順番が良く、（6）との接合を考えると逆の方が良く悩ましい。全体をもう一度\\n見直した上で、最終的にどうするか検討させていただきたい。 \\n まさに研究開発・技術開発の目線で考えており、文化的な側面をどう入れていくの\\nかは重要な視点である。文言で工夫できるか検討したい。 \\n エンジニアの育成について、実際にどの省庁が今後ドライブしていくべきなのか分から\\nなかった。関係府省がすべきところが様々に書いてあるが、裏ではどの省庁が担当なの\\nか、デジタル庁の事務局内ではイメージが作られているのか。 \\n 自民党でNFTホワイトペーパーの提言を作っており、各提言を全部省庁に紐付けて担\\n当の明確化を行っている。そういった裏での紐付けはされているのか。 \\n 担当として関係省庁が明確に決まっている部分と、これから新たな課題などについ\\nては当報告書を受けて関係省庁と相談し、どの省庁がここを担っていくのかを検討\\nする部分の2種類ある。エンジニアの育成についても、幅広い省庁が関わるため、\\nどの省庁が主体的にやっていくかは今後決めていきたい。 \\n 様々な省庁が絡まる前提だと集団的無責任体制になってしまい誰も何もしない。平均的\\nなエンジニアを多く作るという話ではなく、トップティアエンジニアの質と量の勝負で\\nある。過去唯一成功したのは経済産業省が行った未踏事業である。明確にトップオブザ\\nトップ、オリンピックを狙うことに絞り込み取り組んだため機能した。文科省では全て\\nの学ぶ学生が対象になってしまい、日本の教育体系の建前は偏差値75も45も同じであ', metadata={'source': '20221223_meeting_web3_summary_01.pdf', 'page': 5})]"
                        ]
                    },
                    "execution_count": 76,
                    "metadata": {},
                    "output_type": "execute_result"
                }
            ],
            "source": [
                "docs = db.similarity_search(\"大成功例\")\n",
                "docs\n",
                "\n"
            ]
        },
        {
            "cell_type": "code",
            "execution_count": 67,
            "id": "982d20a9",
            "metadata": {},
            "outputs": [],
            "source": [
                "from langchain.chains.conversational_retrieval.prompts import CONDENSE_QUESTION_PROMPT\n",
                "from langchain.chat_models import AzureChatOpenAI\n",
                "\n",
                "llm = AzureChatOpenAI(\n",
                "    client=None,\n",
                "    deployment_name=AZURE_DEPLOYMENT_NAME,\n",
                "    openai_api_base=os.environ['AZURE_API_BASE'],\n",
                "    openai_api_version=\"2023-03-15-preview\",\n",
                "    openai_api_key=os.environ['AZURE_OPEN_API_KEY'],\n",
                "    temperature=0,\n",
                "    request_timeout=180)\n",
                "\n"
            ]
        },
        {
            "cell_type": "code",
            "execution_count": 77,
            "id": "852f85df",
            "metadata": {},
            "outputs": [
                {
                    "data": {
                        "text/plain": [
                            "'この文脈からは、具体的な大成功例については触れられていないため、回答することができません。申し訳ありません。'"
                        ]
                    },
                    "execution_count": 77,
                    "metadata": {},
                    "output_type": "execute_result"
                }
            ],
            "source": [
                "qa = RetrievalQA.from_chain_type(\n",
                "    llm=llm, \n",
                "    chain_type='stuff', \n",
                "    retriever=db.as_retriever())\n",
                "\n",
                "qa.run(\"大成功例はなんですか？\")\n",
                "\n"
            ]
        }
    ],
    "metadata": {
        "kernelspec": {
            "display_name": "Python 3 (ipykernel)",
            "language": "python",
            "name": "python3"
        },
        "language_info": {
            "codemirror_mode": {
                "name": "ipython",
                "version": 3
            },
            "file_extension": ".py",
            "mimetype": "text/x-python",
            "name": "python",
            "nbconvert_exporter": "python",
            "pygments_lexer": "ipython3",
            "version": "3.9.7"
        }
    },
    "nbformat": 4,
    "nbformat_minor": 5
}
