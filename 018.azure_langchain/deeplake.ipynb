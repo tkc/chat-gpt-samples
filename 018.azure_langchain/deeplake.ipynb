{
    "cells": [
        {
            "attachments": {},
            "cell_type": "markdown",
            "id": "d5f777c3",
            "metadata": {},
            "source": [
                "## Deeplake"
            ]
        },
        {
            "cell_type": "code",
            "execution_count": 57,
            "id": "ab65b9ae",
            "metadata": {},
            "outputs": [
                {
                    "name": "stdout",
                    "output_type": "stream",
                    "text": [
                        "Requirement already satisfied: openai in /Users/takeshiiijima/opt/anaconda3/lib/python3.9/site-packages (from -r requirements.txt (line 1)) (0.27.6)\n",
                        "Collecting langchain==0.0.146 (from -r requirements.txt (line 2))\n",
                        "  Using cached langchain-0.0.146-py3-none-any.whl (600 kB)\n",
                        "Requirement already satisfied: tiktoken in /Users/takeshiiijima/opt/anaconda3/lib/python3.9/site-packages (from -r requirements.txt (line 3)) (0.3.3)\n",
                        "Requirement already satisfied: chromadb==0.3.21 in /Users/takeshiiijima/opt/anaconda3/lib/python3.9/site-packages (from -r requirements.txt (line 4)) (0.3.21)\n",
                        "Requirement already satisfied: wikipedia in /Users/takeshiiijima/opt/anaconda3/lib/python3.9/site-packages (from -r requirements.txt (line 5)) (1.4.0)\n",
                        "Requirement already satisfied: faiss-cpu in /Users/takeshiiijima/opt/anaconda3/lib/python3.9/site-packages (from -r requirements.txt (line 6)) (1.7.4)\n",
                        "Requirement already satisfied: deeplake in /Users/takeshiiijima/opt/anaconda3/lib/python3.9/site-packages (from -r requirements.txt (line 7)) (3.4.0)\n",
                        "Requirement already satisfied: PyYAML>=5.4.1 in /Users/takeshiiijima/opt/anaconda3/lib/python3.9/site-packages (from langchain==0.0.146->-r requirements.txt (line 2)) (6.0)\n",
                        "Requirement already satisfied: SQLAlchemy<2,>=1 in /Users/takeshiiijima/opt/anaconda3/lib/python3.9/site-packages (from langchain==0.0.146->-r requirements.txt (line 2)) (1.4.22)\n",
                        "Requirement already satisfied: aiohttp<4.0.0,>=3.8.3 in /Users/takeshiiijima/opt/anaconda3/lib/python3.9/site-packages (from langchain==0.0.146->-r requirements.txt (line 2)) (3.8.4)\n",
                        "Requirement already satisfied: async-timeout<5.0.0,>=4.0.0 in /Users/takeshiiijima/opt/anaconda3/lib/python3.9/site-packages (from langchain==0.0.146->-r requirements.txt (line 2)) (4.0.2)\n",
                        "Requirement already satisfied: dataclasses-json<0.6.0,>=0.5.7 in /Users/takeshiiijima/opt/anaconda3/lib/python3.9/site-packages (from langchain==0.0.146->-r requirements.txt (line 2)) (0.5.7)\n",
                        "Requirement already satisfied: numexpr<3.0.0,>=2.8.4 in /Users/takeshiiijima/opt/anaconda3/lib/python3.9/site-packages (from langchain==0.0.146->-r requirements.txt (line 2)) (2.8.4)\n",
                        "Requirement already satisfied: numpy<2,>=1 in /Users/takeshiiijima/opt/anaconda3/lib/python3.9/site-packages (from langchain==0.0.146->-r requirements.txt (line 2)) (1.22.4)\n",
                        "Requirement already satisfied: openapi-schema-pydantic<2.0,>=1.2 in /Users/takeshiiijima/opt/anaconda3/lib/python3.9/site-packages (from langchain==0.0.146->-r requirements.txt (line 2)) (1.2.4)\n",
                        "Requirement already satisfied: pydantic<2,>=1 in /Users/takeshiiijima/opt/anaconda3/lib/python3.9/site-packages (from langchain==0.0.146->-r requirements.txt (line 2)) (1.10.6)\n",
                        "Requirement already satisfied: requests<3,>=2 in /Users/takeshiiijima/opt/anaconda3/lib/python3.9/site-packages (from langchain==0.0.146->-r requirements.txt (line 2)) (2.30.0)\n",
                        "Requirement already satisfied: tenacity<9.0.0,>=8.1.0 in /Users/takeshiiijima/opt/anaconda3/lib/python3.9/site-packages (from langchain==0.0.146->-r requirements.txt (line 2)) (8.2.2)\n",
                        "Requirement already satisfied: tqdm>=4.48.0 in /Users/takeshiiijima/opt/anaconda3/lib/python3.9/site-packages (from langchain==0.0.146->-r requirements.txt (line 2)) (4.62.3)\n",
                        "Requirement already satisfied: pandas>=1.3 in /Users/takeshiiijima/opt/anaconda3/lib/python3.9/site-packages (from chromadb==0.3.21->-r requirements.txt (line 4)) (1.3.4)\n",
                        "Requirement already satisfied: hnswlib>=0.7 in /Users/takeshiiijima/opt/anaconda3/lib/python3.9/site-packages (from chromadb==0.3.21->-r requirements.txt (line 4)) (0.7.0)\n",
                        "Requirement already satisfied: clickhouse-connect>=0.5.7 in /Users/takeshiiijima/opt/anaconda3/lib/python3.9/site-packages (from chromadb==0.3.21->-r requirements.txt (line 4)) (0.5.23)\n",
                        "Requirement already satisfied: sentence-transformers>=2.2.2 in /Users/takeshiiijima/opt/anaconda3/lib/python3.9/site-packages (from chromadb==0.3.21->-r requirements.txt (line 4)) (2.2.2)\n",
                        "Requirement already satisfied: duckdb>=0.7.1 in /Users/takeshiiijima/opt/anaconda3/lib/python3.9/site-packages (from chromadb==0.3.21->-r requirements.txt (line 4)) (0.7.1)\n",
                        "Requirement already satisfied: fastapi>=0.85.1 in /Users/takeshiiijima/opt/anaconda3/lib/python3.9/site-packages (from chromadb==0.3.21->-r requirements.txt (line 4)) (0.95.1)\n",
                        "Requirement already satisfied: uvicorn[standard]>=0.18.3 in /Users/takeshiiijima/opt/anaconda3/lib/python3.9/site-packages (from chromadb==0.3.21->-r requirements.txt (line 4)) (0.22.0)\n",
                        "Requirement already satisfied: posthog>=2.4.0 in /Users/takeshiiijima/opt/anaconda3/lib/python3.9/site-packages (from chromadb==0.3.21->-r requirements.txt (line 4)) (3.0.1)\n",
                        "Requirement already satisfied: regex>=2022.1.18 in /Users/takeshiiijima/opt/anaconda3/lib/python3.9/site-packages (from tiktoken->-r requirements.txt (line 3)) (2022.10.31)\n",
                        "Requirement already satisfied: beautifulsoup4 in /Users/takeshiiijima/opt/anaconda3/lib/python3.9/site-packages (from wikipedia->-r requirements.txt (line 5)) (4.10.0)\n",
                        "Requirement already satisfied: pillow in /Users/takeshiiijima/opt/anaconda3/lib/python3.9/site-packages (from deeplake->-r requirements.txt (line 7)) (8.4.0)\n",
                        "Requirement already satisfied: boto3 in /Users/takeshiiijima/opt/anaconda3/lib/python3.9/site-packages (from deeplake->-r requirements.txt (line 7)) (1.26.76)\n",
                        "Requirement already satisfied: click in /Users/takeshiiijima/opt/anaconda3/lib/python3.9/site-packages (from deeplake->-r requirements.txt (line 7)) (8.0.3)\n",
                        "Requirement already satisfied: pathos in /Users/takeshiiijima/opt/anaconda3/lib/python3.9/site-packages (from deeplake->-r requirements.txt (line 7)) (0.3.0)\n",
                        "Requirement already satisfied: humbug>=0.3.1 in /Users/takeshiiijima/opt/anaconda3/lib/python3.9/site-packages (from deeplake->-r requirements.txt (line 7)) (0.3.1)\n",
                        "Requirement already satisfied: numcodecs in /Users/takeshiiijima/opt/anaconda3/lib/python3.9/site-packages (from deeplake->-r requirements.txt (line 7)) (0.11.0)\n",
                        "Requirement already satisfied: pyjwt in /Users/takeshiiijima/opt/anaconda3/lib/python3.9/site-packages (from deeplake->-r requirements.txt (line 7)) (2.1.0)\n",
                        "Requirement already satisfied: aioboto3>=10.4.0 in /Users/takeshiiijima/opt/anaconda3/lib/python3.9/site-packages (from deeplake->-r requirements.txt (line 7)) (11.1.0)\n",
                        "Requirement already satisfied: nest-asyncio in /Users/takeshiiijima/opt/anaconda3/lib/python3.9/site-packages (from deeplake->-r requirements.txt (line 7)) (1.5.1)\n",
                        "Requirement already satisfied: aiobotocore[boto3]==2.5.0 in /Users/takeshiiijima/opt/anaconda3/lib/python3.9/site-packages (from aioboto3>=10.4.0->deeplake->-r requirements.txt (line 7)) (2.5.0)\n",
                        "Requirement already satisfied: botocore<1.29.77,>=1.29.76 in /Users/takeshiiijima/opt/anaconda3/lib/python3.9/site-packages (from aiobotocore[boto3]==2.5.0->aioboto3>=10.4.0->deeplake->-r requirements.txt (line 7)) (1.29.76)\n",
                        "Requirement already satisfied: wrapt>=1.10.10 in /Users/takeshiiijima/opt/anaconda3/lib/python3.9/site-packages (from aiobotocore[boto3]==2.5.0->aioboto3>=10.4.0->deeplake->-r requirements.txt (line 7)) (1.14.1)\n",
                        "Requirement already satisfied: aioitertools>=0.5.1 in /Users/takeshiiijima/opt/anaconda3/lib/python3.9/site-packages (from aiobotocore[boto3]==2.5.0->aioboto3>=10.4.0->deeplake->-r requirements.txt (line 7)) (0.11.0)\n",
                        "Requirement already satisfied: attrs>=17.3.0 in /Users/takeshiiijima/opt/anaconda3/lib/python3.9/site-packages (from aiohttp<4.0.0,>=3.8.3->langchain==0.0.146->-r requirements.txt (line 2)) (21.2.0)\n",
                        "Requirement already satisfied: charset-normalizer<4.0,>=2.0 in /Users/takeshiiijima/opt/anaconda3/lib/python3.9/site-packages (from aiohttp<4.0.0,>=3.8.3->langchain==0.0.146->-r requirements.txt (line 2)) (2.0.4)\n",
                        "Requirement already satisfied: multidict<7.0,>=4.5 in /Users/takeshiiijima/opt/anaconda3/lib/python3.9/site-packages (from aiohttp<4.0.0,>=3.8.3->langchain==0.0.146->-r requirements.txt (line 2)) (6.0.4)\n",
                        "Requirement already satisfied: yarl<2.0,>=1.0 in /Users/takeshiiijima/opt/anaconda3/lib/python3.9/site-packages (from aiohttp<4.0.0,>=3.8.3->langchain==0.0.146->-r requirements.txt (line 2)) (1.8.2)\n",
                        "Requirement already satisfied: frozenlist>=1.1.1 in /Users/takeshiiijima/opt/anaconda3/lib/python3.9/site-packages (from aiohttp<4.0.0,>=3.8.3->langchain==0.0.146->-r requirements.txt (line 2)) (1.3.3)\n",
                        "Requirement already satisfied: aiosignal>=1.1.2 in /Users/takeshiiijima/opt/anaconda3/lib/python3.9/site-packages (from aiohttp<4.0.0,>=3.8.3->langchain==0.0.146->-r requirements.txt (line 2)) (1.3.1)\n",
                        "Requirement already satisfied: jmespath<2.0.0,>=0.7.1 in /Users/takeshiiijima/opt/anaconda3/lib/python3.9/site-packages (from boto3->deeplake->-r requirements.txt (line 7)) (1.0.1)\n",
                        "Requirement already satisfied: s3transfer<0.7.0,>=0.6.0 in /Users/takeshiiijima/opt/anaconda3/lib/python3.9/site-packages (from boto3->deeplake->-r requirements.txt (line 7)) (0.6.1)\n",
                        "Requirement already satisfied: certifi in /Users/takeshiiijima/opt/anaconda3/lib/python3.9/site-packages (from clickhouse-connect>=0.5.7->chromadb==0.3.21->-r requirements.txt (line 4)) (2022.12.7)\n",
                        "Requirement already satisfied: urllib3>=1.26 in /Users/takeshiiijima/opt/anaconda3/lib/python3.9/site-packages (from clickhouse-connect>=0.5.7->chromadb==0.3.21->-r requirements.txt (line 4)) (1.26.7)\n",
                        "Requirement already satisfied: pytz in /Users/takeshiiijima/opt/anaconda3/lib/python3.9/site-packages (from clickhouse-connect>=0.5.7->chromadb==0.3.21->-r requirements.txt (line 4)) (2021.3)\n",
                        "Requirement already satisfied: zstandard in /Users/takeshiiijima/opt/anaconda3/lib/python3.9/site-packages (from clickhouse-connect>=0.5.7->chromadb==0.3.21->-r requirements.txt (line 4)) (0.21.0)\n",
                        "Requirement already satisfied: lz4 in /Users/takeshiiijima/opt/anaconda3/lib/python3.9/site-packages (from clickhouse-connect>=0.5.7->chromadb==0.3.21->-r requirements.txt (line 4)) (4.3.2)\n",
                        "Requirement already satisfied: marshmallow<4.0.0,>=3.3.0 in /Users/takeshiiijima/opt/anaconda3/lib/python3.9/site-packages (from dataclasses-json<0.6.0,>=0.5.7->langchain==0.0.146->-r requirements.txt (line 2)) (3.19.0)\n",
                        "Requirement already satisfied: marshmallow-enum<2.0.0,>=1.5.1 in /Users/takeshiiijima/opt/anaconda3/lib/python3.9/site-packages (from dataclasses-json<0.6.0,>=0.5.7->langchain==0.0.146->-r requirements.txt (line 2)) (1.5.1)\n",
                        "Requirement already satisfied: typing-inspect>=0.4.0 in /Users/takeshiiijima/opt/anaconda3/lib/python3.9/site-packages (from dataclasses-json<0.6.0,>=0.5.7->langchain==0.0.146->-r requirements.txt (line 2)) (0.8.0)\n",
                        "Requirement already satisfied: starlette<0.27.0,>=0.26.1 in /Users/takeshiiijima/opt/anaconda3/lib/python3.9/site-packages (from fastapi>=0.85.1->chromadb==0.3.21->-r requirements.txt (line 4)) (0.26.1)\n",
                        "Requirement already satisfied: python-dateutil>=2.7.3 in /Users/takeshiiijima/opt/anaconda3/lib/python3.9/site-packages (from pandas>=1.3->chromadb==0.3.21->-r requirements.txt (line 4)) (2.8.2)\n",
                        "Requirement already satisfied: six>=1.5 in /Users/takeshiiijima/opt/anaconda3/lib/python3.9/site-packages (from posthog>=2.4.0->chromadb==0.3.21->-r requirements.txt (line 4)) (1.16.0)\n",
                        "Requirement already satisfied: monotonic>=1.5 in /Users/takeshiiijima/opt/anaconda3/lib/python3.9/site-packages (from posthog>=2.4.0->chromadb==0.3.21->-r requirements.txt (line 4)) (1.6)\n",
                        "Requirement already satisfied: backoff>=1.10.0 in /Users/takeshiiijima/opt/anaconda3/lib/python3.9/site-packages (from posthog>=2.4.0->chromadb==0.3.21->-r requirements.txt (line 4)) (2.2.1)\n",
                        "Requirement already satisfied: typing-extensions>=4.2.0 in /Users/takeshiiijima/opt/anaconda3/lib/python3.9/site-packages (from pydantic<2,>=1->langchain==0.0.146->-r requirements.txt (line 2)) (4.5.0)\n",
                        "Requirement already satisfied: idna<4,>=2.5 in /Users/takeshiiijima/opt/anaconda3/lib/python3.9/site-packages (from requests<3,>=2->langchain==0.0.146->-r requirements.txt (line 2)) (3.2)\n",
                        "Requirement already satisfied: transformers<5.0.0,>=4.6.0 in /Users/takeshiiijima/opt/anaconda3/lib/python3.9/site-packages (from sentence-transformers>=2.2.2->chromadb==0.3.21->-r requirements.txt (line 4)) (4.28.1)\n",
                        "Requirement already satisfied: torch>=1.6.0 in /Users/takeshiiijima/opt/anaconda3/lib/python3.9/site-packages (from sentence-transformers>=2.2.2->chromadb==0.3.21->-r requirements.txt (line 4)) (2.0.0)\n",
                        "Requirement already satisfied: torchvision in /Users/takeshiiijima/opt/anaconda3/lib/python3.9/site-packages (from sentence-transformers>=2.2.2->chromadb==0.3.21->-r requirements.txt (line 4)) (0.15.1)\n",
                        "Requirement already satisfied: scikit-learn in /Users/takeshiiijima/opt/anaconda3/lib/python3.9/site-packages (from sentence-transformers>=2.2.2->chromadb==0.3.21->-r requirements.txt (line 4)) (0.24.2)\n",
                        "Requirement already satisfied: scipy in /Users/takeshiiijima/opt/anaconda3/lib/python3.9/site-packages (from sentence-transformers>=2.2.2->chromadb==0.3.21->-r requirements.txt (line 4)) (1.7.1)\n",
                        "Requirement already satisfied: nltk in /Users/takeshiiijima/opt/anaconda3/lib/python3.9/site-packages (from sentence-transformers>=2.2.2->chromadb==0.3.21->-r requirements.txt (line 4)) (3.6.5)\n",
                        "Requirement already satisfied: sentencepiece in /Users/takeshiiijima/opt/anaconda3/lib/python3.9/site-packages (from sentence-transformers>=2.2.2->chromadb==0.3.21->-r requirements.txt (line 4)) (0.1.99)\n",
                        "Requirement already satisfied: huggingface-hub>=0.4.0 in /Users/takeshiiijima/opt/anaconda3/lib/python3.9/site-packages (from sentence-transformers>=2.2.2->chromadb==0.3.21->-r requirements.txt (line 4)) (0.13.4)\n",
                        "Requirement already satisfied: greenlet!=0.4.17 in /Users/takeshiiijima/opt/anaconda3/lib/python3.9/site-packages (from SQLAlchemy<2,>=1->langchain==0.0.146->-r requirements.txt (line 2)) (1.1.1)\n",
                        "Requirement already satisfied: h11>=0.8 in /Users/takeshiiijima/opt/anaconda3/lib/python3.9/site-packages (from uvicorn[standard]>=0.18.3->chromadb==0.3.21->-r requirements.txt (line 4)) (0.14.0)\n",
                        "Requirement already satisfied: httptools>=0.5.0 in /Users/takeshiiijima/opt/anaconda3/lib/python3.9/site-packages (from uvicorn[standard]>=0.18.3->chromadb==0.3.21->-r requirements.txt (line 4)) (0.5.0)\n",
                        "Requirement already satisfied: python-dotenv>=0.13 in /Users/takeshiiijima/opt/anaconda3/lib/python3.9/site-packages (from uvicorn[standard]>=0.18.3->chromadb==0.3.21->-r requirements.txt (line 4)) (1.0.0)\n",
                        "Requirement already satisfied: uvloop!=0.15.0,!=0.15.1,>=0.14.0 in /Users/takeshiiijima/opt/anaconda3/lib/python3.9/site-packages (from uvicorn[standard]>=0.18.3->chromadb==0.3.21->-r requirements.txt (line 4)) (0.17.0)\n",
                        "Requirement already satisfied: watchfiles>=0.13 in /Users/takeshiiijima/opt/anaconda3/lib/python3.9/site-packages (from uvicorn[standard]>=0.18.3->chromadb==0.3.21->-r requirements.txt (line 4)) (0.19.0)\n",
                        "Requirement already satisfied: websockets>=10.4 in /Users/takeshiiijima/opt/anaconda3/lib/python3.9/site-packages (from uvicorn[standard]>=0.18.3->chromadb==0.3.21->-r requirements.txt (line 4)) (10.4)\n",
                        "Requirement already satisfied: soupsieve>1.2 in /Users/takeshiiijima/opt/anaconda3/lib/python3.9/site-packages (from beautifulsoup4->wikipedia->-r requirements.txt (line 5)) (2.2.1)\n",
                        "Requirement already satisfied: entrypoints in /Users/takeshiiijima/opt/anaconda3/lib/python3.9/site-packages (from numcodecs->deeplake->-r requirements.txt (line 7)) (0.3)\n",
                        "Requirement already satisfied: ppft>=1.7.6.6 in /Users/takeshiiijima/opt/anaconda3/lib/python3.9/site-packages (from pathos->deeplake->-r requirements.txt (line 7)) (1.7.6.6)\n",
                        "Requirement already satisfied: dill>=0.3.6 in /Users/takeshiiijima/opt/anaconda3/lib/python3.9/site-packages (from pathos->deeplake->-r requirements.txt (line 7)) (0.3.6)\n",
                        "Requirement already satisfied: pox>=0.3.2 in /Users/takeshiiijima/opt/anaconda3/lib/python3.9/site-packages (from pathos->deeplake->-r requirements.txt (line 7)) (0.3.2)\n",
                        "Requirement already satisfied: multiprocess>=0.70.14 in /Users/takeshiiijima/opt/anaconda3/lib/python3.9/site-packages (from pathos->deeplake->-r requirements.txt (line 7)) (0.70.14)\n",
                        "Requirement already satisfied: filelock in /Users/takeshiiijima/opt/anaconda3/lib/python3.9/site-packages (from huggingface-hub>=0.4.0->sentence-transformers>=2.2.2->chromadb==0.3.21->-r requirements.txt (line 4)) (3.3.1)\n",
                        "Requirement already satisfied: packaging>=20.9 in /Users/takeshiiijima/opt/anaconda3/lib/python3.9/site-packages (from huggingface-hub>=0.4.0->sentence-transformers>=2.2.2->chromadb==0.3.21->-r requirements.txt (line 4)) (21.0)\n",
                        "Requirement already satisfied: anyio<5,>=3.4.0 in /Users/takeshiiijima/opt/anaconda3/lib/python3.9/site-packages (from starlette<0.27.0,>=0.26.1->fastapi>=0.85.1->chromadb==0.3.21->-r requirements.txt (line 4)) (3.6.2)\n",
                        "Requirement already satisfied: sympy in /Users/takeshiiijima/opt/anaconda3/lib/python3.9/site-packages (from torch>=1.6.0->sentence-transformers>=2.2.2->chromadb==0.3.21->-r requirements.txt (line 4)) (1.9)\n",
                        "Requirement already satisfied: networkx in /Users/takeshiiijima/opt/anaconda3/lib/python3.9/site-packages (from torch>=1.6.0->sentence-transformers>=2.2.2->chromadb==0.3.21->-r requirements.txt (line 4)) (2.6.3)\n",
                        "Requirement already satisfied: jinja2 in /Users/takeshiiijima/opt/anaconda3/lib/python3.9/site-packages (from torch>=1.6.0->sentence-transformers>=2.2.2->chromadb==0.3.21->-r requirements.txt (line 4)) (2.11.3)\n",
                        "Requirement already satisfied: tokenizers!=0.11.3,<0.14,>=0.11.1 in /Users/takeshiiijima/opt/anaconda3/lib/python3.9/site-packages (from transformers<5.0.0,>=4.6.0->sentence-transformers>=2.2.2->chromadb==0.3.21->-r requirements.txt (line 4)) (0.13.3)\n",
                        "Requirement already satisfied: mypy-extensions>=0.3.0 in /Users/takeshiiijima/opt/anaconda3/lib/python3.9/site-packages (from typing-inspect>=0.4.0->dataclasses-json<0.6.0,>=0.5.7->langchain==0.0.146->-r requirements.txt (line 2)) (0.4.3)\n",
                        "Requirement already satisfied: joblib in /Users/takeshiiijima/opt/anaconda3/lib/python3.9/site-packages (from nltk->sentence-transformers>=2.2.2->chromadb==0.3.21->-r requirements.txt (line 4)) (1.1.0)\n",
                        "Requirement already satisfied: threadpoolctl>=2.0.0 in /Users/takeshiiijima/opt/anaconda3/lib/python3.9/site-packages (from scikit-learn->sentence-transformers>=2.2.2->chromadb==0.3.21->-r requirements.txt (line 4)) (2.2.0)\n",
                        "Requirement already satisfied: sniffio>=1.1 in /Users/takeshiiijima/opt/anaconda3/lib/python3.9/site-packages (from anyio<5,>=3.4.0->starlette<0.27.0,>=0.26.1->fastapi>=0.85.1->chromadb==0.3.21->-r requirements.txt (line 4)) (1.2.0)\n",
                        "Requirement already satisfied: pyparsing>=2.0.2 in /Users/takeshiiijima/opt/anaconda3/lib/python3.9/site-packages (from packaging>=20.9->huggingface-hub>=0.4.0->sentence-transformers>=2.2.2->chromadb==0.3.21->-r requirements.txt (line 4)) (3.0.4)\n",
                        "Requirement already satisfied: MarkupSafe>=0.23 in /Users/takeshiiijima/opt/anaconda3/lib/python3.9/site-packages (from jinja2->torch>=1.6.0->sentence-transformers>=2.2.2->chromadb==0.3.21->-r requirements.txt (line 4)) (1.1.1)\n",
                        "Requirement already satisfied: mpmath>=0.19 in /Users/takeshiiijima/opt/anaconda3/lib/python3.9/site-packages (from sympy->torch>=1.6.0->sentence-transformers>=2.2.2->chromadb==0.3.21->-r requirements.txt (line 4)) (1.2.1)\n",
                        "Installing collected packages: langchain\n",
                        "  Attempting uninstall: langchain\n",
                        "    Found existing installation: langchain 0.0.161\n",
                        "    Uninstalling langchain-0.0.161:\n",
                        "      Successfully uninstalled langchain-0.0.161\n",
                        "\u001b[31mERROR: pip's dependency resolver does not currently take into account all the packages that are installed. This behaviour is the source of the following dependency conflicts.\n",
                        "llama-index 0.5.25 requires langchain==0.0.142, but you have langchain 0.0.146 which is incompatible.\u001b[0m\u001b[31m\n",
                        "\u001b[0mSuccessfully installed langchain-0.0.146\n",
                        "Note: you may need to restart the kernel to use updated packages.\n"
                    ]
                }
            ],
            "source": [
                "%pip install -r requirements.txt"
            ]
        },
        {
            "cell_type": "code",
            "execution_count": 58,
            "id": "853669ad",
            "metadata": {},
            "outputs": [],
            "source": [
                "import os\n",
                "from dotenv import load_dotenv\n",
                "load_dotenv()\n",
                "\n",
                "AZURE_DEPLOYMENT_NAME= os.environ['AZURE_DEPLOYMENT_NAME']\n",
                "os.environ[\"OPENAI_API_TYPE\"] = \"azure\"\n",
                "os.environ[\"OPENAI_API_KEY\"] = os.environ['AZURE_OPEN_API_KEY']\n",
                "os.environ[\"OPENAI_API_BASE\"] = os.environ['AZURE_API_BASE']\n",
                "os.environ[\"OPENAI_VERSION\"] = \"2023-03-15-preview\"   \n",
                "os.environ[\"ACTIVELOOP_TOKEN\"] = os.environ['ACTIVELOOP_TOKEN']  \n"
            ]
        },
        {
            "cell_type": "code",
            "execution_count": 59,
            "id": "1c9d405c",
            "metadata": {},
            "outputs": [],
            "source": [
                "from langchain.embeddings.openai import OpenAIEmbeddings\n",
                "from langchain.text_splitter import CharacterTextSplitter\n",
                "from langchain.vectorstores import Chroma\n",
                "from langchain.embeddings.openai import OpenAIEmbeddings\n",
                "from langchain.vectorstores import DeepLake\n",
                "from langchain.text_splitter import CharacterTextSplitter\n",
                "from langchain import OpenAI \n",
                "from langchain.chains import RetrievalQA\n",
                "from langchain.llms import OpenAIChat\n",
                "from langchain.document_loaders import PagedPDFSplitter\n"
            ]
        },
        {
            "cell_type": "markdown",
            "id": "fcd9b71c",
            "metadata": {},
            "source": [
                "embeddings = OpenAIEmbeddings(deployment=\"text-embedding-ada-002\")\n",
                "docsearch = Chroma.from_texts(texts, embeddings)\n",
                "\n"
            ]
        },
        {
            "cell_type": "code",
            "execution_count": 60,
            "id": "e645af2f",
            "metadata": {},
            "outputs": [
                {
                    "name": "stderr",
                    "output_type": "stream",
                    "text": [
                        "100%|██████████| 2/2 [00:01<00:00,  1.23it/s]\n"
                    ]
                }
            ],
            "source": [
                "import requests\n",
                "import tqdm\n",
                "from typing import List\n",
                "\n",
                "# https://www.digital.go.jp/assets/contents/node/basic_page/field_ref_resources/c5365b9c-0cf7-40b7-a5ff-b9f09e2d9292/615d206b/20221223_meeting_web3_summary_01.pdf\n",
                "# https://www.digital.go.jp/assets/contents/node/basic_page/field_ref_resources/baf62741-ddf5-4c34-997c-9744a19cf8df/6fb98ecb/20221213_meeting_web3_summary_01.pdf\n",
                "\n",
                "# financial reports of amamzon, but can be replaced by any URLs of pdfs\n",
                "urls = ['https://www.digital.go.jp/assets/contents/node/basic_page/field_ref_resources/c5365b9c-0cf7-40b7-a5ff-b9f09e2d9292/615d206b/20221223_meeting_web3_summary_01.pdf',\n",
                "        'https://www.digital.go.jp/assets/contents/node/basic_page/field_ref_resources/baf62741-ddf5-4c34-997c-9744a19cf8df/6fb98ecb/20221213_meeting_web3_summary_01.pdf'\n",
                "        ]\n",
                "\n",
                "def load_reports(urls: List[str]) -> List[str]:\n",
                "    \"\"\" Load pages from a list of urls\"\"\"\n",
                "    pages = []\n",
                "\n",
                "    for url in tqdm.tqdm(urls):\n",
                "        r = requests.get(url)\n",
                "        path = url.split('/')[-1]\n",
                "        with open(path, 'wb') as f:\n",
                "            f.write(r.content)\n",
                "        loader = PagedPDFSplitter(path)\n",
                "        local_pages = loader.load_and_split()\n",
                "        pages.extend(local_pages)\n",
                "    return pages\n",
                "\n",
                "pages = load_reports(urls)\n"
            ]
        },
        {
            "cell_type": "code",
            "execution_count": 61,
            "id": "70081733",
            "metadata": {},
            "outputs": [],
            "source": [
                "text_splitter = CharacterTextSplitter(chunk_size=1000, chunk_overlap=0)\n",
                "texts = text_splitter.split_documents(pages)"
            ]
        },
        {
            "cell_type": "code",
            "execution_count": 62,
            "id": "7821f19e",
            "metadata": {},
            "outputs": [
                {
                    "name": "stderr",
                    "output_type": "stream",
                    "text": [
                        "/"
                    ]
                },
                {
                    "name": "stdout",
                    "output_type": "stream",
                    "text": [
                        "This dataset can be visualized in Jupyter Notebook by ds.visualize() or at https://app.activeloop.ai/tkc/dataset_name\n",
                        "\n"
                    ]
                },
                {
                    "name": "stderr",
                    "output_type": "stream",
                    "text": [
                        "|"
                    ]
                },
                {
                    "name": "stdout",
                    "output_type": "stream",
                    "text": [
                        "hub://tkc/dataset_name loaded successfully.\n",
                        "\n"
                    ]
                },
                {
                    "name": "stderr",
                    "output_type": "stream",
                    "text": [
                        "Deep Lake Dataset in hub://tkc/dataset_name already exists, loading from the storage\n"
                    ]
                },
                {
                    "name": "stdout",
                    "output_type": "stream",
                    "text": [
                        "Dataset(path='hub://tkc/dataset_name', tensors=['embedding', 'ids', 'metadata', 'text'])\n",
                        "\n",
                        "  tensor     htype      shape      dtype  compression\n",
                        "  -------   -------    -------    -------  ------- \n",
                        " embedding  generic  (108, 1536)  float32   None   \n",
                        "    ids      text     (108, 1)      str     None   \n",
                        " metadata    json     (108, 1)      str     None   \n",
                        "   text      text     (108, 1)      str     None   \n"
                    ]
                },
                {
                    "name": "stderr",
                    "output_type": "stream",
                    "text": [
                        "Evaluating ingest: 100%|██████████| 1/1 [00:37<00:00\n",
                        "\\"
                    ]
                },
                {
                    "name": "stdout",
                    "output_type": "stream",
                    "text": [
                        "Dataset(path='hub://tkc/dataset_name', tensors=['embedding', 'ids', 'metadata', 'text'])\n",
                        "\n",
                        "  tensor     htype      shape      dtype  compression\n",
                        "  -------   -------    -------    -------  ------- \n",
                        " embedding  generic  (130, 1536)  float32   None   \n",
                        "    ids      text     (130, 1)      str     None   \n",
                        " metadata    json     (130, 1)      str     None   \n",
                        "   text      text     (130, 1)      str     None   \n"
                    ]
                },
                {
                    "name": "stderr",
                    "output_type": "stream",
                    "text": [
                        " \r"
                    ]
                },
                {
                    "data": {
                        "text/plain": [
                            "['2ef881a4-eca4-11ed-8ca9-1e00073ed291',\n",
                            " '2ef8828a-eca4-11ed-8ca9-1e00073ed291',\n",
                            " '2ef882b2-eca4-11ed-8ca9-1e00073ed291',\n",
                            " '2ef882d0-eca4-11ed-8ca9-1e00073ed291',\n",
                            " '2ef882ee-eca4-11ed-8ca9-1e00073ed291',\n",
                            " '2ef88302-eca4-11ed-8ca9-1e00073ed291',\n",
                            " '2ef88320-eca4-11ed-8ca9-1e00073ed291',\n",
                            " '2ef8833e-eca4-11ed-8ca9-1e00073ed291',\n",
                            " '2ef8835c-eca4-11ed-8ca9-1e00073ed291',\n",
                            " '2ef8837a-eca4-11ed-8ca9-1e00073ed291',\n",
                            " '2ef8838e-eca4-11ed-8ca9-1e00073ed291',\n",
                            " '2ef883ac-eca4-11ed-8ca9-1e00073ed291',\n",
                            " '2ef883ca-eca4-11ed-8ca9-1e00073ed291',\n",
                            " '2ef883de-eca4-11ed-8ca9-1e00073ed291',\n",
                            " '2ef883fc-eca4-11ed-8ca9-1e00073ed291',\n",
                            " '2ef8841a-eca4-11ed-8ca9-1e00073ed291',\n",
                            " '2ef8842e-eca4-11ed-8ca9-1e00073ed291',\n",
                            " '2ef8844c-eca4-11ed-8ca9-1e00073ed291',\n",
                            " '2ef8846a-eca4-11ed-8ca9-1e00073ed291',\n",
                            " '2ef8847e-eca4-11ed-8ca9-1e00073ed291',\n",
                            " '2ef8849c-eca4-11ed-8ca9-1e00073ed291',\n",
                            " '2ef884ba-eca4-11ed-8ca9-1e00073ed291']"
                        ]
                    },
                    "execution_count": 62,
                    "metadata": {},
                    "output_type": "execute_result"
                }
            ],
            "source": [
                "embeddings = OpenAIEmbeddings(deployment=\"text-embedding-ada-002\",chunk_size=1)\n",
                "\n",
                "db = DeepLake(\n",
                "    dataset_path=\"hub://tkc/dataset_name\", \n",
                "    embedding_function=embeddings, \n",
                "    token=os.environ['ACTIVELOOP_TOKEN'])\n",
                "\n",
                "db.add_documents(texts)\n"
            ]
        },
        {
            "cell_type": "code",
            "execution_count": 63,
            "id": "982d20a9",
            "metadata": {},
            "outputs": [],
            "source": [
                "from langchain.chains.conversational_retrieval.prompts import CONDENSE_QUESTION_PROMPT\n",
                "from langchain.chat_models import AzureChatOpenAI\n",
                "\n",
                "llm = AzureChatOpenAI(\n",
                "    client=None,\n",
                "    deployment_name=AZURE_DEPLOYMENT_NAME,\n",
                "    openai_api_base=os.environ['AZURE_API_BASE'],\n",
                "    openai_api_version=\"2023-03-15-preview\",\n",
                "    openai_api_key=os.environ['AZURE_OPEN_API_KEY'],\n",
                "    temperature=0,\n",
                "    request_timeout=180,\n",
                ")\n"
            ]
        },
        {
            "cell_type": "code",
            "execution_count": 64,
            "id": "852f85df",
            "metadata": {},
            "outputs": [
                {
                    "data": {
                        "text/plain": [
                            "\"I'm sorry, I don't see a question here. Can you please provide more context or ask a specific question?\""
                        ]
                    },
                    "execution_count": 64,
                    "metadata": {},
                    "output_type": "execute_result"
                }
            ],
            "source": [
                "qa = RetrievalQA.from_chain_type(\n",
                "    llm=llm, \n",
                "    chain_type='stuff', \n",
                "    retriever=db.as_retriever())\n",
                "\n",
                "qa.run(\"松尾\")\n"
            ]
        }
    ],
    "metadata": {
        "kernelspec": {
            "display_name": "Python 3 (ipykernel)",
            "language": "python",
            "name": "python3"
        },
        "language_info": {
            "codemirror_mode": {
                "name": "ipython",
                "version": 3
            },
            "file_extension": ".py",
            "mimetype": "text/x-python",
            "name": "python",
            "nbconvert_exporter": "python",
            "pygments_lexer": "ipython3",
            "version": "3.9.7"
        }
    },
    "nbformat": 4,
    "nbformat_minor": 5
}
