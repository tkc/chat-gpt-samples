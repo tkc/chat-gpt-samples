{
    "cells": [
        {
            "attachments": {},
            "cell_type": "markdown",
            "id": "d5f777c3",
            "metadata": {},
            "source": [
                "## Caht"
            ]
        },
        {
            "cell_type": "code",
            "execution_count": 1,
            "id": "ab65b9ae",
            "metadata": {},
            "outputs": [
                {
                    "name": "stdout",
                    "output_type": "stream",
                    "text": [
                        "Requirement already satisfied: openai in /usr/local/lib/python3.10/site-packages (from -r requirements.txt (line 1)) (0.27.0)\n",
                        "Requirement already satisfied: langchain==0.0.146 in /usr/local/lib/python3.10/site-packages (from -r requirements.txt (line 2)) (0.0.146)\n",
                        "Requirement already satisfied: tiktoken in /usr/local/lib/python3.10/site-packages (from -r requirements.txt (line 3)) (0.3.1)\n",
                        "Requirement already satisfied: faiss-cpu in /usr/local/lib/python3.10/site-packages (from -r requirements.txt (line 4)) (1.7.3)\n",
                        "Requirement already satisfied: chromadb==0.3.21 in /usr/local/lib/python3.10/site-packages (from -r requirements.txt (line 5)) (0.3.21)\n",
                        "Requirement already satisfied: wikipedia in /usr/local/lib/python3.10/site-packages (from -r requirements.txt (line 6)) (1.4.0)\n",
                        "Requirement already satisfied: GitPython in /usr/local/lib/python3.10/site-packages (from -r requirements.txt (line 7)) (3.1.31)\n",
                        "Requirement already satisfied: PyYAML>=5.4.1 in /usr/local/lib/python3.10/site-packages (from langchain==0.0.146->-r requirements.txt (line 2)) (6.0)\n",
                        "Requirement already satisfied: SQLAlchemy<2,>=1 in /usr/local/lib/python3.10/site-packages (from langchain==0.0.146->-r requirements.txt (line 2)) (1.4.46)\n",
                        "Requirement already satisfied: aiohttp<4.0.0,>=3.8.3 in /usr/local/lib/python3.10/site-packages (from langchain==0.0.146->-r requirements.txt (line 2)) (3.8.3)\n",
                        "Requirement already satisfied: async-timeout<5.0.0,>=4.0.0 in /usr/local/lib/python3.10/site-packages (from langchain==0.0.146->-r requirements.txt (line 2)) (4.0.2)\n",
                        "Requirement already satisfied: dataclasses-json<0.6.0,>=0.5.7 in /usr/local/lib/python3.10/site-packages (from langchain==0.0.146->-r requirements.txt (line 2)) (0.5.7)\n",
                        "Requirement already satisfied: numexpr<3.0.0,>=2.8.4 in /usr/local/lib/python3.10/site-packages (from langchain==0.0.146->-r requirements.txt (line 2)) (2.8.4)\n",
                        "Requirement already satisfied: numpy<2,>=1 in /usr/local/lib/python3.10/site-packages (from langchain==0.0.146->-r requirements.txt (line 2)) (1.23.5)\n",
                        "Requirement already satisfied: openapi-schema-pydantic<2.0,>=1.2 in /usr/local/lib/python3.10/site-packages (from langchain==0.0.146->-r requirements.txt (line 2)) (1.2.4)\n",
                        "Requirement already satisfied: pydantic<2,>=1 in /usr/local/lib/python3.10/site-packages (from langchain==0.0.146->-r requirements.txt (line 2)) (1.10.4)\n",
                        "Requirement already satisfied: requests<3,>=2 in /usr/local/lib/python3.10/site-packages (from langchain==0.0.146->-r requirements.txt (line 2)) (2.28.2)\n",
                        "Requirement already satisfied: tenacity<9.0.0,>=8.1.0 in /usr/local/lib/python3.10/site-packages (from langchain==0.0.146->-r requirements.txt (line 2)) (8.2.2)\n",
                        "Requirement already satisfied: tqdm>=4.48.0 in /usr/local/lib/python3.10/site-packages (from langchain==0.0.146->-r requirements.txt (line 2)) (4.64.1)\n",
                        "Requirement already satisfied: pandas>=1.3 in /usr/local/lib/python3.10/site-packages (from chromadb==0.3.21->-r requirements.txt (line 5)) (1.4.3)\n",
                        "Requirement already satisfied: hnswlib>=0.7 in /usr/local/lib/python3.10/site-packages (from chromadb==0.3.21->-r requirements.txt (line 5)) (0.7.0)\n",
                        "Requirement already satisfied: clickhouse-connect>=0.5.7 in /usr/local/lib/python3.10/site-packages (from chromadb==0.3.21->-r requirements.txt (line 5)) (0.5.23)\n",
                        "Requirement already satisfied: sentence-transformers>=2.2.2 in /usr/local/lib/python3.10/site-packages (from chromadb==0.3.21->-r requirements.txt (line 5)) (2.2.2)\n",
                        "Requirement already satisfied: duckdb>=0.7.1 in /usr/local/lib/python3.10/site-packages (from chromadb==0.3.21->-r requirements.txt (line 5)) (0.7.1)\n",
                        "Requirement already satisfied: fastapi>=0.85.1 in /usr/local/lib/python3.10/site-packages (from chromadb==0.3.21->-r requirements.txt (line 5)) (0.85.2)\n",
                        "Requirement already satisfied: uvicorn[standard]>=0.18.3 in /usr/local/lib/python3.10/site-packages (from chromadb==0.3.21->-r requirements.txt (line 5)) (0.18.3)\n",
                        "Requirement already satisfied: posthog>=2.4.0 in /usr/local/lib/python3.10/site-packages (from chromadb==0.3.21->-r requirements.txt (line 5)) (3.0.1)\n",
                        "Requirement already satisfied: regex>=2022.1.18 in /usr/local/lib/python3.10/site-packages (from tiktoken->-r requirements.txt (line 3)) (2022.10.31)\n",
                        "Requirement already satisfied: beautifulsoup4 in /usr/local/lib/python3.10/site-packages (from wikipedia->-r requirements.txt (line 6)) (4.11.1)\n",
                        "Requirement already satisfied: gitdb<5,>=4.0.1 in /usr/local/lib/python3.10/site-packages (from GitPython->-r requirements.txt (line 7)) (4.0.10)\n",
                        "Requirement already satisfied: attrs>=17.3.0 in /usr/local/lib/python3.10/site-packages (from aiohttp<4.0.0,>=3.8.3->langchain==0.0.146->-r requirements.txt (line 2)) (22.2.0)\n",
                        "Requirement already satisfied: charset-normalizer<3.0,>=2.0 in /usr/local/lib/python3.10/site-packages (from aiohttp<4.0.0,>=3.8.3->langchain==0.0.146->-r requirements.txt (line 2)) (2.1.1)\n",
                        "Requirement already satisfied: multidict<7.0,>=4.5 in /usr/local/lib/python3.10/site-packages (from aiohttp<4.0.0,>=3.8.3->langchain==0.0.146->-r requirements.txt (line 2)) (6.0.4)\n",
                        "Requirement already satisfied: yarl<2.0,>=1.0 in /usr/local/lib/python3.10/site-packages (from aiohttp<4.0.0,>=3.8.3->langchain==0.0.146->-r requirements.txt (line 2)) (1.8.2)\n",
                        "Requirement already satisfied: frozenlist>=1.1.1 in /usr/local/lib/python3.10/site-packages (from aiohttp<4.0.0,>=3.8.3->langchain==0.0.146->-r requirements.txt (line 2)) (1.3.3)\n",
                        "Requirement already satisfied: aiosignal>=1.1.2 in /usr/local/lib/python3.10/site-packages (from aiohttp<4.0.0,>=3.8.3->langchain==0.0.146->-r requirements.txt (line 2)) (1.3.1)\n",
                        "Requirement already satisfied: certifi in /usr/local/lib/python3.10/site-packages (from clickhouse-connect>=0.5.7->chromadb==0.3.21->-r requirements.txt (line 5)) (2022.12.7)\n",
                        "Requirement already satisfied: urllib3>=1.26 in /usr/local/lib/python3.10/site-packages (from clickhouse-connect>=0.5.7->chromadb==0.3.21->-r requirements.txt (line 5)) (1.26.12)\n",
                        "Requirement already satisfied: pytz in /usr/local/lib/python3.10/site-packages (from clickhouse-connect>=0.5.7->chromadb==0.3.21->-r requirements.txt (line 5)) (2022.7.1)\n",
                        "Requirement already satisfied: zstandard in /usr/local/lib/python3.10/site-packages (from clickhouse-connect>=0.5.7->chromadb==0.3.21->-r requirements.txt (line 5)) (0.21.0)\n",
                        "Requirement already satisfied: lz4 in /usr/local/lib/python3.10/site-packages (from clickhouse-connect>=0.5.7->chromadb==0.3.21->-r requirements.txt (line 5)) (4.3.2)\n",
                        "Requirement already satisfied: marshmallow<4.0.0,>=3.3.0 in /usr/local/lib/python3.10/site-packages (from dataclasses-json<0.6.0,>=0.5.7->langchain==0.0.146->-r requirements.txt (line 2)) (3.19.0)\n",
                        "Requirement already satisfied: marshmallow-enum<2.0.0,>=1.5.1 in /usr/local/lib/python3.10/site-packages (from dataclasses-json<0.6.0,>=0.5.7->langchain==0.0.146->-r requirements.txt (line 2)) (1.5.1)\n",
                        "Requirement already satisfied: typing-inspect>=0.4.0 in /usr/local/lib/python3.10/site-packages (from dataclasses-json<0.6.0,>=0.5.7->langchain==0.0.146->-r requirements.txt (line 2)) (0.8.0)\n",
                        "Requirement already satisfied: starlette==0.20.4 in /usr/local/lib/python3.10/site-packages (from fastapi>=0.85.1->chromadb==0.3.21->-r requirements.txt (line 5)) (0.20.4)\n",
                        "Requirement already satisfied: anyio<5,>=3.4.0 in /usr/local/lib/python3.10/site-packages (from starlette==0.20.4->fastapi>=0.85.1->chromadb==0.3.21->-r requirements.txt (line 5)) (3.6.2)\n",
                        "Requirement already satisfied: smmap<6,>=3.0.1 in /usr/local/lib/python3.10/site-packages (from gitdb<5,>=4.0.1->GitPython->-r requirements.txt (line 7)) (5.0.0)\n",
                        "Requirement already satisfied: python-dateutil>=2.8.1 in /usr/local/lib/python3.10/site-packages (from pandas>=1.3->chromadb==0.3.21->-r requirements.txt (line 5)) (2.8.2)\n",
                        "Requirement already satisfied: six>=1.5 in /usr/local/lib/python3.10/site-packages (from posthog>=2.4.0->chromadb==0.3.21->-r requirements.txt (line 5)) (1.16.0)\n",
                        "Requirement already satisfied: monotonic>=1.5 in /usr/local/lib/python3.10/site-packages (from posthog>=2.4.0->chromadb==0.3.21->-r requirements.txt (line 5)) (1.6)\n",
                        "Requirement already satisfied: backoff>=1.10.0 in /usr/local/lib/python3.10/site-packages (from posthog>=2.4.0->chromadb==0.3.21->-r requirements.txt (line 5)) (2.2.1)\n",
                        "Requirement already satisfied: typing-extensions>=4.2.0 in /usr/local/lib/python3.10/site-packages (from pydantic<2,>=1->langchain==0.0.146->-r requirements.txt (line 2)) (4.5.0)\n",
                        "Requirement already satisfied: idna<4,>=2.5 in /usr/local/lib/python3.10/site-packages (from requests<3,>=2->langchain==0.0.146->-r requirements.txt (line 2)) (3.4)\n",
                        "Requirement already satisfied: transformers<5.0.0,>=4.6.0 in /usr/local/lib/python3.10/site-packages (from sentence-transformers>=2.2.2->chromadb==0.3.21->-r requirements.txt (line 5)) (4.27.0.dev0)\n",
                        "Requirement already satisfied: torch>=1.6.0 in /usr/local/lib/python3.10/site-packages (from sentence-transformers>=2.2.2->chromadb==0.3.21->-r requirements.txt (line 5)) (1.13.1)\n",
                        "Requirement already satisfied: torchvision in /usr/local/lib/python3.10/site-packages (from sentence-transformers>=2.2.2->chromadb==0.3.21->-r requirements.txt (line 5)) (0.14.1)\n",
                        "Requirement already satisfied: scikit-learn in /usr/local/lib/python3.10/site-packages (from sentence-transformers>=2.2.2->chromadb==0.3.21->-r requirements.txt (line 5)) (1.2.1)\n",
                        "Requirement already satisfied: scipy in /usr/local/lib/python3.10/site-packages (from sentence-transformers>=2.2.2->chromadb==0.3.21->-r requirements.txt (line 5)) (1.10.1)\n",
                        "Requirement already satisfied: nltk in /usr/local/lib/python3.10/site-packages (from sentence-transformers>=2.2.2->chromadb==0.3.21->-r requirements.txt (line 5)) (3.8.1)\n",
                        "Requirement already satisfied: sentencepiece in /usr/local/lib/python3.10/site-packages (from sentence-transformers>=2.2.2->chromadb==0.3.21->-r requirements.txt (line 5)) (0.1.98)\n",
                        "Requirement already satisfied: huggingface-hub>=0.4.0 in /usr/local/lib/python3.10/site-packages (from sentence-transformers>=2.2.2->chromadb==0.3.21->-r requirements.txt (line 5)) (0.12.0)\n",
                        "Requirement already satisfied: greenlet!=0.4.17 in /usr/local/lib/python3.10/site-packages (from SQLAlchemy<2,>=1->langchain==0.0.146->-r requirements.txt (line 2)) (2.0.2)\n",
                        "Requirement already satisfied: click>=7.0 in /usr/local/lib/python3.10/site-packages (from uvicorn[standard]>=0.18.3->chromadb==0.3.21->-r requirements.txt (line 5)) (8.1.3)\n",
                        "Requirement already satisfied: h11>=0.8 in /usr/local/lib/python3.10/site-packages (from uvicorn[standard]>=0.18.3->chromadb==0.3.21->-r requirements.txt (line 5)) (0.14.0)\n",
                        "Requirement already satisfied: httptools>=0.4.0 in /usr/local/lib/python3.10/site-packages (from uvicorn[standard]>=0.18.3->chromadb==0.3.21->-r requirements.txt (line 5)) (0.5.0)\n",
                        "Requirement already satisfied: python-dotenv>=0.13 in /usr/local/lib/python3.10/site-packages (from uvicorn[standard]>=0.18.3->chromadb==0.3.21->-r requirements.txt (line 5)) (0.21.1)\n",
                        "Requirement already satisfied: uvloop!=0.15.0,!=0.15.1,>=0.14.0 in /usr/local/lib/python3.10/site-packages (from uvicorn[standard]>=0.18.3->chromadb==0.3.21->-r requirements.txt (line 5)) (0.17.0)\n",
                        "Requirement already satisfied: watchfiles>=0.13 in /usr/local/lib/python3.10/site-packages (from uvicorn[standard]>=0.18.3->chromadb==0.3.21->-r requirements.txt (line 5)) (0.19.0)\n",
                        "Requirement already satisfied: websockets>=10.0 in /usr/local/lib/python3.10/site-packages (from uvicorn[standard]>=0.18.3->chromadb==0.3.21->-r requirements.txt (line 5)) (10.4)\n",
                        "Requirement already satisfied: soupsieve>1.2 in /usr/local/lib/python3.10/site-packages (from beautifulsoup4->wikipedia->-r requirements.txt (line 6)) (2.3.2.post1)\n",
                        "Requirement already satisfied: filelock in /usr/local/lib/python3.10/site-packages (from huggingface-hub>=0.4.0->sentence-transformers>=2.2.2->chromadb==0.3.21->-r requirements.txt (line 5)) (3.9.0)\n",
                        "Requirement already satisfied: packaging>=20.9 in /usr/local/lib/python3.10/site-packages (from huggingface-hub>=0.4.0->sentence-transformers>=2.2.2->chromadb==0.3.21->-r requirements.txt (line 5)) (23.1)\n",
                        "Requirement already satisfied: tokenizers!=0.11.3,<0.14,>=0.11.1 in /usr/local/lib/python3.10/site-packages (from transformers<5.0.0,>=4.6.0->sentence-transformers>=2.2.2->chromadb==0.3.21->-r requirements.txt (line 5)) (0.13.3)\n",
                        "Requirement already satisfied: mypy-extensions>=0.3.0 in /usr/local/lib/python3.10/site-packages (from typing-inspect>=0.4.0->dataclasses-json<0.6.0,>=0.5.7->langchain==0.0.146->-r requirements.txt (line 2)) (1.0.0)\n",
                        "Requirement already satisfied: joblib in /usr/local/lib/python3.10/site-packages (from nltk->sentence-transformers>=2.2.2->chromadb==0.3.21->-r requirements.txt (line 5)) (1.2.0)\n",
                        "Requirement already satisfied: threadpoolctl>=2.0.0 in /usr/local/lib/python3.10/site-packages (from scikit-learn->sentence-transformers>=2.2.2->chromadb==0.3.21->-r requirements.txt (line 5)) (3.1.0)\n",
                        "Requirement already satisfied: pillow!=8.3.*,>=5.3.0 in /usr/local/lib/python3.10/site-packages (from torchvision->sentence-transformers>=2.2.2->chromadb==0.3.21->-r requirements.txt (line 5)) (9.4.0)\n",
                        "Requirement already satisfied: sniffio>=1.1 in /usr/local/lib/python3.10/site-packages (from anyio<5,>=3.4.0->starlette==0.20.4->fastapi>=0.85.1->chromadb==0.3.21->-r requirements.txt (line 5)) (1.3.0)\n",
                        "Note: you may need to restart the kernel to use updated packages.\n"
                    ]
                }
            ],
            "source": [
                "%pip install -r requirements.txt"
            ]
        },
        {
            "cell_type": "code",
            "execution_count": 2,
            "id": "1792b10a",
            "metadata": {},
            "outputs": [],
            "source": [
                "import os\n",
                "from dotenv import load_dotenv\n",
                "load_dotenv()\n",
                "\n",
                "AZURE_DEPLOYMENT_NAME= os.environ['AZURE_DEPLOYMENT_NAME']\n",
                "os.environ[\"OPENAI_API_TYPE\"] = \"azure\"\n",
                "os.environ[\"OPENAI_API_KEY\"] = os.environ['AZURE_OPEN_API_KEY']\n",
                "os.environ[\"OPENAI_API_BASE\"] = os.environ['AZURE_API_BASE']\n",
                "os.environ[\"OPENAI_VERSION\"] = \"2023-03-15-preview\"   \n",
                "    "
            ]
        },
        {
            "cell_type": "code",
            "execution_count": 4,
            "id": "30c4c0df",
            "metadata": {},
            "outputs": [],
            "source": [
                "\n",
                "from langchain.chat_models import ChatOpenAI\n",
                "from langchain import PromptTemplate, LLMChain\n",
                "\n",
                "from langchain.prompts.chat import (\n",
                "    ChatPromptTemplate,\n",
                "    SystemMessagePromptTemplate,\n",
                "    AIMessagePromptTemplate,\n",
                "    HumanMessagePromptTemplate,\n",
                ")\n",
                "\n",
                "from langchain.schema import (\n",
                "    AIMessage,\n",
                "    HumanMessage,\n",
                "    SystemMessage\n",
                ")\n",
                "\n",
                "chat = ChatOpenAI(temperature=0)\n",
                "chat([HumanMessage(content=\"これを英語から日本語に翻訳してください. I love programming.\")])"
            ]
        }
    ],
    "metadata": {
        "kernelspec": {
            "display_name": "Python 3 (ipykernel)",
            "language": "python",
            "name": "python3"
        },
        "language_info": {
            "codemirror_mode": {
                "name": "ipython",
                "version": 3
            },
            "file_extension": ".py",
            "mimetype": "text/x-python",
            "name": "python",
            "nbconvert_exporter": "python",
            "pygments_lexer": "ipython3",
            "version": "3.10.6"
        }
    },
    "nbformat": 4,
    "nbformat_minor": 5
}
