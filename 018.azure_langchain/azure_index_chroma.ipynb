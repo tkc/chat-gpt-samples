{
    "cells": [
        {
            "attachments": {},
            "cell_type": "markdown",
            "id": "d5f777c3",
            "metadata": {},
            "source": [
                "## Index"
            ]
        },
        {
            "cell_type": "code",
            "execution_count": 1,
            "id": "ab65b9ae",
            "metadata": {},
            "outputs": [
                {
                    "name": "stdout",
                    "output_type": "stream",
                    "text": [
                        "Requirement already satisfied: openai in /Users/takeshiiijima/opt/anaconda3/lib/python3.9/site-packages (from -r requirements.txt (line 1)) (0.27.6)\n",
                        "Requirement already satisfied: langchain==0.0.146 in /Users/takeshiiijima/opt/anaconda3/lib/python3.9/site-packages (from -r requirements.txt (line 2)) (0.0.146)\n",
                        "Requirement already satisfied: tiktoken in /Users/takeshiiijima/opt/anaconda3/lib/python3.9/site-packages (from -r requirements.txt (line 3)) (0.3.3)\n",
                        "Requirement already satisfied: chromadb==0.3.21 in /Users/takeshiiijima/opt/anaconda3/lib/python3.9/site-packages (from -r requirements.txt (line 4)) (0.3.21)\n",
                        "Requirement already satisfied: wikipedia in /Users/takeshiiijima/opt/anaconda3/lib/python3.9/site-packages (from -r requirements.txt (line 5)) (1.4.0)\n",
                        "Requirement already satisfied: faiss-cpu in /Users/takeshiiijima/opt/anaconda3/lib/python3.9/site-packages (from -r requirements.txt (line 6)) (1.7.4)\n",
                        "Requirement already satisfied: deeplake in /Users/takeshiiijima/opt/anaconda3/lib/python3.9/site-packages (from -r requirements.txt (line 7)) (3.4.0)\n",
                        "Requirement already satisfied: PyYAML>=5.4.1 in /Users/takeshiiijima/opt/anaconda3/lib/python3.9/site-packages (from langchain==0.0.146->-r requirements.txt (line 2)) (6.0)\n",
                        "Requirement already satisfied: SQLAlchemy<2,>=1 in /Users/takeshiiijima/opt/anaconda3/lib/python3.9/site-packages (from langchain==0.0.146->-r requirements.txt (line 2)) (1.4.22)\n",
                        "Requirement already satisfied: aiohttp<4.0.0,>=3.8.3 in /Users/takeshiiijima/opt/anaconda3/lib/python3.9/site-packages (from langchain==0.0.146->-r requirements.txt (line 2)) (3.8.4)\n",
                        "Requirement already satisfied: async-timeout<5.0.0,>=4.0.0 in /Users/takeshiiijima/opt/anaconda3/lib/python3.9/site-packages (from langchain==0.0.146->-r requirements.txt (line 2)) (4.0.2)\n",
                        "Requirement already satisfied: dataclasses-json<0.6.0,>=0.5.7 in /Users/takeshiiijima/opt/anaconda3/lib/python3.9/site-packages (from langchain==0.0.146->-r requirements.txt (line 2)) (0.5.7)\n",
                        "Requirement already satisfied: numexpr<3.0.0,>=2.8.4 in /Users/takeshiiijima/opt/anaconda3/lib/python3.9/site-packages (from langchain==0.0.146->-r requirements.txt (line 2)) (2.8.4)\n",
                        "Requirement already satisfied: numpy<2,>=1 in /Users/takeshiiijima/opt/anaconda3/lib/python3.9/site-packages (from langchain==0.0.146->-r requirements.txt (line 2)) (1.22.4)\n",
                        "Requirement already satisfied: openapi-schema-pydantic<2.0,>=1.2 in /Users/takeshiiijima/opt/anaconda3/lib/python3.9/site-packages (from langchain==0.0.146->-r requirements.txt (line 2)) (1.2.4)\n",
                        "Requirement already satisfied: pydantic<2,>=1 in /Users/takeshiiijima/opt/anaconda3/lib/python3.9/site-packages (from langchain==0.0.146->-r requirements.txt (line 2)) (1.10.6)\n",
                        "Requirement already satisfied: requests<3,>=2 in /Users/takeshiiijima/opt/anaconda3/lib/python3.9/site-packages (from langchain==0.0.146->-r requirements.txt (line 2)) (2.30.0)\n",
                        "Requirement already satisfied: tenacity<9.0.0,>=8.1.0 in /Users/takeshiiijima/opt/anaconda3/lib/python3.9/site-packages (from langchain==0.0.146->-r requirements.txt (line 2)) (8.2.2)\n",
                        "Requirement already satisfied: tqdm>=4.48.0 in /Users/takeshiiijima/opt/anaconda3/lib/python3.9/site-packages (from langchain==0.0.146->-r requirements.txt (line 2)) (4.62.3)\n",
                        "Requirement already satisfied: pandas>=1.3 in /Users/takeshiiijima/opt/anaconda3/lib/python3.9/site-packages (from chromadb==0.3.21->-r requirements.txt (line 4)) (1.3.4)\n",
                        "Requirement already satisfied: hnswlib>=0.7 in /Users/takeshiiijima/opt/anaconda3/lib/python3.9/site-packages (from chromadb==0.3.21->-r requirements.txt (line 4)) (0.7.0)\n",
                        "Requirement already satisfied: clickhouse-connect>=0.5.7 in /Users/takeshiiijima/opt/anaconda3/lib/python3.9/site-packages (from chromadb==0.3.21->-r requirements.txt (line 4)) (0.5.23)\n",
                        "Requirement already satisfied: sentence-transformers>=2.2.2 in /Users/takeshiiijima/opt/anaconda3/lib/python3.9/site-packages (from chromadb==0.3.21->-r requirements.txt (line 4)) (2.2.2)\n",
                        "Requirement already satisfied: duckdb>=0.7.1 in /Users/takeshiiijima/opt/anaconda3/lib/python3.9/site-packages (from chromadb==0.3.21->-r requirements.txt (line 4)) (0.7.1)\n",
                        "Requirement already satisfied: fastapi>=0.85.1 in /Users/takeshiiijima/opt/anaconda3/lib/python3.9/site-packages (from chromadb==0.3.21->-r requirements.txt (line 4)) (0.95.1)\n",
                        "Requirement already satisfied: uvicorn[standard]>=0.18.3 in /Users/takeshiiijima/opt/anaconda3/lib/python3.9/site-packages (from chromadb==0.3.21->-r requirements.txt (line 4)) (0.22.0)\n",
                        "Requirement already satisfied: posthog>=2.4.0 in /Users/takeshiiijima/opt/anaconda3/lib/python3.9/site-packages (from chromadb==0.3.21->-r requirements.txt (line 4)) (3.0.1)\n",
                        "Requirement already satisfied: regex>=2022.1.18 in /Users/takeshiiijima/opt/anaconda3/lib/python3.9/site-packages (from tiktoken->-r requirements.txt (line 3)) (2022.10.31)\n",
                        "Requirement already satisfied: beautifulsoup4 in /Users/takeshiiijima/opt/anaconda3/lib/python3.9/site-packages (from wikipedia->-r requirements.txt (line 5)) (4.10.0)\n",
                        "Requirement already satisfied: pillow in /Users/takeshiiijima/opt/anaconda3/lib/python3.9/site-packages (from deeplake->-r requirements.txt (line 7)) (8.4.0)\n",
                        "Requirement already satisfied: boto3 in /Users/takeshiiijima/opt/anaconda3/lib/python3.9/site-packages (from deeplake->-r requirements.txt (line 7)) (1.26.76)\n",
                        "Requirement already satisfied: click in /Users/takeshiiijima/opt/anaconda3/lib/python3.9/site-packages (from deeplake->-r requirements.txt (line 7)) (8.0.3)\n",
                        "Requirement already satisfied: pathos in /Users/takeshiiijima/opt/anaconda3/lib/python3.9/site-packages (from deeplake->-r requirements.txt (line 7)) (0.3.0)\n",
                        "Requirement already satisfied: humbug>=0.3.1 in /Users/takeshiiijima/opt/anaconda3/lib/python3.9/site-packages (from deeplake->-r requirements.txt (line 7)) (0.3.1)\n",
                        "Requirement already satisfied: numcodecs in /Users/takeshiiijima/opt/anaconda3/lib/python3.9/site-packages (from deeplake->-r requirements.txt (line 7)) (0.11.0)\n",
                        "Requirement already satisfied: pyjwt in /Users/takeshiiijima/opt/anaconda3/lib/python3.9/site-packages (from deeplake->-r requirements.txt (line 7)) (2.1.0)\n",
                        "Requirement already satisfied: aioboto3>=10.4.0 in /Users/takeshiiijima/opt/anaconda3/lib/python3.9/site-packages (from deeplake->-r requirements.txt (line 7)) (11.1.0)\n",
                        "Requirement already satisfied: nest-asyncio in /Users/takeshiiijima/opt/anaconda3/lib/python3.9/site-packages (from deeplake->-r requirements.txt (line 7)) (1.5.1)\n",
                        "Requirement already satisfied: aiobotocore[boto3]==2.5.0 in /Users/takeshiiijima/opt/anaconda3/lib/python3.9/site-packages (from aioboto3>=10.4.0->deeplake->-r requirements.txt (line 7)) (2.5.0)\n",
                        "Requirement already satisfied: botocore<1.29.77,>=1.29.76 in /Users/takeshiiijima/opt/anaconda3/lib/python3.9/site-packages (from aiobotocore[boto3]==2.5.0->aioboto3>=10.4.0->deeplake->-r requirements.txt (line 7)) (1.29.76)\n",
                        "Requirement already satisfied: wrapt>=1.10.10 in /Users/takeshiiijima/opt/anaconda3/lib/python3.9/site-packages (from aiobotocore[boto3]==2.5.0->aioboto3>=10.4.0->deeplake->-r requirements.txt (line 7)) (1.14.1)\n",
                        "Requirement already satisfied: aioitertools>=0.5.1 in /Users/takeshiiijima/opt/anaconda3/lib/python3.9/site-packages (from aiobotocore[boto3]==2.5.0->aioboto3>=10.4.0->deeplake->-r requirements.txt (line 7)) (0.11.0)\n",
                        "Requirement already satisfied: attrs>=17.3.0 in /Users/takeshiiijima/opt/anaconda3/lib/python3.9/site-packages (from aiohttp<4.0.0,>=3.8.3->langchain==0.0.146->-r requirements.txt (line 2)) (21.2.0)\n",
                        "Requirement already satisfied: charset-normalizer<4.0,>=2.0 in /Users/takeshiiijima/opt/anaconda3/lib/python3.9/site-packages (from aiohttp<4.0.0,>=3.8.3->langchain==0.0.146->-r requirements.txt (line 2)) (2.0.4)\n",
                        "Requirement already satisfied: multidict<7.0,>=4.5 in /Users/takeshiiijima/opt/anaconda3/lib/python3.9/site-packages (from aiohttp<4.0.0,>=3.8.3->langchain==0.0.146->-r requirements.txt (line 2)) (6.0.4)\n",
                        "Requirement already satisfied: yarl<2.0,>=1.0 in /Users/takeshiiijima/opt/anaconda3/lib/python3.9/site-packages (from aiohttp<4.0.0,>=3.8.3->langchain==0.0.146->-r requirements.txt (line 2)) (1.8.2)\n",
                        "Requirement already satisfied: frozenlist>=1.1.1 in /Users/takeshiiijima/opt/anaconda3/lib/python3.9/site-packages (from aiohttp<4.0.0,>=3.8.3->langchain==0.0.146->-r requirements.txt (line 2)) (1.3.3)\n",
                        "Requirement already satisfied: aiosignal>=1.1.2 in /Users/takeshiiijima/opt/anaconda3/lib/python3.9/site-packages (from aiohttp<4.0.0,>=3.8.3->langchain==0.0.146->-r requirements.txt (line 2)) (1.3.1)\n",
                        "Requirement already satisfied: jmespath<2.0.0,>=0.7.1 in /Users/takeshiiijima/opt/anaconda3/lib/python3.9/site-packages (from boto3->deeplake->-r requirements.txt (line 7)) (1.0.1)\n",
                        "Requirement already satisfied: s3transfer<0.7.0,>=0.6.0 in /Users/takeshiiijima/opt/anaconda3/lib/python3.9/site-packages (from boto3->deeplake->-r requirements.txt (line 7)) (0.6.1)\n",
                        "Requirement already satisfied: certifi in /Users/takeshiiijima/opt/anaconda3/lib/python3.9/site-packages (from clickhouse-connect>=0.5.7->chromadb==0.3.21->-r requirements.txt (line 4)) (2022.12.7)\n",
                        "Requirement already satisfied: urllib3>=1.26 in /Users/takeshiiijima/opt/anaconda3/lib/python3.9/site-packages (from clickhouse-connect>=0.5.7->chromadb==0.3.21->-r requirements.txt (line 4)) (1.26.7)\n",
                        "Requirement already satisfied: pytz in /Users/takeshiiijima/opt/anaconda3/lib/python3.9/site-packages (from clickhouse-connect>=0.5.7->chromadb==0.3.21->-r requirements.txt (line 4)) (2021.3)\n",
                        "Requirement already satisfied: zstandard in /Users/takeshiiijima/opt/anaconda3/lib/python3.9/site-packages (from clickhouse-connect>=0.5.7->chromadb==0.3.21->-r requirements.txt (line 4)) (0.21.0)\n",
                        "Requirement already satisfied: lz4 in /Users/takeshiiijima/opt/anaconda3/lib/python3.9/site-packages (from clickhouse-connect>=0.5.7->chromadb==0.3.21->-r requirements.txt (line 4)) (4.3.2)\n",
                        "Requirement already satisfied: marshmallow<4.0.0,>=3.3.0 in /Users/takeshiiijima/opt/anaconda3/lib/python3.9/site-packages (from dataclasses-json<0.6.0,>=0.5.7->langchain==0.0.146->-r requirements.txt (line 2)) (3.19.0)\n",
                        "Requirement already satisfied: marshmallow-enum<2.0.0,>=1.5.1 in /Users/takeshiiijima/opt/anaconda3/lib/python3.9/site-packages (from dataclasses-json<0.6.0,>=0.5.7->langchain==0.0.146->-r requirements.txt (line 2)) (1.5.1)\n",
                        "Requirement already satisfied: typing-inspect>=0.4.0 in /Users/takeshiiijima/opt/anaconda3/lib/python3.9/site-packages (from dataclasses-json<0.6.0,>=0.5.7->langchain==0.0.146->-r requirements.txt (line 2)) (0.8.0)\n",
                        "Requirement already satisfied: starlette<0.27.0,>=0.26.1 in /Users/takeshiiijima/opt/anaconda3/lib/python3.9/site-packages (from fastapi>=0.85.1->chromadb==0.3.21->-r requirements.txt (line 4)) (0.26.1)\n",
                        "Requirement already satisfied: python-dateutil>=2.7.3 in /Users/takeshiiijima/opt/anaconda3/lib/python3.9/site-packages (from pandas>=1.3->chromadb==0.3.21->-r requirements.txt (line 4)) (2.8.2)\n",
                        "Requirement already satisfied: six>=1.5 in /Users/takeshiiijima/opt/anaconda3/lib/python3.9/site-packages (from posthog>=2.4.0->chromadb==0.3.21->-r requirements.txt (line 4)) (1.16.0)\n",
                        "Requirement already satisfied: monotonic>=1.5 in /Users/takeshiiijima/opt/anaconda3/lib/python3.9/site-packages (from posthog>=2.4.0->chromadb==0.3.21->-r requirements.txt (line 4)) (1.6)\n",
                        "Requirement already satisfied: backoff>=1.10.0 in /Users/takeshiiijima/opt/anaconda3/lib/python3.9/site-packages (from posthog>=2.4.0->chromadb==0.3.21->-r requirements.txt (line 4)) (2.2.1)\n",
                        "Requirement already satisfied: typing-extensions>=4.2.0 in /Users/takeshiiijima/opt/anaconda3/lib/python3.9/site-packages (from pydantic<2,>=1->langchain==0.0.146->-r requirements.txt (line 2)) (4.5.0)\n",
                        "Requirement already satisfied: idna<4,>=2.5 in /Users/takeshiiijima/opt/anaconda3/lib/python3.9/site-packages (from requests<3,>=2->langchain==0.0.146->-r requirements.txt (line 2)) (3.2)\n",
                        "Requirement already satisfied: transformers<5.0.0,>=4.6.0 in /Users/takeshiiijima/opt/anaconda3/lib/python3.9/site-packages (from sentence-transformers>=2.2.2->chromadb==0.3.21->-r requirements.txt (line 4)) (4.28.1)\n",
                        "Requirement already satisfied: torch>=1.6.0 in /Users/takeshiiijima/opt/anaconda3/lib/python3.9/site-packages (from sentence-transformers>=2.2.2->chromadb==0.3.21->-r requirements.txt (line 4)) (2.0.0)\n",
                        "Requirement already satisfied: torchvision in /Users/takeshiiijima/opt/anaconda3/lib/python3.9/site-packages (from sentence-transformers>=2.2.2->chromadb==0.3.21->-r requirements.txt (line 4)) (0.15.1)\n",
                        "Requirement already satisfied: scikit-learn in /Users/takeshiiijima/opt/anaconda3/lib/python3.9/site-packages (from sentence-transformers>=2.2.2->chromadb==0.3.21->-r requirements.txt (line 4)) (0.24.2)\n",
                        "Requirement already satisfied: scipy in /Users/takeshiiijima/opt/anaconda3/lib/python3.9/site-packages (from sentence-transformers>=2.2.2->chromadb==0.3.21->-r requirements.txt (line 4)) (1.7.1)\n",
                        "Requirement already satisfied: nltk in /Users/takeshiiijima/opt/anaconda3/lib/python3.9/site-packages (from sentence-transformers>=2.2.2->chromadb==0.3.21->-r requirements.txt (line 4)) (3.6.5)\n",
                        "Requirement already satisfied: sentencepiece in /Users/takeshiiijima/opt/anaconda3/lib/python3.9/site-packages (from sentence-transformers>=2.2.2->chromadb==0.3.21->-r requirements.txt (line 4)) (0.1.99)\n",
                        "Requirement already satisfied: huggingface-hub>=0.4.0 in /Users/takeshiiijima/opt/anaconda3/lib/python3.9/site-packages (from sentence-transformers>=2.2.2->chromadb==0.3.21->-r requirements.txt (line 4)) (0.13.4)\n",
                        "Requirement already satisfied: greenlet!=0.4.17 in /Users/takeshiiijima/opt/anaconda3/lib/python3.9/site-packages (from SQLAlchemy<2,>=1->langchain==0.0.146->-r requirements.txt (line 2)) (1.1.1)\n",
                        "Requirement already satisfied: h11>=0.8 in /Users/takeshiiijima/opt/anaconda3/lib/python3.9/site-packages (from uvicorn[standard]>=0.18.3->chromadb==0.3.21->-r requirements.txt (line 4)) (0.14.0)\n",
                        "Requirement already satisfied: httptools>=0.5.0 in /Users/takeshiiijima/opt/anaconda3/lib/python3.9/site-packages (from uvicorn[standard]>=0.18.3->chromadb==0.3.21->-r requirements.txt (line 4)) (0.5.0)\n",
                        "Requirement already satisfied: python-dotenv>=0.13 in /Users/takeshiiijima/opt/anaconda3/lib/python3.9/site-packages (from uvicorn[standard]>=0.18.3->chromadb==0.3.21->-r requirements.txt (line 4)) (1.0.0)\n",
                        "Requirement already satisfied: uvloop!=0.15.0,!=0.15.1,>=0.14.0 in /Users/takeshiiijima/opt/anaconda3/lib/python3.9/site-packages (from uvicorn[standard]>=0.18.3->chromadb==0.3.21->-r requirements.txt (line 4)) (0.17.0)\n",
                        "Requirement already satisfied: watchfiles>=0.13 in /Users/takeshiiijima/opt/anaconda3/lib/python3.9/site-packages (from uvicorn[standard]>=0.18.3->chromadb==0.3.21->-r requirements.txt (line 4)) (0.19.0)\n",
                        "Requirement already satisfied: websockets>=10.4 in /Users/takeshiiijima/opt/anaconda3/lib/python3.9/site-packages (from uvicorn[standard]>=0.18.3->chromadb==0.3.21->-r requirements.txt (line 4)) (10.4)\n",
                        "Requirement already satisfied: soupsieve>1.2 in /Users/takeshiiijima/opt/anaconda3/lib/python3.9/site-packages (from beautifulsoup4->wikipedia->-r requirements.txt (line 5)) (2.2.1)\n",
                        "Requirement already satisfied: entrypoints in /Users/takeshiiijima/opt/anaconda3/lib/python3.9/site-packages (from numcodecs->deeplake->-r requirements.txt (line 7)) (0.3)\n",
                        "Requirement already satisfied: ppft>=1.7.6.6 in /Users/takeshiiijima/opt/anaconda3/lib/python3.9/site-packages (from pathos->deeplake->-r requirements.txt (line 7)) (1.7.6.6)\n",
                        "Requirement already satisfied: dill>=0.3.6 in /Users/takeshiiijima/opt/anaconda3/lib/python3.9/site-packages (from pathos->deeplake->-r requirements.txt (line 7)) (0.3.6)\n",
                        "Requirement already satisfied: pox>=0.3.2 in /Users/takeshiiijima/opt/anaconda3/lib/python3.9/site-packages (from pathos->deeplake->-r requirements.txt (line 7)) (0.3.2)\n",
                        "Requirement already satisfied: multiprocess>=0.70.14 in /Users/takeshiiijima/opt/anaconda3/lib/python3.9/site-packages (from pathos->deeplake->-r requirements.txt (line 7)) (0.70.14)\n",
                        "Requirement already satisfied: filelock in /Users/takeshiiijima/opt/anaconda3/lib/python3.9/site-packages (from huggingface-hub>=0.4.0->sentence-transformers>=2.2.2->chromadb==0.3.21->-r requirements.txt (line 4)) (3.3.1)\n",
                        "Requirement already satisfied: packaging>=20.9 in /Users/takeshiiijima/opt/anaconda3/lib/python3.9/site-packages (from huggingface-hub>=0.4.0->sentence-transformers>=2.2.2->chromadb==0.3.21->-r requirements.txt (line 4)) (21.0)\n",
                        "Requirement already satisfied: anyio<5,>=3.4.0 in /Users/takeshiiijima/opt/anaconda3/lib/python3.9/site-packages (from starlette<0.27.0,>=0.26.1->fastapi>=0.85.1->chromadb==0.3.21->-r requirements.txt (line 4)) (3.6.2)\n",
                        "Requirement already satisfied: sympy in /Users/takeshiiijima/opt/anaconda3/lib/python3.9/site-packages (from torch>=1.6.0->sentence-transformers>=2.2.2->chromadb==0.3.21->-r requirements.txt (line 4)) (1.9)\n",
                        "Requirement already satisfied: networkx in /Users/takeshiiijima/opt/anaconda3/lib/python3.9/site-packages (from torch>=1.6.0->sentence-transformers>=2.2.2->chromadb==0.3.21->-r requirements.txt (line 4)) (2.6.3)\n",
                        "Requirement already satisfied: jinja2 in /Users/takeshiiijima/opt/anaconda3/lib/python3.9/site-packages (from torch>=1.6.0->sentence-transformers>=2.2.2->chromadb==0.3.21->-r requirements.txt (line 4)) (2.11.3)\n",
                        "Requirement already satisfied: tokenizers!=0.11.3,<0.14,>=0.11.1 in /Users/takeshiiijima/opt/anaconda3/lib/python3.9/site-packages (from transformers<5.0.0,>=4.6.0->sentence-transformers>=2.2.2->chromadb==0.3.21->-r requirements.txt (line 4)) (0.13.3)\n",
                        "Requirement already satisfied: mypy-extensions>=0.3.0 in /Users/takeshiiijima/opt/anaconda3/lib/python3.9/site-packages (from typing-inspect>=0.4.0->dataclasses-json<0.6.0,>=0.5.7->langchain==0.0.146->-r requirements.txt (line 2)) (0.4.3)\n",
                        "Requirement already satisfied: joblib in /Users/takeshiiijima/opt/anaconda3/lib/python3.9/site-packages (from nltk->sentence-transformers>=2.2.2->chromadb==0.3.21->-r requirements.txt (line 4)) (1.1.0)\n",
                        "Requirement already satisfied: threadpoolctl>=2.0.0 in /Users/takeshiiijima/opt/anaconda3/lib/python3.9/site-packages (from scikit-learn->sentence-transformers>=2.2.2->chromadb==0.3.21->-r requirements.txt (line 4)) (2.2.0)\n",
                        "Requirement already satisfied: sniffio>=1.1 in /Users/takeshiiijima/opt/anaconda3/lib/python3.9/site-packages (from anyio<5,>=3.4.0->starlette<0.27.0,>=0.26.1->fastapi>=0.85.1->chromadb==0.3.21->-r requirements.txt (line 4)) (1.2.0)\n",
                        "Requirement already satisfied: pyparsing>=2.0.2 in /Users/takeshiiijima/opt/anaconda3/lib/python3.9/site-packages (from packaging>=20.9->huggingface-hub>=0.4.0->sentence-transformers>=2.2.2->chromadb==0.3.21->-r requirements.txt (line 4)) (3.0.4)\n",
                        "Requirement already satisfied: MarkupSafe>=0.23 in /Users/takeshiiijima/opt/anaconda3/lib/python3.9/site-packages (from jinja2->torch>=1.6.0->sentence-transformers>=2.2.2->chromadb==0.3.21->-r requirements.txt (line 4)) (1.1.1)\n",
                        "Requirement already satisfied: mpmath>=0.19 in /Users/takeshiiijima/opt/anaconda3/lib/python3.9/site-packages (from sympy->torch>=1.6.0->sentence-transformers>=2.2.2->chromadb==0.3.21->-r requirements.txt (line 4)) (1.2.1)\n",
                        "Note: you may need to restart the kernel to use updated packages.\n"
                    ]
                }
            ],
            "source": [
                "%pip install -r requirements.txt"
            ]
        },
        {
            "cell_type": "code",
            "execution_count": 2,
            "id": "1792b10a",
            "metadata": {},
            "outputs": [],
            "source": [
                "import os\n",
                "from dotenv import load_dotenv\n",
                "load_dotenv()\n",
                "\n",
                "AZURE_DEPLOYMENT_NAME= os.environ['AZURE_DEPLOYMENT_NAME']\n",
                "os.environ[\"OPENAI_API_TYPE\"] = \"azure\"\n",
                "os.environ[\"OPENAI_API_KEY\"] = os.environ['AZURE_OPEN_API_KEY']\n",
                "os.environ[\"OPENAI_API_BASE\"] = os.environ['AZURE_API_BASE']\n",
                "os.environ[\"OPENAI_VERSION\"] = \"2023-03-15-preview\"   \n",
                "    "
            ]
        },
        {
            "cell_type": "code",
            "execution_count": 2,
            "id": "30c4c0df",
            "metadata": {},
            "outputs": [],
            "source": [
                "import wikipedia\n",
                "wikipedia.set_lang(\"ja\")\n",
                "wp = wikipedia.page(\"こちら葛飾区亀有公園前派出所\")\n",
                "with open('./data/summary.txt', 'w', encoding='utf-8') as f:\n",
                "   f.write(wp.summary)  \n",
                "with open('./data/content.txt', 'w', encoding='utf-8') as f:\n",
                "   f.write(wp.content)"
            ]
        },
        {
            "cell_type": "code",
            "execution_count": 3,
            "id": "ca8bdaf0",
            "metadata": {},
            "outputs": [
                {
                    "name": "stderr",
                    "output_type": "stream",
                    "text": [
                        "Created a chunk of size 842, which is longer than the specified 300\n",
                        "Created a chunk of size 1694, which is longer than the specified 300\n",
                        "Created a chunk of size 1183, which is longer than the specified 300\n",
                        "Created a chunk of size 426, which is longer than the specified 300\n",
                        "Created a chunk of size 661, which is longer than the specified 300\n",
                        "Created a chunk of size 995, which is longer than the specified 300\n",
                        "Created a chunk of size 1030, which is longer than the specified 300\n",
                        "Created a chunk of size 415, which is longer than the specified 300\n",
                        "Created a chunk of size 1233, which is longer than the specified 300\n",
                        "Created a chunk of size 480, which is longer than the specified 300\n",
                        "Created a chunk of size 898, which is longer than the specified 300\n",
                        "Created a chunk of size 312, which is longer than the specified 300\n",
                        "Created a chunk of size 1829, which is longer than the specified 300\n",
                        "Created a chunk of size 310, which is longer than the specified 300\n",
                        "Created a chunk of size 774, which is longer than the specified 300\n",
                        "Created a chunk of size 737, which is longer than the specified 300\n",
                        "Created a chunk of size 542, which is longer than the specified 300\n",
                        "Created a chunk of size 649, which is longer than the specified 300\n",
                        "Created a chunk of size 463, which is longer than the specified 300\n"
                    ]
                },
                {
                    "data": {
                        "text/plain": [
                            "32"
                        ]
                    },
                    "execution_count": 3,
                    "metadata": {},
                    "output_type": "execute_result"
                }
            ],
            "source": [
                "from langchain.text_splitter import CharacterTextSplitter\n",
                "from langchain.embeddings import OpenAIEmbeddings\n",
                "from langchain.document_loaders import TextLoader\n",
                "from langchain.vectorstores import FAISS\n",
                "\n",
                "def pretty_print_docs(docs):\n",
                "    print(f\"\\n{'-' * 10}\\n\".join([f\"Document {i+1}:\\n\\n\" + d.page_content for i, d in enumerate(docs)]))\n",
                "\n",
                "documents = TextLoader('data/content.txt').load()\n",
                "text_splitter = CharacterTextSplitter(chunk_size=300, chunk_overlap=50)  \n",
                "texts = text_splitter.split_documents(documents)\n",
                "len(texts)\n"
            ]
        },
        {
            "cell_type": "code",
            "execution_count": 28,
            "id": "3716697d",
            "metadata": {},
            "outputs": [],
            "source": [
                "from langchain.document_loaders import TextLoader\n",
                "\n",
                "loader = TextLoader('data/content.txt', encoding='utf8')"
            ]
        },
        {
            "cell_type": "code",
            "execution_count": 29,
            "id": "4d7cf45e",
            "metadata": {},
            "outputs": [
                {
                    "name": "stderr",
                    "output_type": "stream",
                    "text": [
                        "Using embedded DuckDB without persistence: data will be transient\n"
                    ]
                },
                {
                    "name": "stdout",
                    "output_type": "stream",
                    "text": [
                        "////////////\n",
                        "200\n",
                        "////////////\n",
                        "200\n",
                        "////////////\n",
                        "200\n",
                        "////////////\n",
                        "200\n",
                        "////////////\n",
                        "200\n",
                        "////////////\n",
                        "200\n",
                        "////////////\n",
                        "200\n",
                        "////////////\n",
                        "200\n",
                        "////////////\n",
                        "200\n",
                        "////////////\n",
                        "200\n",
                        "////////////\n",
                        "200\n",
                        "////////////\n",
                        "200\n",
                        "////////////\n",
                        "200\n",
                        "////////////\n",
                        "200\n",
                        "////////////\n",
                        "200\n",
                        "////////////\n",
                        "200\n",
                        "////////////\n",
                        "200\n",
                        "////////////\n",
                        "200\n",
                        "////////////\n",
                        "200\n",
                        "////////////\n",
                        "200\n",
                        "////////////\n",
                        "200\n",
                        "////////////\n",
                        "200\n",
                        "////////////\n",
                        "200\n",
                        "////////////\n",
                        "200\n",
                        "////////////\n",
                        "200\n",
                        "////////////\n",
                        "200\n"
                    ]
                }
            ],
            "source": [
                "from langchain.indexes import VectorstoreIndexCreator\n",
                "\n",
                "vectorstore= VectorstoreIndexCreator()\n",
                "vectorstore.embedding = OpenAIEmbeddings(deployment=\"text-embedding-ada-002\",chunk_size=1)\n",
                "index = vectorstore.from_loaders([loader])"
            ]
        },
        {
            "cell_type": "code",
            "execution_count": 20,
            "id": "b5777cd9",
            "metadata": {},
            "outputs": [],
            "source": [
                "from langchain.chat_models import AzureChatOpenAI\n",
                "\n",
                "llm = AzureChatOpenAI(\n",
                "    client=None,\n",
                "    deployment_name=AZURE_DEPLOYMENT_NAME,\n",
                "    openai_api_base=os.environ['AZURE_API_BASE'],\n",
                "    openai_api_version=\"2023-03-15-preview\",\n",
                "    openai_api_key=os.environ['AZURE_OPEN_API_KEY'],\n",
                "    temperature=0,\n",
                "    request_timeout=180,\n",
                ") \n"
            ]
        },
        {
            "cell_type": "code",
            "execution_count": 25,
            "id": "3aba87a2",
            "metadata": {},
            "outputs": [
                {
                    "name": "stdout",
                    "output_type": "stream",
                    "text": [
                        "////////////\n",
                        "200\n",
                        "////////////\n",
                        "200\n"
                    ]
                },
                {
                    "data": {
                        "text/plain": [
                            "'両津勘吉の職業は警察官で、階級は巡査長です。'"
                        ]
                    },
                    "execution_count": 25,
                    "metadata": {},
                    "output_type": "execute_result"
                }
            ],
            "source": [
                "query = \"両津の職業は？\"\n",
                "index.query(question=query,llm=llm)"
            ]
        },
        {
            "cell_type": "code",
            "execution_count": 27,
            "id": "c0417a04",
            "metadata": {},
            "outputs": [
                {
                    "name": "stdout",
                    "output_type": "stream",
                    "text": [
                        "////////////\n",
                        "200\n",
                        "////////////\n",
                        "200\n"
                    ]
                },
                {
                    "data": {
                        "text/plain": [
                            "{'question': '中川の職業は？', 'answer': '中川の職業は警官。\\n', 'sources': 'data/content.txt'}"
                        ]
                    },
                    "execution_count": 27,
                    "metadata": {},
                    "output_type": "execute_result"
                }
            ],
            "source": [
                "query = \"中川の職業は？\"\n",
                "index.query_with_sources(query,llm=llm)"
            ]
        },
        {
            "cell_type": "code",
            "execution_count": 23,
            "id": "86d0665e",
            "metadata": {},
            "outputs": [
                {
                    "data": {
                        "text/plain": [
                            "<langchain.vectorstores.chroma.Chroma at 0x14067f310>"
                        ]
                    },
                    "execution_count": 23,
                    "metadata": {},
                    "output_type": "execute_result"
                }
            ],
            "source": [
                "index.vectorstore"
            ]
        },
        {
            "cell_type": "code",
            "execution_count": 24,
            "id": "2a183b27",
            "metadata": {},
            "outputs": [
                {
                    "data": {
                        "text/plain": [
                            "VectorStoreRetriever(vectorstore=<langchain.vectorstores.chroma.Chroma object at 0x14067f310>, search_type='similarity', search_kwargs={})"
                        ]
                    },
                    "execution_count": 24,
                    "metadata": {},
                    "output_type": "execute_result"
                }
            ],
            "source": [
                "index.vectorstore.as_retriever()\n"
            ]
        },
        {
            "attachments": {},
            "cell_type": "markdown",
            "id": "afcc9282",
            "metadata": {},
            "source": [
                "## Use Chroma"
            ]
        },
        {
            "cell_type": "code",
            "execution_count": 3,
            "id": "eb5820e3",
            "metadata": {},
            "outputs": [],
            "source": [
                "from langchain.document_loaders import TextLoader\n",
                "loader = TextLoader('data/content.txt', encoding='utf8')\n"
            ]
        },
        {
            "cell_type": "code",
            "execution_count": 4,
            "id": "fe2103b9",
            "metadata": {},
            "outputs": [],
            "source": [
                "documents = loader.load()\n"
            ]
        },
        {
            "cell_type": "code",
            "execution_count": 6,
            "id": "e94acbee",
            "metadata": {},
            "outputs": [
                {
                    "name": "stderr",
                    "output_type": "stream",
                    "text": [
                        "Created a chunk of size 1694, which is longer than the specified 1000\n",
                        "Created a chunk of size 1183, which is longer than the specified 1000\n",
                        "Created a chunk of size 1030, which is longer than the specified 1000\n",
                        "Created a chunk of size 1233, which is longer than the specified 1000\n",
                        "Created a chunk of size 1829, which is longer than the specified 1000\n"
                    ]
                }
            ],
            "source": [
                "from langchain.text_splitter import CharacterTextSplitter\n",
                "text_splitter = CharacterTextSplitter(chunk_size=1000, chunk_overlap=0)\n",
                "texts = text_splitter.split_documents(documents)\n"
            ]
        },
        {
            "cell_type": "code",
            "execution_count": 10,
            "id": "f3cf78b3",
            "metadata": {},
            "outputs": [],
            "source": [
                "from langchain.embeddings import OpenAIEmbeddings\n",
                "embeddings = OpenAIEmbeddings(deployment=\"text-embedding-ada-002\",chunk_size=1)\n",
                "\n"
            ]
        },
        {
            "cell_type": "code",
            "execution_count": 33,
            "id": "2d82b45b",
            "metadata": {},
            "outputs": [
                {
                    "name": "stderr",
                    "output_type": "stream",
                    "text": [
                        "Using embedded DuckDB with persistence: data will be stored in: ./db\n"
                    ]
                }
            ],
            "source": [
                "import chromadb\n",
                "from langchain.vectorstores import Chroma\n",
                "\n",
                "DB_DIR = os.path.join(\"./\", \"db\")\n",
                "\n",
                "client_settings = chromadb.config.Settings(\n",
                "        chroma_db_impl=\"duckdb+parquet\",\n",
                "        persist_directory=DB_DIR,\n",
                "        anonymized_telemetry=False\n",
                "    )\n",
                "\n",
                "vectorstore = Chroma(\n",
                "        collection_name=\"langchain_store\",\n",
                "        embedding_function=embeddings,\n",
                "        client_settings=client_settings,\n",
                "        persist_directory=DB_DIR,\n",
                "    )"
            ]
        },
        {
            "cell_type": "code",
            "execution_count": 34,
            "id": "844e279c",
            "metadata": {},
            "outputs": [
                {
                    "name": "stderr",
                    "output_type": "stream",
                    "text": [
                        "Using embedded DuckDB without persistence: data will be transient\n"
                    ]
                },
                {
                    "name": "stdout",
                    "output_type": "stream",
                    "text": [
                        "////////////\n",
                        "200\n",
                        "////////////\n",
                        "200\n",
                        "////////////\n",
                        "200\n"
                    ]
                },
                {
                    "name": "stderr",
                    "output_type": "stream",
                    "text": [
                        "Retrying langchain.embeddings.openai.embed_with_retry.<locals>._embed_with_retry in 4.0 seconds as it raised RateLimitError: Requests to the Get a vector representation of a given input that can be easily consumed by machine learning models and algorithms. Operation under Azure OpenAI API version 2023-03-15-preview have exceeded call rate limit of your current OpenAI S0 pricing tier. Please retry after 1 second. Please go here: https://aka.ms/oai/quotaincrease if you would like to further increase the default rate limit..\n"
                    ]
                },
                {
                    "name": "stdout",
                    "output_type": "stream",
                    "text": [
                        "////////////\n",
                        "200\n",
                        "////////////\n",
                        "429\n",
                        "////////////\n",
                        "200\n",
                        "////////////\n",
                        "200\n",
                        "////////////\n",
                        "200\n",
                        "////////////\n",
                        "200\n",
                        "////////////\n",
                        "200\n",
                        "////////////\n",
                        "200\n",
                        "////////////\n",
                        "200\n",
                        "////////////\n",
                        "200\n",
                        "////////////\n",
                        "200\n",
                        "////////////\n",
                        "200\n",
                        "////////////\n",
                        "200\n",
                        "////////////\n",
                        "200\n",
                        "////////////\n",
                        "200\n",
                        "////////////\n",
                        "200\n",
                        "////////////\n",
                        "200\n",
                        "////////////\n",
                        "200\n",
                        "////////////\n",
                        "200\n"
                    ]
                }
            ],
            "source": [
                "from langchain.vectorstores import Chroma\n",
                "db = vectorstore.from_documents(texts, embeddings)\n"
            ]
        },
        {
            "cell_type": "code",
            "execution_count": 36,
            "id": "2e5db62c",
            "metadata": {},
            "outputs": [],
            "source": [
                "retriever = db.as_retriever()\n"
            ]
        },
        {
            "cell_type": "code",
            "execution_count": 37,
            "id": "0872ea81",
            "metadata": {},
            "outputs": [],
            "source": [
                "from langchain.chains import RetrievalQA\n",
                "from langchain.chat_models import AzureChatOpenAI\n",
                "\n",
                "llm = AzureChatOpenAI(\n",
                "    client=None,\n",
                "    deployment_name=AZURE_DEPLOYMENT_NAME,\n",
                "    openai_api_base=os.environ['AZURE_API_BASE'],\n",
                "    openai_api_version=\"2023-03-15-preview\",\n",
                "    openai_api_key=os.environ['AZURE_OPEN_API_KEY'],\n",
                "    temperature=0,\n",
                "    request_timeout=180,\n",
                ") \n",
                "\n",
                "qa = RetrievalQA.from_chain_type(llm=llm, chain_type=\"stuff\", retriever=retriever)\n"
            ]
        },
        {
            "cell_type": "code",
            "execution_count": 38,
            "id": "88fe9ebf",
            "metadata": {},
            "outputs": [
                {
                    "name": "stderr",
                    "output_type": "stream",
                    "text": [
                        "Retrying langchain.embeddings.openai.embed_with_retry.<locals>._embed_with_retry in 4.0 seconds as it raised RateLimitError: Requests to the Get a vector representation of a given input that can be easily consumed by machine learning models and algorithms. Operation under Azure OpenAI API version 2023-03-15-preview have exceeded call rate limit of your current OpenAI S0 pricing tier. Please retry after 1 second. Please go here: https://aka.ms/oai/quotaincrease if you would like to further increase the default rate limit..\n"
                    ]
                },
                {
                    "name": "stdout",
                    "output_type": "stream",
                    "text": [
                        "////////////\n",
                        "429\n",
                        "////////////\n",
                        "200\n",
                        "////////////\n",
                        "200\n"
                    ]
                },
                {
                    "data": {
                        "text/plain": [
                            "'両津勘吉の職業は警察官で、階級は巡査長です。'"
                        ]
                    },
                    "execution_count": 38,
                    "metadata": {},
                    "output_type": "execute_result"
                }
            ],
            "source": [
                "query = \"両津の職業は？\"\n",
                "qa.run(query)\n"
            ]
        },
        {
            "cell_type": "code",
            "execution_count": 39,
            "id": "78eeac01",
            "metadata": {},
            "outputs": [
                {
                    "name": "stdout",
                    "output_type": "stream",
                    "text": [
                        "////////////\n",
                        "200\n",
                        "////////////\n",
                        "200\n"
                    ]
                },
                {
                    "data": {
                        "text/plain": [
                            "'文章中に中川の年齢や年練に関する情報は記載されていません。申し訳ありませんが、回答することができません。'"
                        ]
                    },
                    "execution_count": 39,
                    "metadata": {},
                    "output_type": "execute_result"
                }
            ],
            "source": [
                "query = \"中川の年練は？\"\n",
                "qa.run(query)\n"
            ]
        },
        {
            "cell_type": "code",
            "execution_count": 40,
            "id": "e080c348",
            "metadata": {},
            "outputs": [
                {
                    "name": "stdout",
                    "output_type": "stream",
                    "text": [
                        "////////////\n",
                        "200\n",
                        "////////////\n",
                        "200\n"
                    ]
                },
                {
                    "data": {
                        "text/plain": [
                            "'Web3は、分散型アプリケーション（DApps）やブロックチェーン技術を活用したWebの次世代バージョンです。Web3は、中央集権的なインターネットの問題点を解決するために開発されました。Web3は、ユーザーが自分自身のデータを管理し、プラットフォームや企業に依存することなく、自分自身のデータを所有することができるようになります。Web3は、分散型アプリケーション（DApps）やブロックチェーン技術を活用して、ユーザーが自分自身のデータを管理し、プラットフォームや企業に依存することなく、自分自身のデータを所有することができるようになります。Web3は、分散型アプリケーション（DApps）やブロックチェーン技術を活用して、ユーザーが自分自身のデータを管理し、プラットフォームや企業に依存することなく、自分自身のデータを所有することができるようになります。'"
                        ]
                    },
                    "execution_count": 40,
                    "metadata": {},
                    "output_type": "execute_result"
                }
            ],
            "source": [
                "query = \"web3とはなんですか？\"\n",
                "qa.run(query)\n"
            ]
        },
        {
            "cell_type": "code",
            "execution_count": 43,
            "id": "1aaede84",
            "metadata": {},
            "outputs": [
                {
                    "name": "stderr",
                    "output_type": "stream",
                    "text": [
                        "Using embedded DuckDB with persistence: data will be stored in: ./db\n"
                    ]
                }
            ],
            "source": [
                "vectorstore = Chroma(\n",
                "        collection_name=\"langchain_store\",\n",
                "        embedding_function=embeddings,\n",
                "        client_settings=client_settings,\n",
                "        persist_directory=DB_DIR,\n",
                "    )"
            ]
        },
        {
            "cell_type": "code",
            "execution_count": 45,
            "id": "9142ff06",
            "metadata": {},
            "outputs": [],
            "source": [
                "# import json\n",
                "# from fastapi.encoders import jsonable_encoder\n",
                "\n",
                "# result = vectorstore.similarity_search_with_score(query=\"who is FREDERICK?\", k=4)\n",
                "# jsonable_result = jsonable_encoder(result)\n",
                "# print(json.dumps(jsonable_result, indent=2))"
            ]
        },
        {
            "cell_type": "code",
            "execution_count": null,
            "id": "8adda45a",
            "metadata": {},
            "outputs": [],
            "source": [
                "# import json\n",
                "# from fastapi.encoders import jsonable_encoder\n",
                "\n",
                "# result = vectorstore.similarity_search_with_score(query=\"who is FREDERICK?\", k=4)\n",
                "# jsonable_result = jsonable_encoder(result)\n",
                "# print(json.dumps(jsonable_result, indent=2))"
            ]
        }
    ],
    "metadata": {
        "kernelspec": {
            "display_name": "Python 3 (ipykernel)",
            "language": "python",
            "name": "python3"
        },
        "language_info": {
            "codemirror_mode": {
                "name": "ipython",
                "version": 3
            },
            "file_extension": ".py",
            "mimetype": "text/x-python",
            "name": "python",
            "nbconvert_exporter": "python",
            "pygments_lexer": "ipython3",
            "version": "3.9.7"
        }
    },
    "nbformat": 4,
    "nbformat_minor": 5
}
