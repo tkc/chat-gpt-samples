{
    "cells": [
        {
            "attachments": {},
            "cell_type": "markdown",
            "id": "d5f777c3",
            "metadata": {},
            "source": [
                "## Vectorstores"
            ]
        },
        {
            "cell_type": "code",
            "execution_count": 1,
            "id": "ab65b9ae",
            "metadata": {},
            "outputs": [
                {
                    "name": "stdout",
                    "output_type": "stream",
                    "text": [
                        "Requirement already satisfied: openai in /usr/local/lib/python3.10/site-packages (from -r requirements.txt (line 1)) (0.27.0)\n",
                        "Requirement already satisfied: langchain==0.0.146 in /usr/local/lib/python3.10/site-packages (from -r requirements.txt (line 2)) (0.0.146)\n",
                        "Requirement already satisfied: tiktoken in /usr/local/lib/python3.10/site-packages (from -r requirements.txt (line 3)) (0.3.1)\n",
                        "Requirement already satisfied: faiss-cpu in /usr/local/lib/python3.10/site-packages (from -r requirements.txt (line 4)) (1.7.3)\n",
                        "Requirement already satisfied: chromadb==0.3.21 in /usr/local/lib/python3.10/site-packages (from -r requirements.txt (line 5)) (0.3.21)\n",
                        "Requirement already satisfied: wikipedia in /usr/local/lib/python3.10/site-packages (from -r requirements.txt (line 6)) (1.4.0)\n",
                        "Requirement already satisfied: PyYAML>=5.4.1 in /usr/local/lib/python3.10/site-packages (from langchain==0.0.146->-r requirements.txt (line 2)) (6.0)\n",
                        "Requirement already satisfied: SQLAlchemy<2,>=1 in /usr/local/lib/python3.10/site-packages (from langchain==0.0.146->-r requirements.txt (line 2)) (1.4.46)\n",
                        "Requirement already satisfied: aiohttp<4.0.0,>=3.8.3 in /usr/local/lib/python3.10/site-packages (from langchain==0.0.146->-r requirements.txt (line 2)) (3.8.3)\n",
                        "Requirement already satisfied: async-timeout<5.0.0,>=4.0.0 in /usr/local/lib/python3.10/site-packages (from langchain==0.0.146->-r requirements.txt (line 2)) (4.0.2)\n",
                        "Requirement already satisfied: dataclasses-json<0.6.0,>=0.5.7 in /usr/local/lib/python3.10/site-packages (from langchain==0.0.146->-r requirements.txt (line 2)) (0.5.7)\n",
                        "Requirement already satisfied: numexpr<3.0.0,>=2.8.4 in /usr/local/lib/python3.10/site-packages (from langchain==0.0.146->-r requirements.txt (line 2)) (2.8.4)\n",
                        "Requirement already satisfied: numpy<2,>=1 in /usr/local/lib/python3.10/site-packages (from langchain==0.0.146->-r requirements.txt (line 2)) (1.23.5)\n",
                        "Requirement already satisfied: openapi-schema-pydantic<2.0,>=1.2 in /usr/local/lib/python3.10/site-packages (from langchain==0.0.146->-r requirements.txt (line 2)) (1.2.4)\n",
                        "Requirement already satisfied: pydantic<2,>=1 in /usr/local/lib/python3.10/site-packages (from langchain==0.0.146->-r requirements.txt (line 2)) (1.10.4)\n",
                        "Requirement already satisfied: requests<3,>=2 in /usr/local/lib/python3.10/site-packages (from langchain==0.0.146->-r requirements.txt (line 2)) (2.28.2)\n",
                        "Requirement already satisfied: tenacity<9.0.0,>=8.1.0 in /usr/local/lib/python3.10/site-packages (from langchain==0.0.146->-r requirements.txt (line 2)) (8.2.2)\n",
                        "Requirement already satisfied: tqdm>=4.48.0 in /usr/local/lib/python3.10/site-packages (from langchain==0.0.146->-r requirements.txt (line 2)) (4.64.1)\n",
                        "Requirement already satisfied: pandas>=1.3 in /usr/local/lib/python3.10/site-packages (from chromadb==0.3.21->-r requirements.txt (line 5)) (1.4.3)\n",
                        "Requirement already satisfied: hnswlib>=0.7 in /usr/local/lib/python3.10/site-packages (from chromadb==0.3.21->-r requirements.txt (line 5)) (0.7.0)\n",
                        "Requirement already satisfied: clickhouse-connect>=0.5.7 in /usr/local/lib/python3.10/site-packages (from chromadb==0.3.21->-r requirements.txt (line 5)) (0.5.23)\n",
                        "Requirement already satisfied: sentence-transformers>=2.2.2 in /usr/local/lib/python3.10/site-packages (from chromadb==0.3.21->-r requirements.txt (line 5)) (2.2.2)\n",
                        "Requirement already satisfied: duckdb>=0.7.1 in /usr/local/lib/python3.10/site-packages (from chromadb==0.3.21->-r requirements.txt (line 5)) (0.7.1)\n",
                        "Requirement already satisfied: fastapi>=0.85.1 in /usr/local/lib/python3.10/site-packages (from chromadb==0.3.21->-r requirements.txt (line 5)) (0.85.2)\n",
                        "Requirement already satisfied: uvicorn[standard]>=0.18.3 in /usr/local/lib/python3.10/site-packages (from chromadb==0.3.21->-r requirements.txt (line 5)) (0.18.3)\n",
                        "Requirement already satisfied: posthog>=2.4.0 in /usr/local/lib/python3.10/site-packages (from chromadb==0.3.21->-r requirements.txt (line 5)) (3.0.1)\n",
                        "Requirement already satisfied: regex>=2022.1.18 in /usr/local/lib/python3.10/site-packages (from tiktoken->-r requirements.txt (line 3)) (2022.10.31)\n",
                        "Requirement already satisfied: beautifulsoup4 in /usr/local/lib/python3.10/site-packages (from wikipedia->-r requirements.txt (line 6)) (4.11.1)\n",
                        "Requirement already satisfied: attrs>=17.3.0 in /usr/local/lib/python3.10/site-packages (from aiohttp<4.0.0,>=3.8.3->langchain==0.0.146->-r requirements.txt (line 2)) (22.2.0)\n",
                        "Requirement already satisfied: charset-normalizer<3.0,>=2.0 in /usr/local/lib/python3.10/site-packages (from aiohttp<4.0.0,>=3.8.3->langchain==0.0.146->-r requirements.txt (line 2)) (2.1.1)\n",
                        "Requirement already satisfied: multidict<7.0,>=4.5 in /usr/local/lib/python3.10/site-packages (from aiohttp<4.0.0,>=3.8.3->langchain==0.0.146->-r requirements.txt (line 2)) (6.0.4)\n",
                        "Requirement already satisfied: yarl<2.0,>=1.0 in /usr/local/lib/python3.10/site-packages (from aiohttp<4.0.0,>=3.8.3->langchain==0.0.146->-r requirements.txt (line 2)) (1.8.2)\n",
                        "Requirement already satisfied: frozenlist>=1.1.1 in /usr/local/lib/python3.10/site-packages (from aiohttp<4.0.0,>=3.8.3->langchain==0.0.146->-r requirements.txt (line 2)) (1.3.3)\n",
                        "Requirement already satisfied: aiosignal>=1.1.2 in /usr/local/lib/python3.10/site-packages (from aiohttp<4.0.0,>=3.8.3->langchain==0.0.146->-r requirements.txt (line 2)) (1.3.1)\n",
                        "Requirement already satisfied: certifi in /usr/local/lib/python3.10/site-packages (from clickhouse-connect>=0.5.7->chromadb==0.3.21->-r requirements.txt (line 5)) (2022.12.7)\n",
                        "Requirement already satisfied: urllib3>=1.26 in /usr/local/lib/python3.10/site-packages (from clickhouse-connect>=0.5.7->chromadb==0.3.21->-r requirements.txt (line 5)) (1.26.12)\n",
                        "Requirement already satisfied: pytz in /usr/local/lib/python3.10/site-packages (from clickhouse-connect>=0.5.7->chromadb==0.3.21->-r requirements.txt (line 5)) (2022.7.1)\n",
                        "Requirement already satisfied: zstandard in /usr/local/lib/python3.10/site-packages (from clickhouse-connect>=0.5.7->chromadb==0.3.21->-r requirements.txt (line 5)) (0.21.0)\n",
                        "Requirement already satisfied: lz4 in /usr/local/lib/python3.10/site-packages (from clickhouse-connect>=0.5.7->chromadb==0.3.21->-r requirements.txt (line 5)) (4.3.2)\n",
                        "Requirement already satisfied: marshmallow<4.0.0,>=3.3.0 in /usr/local/lib/python3.10/site-packages (from dataclasses-json<0.6.0,>=0.5.7->langchain==0.0.146->-r requirements.txt (line 2)) (3.19.0)\n",
                        "Requirement already satisfied: marshmallow-enum<2.0.0,>=1.5.1 in /usr/local/lib/python3.10/site-packages (from dataclasses-json<0.6.0,>=0.5.7->langchain==0.0.146->-r requirements.txt (line 2)) (1.5.1)\n",
                        "Requirement already satisfied: typing-inspect>=0.4.0 in /usr/local/lib/python3.10/site-packages (from dataclasses-json<0.6.0,>=0.5.7->langchain==0.0.146->-r requirements.txt (line 2)) (0.8.0)\n",
                        "Requirement already satisfied: starlette==0.20.4 in /usr/local/lib/python3.10/site-packages (from fastapi>=0.85.1->chromadb==0.3.21->-r requirements.txt (line 5)) (0.20.4)\n",
                        "Requirement already satisfied: anyio<5,>=3.4.0 in /usr/local/lib/python3.10/site-packages (from starlette==0.20.4->fastapi>=0.85.1->chromadb==0.3.21->-r requirements.txt (line 5)) (3.6.2)\n",
                        "Requirement already satisfied: python-dateutil>=2.8.1 in /usr/local/lib/python3.10/site-packages (from pandas>=1.3->chromadb==0.3.21->-r requirements.txt (line 5)) (2.8.2)\n",
                        "Requirement already satisfied: six>=1.5 in /usr/local/lib/python3.10/site-packages (from posthog>=2.4.0->chromadb==0.3.21->-r requirements.txt (line 5)) (1.16.0)\n",
                        "Requirement already satisfied: monotonic>=1.5 in /usr/local/lib/python3.10/site-packages (from posthog>=2.4.0->chromadb==0.3.21->-r requirements.txt (line 5)) (1.6)\n",
                        "Requirement already satisfied: backoff>=1.10.0 in /usr/local/lib/python3.10/site-packages (from posthog>=2.4.0->chromadb==0.3.21->-r requirements.txt (line 5)) (2.2.1)\n",
                        "Requirement already satisfied: typing-extensions>=4.2.0 in /usr/local/lib/python3.10/site-packages (from pydantic<2,>=1->langchain==0.0.146->-r requirements.txt (line 2)) (4.5.0)\n",
                        "Requirement already satisfied: idna<4,>=2.5 in /usr/local/lib/python3.10/site-packages (from requests<3,>=2->langchain==0.0.146->-r requirements.txt (line 2)) (3.4)\n",
                        "Requirement already satisfied: transformers<5.0.0,>=4.6.0 in /usr/local/lib/python3.10/site-packages (from sentence-transformers>=2.2.2->chromadb==0.3.21->-r requirements.txt (line 5)) (4.27.0.dev0)\n",
                        "Requirement already satisfied: torch>=1.6.0 in /usr/local/lib/python3.10/site-packages (from sentence-transformers>=2.2.2->chromadb==0.3.21->-r requirements.txt (line 5)) (1.13.1)\n",
                        "Requirement already satisfied: torchvision in /usr/local/lib/python3.10/site-packages (from sentence-transformers>=2.2.2->chromadb==0.3.21->-r requirements.txt (line 5)) (0.14.1)\n",
                        "Requirement already satisfied: scikit-learn in /usr/local/lib/python3.10/site-packages (from sentence-transformers>=2.2.2->chromadb==0.3.21->-r requirements.txt (line 5)) (1.2.1)\n",
                        "Requirement already satisfied: scipy in /usr/local/lib/python3.10/site-packages (from sentence-transformers>=2.2.2->chromadb==0.3.21->-r requirements.txt (line 5)) (1.10.1)\n",
                        "Requirement already satisfied: nltk in /usr/local/lib/python3.10/site-packages (from sentence-transformers>=2.2.2->chromadb==0.3.21->-r requirements.txt (line 5)) (3.8.1)\n",
                        "Requirement already satisfied: sentencepiece in /usr/local/lib/python3.10/site-packages (from sentence-transformers>=2.2.2->chromadb==0.3.21->-r requirements.txt (line 5)) (0.1.98)\n",
                        "Requirement already satisfied: huggingface-hub>=0.4.0 in /usr/local/lib/python3.10/site-packages (from sentence-transformers>=2.2.2->chromadb==0.3.21->-r requirements.txt (line 5)) (0.12.0)\n",
                        "Requirement already satisfied: greenlet!=0.4.17 in /usr/local/lib/python3.10/site-packages (from SQLAlchemy<2,>=1->langchain==0.0.146->-r requirements.txt (line 2)) (2.0.2)\n",
                        "Requirement already satisfied: click>=7.0 in /usr/local/lib/python3.10/site-packages (from uvicorn[standard]>=0.18.3->chromadb==0.3.21->-r requirements.txt (line 5)) (8.1.3)\n",
                        "Requirement already satisfied: h11>=0.8 in /usr/local/lib/python3.10/site-packages (from uvicorn[standard]>=0.18.3->chromadb==0.3.21->-r requirements.txt (line 5)) (0.14.0)\n",
                        "Requirement already satisfied: httptools>=0.4.0 in /usr/local/lib/python3.10/site-packages (from uvicorn[standard]>=0.18.3->chromadb==0.3.21->-r requirements.txt (line 5)) (0.5.0)\n",
                        "Requirement already satisfied: python-dotenv>=0.13 in /usr/local/lib/python3.10/site-packages (from uvicorn[standard]>=0.18.3->chromadb==0.3.21->-r requirements.txt (line 5)) (0.21.1)\n",
                        "Requirement already satisfied: uvloop!=0.15.0,!=0.15.1,>=0.14.0 in /usr/local/lib/python3.10/site-packages (from uvicorn[standard]>=0.18.3->chromadb==0.3.21->-r requirements.txt (line 5)) (0.17.0)\n",
                        "Requirement already satisfied: watchfiles>=0.13 in /usr/local/lib/python3.10/site-packages (from uvicorn[standard]>=0.18.3->chromadb==0.3.21->-r requirements.txt (line 5)) (0.19.0)\n",
                        "Requirement already satisfied: websockets>=10.0 in /usr/local/lib/python3.10/site-packages (from uvicorn[standard]>=0.18.3->chromadb==0.3.21->-r requirements.txt (line 5)) (10.4)\n",
                        "Requirement already satisfied: soupsieve>1.2 in /usr/local/lib/python3.10/site-packages (from beautifulsoup4->wikipedia->-r requirements.txt (line 6)) (2.3.2.post1)\n",
                        "Requirement already satisfied: filelock in /usr/local/lib/python3.10/site-packages (from huggingface-hub>=0.4.0->sentence-transformers>=2.2.2->chromadb==0.3.21->-r requirements.txt (line 5)) (3.9.0)\n",
                        "Requirement already satisfied: packaging>=20.9 in /usr/local/lib/python3.10/site-packages (from huggingface-hub>=0.4.0->sentence-transformers>=2.2.2->chromadb==0.3.21->-r requirements.txt (line 5)) (23.1)\n",
                        "Requirement already satisfied: tokenizers!=0.11.3,<0.14,>=0.11.1 in /usr/local/lib/python3.10/site-packages (from transformers<5.0.0,>=4.6.0->sentence-transformers>=2.2.2->chromadb==0.3.21->-r requirements.txt (line 5)) (0.13.3)\n",
                        "Requirement already satisfied: mypy-extensions>=0.3.0 in /usr/local/lib/python3.10/site-packages (from typing-inspect>=0.4.0->dataclasses-json<0.6.0,>=0.5.7->langchain==0.0.146->-r requirements.txt (line 2)) (1.0.0)\n",
                        "Requirement already satisfied: joblib in /usr/local/lib/python3.10/site-packages (from nltk->sentence-transformers>=2.2.2->chromadb==0.3.21->-r requirements.txt (line 5)) (1.2.0)\n",
                        "Requirement already satisfied: threadpoolctl>=2.0.0 in /usr/local/lib/python3.10/site-packages (from scikit-learn->sentence-transformers>=2.2.2->chromadb==0.3.21->-r requirements.txt (line 5)) (3.1.0)\n",
                        "Requirement already satisfied: pillow!=8.3.*,>=5.3.0 in /usr/local/lib/python3.10/site-packages (from torchvision->sentence-transformers>=2.2.2->chromadb==0.3.21->-r requirements.txt (line 5)) (9.4.0)\n",
                        "Requirement already satisfied: sniffio>=1.1 in /usr/local/lib/python3.10/site-packages (from anyio<5,>=3.4.0->starlette==0.20.4->fastapi>=0.85.1->chromadb==0.3.21->-r requirements.txt (line 5)) (1.3.0)\n",
                        "Note: you may need to restart the kernel to use updated packages.\n"
                    ]
                }
            ],
            "source": [
                "%pip install -r requirements.txt"
            ]
        },
        {
            "cell_type": "code",
            "execution_count": 43,
            "id": "853669ad",
            "metadata": {},
            "outputs": [],
            "source": [
                "import os\n",
                "from dotenv import load_dotenv\n",
                "load_dotenv()\n",
                "\n",
                "AZURE_DEPLOYMENT_NAME= os.environ['AZURE_DEPLOYMENT_NAME']\n",
                "os.environ[\"OPENAI_API_TYPE\"] = \"azure\"\n",
                "os.environ[\"OPENAI_API_KEY\"] = os.environ['AZURE_OPEN_API_KEY']\n",
                "os.environ[\"OPENAI_API_BASE\"] = os.environ['AZURE_API_BASE']\n",
                "os.environ[\"OPENAI_VERSION\"] = \"2023-03-15-preview\"   \n"
            ]
        },
        {
            "cell_type": "code",
            "execution_count": 42,
            "id": "d2332a28",
            "metadata": {},
            "outputs": [],
            "source": [
                "# os.environ"
            ]
        },
        {
            "cell_type": "code",
            "execution_count": 11,
            "id": "1c9d405c",
            "metadata": {},
            "outputs": [],
            "source": [
                "from langchain.embeddings.openai import OpenAIEmbeddings\n",
                "from langchain.text_splitter import CharacterTextSplitter\n",
                "from langchain.vectorstores import Chroma\n"
            ]
        },
        {
            "cell_type": "code",
            "execution_count": 63,
            "id": "ca8bdaf0",
            "metadata": {},
            "outputs": [
                {
                    "name": "stderr",
                    "output_type": "stream",
                    "text": [
                        "Created a chunk of size 842, which is longer than the specified 200\n",
                        "Created a chunk of size 1694, which is longer than the specified 200\n",
                        "Created a chunk of size 1183, which is longer than the specified 200\n",
                        "Created a chunk of size 426, which is longer than the specified 200\n",
                        "Created a chunk of size 661, which is longer than the specified 200\n",
                        "Created a chunk of size 995, which is longer than the specified 200\n",
                        "Created a chunk of size 1030, which is longer than the specified 200\n",
                        "Created a chunk of size 415, which is longer than the specified 200\n",
                        "Created a chunk of size 1233, which is longer than the specified 200\n",
                        "Created a chunk of size 480, which is longer than the specified 200\n",
                        "Created a chunk of size 898, which is longer than the specified 200\n",
                        "Created a chunk of size 312, which is longer than the specified 200\n",
                        "Created a chunk of size 1829, which is longer than the specified 200\n",
                        "Created a chunk of size 310, which is longer than the specified 200\n",
                        "Created a chunk of size 208, which is longer than the specified 200\n",
                        "Created a chunk of size 774, which is longer than the specified 200\n",
                        "Created a chunk of size 737, which is longer than the specified 200\n",
                        "Created a chunk of size 542, which is longer than the specified 200\n",
                        "Created a chunk of size 649, which is longer than the specified 200\n",
                        "Created a chunk of size 463, which is longer than the specified 200\n",
                        "Created a chunk of size 240, which is longer than the specified 200\n"
                    ]
                },
                {
                    "data": {
                        "text/plain": [
                            "['『こちら葛飾区亀有公園前派出所』（こちらかつしかくかめありこうえんまえはしゅつじょ）は、秋本治による日本の漫画作品。『週刊少年ジャンプ』において1976年から2016年まで連載された。通称及び公式略称は「こち亀（こちかめ）」。単行本は全201巻に及び、2021年に『ゴルゴ13』に抜かれるまでは「最も発行巻数が多い単一漫画シリーズ」としてギネス世界記録に認定されていた。\\n\\n\\n== 概要 ==',\n",
                            " '東京都葛飾区の亀有公園前派出所に勤務する両津勘吉（りょうつ かんきち）を主人公に、その同僚や周辺の人物が繰り広げるギャグ漫画。劇画に近い比較的リアルな絵柄（特に連載開始当初）を用いたギャグ漫画としては先駆的な作品である。基本的に一話完結だが、複数話に跨ぐことも時々ある。\\n1976年6月20日発売の『週刊少年ジャンプ』29号に、4月期の月例ヤングジャンプ賞入選作品の読み切りとして掲載された後、同年の42号から2016年42号まで一度の休載もなく連載された。『週刊少年ジャンプ』で歴代最長の連載記録であり、少年誌の最長連載記録でもある。2016年6月時点で累計発行部数は1億5650万部を記録している。2001年に第30回日本漫画家協会賞大賞を、2004年に第50回小学館漫画賞審査員特別賞を受賞。\\n2006年に連載30周年を迎え、『週刊少年ジャンプ』誌上で「こち亀30周年企画」が行われた。2016年に連載40周年を迎え、それを記念した「こち亀40周年企画」が行われた。40年の週刊連載で歴代担当は13人になる。様々なメディア展開もされている(後述を参照)。\\n『週刊少年ジャンプ』以外の漫画雑誌では、『りぼん』1999年2月号付録にこち亀特別編が掲載された（その後、Kamedas2に収録された）他、2011年には連載35周年特別企画として、同年8月から10月にかけて集英社の漫画雑誌13誌（『りぼん』、『マーガレット』、『別冊マーガレット』、『コーラス』、『ビジネスジャンプ』、『スーパージャンプ』、『ウルトラジャンプ』、『Vジャンプ』、『ヤングジャンプ』、『YOU』、『ジャンプスクエア』、『ザ マーガレット』、『Cookie』）に『こち亀』出張版が掲載された（その後、コミックス第199巻に収録された）。更に、2011年11月28日から12月2日までの5日間、読売新聞朝刊スポーツ面に広告扱いの4コマ漫画『えっ!?こち亀が4コマ漫画に挑戦!?』（秋本本人が執筆）が掲載された。',\n",
                            " '== 連載終了とその後 ==\\n2016年9月3日に神田明神で行われた『こち亀』連載40周年記念絵巻奉納式後の記者会見にて、9月17日発売の『週刊少年ジャンプ』2016年42号をもって連載を完結、同日発売のコミックス第200巻で最終巻とすることが発表された。同日から予約開始になった単行本は瞬く間に売れ、予約開始の1週間後にはセブンネットショッピングなどごく一部を除き予約終了という異例の事態となった。連載終了について体調面や執筆についての問題は特になく、区切りの良い時点で『こち亀』を終了させ、新たな作品に取り組みたいという秋本の意向によるものと報じられた。\\n『週刊少年ジャンプ』で最終話に単独表紙と巻頭カラーを同時に飾った作品は、『SLAM DUNK』に次いで史上2作目。「あの不真面目でいい加減な両さんが40年間休まず勤務したので、この辺で有給休暇を与え、休ませてあげようと思います」と秋本が誌面にコメントを寄せた。最終話は同日発売のコミックス第200巻に同時掲載され、途中までは同じだがオチの展開が雑誌とコミックスとでは異なるという演出（劇中の両津曰く「両方買わせるいやらしい商法」）がなされた。\\nそれから2016年の年末にかけて、連載終了に関連した様々な企画・イベントが催された。詳しくは『こち亀40周年企画』を参照。\\nなお、一度コミックス第69巻7話「両さんメモリアル」の中でニセ最終回が描かれたことがあった。これに関してコミックス第70巻の「備えあれば憂いなし!?の巻」で、「男の読者は笑っていたが、女の子からは“泣いた”という手紙がいっぱい来てしまった」と両津が語っている。また、コミックス第114巻の「両さんおすすめ！！こち亀コミックスプレビュー」にて「うその連載終了で、たくさんの抗議が来た作品だ」と紹介されている。\\n連載終了から1年となる2017年42号に新作読切と、秋本が『グランドジャンプ』で不定期連載している『BLACK TIGER』の単行本発売を記念したコラボ漫画が掲載された。\\nまた、2018年には腕時計の発売も決定しているほか、週刊少年ジャンプ創刊50周年の記念号となる2018年33号に2度目の新作読切が掲載された。\\n2019年には集英社ジャンプリミックスの「平成こち亀 3年1〜6月」に平成最後となるVチューバーと新しい元号をテーマにした描き下ろし新作が掲載された。さらに、PHSサービス終了記念でスペシャルコラボ企画も行われ、12月16日発売の『週刊少年ジャンプ』において、紫綬褒章受章記念の短編が掲載されたほか、12月27日発売の『平成こち亀 7年1〜6月』において新作が掲載された。\\n2020年には、新作が発表されているだけでなく、新型コロナウイルスに立ち向かう人々に向けての書き下ろしイラスト付きポスターも登場している。さらに、WONDAとのコラボも実施されている。また、ビビッドアーミーとのコラボも実施されただけでなく、12月21日発売の週刊少年ジャンプと12月25日発売の「平成こち亀 13年1月〜6月」においても新作が掲載されるとの発表もあった。\\n2021年には、日暮熟睡男にスポットを当てたリミックス「こち亀 日暮祭」が東京オリンピック開催を受けて7月16日に発売された。さらに、7月19日発売の週刊少年ジャンプにも新作が掲載されただけでなく、10月4日に、201巻の発売も決定した。なお201巻は2016年の連載終了後に描き下ろされた作品がメインで収録されており、これと同時期に平成こち亀にも3号連続で新作読み切りが5ページ分掲載されるとの発表もあった。さらに連載45周年を記念したビッグプロジェクトも実施されることになった。『週刊少年ジャンプ』2021年43号には新作エピソードが掲載された。\\n2022年には、2024年度を目標に亀有駅南側にこち亀をテーマにした施設を開業させるとの発表もあった。同年8月、『週刊少年ジャンプ』2022年36・37合併号にて、新たな読み切りが発表された。さらに、平成こち亀にも新作が掲載されている。',\n",
                            " '== 主な登場人物 ==',\n",
                            " '両津 勘吉（りょうつ かんきち）\\n本作の主人公。台東区浅草生まれ。階級は巡査長。角刈りに左右がつながった太い眉が特徴で、服装は常に腕とズボンの裾をまくり、裸足にサンダル下駄を履いている。\\n人間の常識を遥かに超えた身体能力と生命力の持ち主。金儲けとギャンブルが大好きで、金が絡むと手段を選ばず、身の危険も顧みないことがある。手先が器用な無類の趣味人かつ道楽者で、交友関係は非常に広い。飲酒も好み、樽一杯の酒でも一人で飲み干せるほどの強靭な胃袋を持つ。発想力とバイタリティーに溢れ、様々な新商売を始めては成功を収めるが、大抵の場合は私欲に負けて最後は自滅してしまう。若い頃にはガッツを買われ、刑事課に所属していた時期もある。警察官らしからぬ問題行動を頻繁に起こしては上司の大原に叱責され、謹慎や減給や左遷などの処分を何度も受けている。一方、義理人情を重んじる性格で、同僚や市民が有事の際にはとても頼りになる存在でもあり、人望は厚い。愛称は主に「両さん」あるいは「両ちゃん」「勘ちゃん」。指導係巡査であるため中川と本田からは「先輩」と呼ばれている。\\n中川 圭一（なかがわ けいいち）\\n派出所メンバーの一人。両津の後輩で、階級は巡査。世界的大企業「中川コンツェルン」の御曹司であり、自身も系列会社をいくつも経営し、屋敷に住む。かなりの美形のため、女性にファンが多い。カーマニアなほか、射撃の腕はプロ並。日頃は冷静だが、パニックを起こすと言葉遣いが乱暴になることもある。両津の行動に巻き込まれて悲惨な目に遭うこともあるが、先輩として慕っている。\\n秋本 カトリーヌ 麗子（あきもと・カトリーヌ・れいこ）\\n派出所メンバーの一人。階級は巡査。神戸にある世界有数の企業「秋本貿易」の社長令嬢。日本人の父とフランス人の母を持つハーフ。スタイル抜群で包容力もある美女だが、男勝りな面もある。ピアノの演奏と洋菓子作りが上手い。両津のことは常に「両ちゃん」と呼んで対等に接している。\\n大原 大次郎（おおはら だいじろう）\\n両津たちの上司。階級は巡査部長で、公園前派出所の班長を務める。\\n生真面目で自他共に厳しく、騒動を起こす両津を怒鳴りつけては胃を痛めている。一方で人の上に立つ者としての器量も備え、両津や中川たちはもちろん住民からも尊敬されている。妻や孫たちには頭が上がらず流行や機械にも疎いため、両津に助力を求めることもしばしば。将棋、剣道、柔道の有段者。\\n本田 速人（ほんだ はやと）\\n交通課に所属する警官。階級は巡査。リーゼントヘアーと黄色いスカーフが特徴。警察官になる前は暴走族のリーダーだった。普段は気弱なお人好しで誰に対しても敬語で接するが、バイクに乗ると乱暴な口調・男気溢れる性格に豹変する。中川同様、両津の行動にはよく付き合わされるが、彼の優しさを理解している一人でもある。',\n",
                            " '== 名称 ==\\n「亀有公園前派出所」という題名に関して秋本は「長い題名をつけたら審査員が目を引くかなと思って。でも、いざやってみたらあんまり意味なかったですね」と語っている。また、映画『男はつらいよ』の山田洋次監督との対談の中で「『男はつらいよ』のおかげで葛飾区が全国的に広まっていましたから、亀有は知らなくても葛飾区はみんな知っているだろうと思ったんですね。それで長いタイトルになってしまった」とも述べている。もともとアメリカ映画のポリスアクションにあこがれていた秋本はこの要素を取り入れ、身近な派出所を舞台としてこの漫画を執筆したのだという。\\n略称の『こち亀』は『下町奮戦記』の巻末に作者が「これからはこち亀と略してください」とコメントしたことで、公式の略称となった。コミックスでは、第18巻の巻末コメントで林家しん平が『こち亀』と呼んでいるのが最初である。また書店でもスタッフにはこの略称で通用する。最初期には『派出所』と略されたことがある。',\n",
                            " '== 作品の舞台 ==\\n\\n主な舞台は亀有公園前派出所がある東京都葛飾区亀有地区、両津の実家がある東京都台東区浅草を中心とした下町、東京23区東部。ただし、話の展開によっては、日本国内はもとより全世界、宇宙、天国、地獄、過去、未来などを縦横無尽に駆け巡る。',\n",
                            " '亀有公園前派出所\\n亀有公園は亀有駅北口からすぐのところに実在するが、亀有公園前派出所は実在しない。庁舎外観は両津が原因で全壊しても一貫してこの形で建て直されている。一昔前には、こち亀へのファンレターをこの住所に送ると、当時の郵便局の配慮で秋本のスタジオ「アトリエびーだま」に届けられていた。なお、派出所とは交番の旧称である。アニメ版では、警察内部でも非常に評判の悪い派出所になっていることが判明し、署内のアンケートでは配属されたくない派出所でワースト1に選ばれ（28話・両さんの大脱走）、警察学校では葛飾署のお荷物として知られている（45話・両さんの新人研修）ことが判明している。\\n新葛飾警察署\\n連載開始から十数年の間、亀有公園前派出所の所属する警察署は実在する「亀有警察署」であった。しかし、1992年頃の自主規制の際に、既刊コミックスも含めて全てを当時実在しなかった「葛飾警察署」に修正した。その後、10年近くの間「葛飾警察署」を名乗っていたが、2002年12月10日に葛飾区南部を管轄する本田（ほんでん）警察署が葛飾警察署と改称し、「葛飾警察署」が実在する警察署になったことから、「葛飾警察署」の庁舎改築、再改築というネタを経て「新葛飾警察署」へと名称変更した。作中何度も爆発したり倒壊したり炎上したりしているが、奇跡的に一度も殉職者は出ていない。庁舎外観は、新葛飾署へ改名のための改築エピソードの一時期を除いて、両津が原因で全壊しても一貫してこの形で建て直されている。\\nアニメ版では「かつしか署」と表記されている。',\n",
                            " '== 作風の変化 ==\\n連載初期こそ、警察官として型破りな両津と仲間たちの仕事風景を描く漫画だったが、次第に作者の趣味や主張、思想などが大きく前面に押し出され、大半の話が警察組織とほとんど無関係になっていった。連載が軌道に乗った中期以降は、世間の流行（主にサブカルチャー）を積極的に題材として取り入れ、緻密な取材とそれを活用する構成力、背景にまで細やかに気遣う丹念さ、機知に富む台詞回しや実験的なアイディアを特徴とした。\\n連載が40年の長期に渡ったため、登場キャラクターの性格や設定が何度も変更されている。初期は単に粗暴で短気だった両津だが、回を重ねる毎に秋本の画風の変化で丸みを帯び、性格も人情的になった。中川と麗子も同様で初期は過激な面があり、特に中川は「世間知らずのお坊ちゃま」であることが強調された両津同様の問題児だった。その後は2人共落ち着いたキャラクターになったが、時には中川が一発ギャグを披露したり態度が粗暴になったりとキャラが崩壊することもある。また、40年の間にキャラクターの入れ替わりがあり、初期では毎回のように登場したが、次第に登場しなくなり消えてしまった戸塚金次やふーたろーなどのキャラクターが多数存在する。\\nまた、かつては男性キャラクターが女性差別的な発言をしたり、両津が事あるごとに麗子の髪を引っ張るといった描写も多く存在していたが、後年になると見受けられなくなり、逆に両津が麗子や婦警たちから反撃を喰らう描写も増えていった。\\n現代が舞台であるため、いずれの話も当時の社会現象や社会問題、生活様式などがリアルタイムで強く反映されている。分かりやすい例では、派出所内の電話機が黒電話→プッシュホン→コードレスホンと代替されていき、FAXやパソコンも導入され、やがて各人物が携帯電話（フィーチャーフォン→スマートフォン）を持つようになる。かつて作品内に登場していた事象を、十数年後の単行本では両津たちが「過去のもの」として懐かしんだり、存在を知らなかったりするという描写もある。コミックス第130巻になると、今昔の作風の変化を作中で自らネタにすることが見られるようになった。特に連載末期は流行に敏感であり、時事ネタが非常に多くなってきていた。最先端の話題の描写は緻密であることも特徴で、これは作者による地道な取材が大きく反映されている（詳細は秋本治の項目を参照）。',\n",
                            " '時代ごとの流行を登場させたことについて作者は、パソコンが出始めた時期に「今新しいものを出すと、古くなるよ」と人から言われたことがあったが、「逆に今それを描いておけば時期も分かるかもしれないと思った。そこで、あえて出すようにした」ことを連載終了後に明かしている。\\n時事ネタを盛り込むも、情勢が急変して史実通りにはならなかった回がある。第86巻収録の「大東京ゴミ事情!の巻」は、当時東京都23区で導入予定だった半透明ゴミ袋の義務化をテーマにしたエピソードで、ジャンプ本誌掲載前の1993年10月1日より導入されることを想定して描かれていたが、導入7日前に翌1994年1月17日へ急遽延期される事態が発生。しかし既に原稿が完成してしまい、ボツにするにはもったいなかったため、苦肉の策として、扉絵にて両津が東京都への愚痴を言いつつ「10月1日に実施されたと仮定して読んでくれ」と釈明する処置が執られた。画風についても年々変化していた。初期は背景からすべて秋本一人で描いており、細かい所まで入念な劇画調であった。連載が進むとアシスタントを採用するようになり、背景やメカニック描写、モブなどはアシスタントへ任せる割合が増えていく。コミックス第150巻以降はラフで幾分シンプルな絵柄になっていた。作者自身も過去の画風を意図的に再現したエピソードでは、過去の原稿をトレースしたり、初期の単行本を真似て描いていたほどである。また、初期に登場していたキャラを後年に再登場させる際に、「当時の絵はもう描けない」と開き直り、性格も含めて全くの別人にしてしまうこともあった。\\n当初は連載年数と並行で登場人物が加齢していたが、長期連載化に伴い頻繁に設定変更が行われるようになり、正式な年齢が言及されることはなくなった。コミックス第133巻収録の『おしえて両津先生 派出所七ふしぎの巻』によれば、「漫画の世界は時空をこえた時の流れがある」とのことで、結局のところ、年齢は（一部を除き）全員不明で加齢はしないということになっている。\\n初期は必ずと言っていいほど派出所の掲示板や室内の壁などに、作者の趣味絵（戦闘機やスナイパー、自動車など）のポスターや、文章を書いた貼り紙が貼られていた。貼り紙に書かれている内容は、作者の日録、アシスタントや交友関係のある作家の内輪ネタ、担当編集者への愚痴、果てには作者がファンだったアグネス・ラムやノブ・スクリーンに太田裕美、宮崎美子などのネタも並んでいた。',\n",
                            " 'コミックス第14巻収録の「ファイター!!の巻」では、作者がバイクで一時停止違反をして罰金四千円をとられたという内容の貼り紙があり、取締まった警察官の名前や勤務先まで具体的に書き、「まずしいボクから四千円とるなんてオニのようだ！」などと恨み節が繰り返されていた。ついには背景の建物にも「四千屋」「四千円病院」とまで書かれていたが、1990年代以降の重版ではすべて白紙の貼り紙に修正されている。\\nまた、初期における（それ以降の作風と比較すれば）過激な描写も、現在はほぼ改訂されている。そのため初期作品を現行版で読む際は、雑誌掲載時のままでない事に留意する必要がある。あくまで作者の「創作」として描かれていた劇中の事件や出来事が、後年になって酷似した事件・出来事として現実に発生したケースもある。\\n2000年～2001年頃にかけて女性キャラの胸が異様に大きく描かれていた時期があり、これは読者に不評だった為に元のサイズに戻されたという。',\n",
                            " '== その他特筆事項 ==\\n実在の人物が登場することもあり、1980年代には『こち亀にオレを出せ!!コンテスト』という企画が二度行われ、入賞した読者が作中に登場したことがある。また、2000年にジャンプフェスタの中で催された『こち亀カルト王選手権』の優勝者がその特典で登場したり、フジテレビ系の番組『とんねるずのハンマープライス』で“こち亀登場権”を落札した人物が実際に登場したりした。実在の有名人や作者の秋本本人が出てきたこともある。\\n時として試験的に奇抜な表現を行うことがあった。具体例を挙げると、スクリーントーンを一切使用せずに描き上げる、ページを何段かに分けてそれぞれ別のエピソードを展開する、小説を載せる、1ページを2ページ分の見開きとして話を倍増させる（つまりジャンプ規定原稿数の19ページで38ページ分もの話になる）、始終一つの視点に固定した軽演劇スタイルになる、ページの向きが常に回転してわざと読みにくくするなど。特にコミックス第63巻「想像力漫画の巻」では、両津が何故か透明人間になったという設定で姿が描かれず、扉絵の「顔パターン表」と枠外解説を合わせ、読者に場面ごとの表情を憶測させるという画期的演出がなされた。\\n『週刊少年ジャンプ』が2008年34号で創刊40周年を迎えた際は、両津・本田・中川・麗子がタイムマシンで過去へ戻り、ジャンプを創刊号から一冊ずつ買い集めながら雑誌の歴史を紹介していく「ジャンプ40年史の旅の巻（前後編）」が「特別編」として描かれた。更に「本編」と合わせ、当号には『こち亀』が3本も掲載されていた。\\n両津の少年時代を描く話はいわゆる「古き良き時代」の感動話に収まることが多く、『読者が選ぶ傑作選』のランキングでも上位に入っている。一方で2000年代後半からは、「現在」や「未来」を悲観せず前向きに捉えようと促す話 も描かれている。\\n連載当初は当時の人気ギャグ漫画家の山上たつひこをもじった山止たつひこ（やまどめ たつひこ）のペンネームを使用していたが、山上から「まぎらわしい」という苦情が来たために、連載100回目を区切りに本名の「秋本治」名義に変更した。\\n万が一に備えて、常に編集部に原稿のストックを5本用意しており、最大で20本ストックしていた時期もあった。しかし2016年は40周年の企画に関する仕事や、さらにコミックス第200巻の締切が予想以上に早かったことなどから、原稿のストックが全部なくなりギリギリ状態だったと最終話で明かされた。\\n連載終了後の『週刊少年ジャンプ』50周年記念に描かれた読切では、ストックしていた原稿を使用する際の裏技が中川の台詞を通して紹介されている。それは、話の内容にあまり係わらない冒頭部分だけ、時節ネタを盛り込んで新しく描き直すというもので、「差し替えればあたかも最近描かれた新作に見える」「どこでどのように繋げても読者には見分けがつかないバインダー漫画」と自虐的に語っている。',\n",
                            " '== 書誌情報 ==',\n",
                            " '=== 単行本 ===\\n単行本（ジャンプ・コミックス）には、主に『週刊少年ジャンプ』に掲載された話が収録されている。ただし全て連載順に収録されているわけではなく、諸般の事情により収録順が差し替わるか次巻に持ち越され、あるいは表現の問題等から内容が差し替えられたり収録されなかった話もある。また、『週刊少年ジャンプ』掲載時から一切変更されることなく収録された話でも、後年表現の問題からサブタイトルや台詞、ポスターに書かれた文字などが変更されたり、他の話と差し替えられたものもある。\\nコミックスは日本語版だけでなく、台湾中国語版や韓国語版も出ている。台湾タイトルは『烏龍派出所』（ハチャメチャな派出所）であり、韓国語でのタイトルは、『여기는 잘나가는 파출소』（ここはうまくいく派出所）。\\nコミックス第1巻から第190巻までの収録話数は8～10本だが、コミックス第191巻から第199巻まではリニューアルとして収録話数が14〜17本にボリュームアップした。コミックス第200巻は、収録話数が21本となった。\\n※リストが膨大であるため、伸縮型のメニューとして表示。',\n",
                            " '=== 小説 ===\\nJUMP J-BOOKS こちら葛飾区亀有公園前派出所 両さんの下町少年時代編\\n1995年3月に発売された小説版。脚本家の小山高生との共著。\\n小説 こちら葛飾区亀有公園前派出所\\n2007年5月発売。こち亀連載30周年&日本推理作家協会60周年を記念して『週刊プレイボーイ』の2006年№42から2007年№11に連載された『｢こち亀｣ミステリー』を加筆、修正のうえ、改題して発行。作家の各々の作品の登場人物とこち亀キャラとのコラボレーションが行われている。\\n「幼な馴染み」大沢在昌：鮫島警部、青木晶、藪英次（新宿鮫シリーズ）\\n「池袋⇔亀有エクスプレス」石田衣良：マコト（池袋ウエストゲートパークシリーズ）\\n「キング・タイガー」今野敏コラボなし\\n「一の賭け蕎麦」柴田よしき：花咲慎一郎\\n「ぬらりひょんの褌」京極夏彦：南極夏彦（どすこい）\\n「決闘、二対三！の巻」逢坂剛：梢田威、斉木斉（御茶ノ水警察署シリーズ）\\n「目指せ乱歩賞！」東野圭吾：コラボなしVS.こち亀 こちら葛飾区亀有公園前派出所アンソロジー\\n2016年9月発売。連載40周年とコミックス200巻刊行を記念し、様々な作品とコラボレーションを行った小説集。コラボレーション作品は以下の通り。\\n「〜6つ子の童貞VS.こち亀女子 魂の合コン〜」（『おそ松さん』）原作：赤塚不二夫、監修：おそ松さん製作委員会、小説：石原宙、扉イラスト：浅野直之、挿絵：シタラマサコ\\n「魔術士オーフェン・迷宮編 いったいどうしてこうなった」（『魔術士オーフェン』）原作・小説：秋田禎信、イラスト：草河遊也\\n「こちら命志院大学男子チアリーディングチーム出張部」（『チア男子!!』）原作・小説：朝井リョウ、イラスト：近藤憲一\\n「両津&パンツァー」（『ガールズ&パンツァー』）原作：ガールズ&パンツァー製作委員会、小説：岡田邦彦、原画：杉本功、挿絵：槌居\\n「不条理な二十四」（『〈ハルチカ〉シリーズ』）原作・小説：初野晴、イラスト：山中ヒコ\\n「謎解きは葛飾区亀有公園の前で」（『謎解きはディナーのあとで』）原作・小説：東川篤哉、イラスト：中村佑介',\n",
                            " '=== その他 ===\\nこちら葛飾区亀有公園前派出所 下町奮戦記\\n1988年12月発売のテーマ別傑作選。「真夜中のランデブー」（1978年週刊少年ジャンプ4月増刊掲載）、「両さんのサマートラベル」（同1978年8月増刊掲載）、「両さん＋東大通」（同1977年9月増刊掲載、小林よしのりとの合作）、「野球狂の男の巻（描き下ろしで、後年コミックス第4巻の改訂版に「派出所自慢の巻」の代わりに収録された）」のジャンプ・コミックス未収録を含めて収録されている。「派出所自慢の巻」は1977年に初出の回だが、軍国主義を彷彿される描写があることから、90年代以降の単行本から削除されたと噂される。\\nJUMP COMICS DELUXE',\n",
                            " 'Kamedas（1993年3月発売）\\nKamedas2（2001年12月発売）こち亀の解説と詳細な分析を行なっている大全集。イミダスのパロディ。『Kamedas』では第1～76巻、『Kamedas2』では第77～127巻までをカバーしている。他漫画家との合作漫画（『Kamedas』では小林よしのり、『Kamedas2』では赤塚不二夫・本宮ひろ志・小林よしのり・藤井みほな・矢代まさこ）や、描き下ろし漫画、作者へのインタビュー、対談記事などがある。JUMP MAX ジャンプ特別編集 こちら葛飾区亀有公園前派出所\\n1994年12月に発売された冊子版。全6巻。毎回ユニークな懸賞品があった。\\n集英社文庫コミック版\\n1995年8月から発売が開始された文庫版。\\nこちら葛飾区亀有公園前派出所 秋本治自薦こち亀コレクション（全26巻）\\nこちら葛飾区亀有公園前派出所ミニ 秋本治自薦こち亀コレクション アンコール（全4巻）\\nこちら葛飾区亀有公園前派出所 大入袋（全10巻）\\nこち亀文庫（既刊24巻）\\nこち亀〜道案内〜（全2巻）こちら葛飾区亀有公園前派出所 -読者が選ぶ傑作選-\\n1996年12月に発売されたコミックス。読者が選んだ上位10本と、連載1000話達成記念に行った「読者によるこち亀構想募集」の最優秀作である「日暮2号!?登場の巻」（ジャンプ・コミックス未収録）が収録されている。カバーの背には巻数の部分に「別注」とあり、カバー表紙には「特別注文」の上に「ベッチュー」と書かれている。題字の背景が黒いが、これは当時スニーカーなどの別注は黒が多かったためだと作者は語っている。\\nこちら葛飾区亀有公園前派出所（SUPER JUMP REMIX）\\n2001年8月から発売が開始された冊子版。第7弾まで発売されている。\\n両さんと歩く下町―『こち亀』の扉絵で綴る東京情景\\n2004年11月に発売された集英社新書。こち亀の扉絵を題材に、その舞台となった東京下町について語り、こち亀の制作秘話も明かしている。秋本と山田洋次の対談も収録されている。\\nこち亀 千両箱\\n2005年3月発売。両津の少年時代のエピソードが10本収録されている。一部作品は掲載当時のままカラー収録されている他、「おばけ煙突が消えた日の巻」はフルカラーで収録されている。「友情の翼!の巻」は作者の当初の構想に基づき、『千両箱』用に改稿されている。\\n『こち亀 千両箱』発売記念のプレゼント企画で非売品の『でかめ』という本がある。『でかめ』はサイズが大きく、「大きい」ことに関連する話数本が収録されている。\\n超こち亀（超こち亀道楽BOX）\\n2006年9月発売。\\n『こち亀』で読むエンタメ史 両さんの時代\\n2009年5月発売。作中に登場したグッズやブームなどを秋本の語り下ろしエッセイを交えて時代別に紹介する。\\nソイヤ!!こちら葛飾区亀有公園前派出所 お江戸大好きBOOK\\n2009年9月発売。こち亀キャラによる江戸のガイドブック。\\nこちら葛飾区亀有公園前派出所999巻 13誌出張版の巻\\n2011年12月に発売されたコミックス。同年の連載35周年特別企画として、同年8月から10月にかけて集英社の漫画雑誌13誌（『りぼん』、『マーガレット』、『別冊マーガレット』、『コーラス』、『ビジネスジャンプ』、『スーパージャンプ』、『ウルトラジャンプ』、『Vジャンプ』、『ヤングジャンプ』、『YOU』、『ジャンプスクエア』、『ザ マーガレット』、『Cookie』）に掲載された『こち亀』出張版が収録されている。\\n集英社ムック こちら葛飾区亀有公園前派出所 デジ亀\\n2013年6月発売。コンビニ限定で販売されている。両さんが色々なデジタル家電の攻略法を伝授する。\\nこち亀ジャンプ\\n2016年8月発売。連載40周年を記念した『週刊少年ジャンプ』特別増刊号。ジャンプ・コミックス未収録の描き下ろしである日暮熟睡男登場話や20本の傑作選、矢吹健太朗、岸本斉史らの「こち亀」オリジナルエピソードなどが収録されている。同年12月31日には、『週刊少年ジャンプ』2016年42号とセットで再版された。\\nこちら葛飾区亀有公園前派出所 ∞（無限）巻 神田明神奉納絵巻ミニチュア化‼︎の巻\\n2016年11月発売。同年9月に神田明神に奉納された絵巻のミニチュアと、絵巻の解説や描き下ろし漫画、作者のインタビューなどが掲載された本のセット。',\n",
                            " '== メディア展開 ==\\n\\n\\n=== アニメ ===',\n",
                            " '1980年にバンビーノより発売されたLSIゲーム『レースンチェイス』のCMが初のアニメ化である（両津と大原部長が出演。声の出演は両津役が肝付兼太、大原役が富田耕生）。1985年には『週刊少年ジャンプ』のイベント用として短編作品2本が制作された。\\n1996年から両津役にラサール石井を起用したテレビアニメが制作され、フジテレビ系にて1996年6月16日から2004年12月19日まで放送された（全344話）。その間に、テレビアニメのスタッフにより劇場版が2本制作された。その後も2005年から2008年まで不定期で放送された。2016年には実に8年ぶりとなる新作テレビスペシャルが、連載40周年を記念して制作・放送された。',\n",
                            " '=== アニメ映画 ===\\nテレビアニメのスタッフにより劇場版が2本制作された。\\n1作目『こちら葛飾区亀有公園前派出所 THE MOVIE』',\n",
                            " '1999年12月23日に東宝洋画系で公開された日本のアニメ映画である。テレビアニメ『こちら葛飾区亀有公園前派出所』の劇場アニメーション映画版第1作目である。亀有に出現した謎の爆弾犯に、両津が女性FBI捜査官・星野リサとコンビで挑む。監督はテレビシリーズ3代目監督の高松信司、脚本は『あぶない刑事』『クライムハンター』など実写刑事アクションを多数手掛けている大川俊道が務めた。エンディング曲は吉田拓郎の「気持ちだよ」。',\n",
                            " '2作目『こちら葛飾区亀有公園前派出所 THE MOVIE2 UFO襲来! トルネード大作戦!!』',\n",
                            " '2003年12月20日に公開された『こちら葛飾区亀有公園前派出所』の劇場アニメーション映画版第2作目である。両津が小学生時代の親友の娘・ミーナと共に、ハワイと日本を巻き込んで、UFOや竜巻・親友の死の謎に迫る。前作に引き続き監督を高松信司、脚本を大川俊道が務めた。エンディング曲はSEX MACHINEGUNS「語れ! 涙!」。\\n\\n\\n=== テレビドラマ ===',\n",
                            " 'TBS系列で、ドラマ化され、2009年8月1日から9月26日まで毎週土曜日19:56 - 20:54（JST）に放送された。両津役には香取慎吾が採用された。\\n\\n\\n=== 実写映画 ===',\n",
                            " \"1977年12月24日に実写版映画が東映系で公開。監督は山口和彦、脚本は鴨井達比古。併映作品は『トラック野郎・男一匹桃次郎』。上映時間は80分。当初この枠は、清水健太郎主演で『紅の翼』の製作を決定していた（ボクサー (1977年の映画)#影響を参照）が、諸事情で製作中止になったため本作が急ぎ製作された。また同じ年に、本作より先に東京映画企画・東宝配給で映画化が予定され、小谷承靖監督、高橋二三脚本、両津役は山城新伍で、1977年3月にシナハンも終え、1977年4月クランクイン予定であったが『俺の空』の不振の影響で製作されず。「私の出来なかったことを実現した山口和彦監督の『こちら葛飾区亀有公園前派出所』が困難な条件の中でがんばった監督の証として印象に残る」と小谷が話していることから、映画化権の変更も東宝→東映の間で円満に行われたものと見られる。 \\n公開当時は原作に麗子や本田が登場する前であったため、彼女たちは登場しない。また、当時の原作では両津は苗字だけのキャラクターだったため「平吉」というオリジナルの名前が与えられたほか戸塚、寺井の名前が原作とは違う。また大原が登場せず代わりに寺井が巡査部長役となっている。『Gメン'75』のメンバーが特別出演した。配給収入は12億260万円を記録した。ビデオソフトは、一般家庭にビデオが普及する前の1981年頃に東映芸能ビデオから4万9000円でVHSが発売されたことがある のみで、その後一切再発売されていない。当時の岡田茂東映社長はシリーズ化を予定していたとされるが、この映画の出来栄えについては原作者の秋本が不満を持ったとも伝えられている。\\n主題歌は、「亀有公園前派出所異常なし!」と「スタコラ スタコラ」の2曲で、2曲ともに作詞・作曲：所ジョージ、編曲：松井忠重、唄：ジョージ五十嵐&異邦人。\",\n",
                            " 'キャスト\\n\\n\\n=== ラジオドラマ ===\\n1983年3月26日にNHKラジオ第1放送の『ヤングマガジン』第1部コミック・ナウの枠でラジオドラマが放送された。NHKの青少年課によると配役は次のとおり。',\n",
                            " '両津巡査 - 玄田哲章\\n中川 - 井上和彦\\n巡査部長 - 高木均\\n007 - さとまさのり\\n寺井 - 石丸博也\\n戸塚 - 内田直哉\\n肉屋 - 屋良有作\\nのらA&B - ツーツーレロレロ（そのまんま東、大森うたえもん）\\n子ども - 江森浩子\\n子どもB - 定岡小百合\\n男 - 津久井教生\\n女 - 弘中くみ子',\n",
                            " '=== 舞台 ===\\nテレビアニメで両津の声を担当したラサール石井が主演で、脚本・演出も担当している。原作者の秋本によると、こち亀の舞台化は過去に何度か持ち上がってたものの、両津役のキャスティングが難航し頓挫し続けていたが、アニメで両津の声を担当したラサールが適任だと考え、舞台化に漕ぎ着けたという。テレビアニメの主題歌として使われた「おいでよ亀有」「亀有は昨日も晴れだった」は元々この舞台版の主題歌であった。この「おいでよ亀有」「亀有は昨日も晴れだった」など、舞台の中で出演者達が歌った曲には「両津勘吉とこち亀うぃ〜ん合唱団」、「斉藤レイとこち亀うぃ〜ん合唱団」といった名義が使われているが、正式名称はこち亀うぃ〜ん少年合唱団である。\\n1999年版は1999年7月14日 - 8月15日の期間、銀座、亀有、神戸、大阪、滋賀の5つの劇場で公演された。また、2001年7月27日 - 9月2日の期間に、亀有、大阪、名古屋、静岡、浜松、銀座の6つの劇場で再公演された。\\n2003年版は2003年8月6日 - 8月30日の期間、銀座、土浦、富山、大阪、名古屋の5つの劇場で公演された。公演時のタイトルは『こちら葛飾区亀有公園前派出所 〜海パン刑事の逆襲・檸檬も出るのじゃ!〜』。\\n2006年版は2006年8月3日 - 8月13日の期間、新宿全労済ホールスペース・ゼロにて上演。公演時のタイトルは『こちら葛飾区亀有公園前派出所 〜30周年だよ！おいしいとこ取りスペシャル!!』。この2006年版はフジテレビ721でテレビ放送もされた。\\n2016年版は、東京で、2016年9月9日から9月19日まで、大阪で、9月23日から9月25日までの期間で上映、主演のラサール石井は脚本も担当。',\n",
                            " '=== ゲーム ===',\n",
                            " '1997年7月24日にPlayStation用ゲームソフト『こちら葛飾区亀有公園前派出所 ハイテクビル侵攻阻止作戦!の巻』、同年8月29日にセガサターン用ゲームソフト『こちら葛飾区亀有公園前派出所 中川ランド大レース!の巻』がバンダイ（後のバンダイナムコエンターテインメント）より発売された。どちらもキャラクターデザインおよびキャストはテレビアニメに準じたものとなっている。2010年6月17日にはニンテンドーDS用ゲームソフト『こちら葛飾区亀有公園前派出所 勝てば天国!負ければ地獄! 両津流 一攫千金大作戦!』がバンダイナムコゲームスより発売された。こちらもキャラクターデザインはテレビアニメに準じたものとなっている。\\nまた、バンダイより発売されたファミリーコンピュータ用ソフト『ファミコンジャンプ 英雄列伝』（1989年）と『ファミコンジャンプII 最強の7人』（1991年）、任天堂より発売されたニンテンドーDS用ソフト『ジャンプスーパースターズ』（2005年）、『ジャンプアルティメットスターズ』（2006年）、バンダイナムコゲームスより発売されたPlayStation 3/PS Vita用ソフト『ジェイスターズ ビクトリーバーサス』（2014年） にもそれぞれ登場した。',\n",
                            " '=== その他 ===\\n1978年に、ビクター音楽産業（現：JVCケンウッド・ビクターエンタテインメント）から発売したLPレコード『スーパー・サウンド・コミックス「少年ジャンプ」』では、永井一郎が両津役でイメージソング「リーゼントに銀のくし」を歌っている。1979年にテレビ朝日系のバラエティ番組『大正週間漫画 ゲラゲラ45』の1コーナーでスタジオコント劇が放送された。両津勘吉は角川博、中川圭一は団次郎、 大原大次郎は山本麟一、 秋本麗子は秋ひとみが演じた。1980年には、『宇宙怪獣ガメラ』の作中で、週刊少年ジャンプ1980年7号に掲載の「カメ型人間!の巻」（コミックス18巻に収録）が紹介され、亀有公園前派出所が登場し、両津によく似た警察官（演：桂小益）が登場する。\\u30002008年10月にポッカコーヒーとのコラボレーションが実施された。2012年の、サントリー「伊右衛門 ご飯がおいしいお茶」のテレビコマーシャルで、テレビアニメのシーンが使われた。 葛飾伊勢屋では「両さんどら焼き」「両さんサブレ」など関連商品数種を販売している。\\n2018年4月11日放送の『水曜日のダウンタウン』で「水曜日のダウンタウン～『こち亀』検証SP～」の2時間特番が放送され、『こち亀』に関連した様々な説を検証した。なお、この回のOPナレーションはアニメ版『こち亀』の両津役のラサール石井が務めた。\\n2019年9月5日に『雨上がり決死隊のトーク番組アメトーーク!』（テレビ朝日）にて『こち亀芸人』として放送された。',\n",
                            " '== こち亀銅像 ==',\n",
                            " '一般社会にも影響を与え、浅草神社には「生まれも育ちも浅草の両さん」にちなんで、単行本総発行部数1億3000万冊突破記念の石碑が建立されている。\\nまた、JR亀有駅北口には地元の商店街により制服姿の両津の銅像が建てられ、2006年2月11日、作者の秋本、ラサール石井が出席して除幕式が行われた（→ウィキニュース）。さらに南口にも法被姿の両津の銅像が建てられ、2006年11月18日に除幕式が行われた。\\n2006年3月3日にはアリオ亀有内にこち亀ゲームぱ〜くがオープンした。2008年11月8日には、両津勘吉の少年時代をかたどった「少年両さん像」の除幕式が行われ、当時の麻生太郎内閣総理大臣も出席している。\\n2010年3月13日には、「敬礼両さん像」、「サンバ両さん像」、「ダブルピース両さん像」、「少年よ、あの星を目指せ!両さん像」、「ワハハ両さん像」、「中川像」、「麗子像」、「本田像」の計8体の除幕式が行われた。その後、2011年8月6日には映画公開と連載35周年を記念して、ベンチに座ったスタイルの新しい両津像が公開された。',\n",
                            " '== 歴代担当編集者 ==\\n初代：堀内丸恵 - 約10年担当。\\n2代目：中村泰三 - 連載10年の50巻目から約2年半担当。\\n3代目：伊東健介 - 約2年弱担当。麻里愛登場時など。\\n4代目：佐々木尚 - 約1年担当。\\n5代目：大塚久永 - ゴキブリ大行進の巻以降約3年担当。15周年目。\\n6代目：小池正夫 - 約5年担当で90-120巻。20周年やアニメ化の時期。\\n7代目：稲生晋之 - 約4年担当。\\n8代目：中村忍 - 約2年担当。\\n9代目：中崎敦 - 2006年。服部\\n山中',\n",
                            " '== 脚注 ==\\n\\n\\n=== 注釈 ===\\n\\n\\n=== 出典 ===\\n\\n\\n== 関連項目 ==\\n\\nこちら葛飾区亀有公園前派出所の登場人物\\n週刊少年ジャンプ連載作品の一覧\\n100巻以上刊行している漫画作品\\n\\n\\n== 外部リンク ==\\nこち亀.com\\nこち亀ゲームぱ〜く\\n舞台版『こちら葛飾区亀有公園前派出所』公式サイト\\nこち亀OFFICIAL SITE']"
                        ]
                    },
                    "execution_count": 63,
                    "metadata": {},
                    "output_type": "execute_result"
                }
            ],
            "source": [
                "with open('data/content.txt') as f:\n",
                "    state_of_the_union = f.read()   \n",
                "\n",
                "text_splitter = CharacterTextSplitter(chunk_size=200, chunk_overlap=0)\n",
                "texts = text_splitter.split_text(state_of_the_union)\n",
                "texts\n"
            ]
        },
        {
            "cell_type": "code",
            "execution_count": 72,
            "id": "554b2b3d",
            "metadata": {},
            "outputs": [
                {
                    "name": "stderr",
                    "output_type": "stream",
                    "text": [
                        "Using embedded DuckDB without persistence: data will be transient\n"
                    ]
                },
                {
                    "name": "stdout",
                    "output_type": "stream",
                    "text": [
                        "////////////\n",
                        "200\n",
                        "////////////\n",
                        "200\n",
                        "////////////\n",
                        "200\n",
                        "////////////\n",
                        "200\n",
                        "////////////\n",
                        "200\n",
                        "////////////\n",
                        "200\n",
                        "////////////\n",
                        "200\n",
                        "////////////\n",
                        "200\n",
                        "////////////\n",
                        "200\n",
                        "////////////\n",
                        "200\n",
                        "////////////\n",
                        "200\n",
                        "////////////\n",
                        "200\n",
                        "////////////\n",
                        "200\n",
                        "////////////\n",
                        "200\n",
                        "////////////\n",
                        "200\n",
                        "////////////\n",
                        "200\n",
                        "////////////\n",
                        "200\n",
                        "////////////\n",
                        "200\n",
                        "////////////\n",
                        "200\n",
                        "////////////\n",
                        "200\n",
                        "////////////\n",
                        "200\n",
                        "////////////\n",
                        "200\n",
                        "////////////\n",
                        "200\n",
                        "////////////\n",
                        "200\n",
                        "////////////\n",
                        "200\n",
                        "////////////\n",
                        "200\n",
                        "////////////\n",
                        "200\n",
                        "////////////\n",
                        "200\n",
                        "////////////\n",
                        "200\n",
                        "////////////\n",
                        "200\n",
                        "////////////\n",
                        "200\n",
                        "////////////\n",
                        "200\n",
                        "////////////\n",
                        "200\n",
                        "////////////\n",
                        "200\n",
                        "////////////\n",
                        "200\n"
                    ]
                }
            ],
            "source": [
                "embeddings = OpenAIEmbeddings(deployment=\"text-embedding-ada-002\",chunk_size=1)\n",
                "# issue chunk_size=1\n",
                "# https://github.com/hwchase17/langchain/issues/1560#issuecomment-1481756446\n",
                "docsearch = Chroma.from_texts(texts,embeddings)\n",
                "    \n"
            ]
        },
        {
            "cell_type": "markdown",
            "id": "fcd9b71c",
            "metadata": {},
            "source": [
                "embeddings = OpenAIEmbeddings(deployment=\"text-embedding-ada-002\")\n",
                "docsearch = Chroma.from_texts(texts, embeddings)\n",
                "\n"
            ]
        },
        {
            "cell_type": "code",
            "execution_count": 71,
            "id": "e645af2f",
            "metadata": {},
            "outputs": [
                {
                    "name": "stdout",
                    "output_type": "stream",
                    "text": [
                        "////////////\n",
                        "200\n"
                    ]
                },
                {
                    "data": {
                        "text/plain": [
                            "[Document(page_content='一般社会にも影響を与え、浅草神社には「生まれも育ちも浅草の両さん」にちなんで、単行本総発行部数1億3000万冊突破記念の石碑が建立されている。\\nまた、JR亀有駅北口には地元の商店街により制服姿の両津の銅像が建てられ、2006年2月11日、作者の秋本、ラサール石井が出席して除幕式が行われた（→ウィキニュース）。さらに南口にも法被姿の両津の銅像が建てられ、2006年11月18日に除幕式が行われた。\\n2006年3月3日にはアリオ亀有内にこち亀ゲームぱ〜くがオープンした。2008年11月8日には、両津勘吉の少年時代をかたどった「少年両さん像」の除幕式が行われ、当時の麻生太郎内閣総理大臣も出席している。\\n2010年3月13日には、「敬礼両さん像」、「サンバ両さん像」、「ダブルピース両さん像」、「少年よ、あの星を目指せ!両さん像」、「ワハハ両さん像」、「中川像」、「麗子像」、「本田像」の計8体の除幕式が行われた。その後、2011年8月6日には映画公開と連載35周年を記念して、ベンチに座ったスタイルの新しい両津像が公開された。', metadata={}),\n",
                            " Document(page_content='両津 勘吉（りょうつ かんきち）\\n本作の主人公。台東区浅草生まれ。階級は巡査長。角刈りに左右がつながった太い眉が特徴で、服装は常に腕とズボンの裾をまくり、裸足にサンダル下駄を履いている。\\n人間の常識を遥かに超えた身体能力と生命力の持ち主。金儲けとギャンブルが大好きで、金が絡むと手段を選ばず、身の危険も顧みないことがある。手先が器用な無類の趣味人かつ道楽者で、交友関係は非常に広い。飲酒も好み、樽一杯の酒でも一人で飲み干せるほどの強靭な胃袋を持つ。発想力とバイタリティーに溢れ、様々な新商売を始めては成功を収めるが、大抵の場合は私欲に負けて最後は自滅してしまう。若い頃にはガッツを買われ、刑事課に所属していた時期もある。警察官らしからぬ問題行動を頻繁に起こしては上司の大原に叱責され、謹慎や減給や左遷などの処分を何度も受けている。一方、義理人情を重んじる性格で、同僚や市民が有事の際にはとても頼りになる存在でもあり、人望は厚い。愛称は主に「両さん」あるいは「両ちゃん」「勘ちゃん」。指導係巡査であるため中川と本田からは「先輩」と呼ばれている。\\n中川 圭一（なかがわ けいいち）\\n派出所メンバーの一人。両津の後輩で、階級は巡査。世界的大企業「中川コンツェルン」の御曹司であり、自身も系列会社をいくつも経営し、屋敷に住む。かなりの美形のため、女性にファンが多い。カーマニアなほか、射撃の腕はプロ並。日頃は冷静だが、パニックを起こすと言葉遣いが乱暴になることもある。両津の行動に巻き込まれて悲惨な目に遭うこともあるが、先輩として慕っている。\\n秋本 カトリーヌ 麗子（あきもと・カトリーヌ・れいこ）\\n派出所メンバーの一人。階級は巡査。神戸にある世界有数の企業「秋本貿易」の社長令嬢。日本人の父とフランス人の母を持つハーフ。スタイル抜群で包容力もある美女だが、男勝りな面もある。ピアノの演奏と洋菓子作りが上手い。両津のことは常に「両ちゃん」と呼んで対等に接している。\\n大原 大次郎（おおはら だいじろう）\\n両津たちの上司。階級は巡査部長で、公園前派出所の班長を務める。\\n生真面目で自他共に厳しく、騒動を起こす両津を怒鳴りつけては胃を痛めている。一方で人の上に立つ者としての器量も備え、両津や中川たちはもちろん住民からも尊敬されている。妻や孫たちには頭が上がらず流行や機械にも疎いため、両津に助力を求めることもしばしば。将棋、剣道、柔道の有段者。\\n本田 速人（ほんだ はやと）\\n交通課に所属する警官。階級は巡査。リーゼントヘアーと黄色いスカーフが特徴。警察官になる前は暴走族のリーダーだった。普段は気弱なお人好しで誰に対しても敬語で接するが、バイクに乗ると乱暴な口調・男気溢れる性格に豹変する。中川同様、両津の行動にはよく付き合わされるが、彼の優しさを理解している一人でもある。', metadata={}),\n",
                            " Document(page_content='両津巡査 - 玄田哲章\\n中川 - 井上和彦\\n巡査部長 - 高木均\\n007 - さとまさのり\\n寺井 - 石丸博也\\n戸塚 - 内田直哉\\n肉屋 - 屋良有作\\nのらA&B - ツーツーレロレロ（そのまんま東、大森うたえもん）\\n子ども - 江森浩子\\n子どもB - 定岡小百合\\n男 - 津久井教生\\n女 - 弘中くみ子', metadata={}),\n",
                            " Document(page_content='=== その他 ===\\n1978年に、ビクター音楽産業（現：JVCケンウッド・ビクターエンタテインメント）から発売したLPレコード『スーパー・サウンド・コミックス「少年ジャンプ」』では、永井一郎が両津役でイメージソング「リーゼントに銀のくし」を歌っている。1979年にテレビ朝日系のバラエティ番組『大正週間漫画 ゲラゲラ45』の1コーナーでスタジオコント劇が放送された。両津勘吉は角川博、中川圭一は団次郎、 大原大次郎は山本麟一、 秋本麗子は秋ひとみが演じた。1980年には、『宇宙怪獣ガメラ』の作中で、週刊少年ジャンプ1980年7号に掲載の「カメ型人間!の巻」（コミックス18巻に収録）が紹介され、亀有公園前派出所が登場し、両津によく似た警察官（演：桂小益）が登場する。\\u30002008年10月にポッカコーヒーとのコラボレーションが実施された。2012年の、サントリー「伊右衛門 ご飯がおいしいお茶」のテレビコマーシャルで、テレビアニメのシーンが使われた。 葛飾伊勢屋では「両さんどら焼き」「両さんサブレ」など関連商品数種を販売している。\\n2018年4月11日放送の『水曜日のダウンタウン』で「水曜日のダウンタウン～『こち亀』検証SP～」の2時間特番が放送され、『こち亀』に関連した様々な説を検証した。なお、この回のOPナレーションはアニメ版『こち亀』の両津役のラサール石井が務めた。\\n2019年9月5日に『雨上がり決死隊のトーク番組アメトーーク!』（テレビ朝日）にて『こち亀芸人』として放送された。', metadata={}),\n",
                            " Document(page_content='== 作品の舞台 ==\\n\\n主な舞台は亀有公園前派出所がある東京都葛飾区亀有地区、両津の実家がある東京都台東区浅草を中心とした下町、東京23区東部。ただし、話の展開によっては、日本国内はもとより全世界、宇宙、天国、地獄、過去、未来などを縦横無尽に駆け巡る。', metadata={})]"
                        ]
                    },
                    "execution_count": 71,
                    "metadata": {},
                    "output_type": "execute_result"
                }
            ],
            "source": [
                "query = \"両津\"\n",
                "docs = docsearch.similarity_search(query,k=5)\n",
                "docs    "
            ]
        },
        {
            "cell_type": "code",
            "execution_count": 66,
            "id": "7821f19e",
            "metadata": {},
            "outputs": [
                {
                    "name": "stdout",
                    "output_type": "stream",
                    "text": [
                        "////////////\n",
                        "200\n"
                    ]
                },
                {
                    "data": {
                        "text/plain": [
                            "[Document(page_content='両津巡査 - 玄田哲章\\n中川 - 井上和彦\\n巡査部長 - 高木均\\n007 - さとまさのり\\n寺井 - 石丸博也\\n戸塚 - 内田直哉\\n肉屋 - 屋良有作\\nのらA&B - ツーツーレロレロ（そのまんま東、大森うたえもん）\\n子ども - 江森浩子\\n子どもB - 定岡小百合\\n男 - 津久井教生\\n女 - 弘中くみ子', metadata={}),\n",
                            " Document(page_content='両津 勘吉（りょうつ かんきち）\\n本作の主人公。台東区浅草生まれ。階級は巡査長。角刈りに左右がつながった太い眉が特徴で、服装は常に腕とズボンの裾をまくり、裸足にサンダル下駄を履いている。\\n人間の常識を遥かに超えた身体能力と生命力の持ち主。金儲けとギャンブルが大好きで、金が絡むと手段を選ばず、身の危険も顧みないことがある。手先が器用な無類の趣味人かつ道楽者で、交友関係は非常に広い。飲酒も好み、樽一杯の酒でも一人で飲み干せるほどの強靭な胃袋を持つ。発想力とバイタリティーに溢れ、様々な新商売を始めては成功を収めるが、大抵の場合は私欲に負けて最後は自滅してしまう。若い頃にはガッツを買われ、刑事課に所属していた時期もある。警察官らしからぬ問題行動を頻繁に起こしては上司の大原に叱責され、謹慎や減給や左遷などの処分を何度も受けている。一方、義理人情を重んじる性格で、同僚や市民が有事の際にはとても頼りになる存在でもあり、人望は厚い。愛称は主に「両さん」あるいは「両ちゃん」「勘ちゃん」。指導係巡査であるため中川と本田からは「先輩」と呼ばれている。\\n中川 圭一（なかがわ けいいち）\\n派出所メンバーの一人。両津の後輩で、階級は巡査。世界的大企業「中川コンツェルン」の御曹司であり、自身も系列会社をいくつも経営し、屋敷に住む。かなりの美形のため、女性にファンが多い。カーマニアなほか、射撃の腕はプロ並。日頃は冷静だが、パニックを起こすと言葉遣いが乱暴になることもある。両津の行動に巻き込まれて悲惨な目に遭うこともあるが、先輩として慕っている。\\n秋本 カトリーヌ 麗子（あきもと・カトリーヌ・れいこ）\\n派出所メンバーの一人。階級は巡査。神戸にある世界有数の企業「秋本貿易」の社長令嬢。日本人の父とフランス人の母を持つハーフ。スタイル抜群で包容力もある美女だが、男勝りな面もある。ピアノの演奏と洋菓子作りが上手い。両津のことは常に「両ちゃん」と呼んで対等に接している。\\n大原 大次郎（おおはら だいじろう）\\n両津たちの上司。階級は巡査部長で、公園前派出所の班長を務める。\\n生真面目で自他共に厳しく、騒動を起こす両津を怒鳴りつけては胃を痛めている。一方で人の上に立つ者としての器量も備え、両津や中川たちはもちろん住民からも尊敬されている。妻や孫たちには頭が上がらず流行や機械にも疎いため、両津に助力を求めることもしばしば。将棋、剣道、柔道の有段者。\\n本田 速人（ほんだ はやと）\\n交通課に所属する警官。階級は巡査。リーゼントヘアーと黄色いスカーフが特徴。警察官になる前は暴走族のリーダーだった。普段は気弱なお人好しで誰に対しても敬語で接するが、バイクに乗ると乱暴な口調・男気溢れる性格に豹変する。中川同様、両津の行動にはよく付き合わされるが、彼の優しさを理解している一人でもある。', metadata={}),\n",
                            " Document(page_content='== こち亀銅像 ==', metadata={}),\n",
                            " Document(page_content='== 作品の舞台 ==\\n\\n主な舞台は亀有公園前派出所がある東京都葛飾区亀有地区、両津の実家がある東京都台東区浅草を中心とした下町、東京23区東部。ただし、話の展開によっては、日本国内はもとより全世界、宇宙、天国、地獄、過去、未来などを縦横無尽に駆け巡る。', metadata={}),\n",
                            " Document(page_content='一般社会にも影響を与え、浅草神社には「生まれも育ちも浅草の両さん」にちなんで、単行本総発行部数1億3000万冊突破記念の石碑が建立されている。\\nまた、JR亀有駅北口には地元の商店街により制服姿の両津の銅像が建てられ、2006年2月11日、作者の秋本、ラサール石井が出席して除幕式が行われた（→ウィキニュース）。さらに南口にも法被姿の両津の銅像が建てられ、2006年11月18日に除幕式が行われた。\\n2006年3月3日にはアリオ亀有内にこち亀ゲームぱ〜くがオープンした。2008年11月8日には、両津勘吉の少年時代をかたどった「少年両さん像」の除幕式が行われ、当時の麻生太郎内閣総理大臣も出席している。\\n2010年3月13日には、「敬礼両さん像」、「サンバ両さん像」、「ダブルピース両さん像」、「少年よ、あの星を目指せ!両さん像」、「ワハハ両さん像」、「中川像」、「麗子像」、「本田像」の計8体の除幕式が行われた。その後、2011年8月6日には映画公開と連載35周年を記念して、ベンチに座ったスタイルの新しい両津像が公開された。', metadata={})]"
                        ]
                    },
                    "execution_count": 66,
                    "metadata": {},
                    "output_type": "execute_result"
                }
            ],
            "source": [
                "query = \"中川\"\n",
                "docs = docsearch.similarity_search(query,k=5)\n",
                "docs    "
            ]
        },
        {
            "cell_type": "code",
            "execution_count": 67,
            "id": "852f85df",
            "metadata": {},
            "outputs": [
                {
                    "name": "stdout",
                    "output_type": "stream",
                    "text": [
                        "////////////\n",
                        "200\n"
                    ]
                },
                {
                    "data": {
                        "text/plain": [
                            "[Document(page_content='== 作品の舞台 ==\\n\\n主な舞台は亀有公園前派出所がある東京都葛飾区亀有地区、両津の実家がある東京都台東区浅草を中心とした下町、東京23区東部。ただし、話の展開によっては、日本国内はもとより全世界、宇宙、天国、地獄、過去、未来などを縦横無尽に駆け巡る。', metadata={}),\n",
                            " Document(page_content='両津巡査 - 玄田哲章\\n中川 - 井上和彦\\n巡査部長 - 高木均\\n007 - さとまさのり\\n寺井 - 石丸博也\\n戸塚 - 内田直哉\\n肉屋 - 屋良有作\\nのらA&B - ツーツーレロレロ（そのまんま東、大森うたえもん）\\n子ども - 江森浩子\\n子どもB - 定岡小百合\\n男 - 津久井教生\\n女 - 弘中くみ子', metadata={}),\n",
                            " Document(page_content='両津 勘吉（りょうつ かんきち）\\n本作の主人公。台東区浅草生まれ。階級は巡査長。角刈りに左右がつながった太い眉が特徴で、服装は常に腕とズボンの裾をまくり、裸足にサンダル下駄を履いている。\\n人間の常識を遥かに超えた身体能力と生命力の持ち主。金儲けとギャンブルが大好きで、金が絡むと手段を選ばず、身の危険も顧みないことがある。手先が器用な無類の趣味人かつ道楽者で、交友関係は非常に広い。飲酒も好み、樽一杯の酒でも一人で飲み干せるほどの強靭な胃袋を持つ。発想力とバイタリティーに溢れ、様々な新商売を始めては成功を収めるが、大抵の場合は私欲に負けて最後は自滅してしまう。若い頃にはガッツを買われ、刑事課に所属していた時期もある。警察官らしからぬ問題行動を頻繁に起こしては上司の大原に叱責され、謹慎や減給や左遷などの処分を何度も受けている。一方、義理人情を重んじる性格で、同僚や市民が有事の際にはとても頼りになる存在でもあり、人望は厚い。愛称は主に「両さん」あるいは「両ちゃん」「勘ちゃん」。指導係巡査であるため中川と本田からは「先輩」と呼ばれている。\\n中川 圭一（なかがわ けいいち）\\n派出所メンバーの一人。両津の後輩で、階級は巡査。世界的大企業「中川コンツェルン」の御曹司であり、自身も系列会社をいくつも経営し、屋敷に住む。かなりの美形のため、女性にファンが多い。カーマニアなほか、射撃の腕はプロ並。日頃は冷静だが、パニックを起こすと言葉遣いが乱暴になることもある。両津の行動に巻き込まれて悲惨な目に遭うこともあるが、先輩として慕っている。\\n秋本 カトリーヌ 麗子（あきもと・カトリーヌ・れいこ）\\n派出所メンバーの一人。階級は巡査。神戸にある世界有数の企業「秋本貿易」の社長令嬢。日本人の父とフランス人の母を持つハーフ。スタイル抜群で包容力もある美女だが、男勝りな面もある。ピアノの演奏と洋菓子作りが上手い。両津のことは常に「両ちゃん」と呼んで対等に接している。\\n大原 大次郎（おおはら だいじろう）\\n両津たちの上司。階級は巡査部長で、公園前派出所の班長を務める。\\n生真面目で自他共に厳しく、騒動を起こす両津を怒鳴りつけては胃を痛めている。一方で人の上に立つ者としての器量も備え、両津や中川たちはもちろん住民からも尊敬されている。妻や孫たちには頭が上がらず流行や機械にも疎いため、両津に助力を求めることもしばしば。将棋、剣道、柔道の有段者。\\n本田 速人（ほんだ はやと）\\n交通課に所属する警官。階級は巡査。リーゼントヘアーと黄色いスカーフが特徴。警察官になる前は暴走族のリーダーだった。普段は気弱なお人好しで誰に対しても敬語で接するが、バイクに乗ると乱暴な口調・男気溢れる性格に豹変する。中川同様、両津の行動にはよく付き合わされるが、彼の優しさを理解している一人でもある。', metadata={}),\n",
                            " Document(page_content='== 歴代担当編集者 ==\\n初代：堀内丸恵 - 約10年担当。\\n2代目：中村泰三 - 連載10年の50巻目から約2年半担当。\\n3代目：伊東健介 - 約2年弱担当。麻里愛登場時など。\\n4代目：佐々木尚 - 約1年担当。\\n5代目：大塚久永 - ゴキブリ大行進の巻以降約3年担当。15周年目。\\n6代目：小池正夫 - 約5年担当で90-120巻。20周年やアニメ化の時期。\\n7代目：稲生晋之 - 約4年担当。\\n8代目：中村忍 - 約2年担当。\\n9代目：中崎敦 - 2006年。服部\\n山中', metadata={}),\n",
                            " Document(page_content='2003年12月20日に公開された『こちら葛飾区亀有公園前派出所』の劇場アニメーション映画版第2作目である。両津が小学生時代の親友の娘・ミーナと共に、ハワイと日本を巻き込んで、UFOや竜巻・親友の死の謎に迫る。前作に引き続き監督を高松信司、脚本を大川俊道が務めた。エンディング曲はSEX MACHINEGUNS「語れ! 涙!」。\\n\\n\\n=== テレビドラマ ===', metadata={})]"
                        ]
                    },
                    "execution_count": 67,
                    "metadata": {},
                    "output_type": "execute_result"
                }
            ],
            "source": [
                "query = \"本田\"\n",
                "docs = docsearch.similarity_search(query,k=5)\n",
                "docs    "
            ]
        }
    ],
    "metadata": {
        "kernelspec": {
            "display_name": "Python 3 (ipykernel)",
            "language": "python",
            "name": "python3"
        },
        "language_info": {
            "codemirror_mode": {
                "name": "ipython",
                "version": 3
            },
            "file_extension": ".py",
            "mimetype": "text/x-python",
            "name": "python",
            "nbconvert_exporter": "python",
            "pygments_lexer": "ipython3",
            "version": "3.10.6"
        }
    },
    "nbformat": 4,
    "nbformat_minor": 5
}
