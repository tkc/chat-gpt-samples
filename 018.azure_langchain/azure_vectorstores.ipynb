{
    "cells": [
        {
            "attachments": {},
            "cell_type": "markdown",
            "id": "d5f777c3",
            "metadata": {},
            "source": [
                "## Vectorstores"
            ]
        },
        {
            "cell_type": "code",
            "execution_count": 16,
            "id": "ab65b9ae",
            "metadata": {},
            "outputs": [
                {
                    "name": "stdout",
                    "output_type": "stream",
                    "text": [
                        "Requirement already satisfied: openai in /usr/local/lib/python3.10/site-packages (from -r requirements.txt (line 1)) (0.27.0)\n",
                        "Collecting langchain==0.0.146 (from -r requirements.txt (line 2))\n",
                        "  Downloading langchain-0.0.146-py3-none-any.whl (600 kB)\n",
                        "\u001b[2K     \u001b[90m━━━━━━━━━━━━━━━━━━━━━━━━━━━━━━━━━━━━━━━\u001b[0m \u001b[32m600.7/600.7 kB\u001b[0m \u001b[31m8.1 MB/s\u001b[0m eta \u001b[36m0:00:00\u001b[0ma \u001b[36m0:00:01\u001b[0m\n",
                        "\u001b[?25hRequirement already satisfied: tiktoken in /usr/local/lib/python3.10/site-packages (from -r requirements.txt (line 3)) (0.3.1)\n",
                        "Requirement already satisfied: faiss-cpu in /usr/local/lib/python3.10/site-packages (from -r requirements.txt (line 4)) (1.7.3)\n",
                        "Requirement already satisfied: chromadb==0.3.21 in /usr/local/lib/python3.10/site-packages (from -r requirements.txt (line 5)) (0.3.21)\n",
                        "Requirement already satisfied: PyYAML>=5.4.1 in /usr/local/lib/python3.10/site-packages (from langchain==0.0.146->-r requirements.txt (line 2)) (6.0)\n",
                        "Requirement already satisfied: SQLAlchemy<2,>=1 in /usr/local/lib/python3.10/site-packages (from langchain==0.0.146->-r requirements.txt (line 2)) (1.4.46)\n",
                        "Requirement already satisfied: aiohttp<4.0.0,>=3.8.3 in /usr/local/lib/python3.10/site-packages (from langchain==0.0.146->-r requirements.txt (line 2)) (3.8.3)\n",
                        "Requirement already satisfied: async-timeout<5.0.0,>=4.0.0 in /usr/local/lib/python3.10/site-packages (from langchain==0.0.146->-r requirements.txt (line 2)) (4.0.2)\n",
                        "Requirement already satisfied: dataclasses-json<0.6.0,>=0.5.7 in /usr/local/lib/python3.10/site-packages (from langchain==0.0.146->-r requirements.txt (line 2)) (0.5.7)\n",
                        "Requirement already satisfied: numexpr<3.0.0,>=2.8.4 in /usr/local/lib/python3.10/site-packages (from langchain==0.0.146->-r requirements.txt (line 2)) (2.8.4)\n",
                        "Requirement already satisfied: numpy<2,>=1 in /usr/local/lib/python3.10/site-packages (from langchain==0.0.146->-r requirements.txt (line 2)) (1.23.5)\n",
                        "Requirement already satisfied: openapi-schema-pydantic<2.0,>=1.2 in /usr/local/lib/python3.10/site-packages (from langchain==0.0.146->-r requirements.txt (line 2)) (1.2.4)\n",
                        "Requirement already satisfied: pydantic<2,>=1 in /usr/local/lib/python3.10/site-packages (from langchain==0.0.146->-r requirements.txt (line 2)) (1.10.4)\n",
                        "Requirement already satisfied: requests<3,>=2 in /usr/local/lib/python3.10/site-packages (from langchain==0.0.146->-r requirements.txt (line 2)) (2.28.2)\n",
                        "Requirement already satisfied: tenacity<9.0.0,>=8.1.0 in /usr/local/lib/python3.10/site-packages (from langchain==0.0.146->-r requirements.txt (line 2)) (8.2.2)\n",
                        "Requirement already satisfied: tqdm>=4.48.0 in /usr/local/lib/python3.10/site-packages (from langchain==0.0.146->-r requirements.txt (line 2)) (4.64.1)\n",
                        "Requirement already satisfied: pandas>=1.3 in /usr/local/lib/python3.10/site-packages (from chromadb==0.3.21->-r requirements.txt (line 5)) (1.4.3)\n",
                        "Requirement already satisfied: hnswlib>=0.7 in /usr/local/lib/python3.10/site-packages (from chromadb==0.3.21->-r requirements.txt (line 5)) (0.7.0)\n",
                        "Requirement already satisfied: clickhouse-connect>=0.5.7 in /usr/local/lib/python3.10/site-packages (from chromadb==0.3.21->-r requirements.txt (line 5)) (0.5.23)\n",
                        "Requirement already satisfied: sentence-transformers>=2.2.2 in /usr/local/lib/python3.10/site-packages (from chromadb==0.3.21->-r requirements.txt (line 5)) (2.2.2)\n",
                        "Requirement already satisfied: duckdb>=0.7.1 in /usr/local/lib/python3.10/site-packages (from chromadb==0.3.21->-r requirements.txt (line 5)) (0.7.1)\n",
                        "Requirement already satisfied: fastapi>=0.85.1 in /usr/local/lib/python3.10/site-packages (from chromadb==0.3.21->-r requirements.txt (line 5)) (0.85.2)\n",
                        "Requirement already satisfied: uvicorn[standard]>=0.18.3 in /usr/local/lib/python3.10/site-packages (from chromadb==0.3.21->-r requirements.txt (line 5)) (0.18.3)\n",
                        "Requirement already satisfied: posthog>=2.4.0 in /usr/local/lib/python3.10/site-packages (from chromadb==0.3.21->-r requirements.txt (line 5)) (3.0.1)\n",
                        "Requirement already satisfied: regex>=2022.1.18 in /usr/local/lib/python3.10/site-packages (from tiktoken->-r requirements.txt (line 3)) (2022.10.31)\n",
                        "Requirement already satisfied: attrs>=17.3.0 in /usr/local/lib/python3.10/site-packages (from aiohttp<4.0.0,>=3.8.3->langchain==0.0.146->-r requirements.txt (line 2)) (22.2.0)\n",
                        "Requirement already satisfied: charset-normalizer<3.0,>=2.0 in /usr/local/lib/python3.10/site-packages (from aiohttp<4.0.0,>=3.8.3->langchain==0.0.146->-r requirements.txt (line 2)) (2.1.1)\n",
                        "Requirement already satisfied: multidict<7.0,>=4.5 in /usr/local/lib/python3.10/site-packages (from aiohttp<4.0.0,>=3.8.3->langchain==0.0.146->-r requirements.txt (line 2)) (6.0.4)\n",
                        "Requirement already satisfied: yarl<2.0,>=1.0 in /usr/local/lib/python3.10/site-packages (from aiohttp<4.0.0,>=3.8.3->langchain==0.0.146->-r requirements.txt (line 2)) (1.8.2)\n",
                        "Requirement already satisfied: frozenlist>=1.1.1 in /usr/local/lib/python3.10/site-packages (from aiohttp<4.0.0,>=3.8.3->langchain==0.0.146->-r requirements.txt (line 2)) (1.3.3)\n",
                        "Requirement already satisfied: aiosignal>=1.1.2 in /usr/local/lib/python3.10/site-packages (from aiohttp<4.0.0,>=3.8.3->langchain==0.0.146->-r requirements.txt (line 2)) (1.3.1)\n",
                        "Requirement already satisfied: certifi in /usr/local/lib/python3.10/site-packages (from clickhouse-connect>=0.5.7->chromadb==0.3.21->-r requirements.txt (line 5)) (2022.12.7)\n",
                        "Requirement already satisfied: urllib3>=1.26 in /usr/local/lib/python3.10/site-packages (from clickhouse-connect>=0.5.7->chromadb==0.3.21->-r requirements.txt (line 5)) (1.26.12)\n",
                        "Requirement already satisfied: pytz in /usr/local/lib/python3.10/site-packages (from clickhouse-connect>=0.5.7->chromadb==0.3.21->-r requirements.txt (line 5)) (2022.7.1)\n",
                        "Requirement already satisfied: zstandard in /usr/local/lib/python3.10/site-packages (from clickhouse-connect>=0.5.7->chromadb==0.3.21->-r requirements.txt (line 5)) (0.21.0)\n",
                        "Requirement already satisfied: lz4 in /usr/local/lib/python3.10/site-packages (from clickhouse-connect>=0.5.7->chromadb==0.3.21->-r requirements.txt (line 5)) (4.3.2)\n",
                        "Requirement already satisfied: marshmallow<4.0.0,>=3.3.0 in /usr/local/lib/python3.10/site-packages (from dataclasses-json<0.6.0,>=0.5.7->langchain==0.0.146->-r requirements.txt (line 2)) (3.19.0)\n",
                        "Requirement already satisfied: marshmallow-enum<2.0.0,>=1.5.1 in /usr/local/lib/python3.10/site-packages (from dataclasses-json<0.6.0,>=0.5.7->langchain==0.0.146->-r requirements.txt (line 2)) (1.5.1)\n",
                        "Requirement already satisfied: typing-inspect>=0.4.0 in /usr/local/lib/python3.10/site-packages (from dataclasses-json<0.6.0,>=0.5.7->langchain==0.0.146->-r requirements.txt (line 2)) (0.8.0)\n",
                        "Requirement already satisfied: starlette==0.20.4 in /usr/local/lib/python3.10/site-packages (from fastapi>=0.85.1->chromadb==0.3.21->-r requirements.txt (line 5)) (0.20.4)\n",
                        "Requirement already satisfied: anyio<5,>=3.4.0 in /usr/local/lib/python3.10/site-packages (from starlette==0.20.4->fastapi>=0.85.1->chromadb==0.3.21->-r requirements.txt (line 5)) (3.6.2)\n",
                        "Requirement already satisfied: python-dateutil>=2.8.1 in /usr/local/lib/python3.10/site-packages (from pandas>=1.3->chromadb==0.3.21->-r requirements.txt (line 5)) (2.8.2)\n",
                        "Requirement already satisfied: six>=1.5 in /usr/local/lib/python3.10/site-packages (from posthog>=2.4.0->chromadb==0.3.21->-r requirements.txt (line 5)) (1.16.0)\n",
                        "Requirement already satisfied: monotonic>=1.5 in /usr/local/lib/python3.10/site-packages (from posthog>=2.4.0->chromadb==0.3.21->-r requirements.txt (line 5)) (1.6)\n",
                        "Requirement already satisfied: backoff>=1.10.0 in /usr/local/lib/python3.10/site-packages (from posthog>=2.4.0->chromadb==0.3.21->-r requirements.txt (line 5)) (2.2.1)\n",
                        "Requirement already satisfied: typing-extensions>=4.2.0 in /usr/local/lib/python3.10/site-packages (from pydantic<2,>=1->langchain==0.0.146->-r requirements.txt (line 2)) (4.5.0)\n",
                        "Requirement already satisfied: idna<4,>=2.5 in /usr/local/lib/python3.10/site-packages (from requests<3,>=2->langchain==0.0.146->-r requirements.txt (line 2)) (3.4)\n",
                        "Requirement already satisfied: transformers<5.0.0,>=4.6.0 in /usr/local/lib/python3.10/site-packages (from sentence-transformers>=2.2.2->chromadb==0.3.21->-r requirements.txt (line 5)) (4.27.0.dev0)\n",
                        "Requirement already satisfied: torch>=1.6.0 in /usr/local/lib/python3.10/site-packages (from sentence-transformers>=2.2.2->chromadb==0.3.21->-r requirements.txt (line 5)) (1.13.1)\n",
                        "Requirement already satisfied: torchvision in /usr/local/lib/python3.10/site-packages (from sentence-transformers>=2.2.2->chromadb==0.3.21->-r requirements.txt (line 5)) (0.14.1)\n",
                        "Requirement already satisfied: scikit-learn in /usr/local/lib/python3.10/site-packages (from sentence-transformers>=2.2.2->chromadb==0.3.21->-r requirements.txt (line 5)) (1.2.1)\n",
                        "Requirement already satisfied: scipy in /usr/local/lib/python3.10/site-packages (from sentence-transformers>=2.2.2->chromadb==0.3.21->-r requirements.txt (line 5)) (1.10.1)\n",
                        "Requirement already satisfied: nltk in /usr/local/lib/python3.10/site-packages (from sentence-transformers>=2.2.2->chromadb==0.3.21->-r requirements.txt (line 5)) (3.8.1)\n",
                        "Requirement already satisfied: sentencepiece in /usr/local/lib/python3.10/site-packages (from sentence-transformers>=2.2.2->chromadb==0.3.21->-r requirements.txt (line 5)) (0.1.98)\n",
                        "Requirement already satisfied: huggingface-hub>=0.4.0 in /usr/local/lib/python3.10/site-packages (from sentence-transformers>=2.2.2->chromadb==0.3.21->-r requirements.txt (line 5)) (0.12.0)\n",
                        "Requirement already satisfied: greenlet!=0.4.17 in /usr/local/lib/python3.10/site-packages (from SQLAlchemy<2,>=1->langchain==0.0.146->-r requirements.txt (line 2)) (2.0.2)\n",
                        "Requirement already satisfied: click>=7.0 in /usr/local/lib/python3.10/site-packages (from uvicorn[standard]>=0.18.3->chromadb==0.3.21->-r requirements.txt (line 5)) (8.1.3)\n",
                        "Requirement already satisfied: h11>=0.8 in /usr/local/lib/python3.10/site-packages (from uvicorn[standard]>=0.18.3->chromadb==0.3.21->-r requirements.txt (line 5)) (0.14.0)\n",
                        "Requirement already satisfied: httptools>=0.4.0 in /usr/local/lib/python3.10/site-packages (from uvicorn[standard]>=0.18.3->chromadb==0.3.21->-r requirements.txt (line 5)) (0.5.0)\n",
                        "Requirement already satisfied: python-dotenv>=0.13 in /usr/local/lib/python3.10/site-packages (from uvicorn[standard]>=0.18.3->chromadb==0.3.21->-r requirements.txt (line 5)) (0.21.1)\n",
                        "Requirement already satisfied: uvloop!=0.15.0,!=0.15.1,>=0.14.0 in /usr/local/lib/python3.10/site-packages (from uvicorn[standard]>=0.18.3->chromadb==0.3.21->-r requirements.txt (line 5)) (0.17.0)\n",
                        "Requirement already satisfied: watchfiles>=0.13 in /usr/local/lib/python3.10/site-packages (from uvicorn[standard]>=0.18.3->chromadb==0.3.21->-r requirements.txt (line 5)) (0.19.0)\n",
                        "Requirement already satisfied: websockets>=10.0 in /usr/local/lib/python3.10/site-packages (from uvicorn[standard]>=0.18.3->chromadb==0.3.21->-r requirements.txt (line 5)) (10.4)\n",
                        "Requirement already satisfied: filelock in /usr/local/lib/python3.10/site-packages (from huggingface-hub>=0.4.0->sentence-transformers>=2.2.2->chromadb==0.3.21->-r requirements.txt (line 5)) (3.9.0)\n",
                        "Requirement already satisfied: packaging>=20.9 in /usr/local/lib/python3.10/site-packages (from huggingface-hub>=0.4.0->sentence-transformers>=2.2.2->chromadb==0.3.21->-r requirements.txt (line 5)) (23.1)\n",
                        "Requirement already satisfied: tokenizers!=0.11.3,<0.14,>=0.11.1 in /usr/local/lib/python3.10/site-packages (from transformers<5.0.0,>=4.6.0->sentence-transformers>=2.2.2->chromadb==0.3.21->-r requirements.txt (line 5)) (0.13.3)\n",
                        "Requirement already satisfied: mypy-extensions>=0.3.0 in /usr/local/lib/python3.10/site-packages (from typing-inspect>=0.4.0->dataclasses-json<0.6.0,>=0.5.7->langchain==0.0.146->-r requirements.txt (line 2)) (1.0.0)\n",
                        "Requirement already satisfied: joblib in /usr/local/lib/python3.10/site-packages (from nltk->sentence-transformers>=2.2.2->chromadb==0.3.21->-r requirements.txt (line 5)) (1.2.0)\n",
                        "Requirement already satisfied: threadpoolctl>=2.0.0 in /usr/local/lib/python3.10/site-packages (from scikit-learn->sentence-transformers>=2.2.2->chromadb==0.3.21->-r requirements.txt (line 5)) (3.1.0)\n",
                        "Requirement already satisfied: pillow!=8.3.*,>=5.3.0 in /usr/local/lib/python3.10/site-packages (from torchvision->sentence-transformers>=2.2.2->chromadb==0.3.21->-r requirements.txt (line 5)) (9.4.0)\n",
                        "Requirement already satisfied: sniffio>=1.1 in /usr/local/lib/python3.10/site-packages (from anyio<5,>=3.4.0->starlette==0.20.4->fastapi>=0.85.1->chromadb==0.3.21->-r requirements.txt (line 5)) (1.3.0)\n",
                        "Installing collected packages: langchain\n",
                        "  Attempting uninstall: langchain\n",
                        "    Found existing installation: langchain 0.0.157\n",
                        "    Uninstalling langchain-0.0.157:\n",
                        "      Successfully uninstalled langchain-0.0.157\n",
                        "\u001b[31mERROR: pip's dependency resolver does not currently take into account all the packages that are installed. This behaviour is the source of the following dependency conflicts.\n",
                        "llama-index 0.6.0 requires langchain>=0.0.152, but you have langchain 0.0.146 which is incompatible.\u001b[0m\u001b[31m\n",
                        "\u001b[0mSuccessfully installed langchain-0.0.146\n",
                        "Note: you may need to restart the kernel to use updated packages.\n"
                    ]
                }
            ],
            "source": [
                "%pip install -r requirements.txt"
            ]
        },
        {
            "cell_type": "code",
            "execution_count": 1,
            "id": "853669ad",
            "metadata": {},
            "outputs": [],
            "source": [
                "import os\n",
                "from dotenv import load_dotenv\n",
                "load_dotenv()\n",
                "\n",
                "AZURE_DEPLOYMENT_NAME= os.environ['AZURE_DEPLOYMENT_NAME']\n",
                "os.environ[\"OPENAI_API_TYPE\"] = \"azure\"\n",
                "os.environ[\"OPENAI_API_KEY\"] = os.environ['API_KEY']\n",
                "os.environ[\"OPENAI_API_BASE\"] = os.environ['AZURE_API_BASE']\n",
                "os.environ[\"OPENAI_VERSION\"] = \"2023-03-15-preview\"\n"
            ]
        },
        {
            "cell_type": "code",
            "execution_count": 2,
            "id": "1c9d405c",
            "metadata": {},
            "outputs": [],
            "source": [
                "from langchain.embeddings.openai import OpenAIEmbeddings\n",
                "from langchain.text_splitter import CharacterTextSplitter\n",
                "from langchain.vectorstores import Chroma\n"
            ]
        },
        {
            "cell_type": "code",
            "execution_count": 33,
            "id": "ca8bdaf0",
            "metadata": {},
            "outputs": [
                {
                    "name": "stderr",
                    "output_type": "stream",
                    "text": [
                        "Created a chunk of size 549, which is longer than the specified 15\n"
                    ]
                }
            ],
            "source": [
                "with open('data/dragonball.txt') as f:\n",
                "    state_of_the_union = f.read()\n",
                "\n",
                "text_splitter = CharacterTextSplitter(chunk_size=15, chunk_overlap=0)\n",
                "texts = text_splitter.split_text(state_of_the_union)\n",
                "\n"
            ]
        },
        {
            "cell_type": "code",
            "execution_count": 34,
            "id": "fcd9b71c",
            "metadata": {},
            "outputs": [
                {
                    "name": "stderr",
                    "output_type": "stream",
                    "text": [
                        "Using embedded DuckDB without persistence: data will be transient\n"
                    ]
                },
                {
                    "name": "stdout",
                    "output_type": "stream",
                    "text": [
                        "////////////\n",
                        "200\n"
                    ]
                }
            ],
            "source": [
                "embeddings = OpenAIEmbeddings(\n",
                "    deployment=\"text-embedding-ada-002\")\n",
                "    \n",
                "docsearch = Chroma.from_texts(texts, embeddings)\n"
            ]
        },
        {
            "cell_type": "code",
            "execution_count": 37,
            "id": "e645af2f",
            "metadata": {},
            "outputs": [
                {
                    "name": "stdout",
                    "output_type": "stream",
                    "text": [
                        "////////////\n",
                        "200\n"
                    ]
                }
            ],
            "source": [
                "query = \"修行\"\n",
                "docs = docsearch.similarity_search(query,k=4)"
            ]
        },
        {
            "cell_type": "code",
            "execution_count": 38,
            "id": "7821f19e",
            "metadata": {},
            "outputs": [
                {
                    "data": {
                        "text/plain": [
                            "[Document(page_content='孫悟空少年編', metadata={}),\n",
                            " Document(page_content='天下一武道会終了後、', metadata={}),\n",
                            " Document(page_content='地球の人里離れた山奥に住む尻尾の生えた少年・孫悟空はある日、西の都からやって来た少女・ブルマと出会う。そこで、7つ集めると神龍（シェンロン）が現れ、どんな願いでも一つだけ叶えてくれるというドラゴンボールの存在を、さらに育ての親である孫悟飯の形見として大切に持っていた球がその1つ「四星球（スーシンチュウ）」であることを知り、ブルマと共に残りのドラゴンボールを探す旅に出る。人さらいのウーロンや盗賊のヤムチャらを巻き込んだボール探しの末、世界征服を企むピラフ一味にボールを奪われ神龍を呼び出されるが、ウーロンがとっさに言い放った下らない願いを叶えてもらうことで一味の野望を阻止する。\\nその後、悟空は旅の途中に知り合った武術の達人・亀仙人の下で、後に親友となるクリリンと共に8か月間にわたる修行を積み、その成果を確かめるために世界一の武術の達人を決める天下一武道会に出場し、変装して出場していた亀仙人に敗れるも準優勝を果たす。悟空は再び修行の旅へと出発し、ドラゴンボールの悪用を企むレッドリボン軍との闘いや、孫悟飯との再会などを経てさらに強さを増していく。さらに3年後の天下一武道会では、亀仙流のライバルである鶴仙流の天津飯（てんしんはん）と闘うが、あと一歩のところで敗れ、前回と同じく準優勝に終わる。', metadata={}),\n",
                            " Document(page_content='ピッコロ大魔王編', metadata={})]"
                        ]
                    },
                    "execution_count": 38,
                    "metadata": {},
                    "output_type": "execute_result"
                }
            ],
            "source": [
                "docs"
            ]
        }
    ],
    "metadata": {
        "kernelspec": {
            "display_name": "Python 3 (ipykernel)",
            "language": "python",
            "name": "python3"
        },
        "language_info": {
            "codemirror_mode": {
                "name": "ipython",
                "version": 3
            },
            "file_extension": ".py",
            "mimetype": "text/x-python",
            "name": "python",
            "nbconvert_exporter": "python",
            "pygments_lexer": "ipython3",
            "version": "3.10.6"
        }
    },
    "nbformat": 4,
    "nbformat_minor": 5
}
