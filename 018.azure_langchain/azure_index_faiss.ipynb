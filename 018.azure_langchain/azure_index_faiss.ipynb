{
    "cells": [
        {
            "attachments": {},
            "cell_type": "markdown",
            "id": "d5f777c3",
            "metadata": {},
            "source": [
                "## Index FAISS\n"
            ]
        },
        {
            "cell_type": "code",
            "execution_count": 1,
            "id": "ab65b9ae",
            "metadata": {},
            "outputs": [
                {
                    "name": "stdout",
                    "output_type": "stream",
                    "text": [
                        "Requirement already satisfied: openai in /usr/local/lib/python3.10/site-packages (from -r requirements.txt (line 1)) (0.27.0)\n",
                        "Requirement already satisfied: langchain==0.0.146 in /usr/local/lib/python3.10/site-packages (from -r requirements.txt (line 2)) (0.0.146)\n",
                        "Requirement already satisfied: tiktoken in /usr/local/lib/python3.10/site-packages (from -r requirements.txt (line 3)) (0.3.1)\n",
                        "Requirement already satisfied: chromadb==0.3.21 in /usr/local/lib/python3.10/site-packages (from -r requirements.txt (line 4)) (0.3.21)\n",
                        "Requirement already satisfied: wikipedia in /usr/local/lib/python3.10/site-packages (from -r requirements.txt (line 5)) (1.4.0)\n",
                        "Requirement already satisfied: faiss-cpu in /usr/local/lib/python3.10/site-packages (from -r requirements.txt (line 6)) (1.7.3)\n",
                        "Requirement already satisfied: deeplake in /usr/local/lib/python3.10/site-packages (from -r requirements.txt (line 7)) (3.4.0)\n",
                        "Requirement already satisfied: PyYAML>=5.4.1 in /usr/local/lib/python3.10/site-packages (from langchain==0.0.146->-r requirements.txt (line 2)) (6.0)\n",
                        "Requirement already satisfied: SQLAlchemy<2,>=1 in /usr/local/lib/python3.10/site-packages (from langchain==0.0.146->-r requirements.txt (line 2)) (1.4.46)\n",
                        "Requirement already satisfied: aiohttp<4.0.0,>=3.8.3 in /usr/local/lib/python3.10/site-packages (from langchain==0.0.146->-r requirements.txt (line 2)) (3.8.3)\n",
                        "Requirement already satisfied: async-timeout<5.0.0,>=4.0.0 in /usr/local/lib/python3.10/site-packages (from langchain==0.0.146->-r requirements.txt (line 2)) (4.0.2)\n",
                        "Requirement already satisfied: dataclasses-json<0.6.0,>=0.5.7 in /usr/local/lib/python3.10/site-packages (from langchain==0.0.146->-r requirements.txt (line 2)) (0.5.7)\n",
                        "Requirement already satisfied: numexpr<3.0.0,>=2.8.4 in /usr/local/lib/python3.10/site-packages (from langchain==0.0.146->-r requirements.txt (line 2)) (2.8.4)\n",
                        "Requirement already satisfied: numpy<2,>=1 in /usr/local/lib/python3.10/site-packages (from langchain==0.0.146->-r requirements.txt (line 2)) (1.23.5)\n",
                        "Requirement already satisfied: openapi-schema-pydantic<2.0,>=1.2 in /usr/local/lib/python3.10/site-packages (from langchain==0.0.146->-r requirements.txt (line 2)) (1.2.4)\n",
                        "Requirement already satisfied: pydantic<2,>=1 in /usr/local/lib/python3.10/site-packages (from langchain==0.0.146->-r requirements.txt (line 2)) (1.10.4)\n",
                        "Requirement already satisfied: requests<3,>=2 in /usr/local/lib/python3.10/site-packages (from langchain==0.0.146->-r requirements.txt (line 2)) (2.28.2)\n",
                        "Requirement already satisfied: tenacity<9.0.0,>=8.1.0 in /usr/local/lib/python3.10/site-packages (from langchain==0.0.146->-r requirements.txt (line 2)) (8.2.2)\n",
                        "Requirement already satisfied: tqdm>=4.48.0 in /usr/local/lib/python3.10/site-packages (from langchain==0.0.146->-r requirements.txt (line 2)) (4.64.1)\n",
                        "Requirement already satisfied: pandas>=1.3 in /usr/local/lib/python3.10/site-packages (from chromadb==0.3.21->-r requirements.txt (line 4)) (1.4.3)\n",
                        "Requirement already satisfied: hnswlib>=0.7 in /usr/local/lib/python3.10/site-packages (from chromadb==0.3.21->-r requirements.txt (line 4)) (0.7.0)\n",
                        "Requirement already satisfied: clickhouse-connect>=0.5.7 in /usr/local/lib/python3.10/site-packages (from chromadb==0.3.21->-r requirements.txt (line 4)) (0.5.23)\n",
                        "Requirement already satisfied: sentence-transformers>=2.2.2 in /usr/local/lib/python3.10/site-packages (from chromadb==0.3.21->-r requirements.txt (line 4)) (2.2.2)\n",
                        "Requirement already satisfied: duckdb>=0.7.1 in /usr/local/lib/python3.10/site-packages (from chromadb==0.3.21->-r requirements.txt (line 4)) (0.7.1)\n",
                        "Requirement already satisfied: fastapi>=0.85.1 in /usr/local/lib/python3.10/site-packages (from chromadb==0.3.21->-r requirements.txt (line 4)) (0.85.2)\n",
                        "Requirement already satisfied: uvicorn[standard]>=0.18.3 in /usr/local/lib/python3.10/site-packages (from chromadb==0.3.21->-r requirements.txt (line 4)) (0.18.3)\n",
                        "Requirement already satisfied: posthog>=2.4.0 in /usr/local/lib/python3.10/site-packages (from chromadb==0.3.21->-r requirements.txt (line 4)) (3.0.1)\n",
                        "Requirement already satisfied: regex>=2022.1.18 in /usr/local/lib/python3.10/site-packages (from tiktoken->-r requirements.txt (line 3)) (2022.10.31)\n",
                        "Requirement already satisfied: beautifulsoup4 in /usr/local/lib/python3.10/site-packages (from wikipedia->-r requirements.txt (line 5)) (4.11.1)\n",
                        "Requirement already satisfied: pillow in /usr/local/lib/python3.10/site-packages (from deeplake->-r requirements.txt (line 7)) (9.4.0)\n",
                        "Requirement already satisfied: boto3 in /usr/local/lib/python3.10/site-packages (from deeplake->-r requirements.txt (line 7)) (1.26.76)\n",
                        "Requirement already satisfied: click in /usr/local/lib/python3.10/site-packages (from deeplake->-r requirements.txt (line 7)) (8.1.3)\n",
                        "Requirement already satisfied: pathos in /usr/local/lib/python3.10/site-packages (from deeplake->-r requirements.txt (line 7)) (0.3.0)\n",
                        "Requirement already satisfied: humbug>=0.3.1 in /usr/local/lib/python3.10/site-packages (from deeplake->-r requirements.txt (line 7)) (0.3.1)\n",
                        "Requirement already satisfied: numcodecs in /usr/local/lib/python3.10/site-packages (from deeplake->-r requirements.txt (line 7)) (0.11.0)\n",
                        "Requirement already satisfied: pyjwt in /usr/local/lib/python3.10/site-packages (from deeplake->-r requirements.txt (line 7)) (2.6.0)\n",
                        "Requirement already satisfied: aioboto3>=10.4.0 in /usr/local/lib/python3.10/site-packages (from deeplake->-r requirements.txt (line 7)) (11.1.0)\n",
                        "Requirement already satisfied: nest-asyncio in /usr/local/lib/python3.10/site-packages (from deeplake->-r requirements.txt (line 7)) (1.5.5)\n",
                        "Requirement already satisfied: aiobotocore[boto3]==2.5.0 in /usr/local/lib/python3.10/site-packages (from aioboto3>=10.4.0->deeplake->-r requirements.txt (line 7)) (2.5.0)\n",
                        "Requirement already satisfied: botocore<1.29.77,>=1.29.76 in /usr/local/lib/python3.10/site-packages (from aiobotocore[boto3]==2.5.0->aioboto3>=10.4.0->deeplake->-r requirements.txt (line 7)) (1.29.76)\n",
                        "Requirement already satisfied: wrapt>=1.10.10 in /usr/local/lib/python3.10/site-packages (from aiobotocore[boto3]==2.5.0->aioboto3>=10.4.0->deeplake->-r requirements.txt (line 7)) (1.14.1)\n",
                        "Requirement already satisfied: aioitertools>=0.5.1 in /usr/local/lib/python3.10/site-packages (from aiobotocore[boto3]==2.5.0->aioboto3>=10.4.0->deeplake->-r requirements.txt (line 7)) (0.11.0)\n",
                        "Requirement already satisfied: attrs>=17.3.0 in /usr/local/lib/python3.10/site-packages (from aiohttp<4.0.0,>=3.8.3->langchain==0.0.146->-r requirements.txt (line 2)) (22.2.0)\n",
                        "Requirement already satisfied: charset-normalizer<3.0,>=2.0 in /usr/local/lib/python3.10/site-packages (from aiohttp<4.0.0,>=3.8.3->langchain==0.0.146->-r requirements.txt (line 2)) (2.1.1)\n",
                        "Requirement already satisfied: multidict<7.0,>=4.5 in /usr/local/lib/python3.10/site-packages (from aiohttp<4.0.0,>=3.8.3->langchain==0.0.146->-r requirements.txt (line 2)) (6.0.4)\n",
                        "Requirement already satisfied: yarl<2.0,>=1.0 in /usr/local/lib/python3.10/site-packages (from aiohttp<4.0.0,>=3.8.3->langchain==0.0.146->-r requirements.txt (line 2)) (1.8.2)\n",
                        "Requirement already satisfied: frozenlist>=1.1.1 in /usr/local/lib/python3.10/site-packages (from aiohttp<4.0.0,>=3.8.3->langchain==0.0.146->-r requirements.txt (line 2)) (1.3.3)\n",
                        "Requirement already satisfied: aiosignal>=1.1.2 in /usr/local/lib/python3.10/site-packages (from aiohttp<4.0.0,>=3.8.3->langchain==0.0.146->-r requirements.txt (line 2)) (1.3.1)\n",
                        "Requirement already satisfied: jmespath<2.0.0,>=0.7.1 in /usr/local/lib/python3.10/site-packages (from boto3->deeplake->-r requirements.txt (line 7)) (1.0.1)\n",
                        "Requirement already satisfied: s3transfer<0.7.0,>=0.6.0 in /usr/local/lib/python3.10/site-packages (from boto3->deeplake->-r requirements.txt (line 7)) (0.6.0)\n",
                        "Requirement already satisfied: certifi in /usr/local/lib/python3.10/site-packages (from clickhouse-connect>=0.5.7->chromadb==0.3.21->-r requirements.txt (line 4)) (2022.12.7)\n",
                        "Requirement already satisfied: urllib3>=1.26 in /usr/local/lib/python3.10/site-packages (from clickhouse-connect>=0.5.7->chromadb==0.3.21->-r requirements.txt (line 4)) (1.26.12)\n",
                        "Requirement already satisfied: pytz in /usr/local/lib/python3.10/site-packages (from clickhouse-connect>=0.5.7->chromadb==0.3.21->-r requirements.txt (line 4)) (2022.7.1)\n",
                        "Requirement already satisfied: zstandard in /usr/local/lib/python3.10/site-packages (from clickhouse-connect>=0.5.7->chromadb==0.3.21->-r requirements.txt (line 4)) (0.21.0)\n",
                        "Requirement already satisfied: lz4 in /usr/local/lib/python3.10/site-packages (from clickhouse-connect>=0.5.7->chromadb==0.3.21->-r requirements.txt (line 4)) (4.3.2)\n",
                        "Requirement already satisfied: marshmallow<4.0.0,>=3.3.0 in /usr/local/lib/python3.10/site-packages (from dataclasses-json<0.6.0,>=0.5.7->langchain==0.0.146->-r requirements.txt (line 2)) (3.19.0)\n",
                        "Requirement already satisfied: marshmallow-enum<2.0.0,>=1.5.1 in /usr/local/lib/python3.10/site-packages (from dataclasses-json<0.6.0,>=0.5.7->langchain==0.0.146->-r requirements.txt (line 2)) (1.5.1)\n",
                        "Requirement already satisfied: typing-inspect>=0.4.0 in /usr/local/lib/python3.10/site-packages (from dataclasses-json<0.6.0,>=0.5.7->langchain==0.0.146->-r requirements.txt (line 2)) (0.8.0)\n",
                        "Requirement already satisfied: starlette==0.20.4 in /usr/local/lib/python3.10/site-packages (from fastapi>=0.85.1->chromadb==0.3.21->-r requirements.txt (line 4)) (0.20.4)\n",
                        "Requirement already satisfied: anyio<5,>=3.4.0 in /usr/local/lib/python3.10/site-packages (from starlette==0.20.4->fastapi>=0.85.1->chromadb==0.3.21->-r requirements.txt (line 4)) (3.6.2)\n",
                        "Requirement already satisfied: python-dateutil>=2.8.1 in /usr/local/lib/python3.10/site-packages (from pandas>=1.3->chromadb==0.3.21->-r requirements.txt (line 4)) (2.8.2)\n",
                        "Requirement already satisfied: six>=1.5 in /usr/local/lib/python3.10/site-packages (from posthog>=2.4.0->chromadb==0.3.21->-r requirements.txt (line 4)) (1.16.0)\n",
                        "Requirement already satisfied: monotonic>=1.5 in /usr/local/lib/python3.10/site-packages (from posthog>=2.4.0->chromadb==0.3.21->-r requirements.txt (line 4)) (1.6)\n",
                        "Requirement already satisfied: backoff>=1.10.0 in /usr/local/lib/python3.10/site-packages (from posthog>=2.4.0->chromadb==0.3.21->-r requirements.txt (line 4)) (2.2.1)\n",
                        "Requirement already satisfied: typing-extensions>=4.2.0 in /usr/local/lib/python3.10/site-packages (from pydantic<2,>=1->langchain==0.0.146->-r requirements.txt (line 2)) (4.5.0)\n",
                        "Requirement already satisfied: idna<4,>=2.5 in /usr/local/lib/python3.10/site-packages (from requests<3,>=2->langchain==0.0.146->-r requirements.txt (line 2)) (3.4)\n",
                        "Requirement already satisfied: transformers<5.0.0,>=4.6.0 in /usr/local/lib/python3.10/site-packages (from sentence-transformers>=2.2.2->chromadb==0.3.21->-r requirements.txt (line 4)) (4.27.0.dev0)\n",
                        "Requirement already satisfied: torch>=1.6.0 in /usr/local/lib/python3.10/site-packages (from sentence-transformers>=2.2.2->chromadb==0.3.21->-r requirements.txt (line 4)) (1.13.1)\n",
                        "Requirement already satisfied: torchvision in /usr/local/lib/python3.10/site-packages (from sentence-transformers>=2.2.2->chromadb==0.3.21->-r requirements.txt (line 4)) (0.14.1)\n",
                        "Requirement already satisfied: scikit-learn in /usr/local/lib/python3.10/site-packages (from sentence-transformers>=2.2.2->chromadb==0.3.21->-r requirements.txt (line 4)) (1.2.1)\n",
                        "Requirement already satisfied: scipy in /usr/local/lib/python3.10/site-packages (from sentence-transformers>=2.2.2->chromadb==0.3.21->-r requirements.txt (line 4)) (1.10.1)\n",
                        "Requirement already satisfied: nltk in /usr/local/lib/python3.10/site-packages (from sentence-transformers>=2.2.2->chromadb==0.3.21->-r requirements.txt (line 4)) (3.8.1)\n",
                        "Requirement already satisfied: sentencepiece in /usr/local/lib/python3.10/site-packages (from sentence-transformers>=2.2.2->chromadb==0.3.21->-r requirements.txt (line 4)) (0.1.98)\n",
                        "Requirement already satisfied: huggingface-hub>=0.4.0 in /usr/local/lib/python3.10/site-packages (from sentence-transformers>=2.2.2->chromadb==0.3.21->-r requirements.txt (line 4)) (0.12.0)\n",
                        "Requirement already satisfied: greenlet!=0.4.17 in /usr/local/lib/python3.10/site-packages (from SQLAlchemy<2,>=1->langchain==0.0.146->-r requirements.txt (line 2)) (2.0.2)\n",
                        "Requirement already satisfied: h11>=0.8 in /usr/local/lib/python3.10/site-packages (from uvicorn[standard]>=0.18.3->chromadb==0.3.21->-r requirements.txt (line 4)) (0.14.0)\n",
                        "Requirement already satisfied: httptools>=0.4.0 in /usr/local/lib/python3.10/site-packages (from uvicorn[standard]>=0.18.3->chromadb==0.3.21->-r requirements.txt (line 4)) (0.5.0)\n",
                        "Requirement already satisfied: python-dotenv>=0.13 in /usr/local/lib/python3.10/site-packages (from uvicorn[standard]>=0.18.3->chromadb==0.3.21->-r requirements.txt (line 4)) (0.21.1)\n",
                        "Requirement already satisfied: uvloop!=0.15.0,!=0.15.1,>=0.14.0 in /usr/local/lib/python3.10/site-packages (from uvicorn[standard]>=0.18.3->chromadb==0.3.21->-r requirements.txt (line 4)) (0.17.0)\n",
                        "Requirement already satisfied: watchfiles>=0.13 in /usr/local/lib/python3.10/site-packages (from uvicorn[standard]>=0.18.3->chromadb==0.3.21->-r requirements.txt (line 4)) (0.19.0)\n",
                        "Requirement already satisfied: websockets>=10.0 in /usr/local/lib/python3.10/site-packages (from uvicorn[standard]>=0.18.3->chromadb==0.3.21->-r requirements.txt (line 4)) (10.4)\n",
                        "Requirement already satisfied: soupsieve>1.2 in /usr/local/lib/python3.10/site-packages (from beautifulsoup4->wikipedia->-r requirements.txt (line 5)) (2.3.2.post1)\n",
                        "Requirement already satisfied: entrypoints in /usr/local/lib/python3.10/site-packages (from numcodecs->deeplake->-r requirements.txt (line 7)) (0.4)\n",
                        "Requirement already satisfied: ppft>=1.7.6.6 in /usr/local/lib/python3.10/site-packages (from pathos->deeplake->-r requirements.txt (line 7)) (1.7.6.6)\n",
                        "Requirement already satisfied: dill>=0.3.6 in /usr/local/lib/python3.10/site-packages (from pathos->deeplake->-r requirements.txt (line 7)) (0.3.6)\n",
                        "Requirement already satisfied: pox>=0.3.2 in /usr/local/lib/python3.10/site-packages (from pathos->deeplake->-r requirements.txt (line 7)) (0.3.2)\n",
                        "Requirement already satisfied: multiprocess>=0.70.14 in /usr/local/lib/python3.10/site-packages (from pathos->deeplake->-r requirements.txt (line 7)) (0.70.14)\n",
                        "Requirement already satisfied: filelock in /usr/local/lib/python3.10/site-packages (from huggingface-hub>=0.4.0->sentence-transformers>=2.2.2->chromadb==0.3.21->-r requirements.txt (line 4)) (3.9.0)\n",
                        "Requirement already satisfied: packaging>=20.9 in /usr/local/lib/python3.10/site-packages (from huggingface-hub>=0.4.0->sentence-transformers>=2.2.2->chromadb==0.3.21->-r requirements.txt (line 4)) (23.1)\n",
                        "Requirement already satisfied: tokenizers!=0.11.3,<0.14,>=0.11.1 in /usr/local/lib/python3.10/site-packages (from transformers<5.0.0,>=4.6.0->sentence-transformers>=2.2.2->chromadb==0.3.21->-r requirements.txt (line 4)) (0.13.3)\n",
                        "Requirement already satisfied: mypy-extensions>=0.3.0 in /usr/local/lib/python3.10/site-packages (from typing-inspect>=0.4.0->dataclasses-json<0.6.0,>=0.5.7->langchain==0.0.146->-r requirements.txt (line 2)) (1.0.0)\n",
                        "Requirement already satisfied: joblib in /usr/local/lib/python3.10/site-packages (from nltk->sentence-transformers>=2.2.2->chromadb==0.3.21->-r requirements.txt (line 4)) (1.2.0)\n",
                        "Requirement already satisfied: threadpoolctl>=2.0.0 in /usr/local/lib/python3.10/site-packages (from scikit-learn->sentence-transformers>=2.2.2->chromadb==0.3.21->-r requirements.txt (line 4)) (3.1.0)\n",
                        "Requirement already satisfied: sniffio>=1.1 in /usr/local/lib/python3.10/site-packages (from anyio<5,>=3.4.0->starlette==0.20.4->fastapi>=0.85.1->chromadb==0.3.21->-r requirements.txt (line 4)) (1.3.0)\n",
                        "Note: you may need to restart the kernel to use updated packages.\n"
                    ]
                }
            ],
            "source": [
                "%pip install -r requirements.txt"
            ]
        },
        {
            "cell_type": "code",
            "execution_count": 2,
            "id": "1792b10a",
            "metadata": {},
            "outputs": [],
            "source": [
                "import os\n",
                "from dotenv import load_dotenv\n",
                "load_dotenv()\n",
                "\n",
                "AZURE_DEPLOYMENT_NAME= os.environ['AZURE_DEPLOYMENT_NAME']\n",
                "os.environ[\"OPENAI_API_TYPE\"] = \"azure\"\n",
                "os.environ[\"OPENAI_API_KEY\"] = os.environ['AZURE_OPEN_API_KEY']\n",
                "os.environ[\"OPENAI_API_BASE\"] = os.environ['AZURE_API_BASE']\n",
                "os.environ[\"OPENAI_VERSION\"] = \"2023-03-15-preview\"   \n",
                "    "
            ]
        },
        {
            "cell_type": "code",
            "execution_count": 3,
            "id": "30c4c0df",
            "metadata": {},
            "outputs": [],
            "source": [
                "from langchain.embeddings.openai import OpenAIEmbeddings\n",
                "from langchain.text_splitter import CharacterTextSplitter\n",
                "from langchain.vectorstores import FAISS\n",
                "from langchain.document_loaders import TextLoader"
            ]
        },
        {
            "cell_type": "code",
            "execution_count": 5,
            "id": "ca8bdaf0",
            "metadata": {},
            "outputs": [
                {
                    "name": "stderr",
                    "output_type": "stream",
                    "text": [
                        "Created a chunk of size 1694, which is longer than the specified 1000\n",
                        "Created a chunk of size 1183, which is longer than the specified 1000\n",
                        "Created a chunk of size 1030, which is longer than the specified 1000\n",
                        "Created a chunk of size 1233, which is longer than the specified 1000\n",
                        "Created a chunk of size 1829, which is longer than the specified 1000\n"
                    ]
                }
            ],
            "source": [
                "from langchain.document_loaders import TextLoader\n",
                "loader = TextLoader('data/content.txt')\n",
                "\n",
                "documents = loader.load()\n",
                "text_splitter = CharacterTextSplitter(chunk_size=1000, chunk_overlap=0)\n",
                "docs = text_splitter.split_documents(documents)"
            ]
        },
        {
            "cell_type": "code",
            "execution_count": 6,
            "id": "3716697d",
            "metadata": {},
            "outputs": [],
            "source": [
                "from langchain.embeddings import OpenAIEmbeddings\n",
                "embeddings = OpenAIEmbeddings(deployment=\"text-embedding-ada-002\",chunk_size=1)\n",
                "\n"
            ]
        },
        {
            "cell_type": "code",
            "execution_count": 7,
            "id": "4d7cf45e",
            "metadata": {},
            "outputs": [
                {
                    "name": "stdout",
                    "output_type": "stream",
                    "text": [
                        "////////////\n",
                        "200\n",
                        "////////////\n",
                        "200\n",
                        "////////////\n",
                        "200\n",
                        "////////////\n",
                        "200\n",
                        "////////////\n",
                        "200\n",
                        "////////////\n",
                        "200\n",
                        "////////////\n",
                        "200\n",
                        "////////////\n",
                        "200\n",
                        "////////////\n",
                        "200\n",
                        "////////////\n",
                        "200\n",
                        "////////////\n",
                        "200\n",
                        "////////////\n",
                        "200\n",
                        "////////////\n",
                        "200\n",
                        "////////////\n",
                        "200\n",
                        "////////////\n",
                        "200\n",
                        "////////////\n",
                        "200\n",
                        "////////////\n",
                        "200\n",
                        "////////////\n",
                        "200\n",
                        "////////////\n",
                        "200\n",
                        "////////////\n",
                        "200\n",
                        "////////////\n",
                        "200\n"
                    ]
                }
            ],
            "source": [
                "db = FAISS.from_documents(docs, embeddings)\n"
            ]
        },
        {
            "cell_type": "code",
            "execution_count": 10,
            "id": "7e95a2fa",
            "metadata": {},
            "outputs": [
                {
                    "name": "stdout",
                    "output_type": "stream",
                    "text": [
                        "////////////\n",
                        "200\n"
                    ]
                },
                {
                    "data": {
                        "text/plain": [
                            "[Document(page_content='両津 勘吉（りょうつ かんきち）\\n本作の主人公。台東区浅草生まれ。階級は巡査長。角刈りに左右がつながった太い眉が特徴で、服装は常に腕とズボンの裾をまくり、裸足にサンダル下駄を履いている。\\n人間の常識を遥かに超えた身体能力と生命力の持ち主。金儲けとギャンブルが大好きで、金が絡むと手段を選ばず、身の危険も顧みないことがある。手先が器用な無類の趣味人かつ道楽者で、交友関係は非常に広い。飲酒も好み、樽一杯の酒でも一人で飲み干せるほどの強靭な胃袋を持つ。発想力とバイタリティーに溢れ、様々な新商売を始めては成功を収めるが、大抵の場合は私欲に負けて最後は自滅してしまう。若い頃にはガッツを買われ、刑事課に所属していた時期もある。警察官らしからぬ問題行動を頻繁に起こしては上司の大原に叱責され、謹慎や減給や左遷などの処分を何度も受けている。一方、義理人情を重んじる性格で、同僚や市民が有事の際にはとても頼りになる存在でもあり、人望は厚い。愛称は主に「両さん」あるいは「両ちゃん」「勘ちゃん」。指導係巡査であるため中川と本田からは「先輩」と呼ばれている。\\n中川 圭一（なかがわ けいいち）\\n派出所メンバーの一人。両津の後輩で、階級は巡査。世界的大企業「中川コンツェルン」の御曹司であり、自身も系列会社をいくつも経営し、屋敷に住む。かなりの美形のため、女性にファンが多い。カーマニアなほか、射撃の腕はプロ並。日頃は冷静だが、パニックを起こすと言葉遣いが乱暴になることもある。両津の行動に巻き込まれて悲惨な目に遭うこともあるが、先輩として慕っている。\\n秋本 カトリーヌ 麗子（あきもと・カトリーヌ・れいこ）\\n派出所メンバーの一人。階級は巡査。神戸にある世界有数の企業「秋本貿易」の社長令嬢。日本人の父とフランス人の母を持つハーフ。スタイル抜群で包容力もある美女だが、男勝りな面もある。ピアノの演奏と洋菓子作りが上手い。両津のことは常に「両ちゃん」と呼んで対等に接している。\\n大原 大次郎（おおはら だいじろう）\\n両津たちの上司。階級は巡査部長で、公園前派出所の班長を務める。\\n生真面目で自他共に厳しく、騒動を起こす両津を怒鳴りつけては胃を痛めている。一方で人の上に立つ者としての器量も備え、両津や中川たちはもちろん住民からも尊敬されている。妻や孫たちには頭が上がらず流行や機械にも疎いため、両津に助力を求めることもしばしば。将棋、剣道、柔道の有段者。\\n本田 速人（ほんだ はやと）\\n交通課に所属する警官。階級は巡査。リーゼントヘアーと黄色いスカーフが特徴。警察官になる前は暴走族のリーダーだった。普段は気弱なお人好しで誰に対しても敬語で接するが、バイクに乗ると乱暴な口調・男気溢れる性格に豹変する。中川同様、両津の行動にはよく付き合わされるが、彼の優しさを理解している一人でもある。', metadata={'source': 'data/content.txt'}),\n",
                            " Document(page_content='両津巡査 - 玄田哲章\\n中川 - 井上和彦\\n巡査部長 - 高木均\\n007 - さとまさのり\\n寺井 - 石丸博也\\n戸塚 - 内田直哉\\n肉屋 - 屋良有作\\nのらA&B - ツーツーレロレロ（そのまんま東、大森うたえもん）\\n子ども - 江森浩子\\n子どもB - 定岡小百合\\n男 - 津久井教生\\n女 - 弘中くみ子\\n\\n\\n=== 舞台 ===\\nテレビアニメで両津の声を担当したラサール石井が主演で、脚本・演出も担当している。原作者の秋本によると、こち亀の舞台化は過去に何度か持ち上がってたものの、両津役のキャスティングが難航し頓挫し続けていたが、アニメで両津の声を担当したラサールが適任だと考え、舞台化に漕ぎ着けたという。テレビアニメの主題歌として使われた「おいでよ亀有」「亀有は昨日も晴れだった」は元々この舞台版の主題歌であった。この「おいでよ亀有」「亀有は昨日も晴れだった」など、舞台の中で出演者達が歌った曲には「両津勘吉とこち亀うぃ〜ん合唱団」、「斉藤レイとこち亀うぃ〜ん合唱団」といった名義が使われているが、正式名称はこち亀うぃ〜ん少年合唱団である。\\n1999年版は1999年7月14日 - 8月15日の期間、銀座、亀有、神戸、大阪、滋賀の5つの劇場で公演された。また、2001年7月27日 - 9月2日の期間に、亀有、大阪、名古屋、静岡、浜松、銀座の6つの劇場で再公演された。\\n2003年版は2003年8月6日 - 8月30日の期間、銀座、土浦、富山、大阪、名古屋の5つの劇場で公演された。公演時のタイトルは『こちら葛飾区亀有公園前派出所 〜海パン刑事の逆襲・檸檬も出るのじゃ!〜』。\\n2006年版は2006年8月3日 - 8月13日の期間、新宿全労済ホールスペース・ゼロにて上演。公演時のタイトルは『こちら葛飾区亀有公園前派出所 〜30周年だよ！おいしいとこ取りスペシャル!!』。この2006年版はフジテレビ721でテレビ放送もされた。\\n2016年版は、東京で、2016年9月9日から9月19日まで、大阪で、9月23日から9月25日までの期間で上映、主演のラサール石井は脚本も担当。\\n\\n\\n=== ゲーム ===', metadata={'source': 'data/content.txt'}),\n",
                            " Document(page_content='一般社会にも影響を与え、浅草神社には「生まれも育ちも浅草の両さん」にちなんで、単行本総発行部数1億3000万冊突破記念の石碑が建立されている。\\nまた、JR亀有駅北口には地元の商店街により制服姿の両津の銅像が建てられ、2006年2月11日、作者の秋本、ラサール石井が出席して除幕式が行われた（→ウィキニュース）。さらに南口にも法被姿の両津の銅像が建てられ、2006年11月18日に除幕式が行われた。\\n2006年3月3日にはアリオ亀有内にこち亀ゲームぱ〜くがオープンした。2008年11月8日には、両津勘吉の少年時代をかたどった「少年両さん像」の除幕式が行われ、当時の麻生太郎内閣総理大臣も出席している。\\n2010年3月13日には、「敬礼両さん像」、「サンバ両さん像」、「ダブルピース両さん像」、「少年よ、あの星を目指せ!両さん像」、「ワハハ両さん像」、「中川像」、「麗子像」、「本田像」の計8体の除幕式が行われた。その後、2011年8月6日には映画公開と連載35周年を記念して、ベンチに座ったスタイルの新しい両津像が公開された。\\n\\n\\n== 歴代担当編集者 ==\\n初代：堀内丸恵 - 約10年担当。\\n2代目：中村泰三 - 連載10年の50巻目から約2年半担当。\\n3代目：伊東健介 - 約2年弱担当。麻里愛登場時など。\\n4代目：佐々木尚 - 約1年担当。\\n5代目：大塚久永 - ゴキブリ大行進の巻以降約3年担当。15周年目。\\n6代目：小池正夫 - 約5年担当で90-120巻。20周年やアニメ化の時期。\\n7代目：稲生晋之 - 約4年担当。\\n8代目：中村忍 - 約2年担当。\\n9代目：中崎敦 - 2006年。服部\\n山中\\n\\n\\n== 脚注 ==\\n\\n\\n=== 注釈 ===\\n\\n\\n=== 出典 ===\\n\\n\\n== 関連項目 ==\\n\\nこちら葛飾区亀有公園前派出所の登場人物\\n週刊少年ジャンプ連載作品の一覧\\n100巻以上刊行している漫画作品\\n\\n\\n== 外部リンク ==\\nこち亀.com\\nこち亀ゲームぱ〜く\\n舞台版『こちら葛飾区亀有公園前派出所』公式サイト\\nこち亀OFFICIAL SITE', metadata={'source': 'data/content.txt'}),\n",
                            " Document(page_content='== 作風の変化 ==\\n連載初期こそ、警察官として型破りな両津と仲間たちの仕事風景を描く漫画だったが、次第に作者の趣味や主張、思想などが大きく前面に押し出され、大半の話が警察組織とほとんど無関係になっていった。連載が軌道に乗った中期以降は、世間の流行（主にサブカルチャー）を積極的に題材として取り入れ、緻密な取材とそれを活用する構成力、背景にまで細やかに気遣う丹念さ、機知に富む台詞回しや実験的なアイディアを特徴とした。\\n連載が40年の長期に渡ったため、登場キャラクターの性格や設定が何度も変更されている。初期は単に粗暴で短気だった両津だが、回を重ねる毎に秋本の画風の変化で丸みを帯び、性格も人情的になった。中川と麗子も同様で初期は過激な面があり、特に中川は「世間知らずのお坊ちゃま」であることが強調された両津同様の問題児だった。その後は2人共落ち着いたキャラクターになったが、時には中川が一発ギャグを披露したり態度が粗暴になったりとキャラが崩壊することもある。また、40年の間にキャラクターの入れ替わりがあり、初期では毎回のように登場したが、次第に登場しなくなり消えてしまった戸塚金次やふーたろーなどのキャラクターが多数存在する。\\nまた、かつては男性キャラクターが女性差別的な発言をしたり、両津が事あるごとに麗子の髪を引っ張るといった描写も多く存在していたが、後年になると見受けられなくなり、逆に両津が麗子や婦警たちから反撃を喰らう描写も増えていった。\\n現代が舞台であるため、いずれの話も当時の社会現象や社会問題、生活様式などがリアルタイムで強く反映されている。分かりやすい例では、派出所内の電話機が黒電話→プッシュホン→コードレスホンと代替されていき、FAXやパソコンも導入され、やがて各人物が携帯電話（フィーチャーフォン→スマートフォン）を持つようになる。かつて作品内に登場していた事象を、十数年後の単行本では両津たちが「過去のもの」として懐かしんだり、存在を知らなかったりするという描写もある。コミックス第130巻になると、今昔の作風の変化を作中で自らネタにすることが見られるようになった。特に連載末期は流行に敏感であり、時事ネタが非常に多くなってきていた。最先端の話題の描写は緻密であることも特徴で、これは作者による地道な取材が大きく反映されている（詳細は秋本治の項目を参照）。', metadata={'source': 'data/content.txt'})]"
                        ]
                    },
                    "execution_count": 10,
                    "metadata": {},
                    "output_type": "execute_result"
                }
            ],
            "source": [
                "query = \"両津の職業\"\n",
                "docs = db.similarity_search(query)\n",
                "docs\n",
                "\n"
            ]
        },
        {
            "cell_type": "code",
            "execution_count": 11,
            "id": "fc91f4b4",
            "metadata": {},
            "outputs": [],
            "source": [
                "db.save_local(\"faiss_index\")\n"
            ]
        },
        {
            "cell_type": "code",
            "execution_count": 12,
            "id": "cac87e7d",
            "metadata": {},
            "outputs": [],
            "source": [
                "new_db = FAISS.load_local(\"faiss_index\", embeddings)\n"
            ]
        },
        {
            "cell_type": "code",
            "execution_count": 14,
            "id": "1aaad528",
            "metadata": {},
            "outputs": [
                {
                    "name": "stdout",
                    "output_type": "stream",
                    "text": [
                        "////////////\n",
                        "200\n"
                    ]
                },
                {
                    "data": {
                        "text/plain": [
                            "[Document(page_content='両津 勘吉（りょうつ かんきち）\\n本作の主人公。台東区浅草生まれ。階級は巡査長。角刈りに左右がつながった太い眉が特徴で、服装は常に腕とズボンの裾をまくり、裸足にサンダル下駄を履いている。\\n人間の常識を遥かに超えた身体能力と生命力の持ち主。金儲けとギャンブルが大好きで、金が絡むと手段を選ばず、身の危険も顧みないことがある。手先が器用な無類の趣味人かつ道楽者で、交友関係は非常に広い。飲酒も好み、樽一杯の酒でも一人で飲み干せるほどの強靭な胃袋を持つ。発想力とバイタリティーに溢れ、様々な新商売を始めては成功を収めるが、大抵の場合は私欲に負けて最後は自滅してしまう。若い頃にはガッツを買われ、刑事課に所属していた時期もある。警察官らしからぬ問題行動を頻繁に起こしては上司の大原に叱責され、謹慎や減給や左遷などの処分を何度も受けている。一方、義理人情を重んじる性格で、同僚や市民が有事の際にはとても頼りになる存在でもあり、人望は厚い。愛称は主に「両さん」あるいは「両ちゃん」「勘ちゃん」。指導係巡査であるため中川と本田からは「先輩」と呼ばれている。\\n中川 圭一（なかがわ けいいち）\\n派出所メンバーの一人。両津の後輩で、階級は巡査。世界的大企業「中川コンツェルン」の御曹司であり、自身も系列会社をいくつも経営し、屋敷に住む。かなりの美形のため、女性にファンが多い。カーマニアなほか、射撃の腕はプロ並。日頃は冷静だが、パニックを起こすと言葉遣いが乱暴になることもある。両津の行動に巻き込まれて悲惨な目に遭うこともあるが、先輩として慕っている。\\n秋本 カトリーヌ 麗子（あきもと・カトリーヌ・れいこ）\\n派出所メンバーの一人。階級は巡査。神戸にある世界有数の企業「秋本貿易」の社長令嬢。日本人の父とフランス人の母を持つハーフ。スタイル抜群で包容力もある美女だが、男勝りな面もある。ピアノの演奏と洋菓子作りが上手い。両津のことは常に「両ちゃん」と呼んで対等に接している。\\n大原 大次郎（おおはら だいじろう）\\n両津たちの上司。階級は巡査部長で、公園前派出所の班長を務める。\\n生真面目で自他共に厳しく、騒動を起こす両津を怒鳴りつけては胃を痛めている。一方で人の上に立つ者としての器量も備え、両津や中川たちはもちろん住民からも尊敬されている。妻や孫たちには頭が上がらず流行や機械にも疎いため、両津に助力を求めることもしばしば。将棋、剣道、柔道の有段者。\\n本田 速人（ほんだ はやと）\\n交通課に所属する警官。階級は巡査。リーゼントヘアーと黄色いスカーフが特徴。警察官になる前は暴走族のリーダーだった。普段は気弱なお人好しで誰に対しても敬語で接するが、バイクに乗ると乱暴な口調・男気溢れる性格に豹変する。中川同様、両津の行動にはよく付き合わされるが、彼の優しさを理解している一人でもある。', metadata={'source': 'data/content.txt'}),\n",
                            " Document(page_content='両津巡査 - 玄田哲章\\n中川 - 井上和彦\\n巡査部長 - 高木均\\n007 - さとまさのり\\n寺井 - 石丸博也\\n戸塚 - 内田直哉\\n肉屋 - 屋良有作\\nのらA&B - ツーツーレロレロ（そのまんま東、大森うたえもん）\\n子ども - 江森浩子\\n子どもB - 定岡小百合\\n男 - 津久井教生\\n女 - 弘中くみ子\\n\\n\\n=== 舞台 ===\\nテレビアニメで両津の声を担当したラサール石井が主演で、脚本・演出も担当している。原作者の秋本によると、こち亀の舞台化は過去に何度か持ち上がってたものの、両津役のキャスティングが難航し頓挫し続けていたが、アニメで両津の声を担当したラサールが適任だと考え、舞台化に漕ぎ着けたという。テレビアニメの主題歌として使われた「おいでよ亀有」「亀有は昨日も晴れだった」は元々この舞台版の主題歌であった。この「おいでよ亀有」「亀有は昨日も晴れだった」など、舞台の中で出演者達が歌った曲には「両津勘吉とこち亀うぃ〜ん合唱団」、「斉藤レイとこち亀うぃ〜ん合唱団」といった名義が使われているが、正式名称はこち亀うぃ〜ん少年合唱団である。\\n1999年版は1999年7月14日 - 8月15日の期間、銀座、亀有、神戸、大阪、滋賀の5つの劇場で公演された。また、2001年7月27日 - 9月2日の期間に、亀有、大阪、名古屋、静岡、浜松、銀座の6つの劇場で再公演された。\\n2003年版は2003年8月6日 - 8月30日の期間、銀座、土浦、富山、大阪、名古屋の5つの劇場で公演された。公演時のタイトルは『こちら葛飾区亀有公園前派出所 〜海パン刑事の逆襲・檸檬も出るのじゃ!〜』。\\n2006年版は2006年8月3日 - 8月13日の期間、新宿全労済ホールスペース・ゼロにて上演。公演時のタイトルは『こちら葛飾区亀有公園前派出所 〜30周年だよ！おいしいとこ取りスペシャル!!』。この2006年版はフジテレビ721でテレビ放送もされた。\\n2016年版は、東京で、2016年9月9日から9月19日まで、大阪で、9月23日から9月25日までの期間で上映、主演のラサール石井は脚本も担当。\\n\\n\\n=== ゲーム ===', metadata={'source': 'data/content.txt'}),\n",
                            " Document(page_content='一般社会にも影響を与え、浅草神社には「生まれも育ちも浅草の両さん」にちなんで、単行本総発行部数1億3000万冊突破記念の石碑が建立されている。\\nまた、JR亀有駅北口には地元の商店街により制服姿の両津の銅像が建てられ、2006年2月11日、作者の秋本、ラサール石井が出席して除幕式が行われた（→ウィキニュース）。さらに南口にも法被姿の両津の銅像が建てられ、2006年11月18日に除幕式が行われた。\\n2006年3月3日にはアリオ亀有内にこち亀ゲームぱ〜くがオープンした。2008年11月8日には、両津勘吉の少年時代をかたどった「少年両さん像」の除幕式が行われ、当時の麻生太郎内閣総理大臣も出席している。\\n2010年3月13日には、「敬礼両さん像」、「サンバ両さん像」、「ダブルピース両さん像」、「少年よ、あの星を目指せ!両さん像」、「ワハハ両さん像」、「中川像」、「麗子像」、「本田像」の計8体の除幕式が行われた。その後、2011年8月6日には映画公開と連載35周年を記念して、ベンチに座ったスタイルの新しい両津像が公開された。\\n\\n\\n== 歴代担当編集者 ==\\n初代：堀内丸恵 - 約10年担当。\\n2代目：中村泰三 - 連載10年の50巻目から約2年半担当。\\n3代目：伊東健介 - 約2年弱担当。麻里愛登場時など。\\n4代目：佐々木尚 - 約1年担当。\\n5代目：大塚久永 - ゴキブリ大行進の巻以降約3年担当。15周年目。\\n6代目：小池正夫 - 約5年担当で90-120巻。20周年やアニメ化の時期。\\n7代目：稲生晋之 - 約4年担当。\\n8代目：中村忍 - 約2年担当。\\n9代目：中崎敦 - 2006年。服部\\n山中\\n\\n\\n== 脚注 ==\\n\\n\\n=== 注釈 ===\\n\\n\\n=== 出典 ===\\n\\n\\n== 関連項目 ==\\n\\nこちら葛飾区亀有公園前派出所の登場人物\\n週刊少年ジャンプ連載作品の一覧\\n100巻以上刊行している漫画作品\\n\\n\\n== 外部リンク ==\\nこち亀.com\\nこち亀ゲームぱ〜く\\n舞台版『こちら葛飾区亀有公園前派出所』公式サイト\\nこち亀OFFICIAL SITE', metadata={'source': 'data/content.txt'}),\n",
                            " Document(page_content='== 作風の変化 ==\\n連載初期こそ、警察官として型破りな両津と仲間たちの仕事風景を描く漫画だったが、次第に作者の趣味や主張、思想などが大きく前面に押し出され、大半の話が警察組織とほとんど無関係になっていった。連載が軌道に乗った中期以降は、世間の流行（主にサブカルチャー）を積極的に題材として取り入れ、緻密な取材とそれを活用する構成力、背景にまで細やかに気遣う丹念さ、機知に富む台詞回しや実験的なアイディアを特徴とした。\\n連載が40年の長期に渡ったため、登場キャラクターの性格や設定が何度も変更されている。初期は単に粗暴で短気だった両津だが、回を重ねる毎に秋本の画風の変化で丸みを帯び、性格も人情的になった。中川と麗子も同様で初期は過激な面があり、特に中川は「世間知らずのお坊ちゃま」であることが強調された両津同様の問題児だった。その後は2人共落ち着いたキャラクターになったが、時には中川が一発ギャグを披露したり態度が粗暴になったりとキャラが崩壊することもある。また、40年の間にキャラクターの入れ替わりがあり、初期では毎回のように登場したが、次第に登場しなくなり消えてしまった戸塚金次やふーたろーなどのキャラクターが多数存在する。\\nまた、かつては男性キャラクターが女性差別的な発言をしたり、両津が事あるごとに麗子の髪を引っ張るといった描写も多く存在していたが、後年になると見受けられなくなり、逆に両津が麗子や婦警たちから反撃を喰らう描写も増えていった。\\n現代が舞台であるため、いずれの話も当時の社会現象や社会問題、生活様式などがリアルタイムで強く反映されている。分かりやすい例では、派出所内の電話機が黒電話→プッシュホン→コードレスホンと代替されていき、FAXやパソコンも導入され、やがて各人物が携帯電話（フィーチャーフォン→スマートフォン）を持つようになる。かつて作品内に登場していた事象を、十数年後の単行本では両津たちが「過去のもの」として懐かしんだり、存在を知らなかったりするという描写もある。コミックス第130巻になると、今昔の作風の変化を作中で自らネタにすることが見られるようになった。特に連載末期は流行に敏感であり、時事ネタが非常に多くなってきていた。最先端の話題の描写は緻密であることも特徴で、これは作者による地道な取材が大きく反映されている（詳細は秋本治の項目を参照）。', metadata={'source': 'data/content.txt'})]"
                        ]
                    },
                    "execution_count": 14,
                    "metadata": {},
                    "output_type": "execute_result"
                }
            ],
            "source": [
                "docs = new_db.similarity_search(query)\n",
                "docs\n"
            ]
        },
        {
            "cell_type": "code",
            "execution_count": 15,
            "id": "846c973e",
            "metadata": {},
            "outputs": [],
            "source": [
                "# Merging\n",
                "# You can also merge two FAISS vectorstores\n",
                "# https://python.langchain.com/en/latest/modules/indexes/vectorstores/examples/faiss.html"
            ]
        },
        {
            "cell_type": "code",
            "execution_count": 17,
            "id": "7e5be081",
            "metadata": {},
            "outputs": [
                {
                    "name": "stderr",
                    "output_type": "stream",
                    "text": [
                        "100%|██████████| 2/2 [00:01<00:00,  1.25it/s]\n"
                    ]
                }
            ],
            "source": [
                "import requests\n",
                "import tqdm\n",
                "from typing import List\n",
                "from langchain.document_loaders import PagedPDFSplitter\n",
                "\n",
                "\n",
                "# https://www.digital.go.jp/assets/contents/node/basic_page/field_ref_resources/c5365b9c-0cf7-40b7-a5ff-b9f09e2d9292/615d206b/20221223_meeting_web3_summary_01.pdf\n",
                "# https://www.digital.go.jp/assets/contents/node/basic_page/field_ref_resources/baf62741-ddf5-4c34-997c-9744a19cf8df/6fb98ecb/20221213_meeting_web3_summary_01.pdf\n",
                "\n",
                "# financial reports of amamzon, but can be replaced by any URLs of pdfs\n",
                "urls = ['https://www.digital.go.jp/assets/contents/node/basic_page/field_ref_resources/c5365b9c-0cf7-40b7-a5ff-b9f09e2d9292/615d206b/20221223_meeting_web3_summary_01.pdf',\n",
                "        'https://www.digital.go.jp/assets/contents/node/basic_page/field_ref_resources/baf62741-ddf5-4c34-997c-9744a19cf8df/6fb98ecb/20221213_meeting_web3_summary_01.pdf'\n",
                "        ]\n",
                "\n",
                "def load_reports(urls: List[str]) -> List[str]:\n",
                "    \"\"\" Load pages from a list of urls\"\"\"\n",
                "    pages = []\n",
                "\n",
                "    for url in tqdm.tqdm(urls):\n",
                "        r = requests.get(url)\n",
                "        path = url.split('/')[-1]\n",
                "        with open(path, 'wb') as f:\n",
                "            f.write(r.content)\n",
                "        loader = PagedPDFSplitter(path)\n",
                "        local_pages = loader.load_and_split()\n",
                "        pages.extend(local_pages)\n",
                "    return pages\n",
                "\n",
                "pages = load_reports(urls)\n"
            ]
        },
        {
            "cell_type": "code",
            "execution_count": 19,
            "id": "7478beae",
            "metadata": {},
            "outputs": [],
            "source": [
                "text_splitter = CharacterTextSplitter(chunk_size=1000, chunk_overlap=0)\n",
                "docs = text_splitter.split_documents(pages)"
            ]
        },
        {
            "cell_type": "code",
            "execution_count": 22,
            "id": "86f9cbd9",
            "metadata": {},
            "outputs": [
                {
                    "data": {
                        "text/plain": [
                            "[Document(page_content='アメリカにある大手、中小問わずブロックチェーン企業は基本的にガバメントリレーシ\\nョンやロビイストとして、政府機関や国際機関に在籍していた人に何千万円も支払い雇\\n用している。ワシントンDCでそのコミュニティーは100人超であり、私が運営してい\\nる研究センターで毎月PGP for Crypto（Pretty Good Policy for Crypto）というクロー\\nズなブレックファストミーティングを開催しソーシャライズや情報交換を半年以上行っ\\nている。 \\n 日本側にカウンターパートがいなくてはいけない認識であっているか。 \\n ご認識通りである。日本人のビジターもおり、その人たちはコミュニティーに入ってい\\nるが、そのような関係性を今後太くしていくことは1つの例として重要なのではないか\\nと思われる。 \\n この研究会が始まる前の流れとして、この活動自体が元々自民党という政治家の中の議\\n論からスタートしている。いわゆる民主主義の国において政治家は国民の意見を代表し\\nている人たちでもあるため、このDAOの中に政治家も入り、彼らが国内あるいはグロ\\nーバルな公開の議論ともコミュニケーションを取れる状態が必要ではないか。つまり、\\nこのステークホルダーの中に政治家を入れるべきではないか。 \\n 開かれた議論をする経験が日本には今までそんなになかったため、それをするというこ\\nとに一定の意義があるのではないか。 \\n 1つの可能性として（4）と（5）の順番を入れ替えてもいいのではないか。まず（3）の\\nところで未来像として目指すべき姿が書いてあり、最後の段落でエンジニアやクリエイ\\nターのサポートを直ちに行っていくことが重要であることが書いてある。例えば、その\\n次に（5）の「イノベーション促進策」を目指すべき未来に進んでいくために直ちに行う\\nべき、ドライブしていくための施策という意味で繋げて書く。一方で車の両輪で制度面\\nでの整備も同時に必要という論点で（4）を記載する流れもあるのではないか。もう1点、\\n自民党のWeb3.0PTに参加し議論しているが、Web3.0関係を担当している自民党の議\\n員の方々は開かれたマインドを持ち、様々な有識者やマーケットの方と積極的に意見交\\n換を行っている。従って、開かれた場で様々な人の意見を集約していくことは良い取組\\nみである。日本の法律家がそのような形で非常に柔らかい段階から政治家の方々と一緒\\nに政策立案を検討する機会は今まではほとんど無く、もう少し下地が出来た時点でコメ\\nントすることが多かったが、今後はそのようなところにも積極的に取り組んでいくべき\\nである。 \\n 役人が法律を真面目に書くと毎回硬い法律になる。アメリカの立法は雑な法律を出して、\\n揉めたら裁判所で決着することが多い。日本の場合、議員立法は内閣法制局審査無しに\\n法律を作れるが、今の日本のプラクティスとして、優秀な法律家が政治家をサポートし、\\n議員立法を行う仕組みというのはまだ無いのか。 \\n まさに今議員立法でDAO法を作ろうという動きもある。まさにそういった取組みが起\\nきつつあるということが言えるのではないか。', metadata={'source': '20221223_meeting_web3_summary_01.pdf', 'page': 4}),\n",
                            " Document(page_content='OODAループの観点で、規制自体のPDCAを回す時に、各法で行うと手順は大変であ\\nり、時間を要し、ステークホルダーの意見を全部聞かなくてはならず、既得権を持って\\nいる人からの反対意見が出て、玉虫色で硬い法律になってしまう。1度作ってしまうと\\n身動きが取れないパターンを過去繰り返していると認識している。 \\n 若い人が中心になってWeb3.0の立法をする仕組みが1つ日本に出来上がると、先ほど\\nの議論が噛み合う気がする。例えばアメリカは似たような仕組みの元で法律を作ってい\\nるが、日本では難しいか。 \\n DAO法は特別法という形にすることも考えられる。積み重なる1つの事例になれば望ま\\nしい。 \\n （5）のイノベーション促進策について、④で研究開発・技術課開発の担い手の育成とあ\\nるが、結局③で言っていることと同じで、グローバルなコミュニティーの中でキャッチ\\nアップしようという話で止まっているのではないか。逆にそのグローバルのコミュニテ\\nィーで我々の意見を通すためには、日本としても発信できるような先進的な技術を提示\\nできないと議論に加われない。担い手を育成してWeb3.0に関わる研究開発・技術開発\\nも支援していく点を追記いただきたい。イノベーションという観点だとWeb3.0は技術\\n的な側面でなくて文化的な側面も恐らくあるのではないか。特にメタバースが関わって\\nくるところも付け加えていただきたい。 \\n （4）と（5）は逆の方がいいのではないかという指摘で、（3）との接合を考えると\\n今の順番が良く、（6）との接合を考えると逆の方が良く悩ましい。全体をもう一度\\n見直した上で、最終的にどうするか検討させていただきたい。 \\n まさに研究開発・技術開発の目線で考えており、文化的な側面をどう入れていくの\\nかは重要な視点である。文言で工夫できるか検討したい。 \\n エンジニアの育成について、実際にどの省庁が今後ドライブしていくべきなのか分から\\nなかった。関係府省がすべきところが様々に書いてあるが、裏ではどの省庁が担当なの\\nか、デジタル庁の事務局内ではイメージが作られているのか。 \\n 自民党でNFTホワイトペーパーの提言を作っており、各提言を全部省庁に紐付けて担\\n当の明確化を行っている。そういった裏での紐付けはされているのか。 \\n 担当として関係省庁が明確に決まっている部分と、これから新たな課題などについ\\nては当報告書を受けて関係省庁と相談し、どの省庁がここを担っていくのかを検討\\nする部分の2種類ある。エンジニアの育成についても、幅広い省庁が関わるため、\\nどの省庁が主体的にやっていくかは今後決めていきたい。 \\n 様々な省庁が絡まる前提だと集団的無責任体制になってしまい誰も何もしない。平均的\\nなエンジニアを多く作るという話ではなく、トップティアエンジニアの質と量の勝負で\\nある。過去唯一成功したのは経済産業省が行った未踏事業である。明確にトップオブザ\\nトップ、オリンピックを狙うことに絞り込み取り組んだため機能した。文科省では全て\\nの学ぶ学生が対象になってしまい、日本の教育体系の建前は偏差値75も45も同じであ', metadata={'source': '20221223_meeting_web3_summary_01.pdf', 'page': 5}),\n",
                            " Document(page_content='人に出来るということである。日本人は、ルールメーカーになることは少なく、ルール\\nフォロワーであることが多い。 \\n DAOの定義だが、ガバナンスの在り様が変えられることを日本人が体験し、そのような\\n経験を持った人が増える。人材育成という単純な言葉で括るのではなく、同じ土台で議\\n論できる人が増えることがキーになるため、記載の中には、センテンスの中のロジック\\nを強化するためにそのようなポイントを入れていただきたい。 \\n Web3.0の健全な発展に向けた基本的指針について、マイナンバーカードを使ったe-KYC\\nをAML、マネーロンダリングに適用したものと同じような形で適用していくことで、安\\n全で健全な仕組みが守られるのではないかとある。今の局面ではそれしかないのではな\\nいか。 \\n もしそれを実現するのであれば、Self-Sovereign Identityのような考え方を明確に打ち出\\nして、自己コントロールの下でデータを扱う、自主主権でデータを扱うという考え方を\\n色濃く出していかないと納得感が得られないのではないか。かつ、その時にアイデンテ\\nィティのマネジメントの仕方として、マイナンバーは有力なワン・オブ・ゼムでもある\\nが、他のやり方があることも位置付けた上で、打ち出すのがいいのではないか。 \\n総論の部分を含めて1度まとめたものを送付していただきたい。 \\n マイナンバーカードは、DIDの本流の議論ではないと指摘があった中で、今後の取\\n組みにどのように繋げていくかの部分と全体感の中での位置付けも含めて、議論を\\n考えてまいりたい。 \\n DIDのマイナンバーがメインではないという部分の対応は可能な範囲で構わない。極め\\nて普通の人が報告書を見てもよく分からない話だと思われる。この報告書は、一般向け\\nに広く、これからのデジタル庁なり日本がWeb3.0に向けて何を考えていくか、あるいは\\nWeb3.0はどのようなものと考えているかという広報的な部分と、現実的な政策の中で、\\n戦略的に何を実現させていくかという戦略的な部分の2つの側面があるのではないか。前\\n者は、分かりやすく魅力的な話が必要である。現状では規制重視的な方向に行きがちな\\nため、単純に規制が必要なだけではなく、未来の可能性を分かりやすく書いてほしい。\\n広報的な話だけではなく、報告書上で戦略的に実現させていく大きな方向性、楔を打ち\\n込んである部分があるのではないか。その部分は必ずしも分かりやすく書く必要もアピ\\nールする必要もないが、政策的に実現できるところに落とし込んでもらいたい。書きぶ\\nりは事務局で判断していただきたい。 \\n DAOについては、様々な方が各自意見を持っている論点であるため、デジタル庁の\\nWeb3.0研究会でどのような形のまとめを出されるか悩ましいところである。1つは、\\nDAOでなければ本当に達成できないことを突き詰めていくと、今の時点では多くは残ら\\nないのかもしれない。しかし、デジタルファーストのブロックチェーンとWeb3.0の世界\\nの中では、考えようによってはトークンを使ったガバナンスをさせていくことは、自然\\nな成り立ちとして実態では多く起こっており、国として何らかの法的な位置付けを明確', metadata={'source': '20221213_meeting_web3_summary_01.pdf', 'page': 9}),\n",
                            " Document(page_content='ついての苦情やトラブル事例が相談として今後増えてくる可能性があり、その分析\\nを行った上で啓発をしていくというメッセージを入れている。趣旨を踏まえ、啓発\\nが大事ということを書き足せるかどうか工夫してみたい。 \\n 大切な論点が目立つようにする工夫が必要かもしれない。特に短期的に危ないこと、こ\\nこの部分については自己責任の世界だが、消費者側に理解していただかないと先に進む\\nのは危ないという部分についてシグナルを送るのが望ましい。 \\nコメントと提案を1点ずつ申し上げたい。1点目として、現在、Web3.0と呼ばれている\\n世界観があるが、世界観と、Web3.0で今の技術の延長線上で見えている技術的に可能に\\nなるものの間には距離があることを改めて感じた。例えば、誰もがオープンイノベーシ\\nョンで自由に参入し、自由に組み合わせていくという話は世界観としては素晴らしいが、\\nブロックチェーン技術で直ちに実現するわけではない。そのため、世界観を実現させる\\nには、経済学的に言えば市場構造を全部変えなければならないし、それを支える法律も\\n変えなければならない。しかし、その世界観を技術プラスアルファでどのように実現さ\\nせるのかという枠組み自体はまだ世界中のどこにもないのではないか。この研究会で全\\nてやり切れるわけではないが、改めて難しい課題だと感じた。特に修文は不要だが、大\\nきな課題としてもう少し掘り下げていかなくてはいけないところである。2点目は提案\\nとしてのコメントである。未来に向けた制度・規制面の課題に関する記載は、少し遠い\\n未来に何か考えなくてはいけない、遠い未来のことを考えて対処すべきものと見える。\\nしかし、新しく動いているWeb3.0の世界をどのような法制度にしていくか、どのよう\\nなルールにしていくかはこれから世界中で急速に始まり出す課題である。ここに今から\\n対処をしないと、日本はルール形成に取り残されてしまい、ルールがどのようになって\\nいるかも分からない中、日本的なもので走り出すことになりかねない。（4）の部分は喫\\n緊の課題だということがこの報告書で一番伝えなくてはいけないメッセージではないか。\\n内容はこれで結構だが、これは未来の課題ではなくて喫緊の課題ということを一言強調\\nしていただきたい。 \\n 事務局としては、例えば（5）のイノベーション支援策は「直ちに」という部分で一\\n番フレームの短いものを表現し、未来像、目指すべき姿という遠いところの2つを\\n置き、それ以外はその中間という意識で記載していた。しかし、制度・規制面での\\n課題として柱が3本書いており、ある程度将来像も課題も見えているため、それに\\n対する取組みは直ちに始めるべきというメッセージは出したい。 \\n すぐやらなくてはいけないこと、じっくりやること、走りながら考えることの3つを表\\n形式で見せられるとよいのではないか。 \\n 3分類がいいのかどうかは難しい。まずは足元やっていくべきことを整理する。ま\\nさにOODAループとなるが、劣後の課題が直ちにやらなければならない課題に変わ\\nることもあり得るし、アメリカの事件なども含め様々なことが起きながら、時間軸\\nも変動していくと思われる。今時点では直ちにやるべきことを整理することが重要', metadata={'source': '20221223_meeting_web3_summary_01.pdf', 'page': 2})]"
                        ]
                    },
                    "execution_count": 22,
                    "metadata": {},
                    "output_type": "execute_result"
                }
            ],
            "source": [
                "docs"
            ]
        },
        {
            "cell_type": "code",
            "execution_count": 20,
            "id": "8465d829",
            "metadata": {},
            "outputs": [
                {
                    "name": "stdout",
                    "output_type": "stream",
                    "text": [
                        "////////////\n",
                        "200\n",
                        "////////////\n",
                        "200\n",
                        "////////////\n",
                        "200\n",
                        "////////////\n",
                        "200\n",
                        "////////////\n",
                        "200\n",
                        "////////////\n",
                        "200\n",
                        "////////////\n",
                        "200\n",
                        "////////////\n",
                        "200\n",
                        "////////////\n",
                        "200\n",
                        "////////////\n",
                        "200\n",
                        "////////////\n",
                        "200\n",
                        "////////////\n",
                        "200\n",
                        "////////////\n",
                        "200\n",
                        "////////////\n",
                        "200\n",
                        "////////////\n",
                        "200\n",
                        "////////////\n",
                        "200\n",
                        "////////////\n",
                        "200\n",
                        "////////////\n",
                        "200\n",
                        "////////////\n",
                        "200\n",
                        "////////////\n",
                        "200\n",
                        "////////////\n",
                        "200\n",
                        "////////////\n",
                        "200\n"
                    ]
                }
            ],
            "source": [
                "db_web3 = FAISS.from_documents(docs, embeddings)\n"
            ]
        },
        {
            "cell_type": "code",
            "execution_count": 27,
            "id": "5c3cbf14",
            "metadata": {},
            "outputs": [
                {
                    "name": "stdout",
                    "output_type": "stream",
                    "text": [
                        "////////////\n",
                        "200\n"
                    ]
                },
                {
                    "data": {
                        "text/plain": [
                            "[Document(page_content='人に出来るということである。日本人は、ルールメーカーになることは少なく、ルール\\nフォロワーであることが多い。 \\n DAOの定義だが、ガバナンスの在り様が変えられることを日本人が体験し、そのような\\n経験を持った人が増える。人材育成という単純な言葉で括るのではなく、同じ土台で議\\n論できる人が増えることがキーになるため、記載の中には、センテンスの中のロジック\\nを強化するためにそのようなポイントを入れていただきたい。 \\n Web3.0の健全な発展に向けた基本的指針について、マイナンバーカードを使ったe-KYC\\nをAML、マネーロンダリングに適用したものと同じような形で適用していくことで、安\\n全で健全な仕組みが守られるのではないかとある。今の局面ではそれしかないのではな\\nいか。 \\n もしそれを実現するのであれば、Self-Sovereign Identityのような考え方を明確に打ち出\\nして、自己コントロールの下でデータを扱う、自主主権でデータを扱うという考え方を\\n色濃く出していかないと納得感が得られないのではないか。かつ、その時にアイデンテ\\nィティのマネジメントの仕方として、マイナンバーは有力なワン・オブ・ゼムでもある\\nが、他のやり方があることも位置付けた上で、打ち出すのがいいのではないか。 \\n総論の部分を含めて1度まとめたものを送付していただきたい。 \\n マイナンバーカードは、DIDの本流の議論ではないと指摘があった中で、今後の取\\n組みにどのように繋げていくかの部分と全体感の中での位置付けも含めて、議論を\\n考えてまいりたい。 \\n DIDのマイナンバーがメインではないという部分の対応は可能な範囲で構わない。極め\\nて普通の人が報告書を見てもよく分からない話だと思われる。この報告書は、一般向け\\nに広く、これからのデジタル庁なり日本がWeb3.0に向けて何を考えていくか、あるいは\\nWeb3.0はどのようなものと考えているかという広報的な部分と、現実的な政策の中で、\\n戦略的に何を実現させていくかという戦略的な部分の2つの側面があるのではないか。前\\n者は、分かりやすく魅力的な話が必要である。現状では規制重視的な方向に行きがちな\\nため、単純に規制が必要なだけではなく、未来の可能性を分かりやすく書いてほしい。\\n広報的な話だけではなく、報告書上で戦略的に実現させていく大きな方向性、楔を打ち\\n込んである部分があるのではないか。その部分は必ずしも分かりやすく書く必要もアピ\\nールする必要もないが、政策的に実現できるところに落とし込んでもらいたい。書きぶ\\nりは事務局で判断していただきたい。 \\n DAOについては、様々な方が各自意見を持っている論点であるため、デジタル庁の\\nWeb3.0研究会でどのような形のまとめを出されるか悩ましいところである。1つは、\\nDAOでなければ本当に達成できないことを突き詰めていくと、今の時点では多くは残ら\\nないのかもしれない。しかし、デジタルファーストのブロックチェーンとWeb3.0の世界\\nの中では、考えようによってはトークンを使ったガバナンスをさせていくことは、自然\\nな成り立ちとして実態では多く起こっており、国として何らかの法的な位置付けを明確', metadata={'source': '20221213_meeting_web3_summary_01.pdf', 'page': 9}),\n",
                            " Document(page_content='ンにもなっている。アメリカでは仮想通貨の監督官庁が決まっておらず、要は仮想通貨\\nが有価証券か否かの話で関係官庁が押しつけ合いをしている最中に今回の事件が起きて\\nしまった。あれだけの事件が起きると、判例法的に様々な賢い仕組みができるのではな\\nいか。まさにあれがOODAループである。アメリカらしいが、あれだけの激しい事件は\\n最高の臨床例で、そこから学べることは有効である。 \\n あのような事件や事象を他山の石として、事例を上手にフィードバックし、当事者被害\\nゼロで学ぶチャンスである。OODAループあるいは最新の状況、顕在化したリスクを学\\n習材料にするスタイルは、判例法の国では得意だが、日本は判例法の国ではない。今回\\nのような話を今後取り組んでいくDAO的な仕組みで吸収し、インプリケーションある\\nいはソフト・ロー的なガイドラインを作ることが望ましいのではないか。今後この研究\\n会が発展する法的な1つの研究テーマになると思い、アイデアとして申し上げる。 \\nできれば入れていただきたいメッセージとして、Web3.0であろうと何であろうと、いわ\\nゆる「銀の弾丸」のような万能な解決策はなく、Web3.0にも得意不得意や適材適所があ\\nるのではないか。Web3.0やブロックチェーンなどアルゴリズムや数学はグローバルなも\\nのである一方、各国の事情により機能することもあれば機能しないこともある。まずは\\nWeb3.0といえども「銀の弾丸」ではないことを冒頭に書いていただきたい。また、であ\\nるが故に、日本のペインポイントのどこに有効に作用するのかを、今後マルチステーク\\nホルダーで継続して議論を進めていくべきである。それを無しにすると、Web3.0さえあ\\nれば問題が解決でき、それをどこにでも適用しようという話になってしまうため、適材\\n適所や、どこが有効であるかということを踏まえながら広く議論を継続していくことを\\n謳っていただきたい。 \\n 法執行について1点追加していただきたい。文書に出てくる犯罪の内容として、詐欺や\\n盗難、ハッキングなどのセキュリティーインシデントのような形で具体的な言葉が入る\\nと望ましい。NFTなどの様々な暗号資産に関するビジネスで最も多い問題となっている\\nポンジスキーム、無限連鎖講について、先行者利益を獲得することだけを目的とした事\\n例があるということを文章の中に入れていただきたい。 \\n そもそもWeb3.0自体は向き不向きがあるため「銀の弾丸」ではないということが1つ\\nあるのに加えて、すぐに実現できるかもしれないもの、近未来のもの、遠景のものとい\\nうタイムフレームも議論してきた。タイムフレームの中で手前と先のいつ実現できるの\\nかということについてもグラデーションがある。すぐにやるべきことと先々やらなくて\\nはいけないという、タイムフレームを意識する表現も冒頭に入れていただきたい。 \\n 消費者保護について、発展途上のスキームであり、技術的にも今後変化していく可能性\\nがある。簡単なものではなく、難しいものであるということを消費者が理解する必要が\\nあり、難しいものなので、しっかり理解している人しか取り組んではいけないというこ\\nとがメッセージとして込められるといいのではないか。 \\n「結論」の利用者被害の未然防止に向けた情報提供・啓発部分に、様々なWeb3.0に', metadata={'source': '20221223_meeting_web3_summary_01.pdf', 'page': 1}),\n",
                            " Document(page_content='OODAループの観点で、規制自体のPDCAを回す時に、各法で行うと手順は大変であ\\nり、時間を要し、ステークホルダーの意見を全部聞かなくてはならず、既得権を持って\\nいる人からの反対意見が出て、玉虫色で硬い法律になってしまう。1度作ってしまうと\\n身動きが取れないパターンを過去繰り返していると認識している。 \\n 若い人が中心になってWeb3.0の立法をする仕組みが1つ日本に出来上がると、先ほど\\nの議論が噛み合う気がする。例えばアメリカは似たような仕組みの元で法律を作ってい\\nるが、日本では難しいか。 \\n DAO法は特別法という形にすることも考えられる。積み重なる1つの事例になれば望ま\\nしい。 \\n （5）のイノベーション促進策について、④で研究開発・技術課開発の担い手の育成とあ\\nるが、結局③で言っていることと同じで、グローバルなコミュニティーの中でキャッチ\\nアップしようという話で止まっているのではないか。逆にそのグローバルのコミュニテ\\nィーで我々の意見を通すためには、日本としても発信できるような先進的な技術を提示\\nできないと議論に加われない。担い手を育成してWeb3.0に関わる研究開発・技術開発\\nも支援していく点を追記いただきたい。イノベーションという観点だとWeb3.0は技術\\n的な側面でなくて文化的な側面も恐らくあるのではないか。特にメタバースが関わって\\nくるところも付け加えていただきたい。 \\n （4）と（5）は逆の方がいいのではないかという指摘で、（3）との接合を考えると\\n今の順番が良く、（6）との接合を考えると逆の方が良く悩ましい。全体をもう一度\\n見直した上で、最終的にどうするか検討させていただきたい。 \\n まさに研究開発・技術開発の目線で考えており、文化的な側面をどう入れていくの\\nかは重要な視点である。文言で工夫できるか検討したい。 \\n エンジニアの育成について、実際にどの省庁が今後ドライブしていくべきなのか分から\\nなかった。関係府省がすべきところが様々に書いてあるが、裏ではどの省庁が担当なの\\nか、デジタル庁の事務局内ではイメージが作られているのか。 \\n 自民党でNFTホワイトペーパーの提言を作っており、各提言を全部省庁に紐付けて担\\n当の明確化を行っている。そういった裏での紐付けはされているのか。 \\n 担当として関係省庁が明確に決まっている部分と、これから新たな課題などについ\\nては当報告書を受けて関係省庁と相談し、どの省庁がここを担っていくのかを検討\\nする部分の2種類ある。エンジニアの育成についても、幅広い省庁が関わるため、\\nどの省庁が主体的にやっていくかは今後決めていきたい。 \\n 様々な省庁が絡まる前提だと集団的無責任体制になってしまい誰も何もしない。平均的\\nなエンジニアを多く作るという話ではなく、トップティアエンジニアの質と量の勝負で\\nある。過去唯一成功したのは経済産業省が行った未踏事業である。明確にトップオブザ\\nトップ、オリンピックを狙うことに絞り込み取り組んだため機能した。文科省では全て\\nの学ぶ学生が対象になってしまい、日本の教育体系の建前は偏差値75も45も同じであ', metadata={'source': '20221223_meeting_web3_summary_01.pdf', 'page': 5}),\n",
                            " Document(page_content='ついての苦情やトラブル事例が相談として今後増えてくる可能性があり、その分析\\nを行った上で啓発をしていくというメッセージを入れている。趣旨を踏まえ、啓発\\nが大事ということを書き足せるかどうか工夫してみたい。 \\n 大切な論点が目立つようにする工夫が必要かもしれない。特に短期的に危ないこと、こ\\nこの部分については自己責任の世界だが、消費者側に理解していただかないと先に進む\\nのは危ないという部分についてシグナルを送るのが望ましい。 \\nコメントと提案を1点ずつ申し上げたい。1点目として、現在、Web3.0と呼ばれている\\n世界観があるが、世界観と、Web3.0で今の技術の延長線上で見えている技術的に可能に\\nなるものの間には距離があることを改めて感じた。例えば、誰もがオープンイノベーシ\\nョンで自由に参入し、自由に組み合わせていくという話は世界観としては素晴らしいが、\\nブロックチェーン技術で直ちに実現するわけではない。そのため、世界観を実現させる\\nには、経済学的に言えば市場構造を全部変えなければならないし、それを支える法律も\\n変えなければならない。しかし、その世界観を技術プラスアルファでどのように実現さ\\nせるのかという枠組み自体はまだ世界中のどこにもないのではないか。この研究会で全\\nてやり切れるわけではないが、改めて難しい課題だと感じた。特に修文は不要だが、大\\nきな課題としてもう少し掘り下げていかなくてはいけないところである。2点目は提案\\nとしてのコメントである。未来に向けた制度・規制面の課題に関する記載は、少し遠い\\n未来に何か考えなくてはいけない、遠い未来のことを考えて対処すべきものと見える。\\nしかし、新しく動いているWeb3.0の世界をどのような法制度にしていくか、どのよう\\nなルールにしていくかはこれから世界中で急速に始まり出す課題である。ここに今から\\n対処をしないと、日本はルール形成に取り残されてしまい、ルールがどのようになって\\nいるかも分からない中、日本的なもので走り出すことになりかねない。（4）の部分は喫\\n緊の課題だということがこの報告書で一番伝えなくてはいけないメッセージではないか。\\n内容はこれで結構だが、これは未来の課題ではなくて喫緊の課題ということを一言強調\\nしていただきたい。 \\n 事務局としては、例えば（5）のイノベーション支援策は「直ちに」という部分で一\\n番フレームの短いものを表現し、未来像、目指すべき姿という遠いところの2つを\\n置き、それ以外はその中間という意識で記載していた。しかし、制度・規制面での\\n課題として柱が3本書いており、ある程度将来像も課題も見えているため、それに\\n対する取組みは直ちに始めるべきというメッセージは出したい。 \\n すぐやらなくてはいけないこと、じっくりやること、走りながら考えることの3つを表\\n形式で見せられるとよいのではないか。 \\n 3分類がいいのかどうかは難しい。まずは足元やっていくべきことを整理する。ま\\nさにOODAループとなるが、劣後の課題が直ちにやらなければならない課題に変わ\\nることもあり得るし、アメリカの事件なども含め様々なことが起きながら、時間軸\\nも変動していくと思われる。今時点では直ちにやるべきことを整理することが重要', metadata={'source': '20221223_meeting_web3_summary_01.pdf', 'page': 2})]"
                        ]
                    },
                    "execution_count": 27,
                    "metadata": {},
                    "output_type": "execute_result"
                }
            ],
            "source": [
                "docs = db_web3.similarity_search(\"成功例\")\n",
                "docs\n",
                "\n",
                "\n"
            ]
        },
        {
            "cell_type": "code",
            "execution_count": 23,
            "id": "17d5bec3",
            "metadata": {},
            "outputs": [],
            "source": [
                "# Add Similarity Search to DynamoDB with Faiss\n",
                "# https://medium.com/swlh/add-similarity-search-to-dynamodb-with-faiss-c68eb6a48b08\n"
            ]
        },
        {
            "cell_type": "code",
            "execution_count": 28,
            "id": "df3199b8",
            "metadata": {},
            "outputs": [],
            "source": [
                "from langchain.chains.conversational_retrieval.prompts import CONDENSE_QUESTION_PROMPT\n",
                "from langchain.chat_models import AzureChatOpenAI\n",
                "\n",
                "llm = AzureChatOpenAI(\n",
                "    client=None,\n",
                "    deployment_name=AZURE_DEPLOYMENT_NAME,\n",
                "    openai_api_base=os.environ['AZURE_API_BASE'],\n",
                "    openai_api_version=\"2023-03-15-preview\",\n",
                "    openai_api_key=os.environ['AZURE_OPEN_API_KEY'],\n",
                "    temperature=0,\n",
                "    request_timeout=180)\n"
            ]
        },
        {
            "cell_type": "code",
            "execution_count": 29,
            "id": "e0872114",
            "metadata": {},
            "outputs": [
                {
                    "name": "stdout",
                    "output_type": "stream",
                    "text": [
                        "////////////\n",
                        "200\n",
                        "////////////\n",
                        "200\n"
                    ]
                },
                {
                    "data": {
                        "text/plain": [
                            "'この文脈では、具体的な成功例については言及されていません。ただ、Web3.0やブロックチェーンなどの技術が、人間の社会を信頼に足るものにするためにどのように役立つかということについて、様々な議論がなされていると述べられています。また、日本がグローバルでのルールメーカーの役割を果たせるようになるためには、DAOを通じて新しいアイデアを地域から実現するというボトムアップの取組みが増えていくことが大きなターニングポイントになる可能性があるとも述べられています。'"
                        ]
                    },
                    "execution_count": 29,
                    "metadata": {},
                    "output_type": "execute_result"
                }
            ],
            "source": [
                "from langchain.chains import RetrievalQA\n",
                "\n",
                "qa = RetrievalQA.from_chain_type(\n",
                "    llm=llm, \n",
                "    chain_type='stuff', \n",
                "    retriever=db_web3.as_retriever())\n",
                "\n",
                "qa.run(\"成功例はなんですか？\")\n",
                "\n"
            ]
        }
    ],
    "metadata": {
        "kernelspec": {
            "display_name": "Python 3 (ipykernel)",
            "language": "python",
            "name": "python3"
        },
        "language_info": {
            "codemirror_mode": {
                "name": "ipython",
                "version": 3
            },
            "file_extension": ".py",
            "mimetype": "text/x-python",
            "name": "python",
            "nbconvert_exporter": "python",
            "pygments_lexer": "ipython3",
            "version": "3.10.6"
        }
    },
    "nbformat": 4,
    "nbformat_minor": 5
}
