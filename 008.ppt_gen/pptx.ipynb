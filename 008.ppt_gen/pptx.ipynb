{
 "cells": [
  {
   "cell_type": "code",
   "execution_count": 58,
   "metadata": {},
   "outputs": [
    {
     "name": "stdout",
     "output_type": "stream",
     "text": [
      "Requirement already satisfied: pip in /usr/local/lib/python3.10/site-packages (23.0)\n",
      "Note: you may need to restart the kernel to use updated packages.\n"
     ]
    }
   ],
   "source": [
    "%pip install --upgrade pip"
   ]
  },
  {
   "cell_type": "code",
   "execution_count": 59,
   "metadata": {},
   "outputs": [
    {
     "name": "stdout",
     "output_type": "stream",
     "text": [
      "Requirement already satisfied: python-pptx in /usr/local/lib/python3.10/site-packages (0.6.21)\n",
      "Requirement already satisfied: Pillow>=3.3.2 in /usr/local/lib/python3.10/site-packages (from python-pptx) (9.4.0)\n",
      "Requirement already satisfied: XlsxWriter>=0.5.7 in /usr/local/lib/python3.10/site-packages (from python-pptx) (3.0.8)\n",
      "Requirement already satisfied: lxml>=3.1.0 in /usr/local/lib/python3.10/site-packages (from python-pptx) (4.9.2)\n",
      "Note: you may need to restart the kernel to use updated packages.\n"
     ]
    }
   ],
   "source": [
    "%pip install python-pptx"
   ]
  },
  {
   "cell_type": "code",
   "execution_count": 20,
   "metadata": {},
   "outputs": [],
   "source": [
    "from pptx import Presentation\n",
    "from pptx.util import Inches\n",
    "from pptx.util import Pt\n",
    "import json"
   ]
  },
  {
   "cell_type": "code",
   "execution_count": 8,
   "metadata": {},
   "outputs": [],
   "source": [
    "res = open('res.json', 'r')\n",
    "doc = json.load(res)"
   ]
  },
  {
   "cell_type": "code",
   "execution_count": 10,
   "metadata": {},
   "outputs": [],
   "source": [
    "# doc"
   ]
  },
  {
   "cell_type": "code",
   "execution_count": 2,
   "metadata": {},
   "outputs": [],
   "source": [
    "prs = Presentation()\n"
   ]
  },
  {
   "cell_type": "code",
   "execution_count": 13,
   "metadata": {},
   "outputs": [],
   "source": [
    "slide1 = prs.slides.add_slide(prs.slide_layouts[6])\n",
    "\n",
    "img_path = './main.jpg'\n",
    "# img_path = './bc.jpg'\n",
    "left = top = Inches(0)\n",
    "\n",
    "pic = slide1.shapes.add_picture(img_path, left, top)\n",
    "pic.width = prs.slide_width\n",
    "# pic.height = prs.slide_height\n",
    "# pic._element._nvPicPr.cNvPr.descr = 'Image Name'\n",
    "\n",
    "txBox = slide1.shapes.add_textbox(Inches(1), Inches(1), Inches(8), Inches(2))\n",
    "tf = txBox.text_frame\n",
    "tf.text = \"This is some text on top of the image\"\n"
   ]
  },
  {
   "cell_type": "code",
   "execution_count": 25,
   "metadata": {},
   "outputs": [
    {
     "ename": "AttributeError",
     "evalue": "'str' object has no attribute 'font'",
     "output_type": "error",
     "traceback": [
      "\u001b[0;31m---------------------------------------------------------------------------\u001b[0m",
      "\u001b[0;31mAttributeError\u001b[0m                            Traceback (most recent call last)",
      "Cell \u001b[0;32mIn [25], line 6\u001b[0m\n\u001b[1;32m      4\u001b[0m body2 \u001b[39m=\u001b[39m slide2\u001b[39m.\u001b[39mplaceholders[\u001b[39m1\u001b[39m]\n\u001b[1;32m      5\u001b[0m body2\u001b[39m.\u001b[39mtext \u001b[39m=\u001b[39m doc[\u001b[39m\"\u001b[39m\u001b[39m1\u001b[39m\u001b[39m\"\u001b[39m][\u001b[39m\"\u001b[39m\u001b[39mbody\u001b[39m\u001b[39m\"\u001b[39m]\n\u001b[0;32m----> 6\u001b[0m body2\u001b[39m.\u001b[39;49mtext\u001b[39m.\u001b[39;49mfont\u001b[39m.\u001b[39msize\u001b[39m=\u001b[39mPt(\u001b[39m10\u001b[39m)\n",
      "\u001b[0;31mAttributeError\u001b[0m: 'str' object has no attribute 'font'"
     ]
    }
   ],
   "source": [
    "slide = prs.slides.add_slide(prs.slide_layouts[1])\n",
    "title = slide.shapes.title\n",
    "title.text = doc[\"1\"][\"title\"]\n",
    "\n",
    "body = slide.placeholders[1]\n",
    "body.text = doc[\"1\"][\"body\"]\n",
    "\n",
    "# body2.text.font.size=Pt(10)"
   ]
  },
  {
   "cell_type": "code",
   "execution_count": 22,
   "metadata": {},
   "outputs": [],
   "source": [
    "for slide in prs.slides:\n",
    "    for shape in slide.shapes:\n",
    "        if not shape.has_text_frame:\n",
    "            continue\n",
    "        for paragraph in shape.text_frame.paragraphs:\n",
    "            for run in paragraph.runs:\n",
    "                # テキストのフォントサイズを変更する\n",
    "                run.font.size = Pt(10)"
   ]
  },
  {
   "cell_type": "code",
   "execution_count": 24,
   "metadata": {},
   "outputs": [],
   "source": [
    "prs.save('sample.pptx')"
   ]
  }
 ],
 "metadata": {
  "kernelspec": {
   "display_name": "Python 3",
   "language": "python",
   "name": "python3"
  },
  "language_info": {
   "codemirror_mode": {
    "name": "ipython",
    "version": 3
   },
   "file_extension": ".py",
   "mimetype": "text/x-python",
   "name": "python",
   "nbconvert_exporter": "python",
   "pygments_lexer": "ipython3",
   "version": "3.10.6"
  },
  "orig_nbformat": 4,
  "vscode": {
   "interpreter": {
    "hash": "949777d72b0d2535278d3dc13498b2535136f6dfe0678499012e853ee9abcab1"
   }
  }
 },
 "nbformat": 4,
 "nbformat_minor": 2
}
